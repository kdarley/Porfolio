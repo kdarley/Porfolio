{
 "cells": [
  {
   "cell_type": "markdown",
   "metadata": {},
   "source": [
    "# Identifying How and When to Post on Hacker News\n",
    "\n",
    "In this project we are tasked with providing a recommendation on what to post on Hacker News in order to reach the most people. Hacker News is a site started by the startup incubator Y Combinator, where user-submitted stories (known as \"posts\") are voted and commented upon, similar to reddit. Hacker News is extremely popular in technology and startup circles, and posts that make it to the top of Hacker News' listings can get hundreds of thousands of visitors as a result.\n",
    "\n",
    "We're specifically interested in posts whose titles begin with either 'Ask HN' or 'Show HN'. Users submit 'Ask HN' posts to ask the Hacker News community a specific question and 'Show HN' to show off projects or information relevant to the community.\n",
    "\n",
    "We'll compare these two types of posts to determine the following:\n",
    "* Do Ask HN or Show HN receive more comments on average?\n",
    "* Do posts created at a certain time receive more comments on average?\n",
    "* Does this behavior change with points?\n",
    "\n",
    "The dataset can be downloaded [here](https://www.kaggle.com/hacker-news/hacker-news-posts).\n",
    "\n",
    "## Summary of Results\n",
    "### Show Posts vs Ask Posts on Average\n",
    "\n",
    "On the whole, we see the below for average metrics of show and asks posts.  \n",
    "Average comments per ask post: 10.39  \n",
    "Average points per ask post: 11.31  \n",
    "  \n",
    "Average comments per show post: 4.89  \n",
    "Average points per show post: 16.50  \n",
    "\n",
    "If we want to pursue comment engagement then we should focus on ask posts. Otherwise, show posts receive more points engagements but far fewer comments. \n",
    "\n",
    "### Best Time to Post\n",
    "#### Weekday Insights\n",
    "1) The most overall engaging day for show posts is Friday. Interestingly we see that on Sunday people tend to interact with posts but enage through comments less.  \n",
    "2) For ask posts we see less variation between points and comments over the weekdays. The best four dates to post in order, regardless of targeting points or comments posts, is Sunday, Friday, Monday, and Saturday. \n",
    "\n",
    "#### Hourly Insights\n",
    "1) 11:00 am to Noon is the best time to post show posts.  \n",
    "2) 3:00 pm is the best time to post ask posts.  \n",
    "\n",
    "## Data Exploration"
   ]
  },
  {
   "cell_type": "code",
   "execution_count": 1,
   "metadata": {},
   "outputs": [
    {
     "name": "stdout",
     "output_type": "stream",
     "text": [
      "Headers:\n",
      "[['id', 'title', 'url', 'num_points', 'num_comments', 'author', 'created_at']]\n",
      "\n",
      "\n",
      "Sample Data:\n",
      "['12579008', 'You have two days to comment if you want stem cells to be classified as your own', 'http://www.regulations.gov/document?D=FDA-2015-D-3719-0018', '1', '0', 'altstar', '9/26/2016 3:26']\n",
      "\n",
      "\n",
      "['12579005', 'SQLAR  the SQLite Archiver', 'https://www.sqlite.org/sqlar/doc/trunk/README.md', '1', '0', 'blacksqr', '9/26/2016 3:24']\n",
      "\n",
      "\n",
      "['12578997', 'What if we just printed a flatscreen television on the side of our boxes?', 'https://medium.com/vanmoof/our-secrets-out-f21c1f03fdc8#.ietxmez43', '1', '0', 'pavel_lishin', '9/26/2016 3:19']\n",
      "\n",
      "\n",
      "['12578989', 'algorithmic music', 'http://cacm.acm.org/magazines/2011/7/109891-algorithmic-composition/fulltext', '1', '0', 'poindontcare', '9/26/2016 3:16']\n",
      "\n",
      "\n",
      "['12578979', 'How the Data Vault Enables the Next-Gen Data Warehouse and Data Lake', 'https://www.talend.com/blog/2016/05/12/talend-and-Â\\x93the-data-vaultÂ\\x94', '1', '0', 'markgainor1', '9/26/2016 3:14']\n",
      "\n",
      "\n",
      "Number of rows: 293119\n"
     ]
    }
   ],
   "source": [
    "# Read in the data as list of lists\n",
    "from csv import reader\n",
    "handle = open(\"HN_posts_year_to_Sep_26_2016.csv\")\n",
    "read = reader(handle)\n",
    "data_set = list(read)\n",
    "\n",
    "# Seperate headers and the data into their own variables\n",
    "data_set_header = data_set[:1]\n",
    "data_set = data_set[1:]\n",
    "\n",
    "# Simple exploratory data query\n",
    "print(\"Headers:\")\n",
    "print(data_set_header)\n",
    "print('\\n')\n",
    "print(\"Sample Data:\")\n",
    "for row in data_set[:5]:\n",
    "    print(row)\n",
    "    print('\\n')\n",
    "    \n",
    "print('Number of rows:', len(data_set))"
   ]
  },
  {
   "cell_type": "markdown",
   "metadata": {},
   "source": [
    "Our dataset consists of 7 columns and 293,119 rows of post data. The most useful columns for our purposes are `title`, `num_comments`, `num_points`, and `created_at`.\n",
    "\n",
    "## Engagement by Post Type\n",
    "We know that the posts that we are interested in analyzing are those that start with 'Ask HN' or 'Show HN'. There be other categories of data, however, we will focus on these. Let's start by making sure there are enough of each type of post to conduct a fair analysis."
   ]
  },
  {
   "cell_type": "code",
   "execution_count": 2,
   "metadata": {},
   "outputs": [
    {
     "name": "stdout",
     "output_type": "stream",
     "text": [
      "Ask Posts Titles Sample:\n",
      "[['12578908', 'Ask HN: What TLD do you use for local development?', '', '4', '7', 'Sevrene', '9/26/2016 2:53'], ['12578522', 'Ask HN: How do you pass on your work when you die?', '', '6', '3', 'PascLeRasc', '9/26/2016 1:17'], ['12577908', 'Ask HN: How a DNS problem can be limited to a geographic region?', '', '1', '0', 'kuon', '9/25/2016 22:57'], ['12577870', 'Ask HN: Why join a fund when you can be an angel?', '', '1', '3', 'anthony_james', '9/25/2016 22:48'], ['12577647', 'Ask HN: Someone uses stock trading as passive income?', '', '5', '2', '00taffe', '9/25/2016 21:50']]\n",
      "Total posts:  9139\n",
      "\n",
      "\n",
      "Show Posts Titles Sample:\n",
      "[['12578335', 'Show HN: Finding puns computationally', 'http://puns.samueltaylor.org/', '2', '0', 'saamm', '9/26/2016 0:36'], ['12578182', 'Show HN: A simple library for complicated animations', 'https://christinecha.github.io/choreographer-js/', '1', '0', 'christinecha', '9/26/2016 0:01'], ['12578098', 'Show HN: WebGL visualization of DNA sequences', 'http://grondilu.github.io/dna.html', '1', '0', 'grondilu', '9/25/2016 23:44'], ['12577991', 'Show HN: Pomodoro-centric, heirarchical project management with ES6 modules', 'https://github.com/jakebian/zeal', '2', '0', 'dbranes', '9/25/2016 23:17'], ['12577142', 'Show HN: Jumble  Essays on the go #PaulInYourPocket', 'https://itunes.apple.com/us/app/jumble-find-startup-essay/id1150939197?ls=1&mt=8', '1', '1', 'ryderj', '9/25/2016 20:06']]\n",
      "Total posts:  10158\n"
     ]
    }
   ],
   "source": [
    "# Lists that will store our three categories of posts\n",
    "ask_posts = []\n",
    "show_posts = []\n",
    "other_posts = []\n",
    "\n",
    "# Loop through the dataset and separate the rows, by title, into our three lists\n",
    "for row in data_set:\n",
    "    title = row[1] \n",
    "    title = title.lower()\n",
    "    if title.startswith('ask hn') is True: #ask_posts #startswith lets us look at strings and see if the first characters match an argument\n",
    "        ask_posts.append(row)\n",
    "    if title.startswith('show hn') is True: #show_posts\n",
    "        show_posts.append(row)\n",
    "    else: \n",
    "        other_posts.append(row) #other_posts\n",
    "        \n",
    "#Sample output for our two relevant lists\n",
    "print(\"Ask Posts Titles Sample:\")\n",
    "print(ask_posts[:5])\n",
    "print(\"Total posts: \", len(ask_posts))\n",
    "print('\\n')\n",
    "print(\"Show Posts Titles Sample:\")\n",
    "print(show_posts[:5])\n",
    "print(\"Total posts: \", len(show_posts)) \n"
   ]
  },
  {
   "cell_type": "markdown",
   "metadata": {},
   "source": [
    "We can see that there is enough data in both categories of posts to do a fair analysis, with there being a total of 9,139 'Ask HN' posts and 10,158 'Show HN' posts.\n",
    "\n",
    "Let's move forward with categorizing our posts in a way that will allow us to use Python analytic techniques."
   ]
  },
  {
   "cell_type": "code",
   "execution_count": 3,
   "metadata": {},
   "outputs": [
    {
     "name": "stdout",
     "output_type": "stream",
     "text": [
      "Average comments per ask post: 10.393478498741656\n",
      "Average points per ask post: 11.31174089068826\n",
      "\n",
      "\n",
      "Average comments per show post: 4.886099625910612\n",
      "Average points per show post: 16.49863223547434\n"
     ]
    }
   ],
   "source": [
    "# Create a list we will use to bucket comment counts from our ask posts\n",
    "total_ask_comments = 0\n",
    "total_ask_points = 0\n",
    "\n",
    "for row in ask_posts:\n",
    "    num_comments = int(row[4])\n",
    "    num_points = int(row[3])\n",
    "    total_ask_comments += num_comments #add that rows comment count to our bucket\n",
    "    total_ask_points += num_points\n",
    "    \n",
    "#print(total_ask_comments) #test to see if above code works\n",
    "avg_ask_comments = total_ask_comments / len(ask_posts)#average comments per post\n",
    "avg_ask_points = total_ask_points / len(ask_posts)\n",
    "print(\"Average comments per ask post:\", avg_ask_comments) \n",
    "print(\"Average points per ask post:\", avg_ask_points) \n",
    "\n",
    "print('\\n')\n",
    "\n",
    "# Create a list we will use to buckent comment counts for our show posts\n",
    "total_show_comments = 0\n",
    "total_show_points = 0\n",
    "\n",
    "for row in show_posts:\n",
    "    num_comments = int(row[4])\n",
    "    num_points = int(row[3])\n",
    "    total_show_comments += num_comments\n",
    "    total_show_points += num_points\n",
    "    \n",
    "avg_show_comments = total_show_comments / len(show_posts)\n",
    "avg_show_points = total_show_points / len(ask_posts)\n",
    "print(\"Average comments per show post:\", avg_show_comments)\n",
    "print(\"Average points per show post:\", avg_show_points) "
   ]
  },
  {
   "cell_type": "markdown",
   "metadata": {},
   "source": [
    "Ask posts receive slightly less points, but more comments per average post. Our goal is to create posts with a lot of community engagement, comments are more important and 'Ask HN' would be a better opportunity. However, it may be prudent to create a mix of both types of posts.\n",
    "\n",
    "## Engagement by Time\n",
    "We'll want to determine the best time of day to post each type of post. We'll do this by evaluating the best day of the week and hour of day with the most average comments and points. First, however, we will need to prepare our dataset.\n",
    "\n",
    "### Turning Date Values to Datetime Format\n",
    "Datetime format will allow us to extract more information out of our dates than we could with just the numerical representation. Let's convert our dates to datetimes for the ask and show lists."
   ]
  },
  {
   "cell_type": "code",
   "execution_count": 4,
   "metadata": {},
   "outputs": [
    {
     "name": "stdout",
     "output_type": "stream",
     "text": [
      "[['12578908', 'Ask HN: What TLD do you use for local development?', '', '4', '7', 'Sevrene', datetime.datetime(2016, 9, 26, 2, 53)]] \n",
      " [['12578335', 'Show HN: Finding puns computationally', 'http://puns.samueltaylor.org/', '2', '0', 'saamm', datetime.datetime(2016, 9, 26, 0, 36)]]\n"
     ]
    }
   ],
   "source": [
    "import datetime as dt #import the Python 'datetime' library\n",
    "\n",
    "date_format = \"%m/%d/%Y %H:%M\" # template to positionally encode our timestamps to datetime format\n",
    "\n",
    "for row in ask_posts: \n",
    "    time_stamp = row[6]\n",
    "    datetime_date = dt.datetime.strptime(time_stamp, date_format)# use our template to convert our date strings to datetime format\n",
    "    row[6] = datetime_date # reassign back \n",
    "    \n",
    "for row in show_posts:\n",
    "    time_stamp = row[6]\n",
    "    datetime_date = dt.datetime.strptime(time_stamp, date_format)# use our template to convert our date strings to datetime format\n",
    "    row[6] = datetime_date # reassign back \n",
    "    \n",
    "print(ask_posts[:1],'\\n',show_posts[:1])"
   ]
  },
  {
   "cell_type": "markdown",
   "metadata": {},
   "source": [
    "### Identifying Best Times to Post\n",
    "\n",
    "We will be repeating many of the same processes whether we're analyzing the hour of day, the day of the week, the number of posts, or the number of comments. A function will save us time, so let's create one now."
   ]
  },
  {
   "cell_type": "code",
   "execution_count": 5,
   "metadata": {},
   "outputs": [],
   "source": [
    "def analyze_time(data, weekday_or_hour, points_or_comments):\n",
    "    # check that the right values are entered\n",
    "    if (weekday_or_hour == 'weekday' or weekday_or_hour == 'hour'):\n",
    "        pass\n",
    "    else :\n",
    "        print('please enter weekday or hour for weekday_or_hour')\n",
    "        return\n",
    "        \n",
    "    if points_or_comments == 'points' or points_or_comments == 'comments':\n",
    "        pass\n",
    "    else : \n",
    "        print('please use points or comments for points_or_comments')\n",
    "        return\n",
    "    \n",
    "    # reusable non-specific metrics\n",
    "    count_by_time = {}\n",
    "    metric_by_time = {}\n",
    "\n",
    "    # count and sum tables based on conditions\n",
    "    for row in data:\n",
    "        \n",
    "        # selecting data based on condition \n",
    "        if weekday_or_hour == 'weekday':\n",
    "            time = row[6].weekday()\n",
    "        else :\n",
    "            time = row[6].hour\n",
    "        \n",
    "        # selecting data based on condition \n",
    "        if points_or_comments == 'comments':\n",
    "            metric = float(row[4])\n",
    "        else:\n",
    "            metric = float(row[3])\n",
    "            \n",
    "        # create a frequency table \n",
    "        if time not in count_by_time:\n",
    "            count_by_time[time] = 1\n",
    "        else :\n",
    "            count_by_time[time] += 1\n",
    "        \n",
    "        # create a sum table\n",
    "        if time not in metric_by_time:\n",
    "            metric_by_time[time] = metric\n",
    "        else : \n",
    "            metric_by_time[time] += metric\n",
    "    \n",
    "    # create a average metric list by dividing our dictionaries\n",
    "    avg_metric_by_time = []\n",
    "    for time in count_by_time:\n",
    "        avg_metric_by_time.append([(metric_by_time[time]) / count_by_time[time], time])\n",
    "        \n",
    "    # sort the table    \n",
    "    sorted_avg_metric_by_time = sorted(avg_metric_by_time, reverse = True)\n",
    "    \n",
    "    return sorted_avg_metric_by_time"
   ]
  },
  {
   "cell_type": "markdown",
   "metadata": {},
   "source": [
    "#### The Best Weekdays to Post\n",
    "We'll start by looking at the averages comment and point totals for weekdays over both show and ask posts. Weekdays are numerically encoded, with 0 representing Monday and 6 Sunday."
   ]
  },
  {
   "cell_type": "markdown",
   "metadata": {},
   "source": [
    "##### Show_posts Weekday Points and Comments"
   ]
  },
  {
   "cell_type": "code",
   "execution_count": 6,
   "metadata": {},
   "outputs": [
    {
     "data": {
      "text/plain": [
       "[[16.116863905325445, 4],\n",
       " [15.418122270742359, 6],\n",
       " [14.691267605633803, 0],\n",
       " [14.646458583433374, 3],\n",
       " [14.642737896494157, 1],\n",
       " [14.419898819561551, 2],\n",
       " [14.231386025200457, 5]]"
      ]
     },
     "execution_count": 6,
     "metadata": {},
     "output_type": "execute_result"
    }
   ],
   "source": [
    "analyze_time(show_posts, 'weekday', 'points')"
   ]
  },
  {
   "cell_type": "code",
   "execution_count": 7,
   "metadata": {
    "scrolled": true
   },
   "outputs": [
    {
     "data": {
      "text/plain": [
       "[[5.154585798816568, 4],\n",
       " [5.135469364811692, 2],\n",
       " [4.967587034813926, 3],\n",
       " [4.857961053837342, 5],\n",
       " [4.80056338028169, 0],\n",
       " [4.6705620478575405, 1],\n",
       " [4.472707423580786, 6]]"
      ]
     },
     "execution_count": 7,
     "metadata": {},
     "output_type": "execute_result"
    }
   ],
   "source": [
    "analyze_time(show_posts, 'weekday', 'comments')"
   ]
  },
  {
   "cell_type": "markdown",
   "metadata": {},
   "source": [
    "The most overall engaging day for show posts is Friday. Interestingly we see that on Sunday people tend to interact with posts but enage through comments less."
   ]
  },
  {
   "cell_type": "markdown",
   "metadata": {},
   "source": [
    "##### ask_posts Weekday Points and Comments"
   ]
  },
  {
   "cell_type": "code",
   "execution_count": 8,
   "metadata": {},
   "outputs": [
    {
     "data": {
      "text/plain": [
       "[[15.244648318042813, 6],\n",
       " [13.04232424677188, 4],\n",
       " [12.223585548738923, 0],\n",
       " [11.214525139664804, 5],\n",
       " [10.561085972850679, 2],\n",
       " [9.589481373265157, 3],\n",
       " [8.61843876177658, 1]]"
      ]
     },
     "execution_count": 8,
     "metadata": {},
     "output_type": "execute_result"
    }
   ],
   "source": [
    "analyze_time(ask_posts, 'weekday', 'points')"
   ]
  },
  {
   "cell_type": "code",
   "execution_count": 9,
   "metadata": {},
   "outputs": [
    {
     "data": {
      "text/plain": [
       "[[12.576757532281205, 4],\n",
       " [12.281345565749236, 6],\n",
       " [11.773006134969325, 0],\n",
       " [9.934078212290503, 5],\n",
       " [9.130021913805697, 3],\n",
       " [9.109017496635262, 1],\n",
       " [8.538461538461538, 2]]"
      ]
     },
     "execution_count": 9,
     "metadata": {},
     "output_type": "execute_result"
    }
   ],
   "source": [
    "analyze_time(ask_posts, 'weekday', 'comments')"
   ]
  },
  {
   "cell_type": "markdown",
   "metadata": {},
   "source": [
    "For ask posts we see less variation between points and comments over the weekdays. The best four dates to post in  order, regardless of targeting points or comments posts, is Sunday, Friday, Monday, and Saturday. "
   ]
  },
  {
   "cell_type": "markdown",
   "metadata": {},
   "source": [
    "#### The Best Hours to Post\n",
    "Next we'll look at the average comment and point totals for hours of the day over both show and ask posts. Hours are in army time, 0 represents Midnight, 12 representd Noon, and 23 represent 11pm."
   ]
  },
  {
   "cell_type": "markdown",
   "metadata": {},
   "source": [
    "##### Show_posts Hourly Points and Comments"
   ]
  },
  {
   "cell_type": "code",
   "execution_count": 10,
   "metadata": {},
   "outputs": [
    {
     "data": {
      "text/plain": [
       "[[20.905038759689923, 12],\n",
       " [19.258706467661693, 11],\n",
       " [17.018032786885247, 13],\n",
       " [16.057553956834532, 19],\n",
       " [15.994791666666666, 6],\n",
       " [15.862068965517242, 23],\n",
       " [15.547101449275363, 0],\n",
       " [15.144817073170731, 18],\n",
       " [15.09051724137931, 14],\n",
       " [14.683544303797468, 8],\n",
       " [14.340823970037453, 16],\n",
       " [13.995762711864407, 7],\n",
       " [13.95360824742268, 4],\n",
       " [13.94377990430622, 15],\n",
       " [13.930232558139535, 21],\n",
       " [13.88042049934297, 17],\n",
       " [13.331564986737401, 22],\n",
       " [13.321981424148607, 10],\n",
       " [13.234285714285715, 20],\n",
       " [13.224880382775119, 2],\n",
       " [12.456953642384105, 9],\n",
       " [11.866396761133604, 1],\n",
       " [10.662790697674419, 5],\n",
       " [10.524271844660195, 3]]"
      ]
     },
     "execution_count": 10,
     "metadata": {},
     "output_type": "execute_result"
    }
   ],
   "source": [
    "analyze_time(show_posts, 'hour', 'points')"
   ]
  },
  {
   "cell_type": "code",
   "execution_count": 11,
   "metadata": {
    "scrolled": true
   },
   "outputs": [
    {
     "data": {
      "text/plain": [
       "[[6.994186046511628, 12],\n",
       " [6.682203389830509, 7],\n",
       " [6.002487562189055, 11],\n",
       " [5.6044303797468356, 8],\n",
       " [5.515804597701149, 14],\n",
       " [5.432786885245902, 13],\n",
       " [5.148325358851674, 2],\n",
       " [5.041237113402062, 4],\n",
       " [5.01978417266187, 19],\n",
       " [4.942073170731708, 18],\n",
       " [4.708333333333333, 6],\n",
       " [4.705368289637953, 16],\n",
       " [4.672185430463577, 9],\n",
       " [4.648550724637682, 0],\n",
       " [4.574162679425838, 15],\n",
       " [4.533980582524272, 3],\n",
       " [4.5266457680250785, 23],\n",
       " [4.252299605781866, 17],\n",
       " [4.158095238095238, 20],\n",
       " [4.090697674418605, 21],\n",
       " [4.0728744939271255, 1],\n",
       " [3.8461538461538463, 22],\n",
       " [3.801857585139319, 10],\n",
       " [3.441860465116279, 5]]"
      ]
     },
     "execution_count": 11,
     "metadata": {},
     "output_type": "execute_result"
    }
   ],
   "source": [
    "analyze_time(show_posts, 'hour', 'comments')"
   ]
  },
  {
   "cell_type": "markdown",
   "metadata": {},
   "source": [
    "11:00 am to Noon is the best time to post show posts."
   ]
  },
  {
   "cell_type": "markdown",
   "metadata": {},
   "source": [
    "##### ask_posts Hourly Points and Comments"
   ]
  },
  {
   "cell_type": "code",
   "execution_count": 12,
   "metadata": {},
   "outputs": [
    {
     "data": {
      "text/plain": [
       "[[21.637770897832816, 15],\n",
       " [17.93243243243243, 13],\n",
       " [13.576023391812866, 12],\n",
       " [13.436170212765957, 10],\n",
       " [12.189097103918229, 17],\n",
       " [11.156351791530945, 18],\n",
       " [10.944237918215613, 2],\n",
       " [10.905349794238683, 4],\n",
       " [10.67704280155642, 8],\n",
       " [10.50682261208577, 14],\n",
       " [10.310880829015543, 16],\n",
       " [9.789473684210526, 5],\n",
       " [9.733590733590734, 21],\n",
       " [9.439716312056738, 1],\n",
       " [9.418604651162791, 0],\n",
       " [9.402088772845953, 22],\n",
       " [9.3690036900369, 3],\n",
       " [9.153846153846153, 11],\n",
       " [9.026548672566372, 7],\n",
       " [8.805882352941177, 20],\n",
       " [8.675213675213675, 6],\n",
       " [8.66304347826087, 19],\n",
       " [7.941441441441442, 9],\n",
       " [7.626822157434402, 23]]"
      ]
     },
     "execution_count": 12,
     "metadata": {},
     "output_type": "execute_result"
    }
   ],
   "source": [
    "analyze_time(ask_posts, 'hour', 'points')"
   ]
  },
  {
   "cell_type": "code",
   "execution_count": 13,
   "metadata": {},
   "outputs": [
    {
     "data": {
      "text/plain": [
       "[[28.676470588235293, 15],\n",
       " [16.31756756756757, 13],\n",
       " [12.380116959064328, 12],\n",
       " [11.137546468401487, 2],\n",
       " [10.684397163120567, 10],\n",
       " [9.7119341563786, 4],\n",
       " [9.692007797270955, 14],\n",
       " [9.449744463373083, 17],\n",
       " [9.190661478599221, 8],\n",
       " [8.96474358974359, 11],\n",
       " [8.804177545691905, 22],\n",
       " [8.794258373205741, 5],\n",
       " [8.749019607843136, 20],\n",
       " [8.687258687258687, 21],\n",
       " [7.948339483394834, 3],\n",
       " [7.94299674267101, 18],\n",
       " [7.713298791018998, 16],\n",
       " [7.5647840531561465, 0],\n",
       " [7.407801418439717, 1],\n",
       " [7.163043478260869, 19],\n",
       " [7.013274336283186, 7],\n",
       " [6.782051282051282, 6],\n",
       " [6.696793002915452, 23],\n",
       " [6.653153153153153, 9]]"
      ]
     },
     "execution_count": 13,
     "metadata": {},
     "output_type": "execute_result"
    }
   ],
   "source": [
    "analyze_time(ask_posts, 'hour', 'comments')"
   ]
  },
  {
   "cell_type": "markdown",
   "metadata": {},
   "source": [
    "3:00 pm is the best time to post ask posts."
   ]
  },
  {
   "cell_type": "markdown",
   "metadata": {},
   "source": [
    "## Conclusion\n",
    "\n"
   ]
  },
  {
   "cell_type": "markdown",
   "metadata": {},
   "source": [
    "Depending on the type of engagement that we're after, we may choose to post an Ask post or a Show post. Points can be inferred ss some funcion of the amount of people a post reaches, i.e. the more likes a post receives, the more eyeballs that likely saw that post. Comments is engaging in a less passive way and may have a larger impact on those that do see it. \n",
    "\n",
    "___\n",
    "\n",
    "### Show Posts vs Ask Posts on Average\n",
    "\n",
    "On the whole, we see the below for average metrics of show and asks posts.  \n",
    "Average comments per ask post: 10.39  \n",
    "Average points per ask post: 11.31  \n",
    "  \n",
    "Average comments per show post: 4.89  \n",
    "Average points per show post: 16.50  \n",
    "\n",
    "If we want to pursue comment engagement then we should focus on ask posts. Otherwise, show posts receive more points engagements but far fewer comments. \n",
    "\n",
    "### Best Time to Post\n",
    "#### Weekday Insights\n",
    "1) The most overall engaging day for show posts is Friday. Interestingly we see that on Sunday people tend to interact with posts but enage through comments less.  \n",
    "2) For ask posts we see less variation between points and comments over the weekdays. The best four dates to post in order, regardless of targeting points or comments posts, is Sunday, Friday, Monday, and Saturday. \n",
    "\n",
    "#### Hourly Insights\n",
    "1) 11:00 am to Noon is the best time to post show posts.  \n",
    "2) 3:00 pm is the best time to post ask posts.  "
   ]
  }
 ],
 "metadata": {
  "kernelspec": {
   "display_name": "Python 3.8.5 64-bit ('base': conda)",
   "language": "python",
   "name": "python385jvsc74a57bd06223fdc888dde0b33a23c09c5bc815d6fa120b90c357a509b1911a66a7316a2f"
  },
  "language_info": {
   "codemirror_mode": {
    "name": "ipython",
    "version": 3
   },
   "file_extension": ".py",
   "mimetype": "text/x-python",
   "name": "python",
   "nbconvert_exporter": "python",
   "pygments_lexer": "ipython3",
   "version": "3.8.5"
  }
 },
 "nbformat": 4,
 "nbformat_minor": 4
}
