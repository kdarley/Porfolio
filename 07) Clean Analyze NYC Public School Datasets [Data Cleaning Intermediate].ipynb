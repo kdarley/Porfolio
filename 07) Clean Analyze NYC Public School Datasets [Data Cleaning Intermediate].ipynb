{
 "cells": [
  {
   "cell_type": "markdown",
   "metadata": {},
   "source": [
    "# NYC Public School SAT Performance and Correlations with Demographic Factors"
   ]
  },
  {
   "cell_type": "markdown",
   "metadata": {
    "toc": true
   },
   "source": [
    "<h1>Table of Contents<span class=\"tocSkip\"></span></h1>\n",
    "<div class=\"toc\"><ul class=\"toc-item\"><li><span><a href=\"#NYC-Public-School-SAT-Performance-and-Correlations-with-Demographic-Factors\" data-toc-modified-id=\"NYC-Public-School-SAT-Performance-and-Correlations-with-Demographic-Factors-1\">NYC Public School SAT Performance and Correlations with Demographic Factors</a></span><ul class=\"toc-item\"><li><span><a href=\"#Introduction\" data-toc-modified-id=\"Introduction-1.1\">Introduction</a></span><ul class=\"toc-item\"><li><span><a href=\"#Findings\" data-toc-modified-id=\"Findings-1.1.1\">Findings</a></span></li></ul></li><li><span><a href=\"#Initial-Data-Exploration\" data-toc-modified-id=\"Initial-Data-Exploration-1.2\">Initial Data Exploration</a></span><ul class=\"toc-item\"><li><span><a href=\"#Observations-of-Datasets\" data-toc-modified-id=\"Observations-of-Datasets-1.2.1\">Observations of Datasets</a></span></li></ul></li><li><span><a href=\"#Data-Cleaning\" data-toc-modified-id=\"Data-Cleaning-1.3\">Data Cleaning</a></span><ul class=\"toc-item\"><li><span><a href=\"#Adding-Key-Datapoints\" data-toc-modified-id=\"Adding-Key-Datapoints-1.3.1\">Adding Key Datapoints</a></span></li><li><span><a href=\"#Condensing-Datasets\" data-toc-modified-id=\"Condensing-Datasets-1.3.2\">Condensing Datasets</a></span><ul class=\"toc-item\"><li><span><a href=\"#class_size\" data-toc-modified-id=\"class_size-1.3.2.1\">class_size</a></span></li><li><span><a href=\"#demographics\" data-toc-modified-id=\"demographics-1.3.2.2\">demographics</a></span></li><li><span><a href=\"#graduation\" data-toc-modified-id=\"graduation-1.3.2.3\">graduation</a></span></li><li><span><a href=\"#ap_2010-Data-Prep\" data-toc-modified-id=\"ap_2010-Data-Prep-1.3.2.4\">ap_2010 Data Prep</a></span></li></ul></li></ul></li><li><span><a href=\"#Merging-the-Datasets\" data-toc-modified-id=\"Merging-the-Datasets-1.4\">Merging the Datasets</a></span></li><li><span><a href=\"#Imputation\" data-toc-modified-id=\"Imputation-1.5\">Imputation</a></span></li><li><span><a href=\"#Analysis\" data-toc-modified-id=\"Analysis-1.6\">Analysis</a></span><ul class=\"toc-item\"><li><span><a href=\"#Correlation-Analysis\" data-toc-modified-id=\"Correlation-Analysis-1.6.1\">Correlation Analysis</a></span></li><li><span><a href=\"#Observations-of-sat_score-Correlations\" data-toc-modified-id=\"Observations-of-sat_score-Correlations-1.6.2\">Observations of sat_score Correlations</a></span></li><li><span><a href=\"#Scatter-Plots\" data-toc-modified-id=\"Scatter-Plots-1.6.3\">Scatter Plots</a></span><ul class=\"toc-item\"><li><span><a href=\"#Enrollment\" data-toc-modified-id=\"Enrollment-1.6.3.1\">Enrollment</a></span></li><li><span><a href=\"#Students-Actively-Learning-English\" data-toc-modified-id=\"Students-Actively-Learning-English-1.6.3.2\">Students Actively Learning English</a></span></li><li><span><a href=\"#School-Safety\" data-toc-modified-id=\"School-Safety-1.6.3.3\">School Safety</a></span></li><li><span><a href=\"#Race\" data-toc-modified-id=\"Race-1.6.3.4\">Race</a></span></li><li><span><a href=\"#Gender\" data-toc-modified-id=\"Gender-1.6.3.5\">Gender</a></span></li><li><span><a href=\"#Advanced-Placement-Exams\" data-toc-modified-id=\"Advanced-Placement-Exams-1.6.3.6\">Advanced Placement Exams</a></span></li></ul></li></ul></li><li><span><a href=\"#Combined-Visualizations\" data-toc-modified-id=\"Combined-Visualizations-1.7\">Combined Visualizations</a></span></li></ul></li><li><span><a href=\"#Conclusion\" data-toc-modified-id=\"Conclusion-2\">Conclusion</a></span></li></ul></div>"
   ]
  },
  {
   "cell_type": "markdown",
   "metadata": {},
   "source": [
    "## Introduction\n",
    "In this project we will be exploring a dataset of NYC school SAT scores and associating that data with demographic signals found in other publicly available datasets. Our goal is to uncover whether factors like race, income, gender, etc. may have an unfair impact on test performance.  \n",
    "\n",
    "New York City makes this data available free online, however, we will need to go through several data validation processes in order to perform our analysis.\n",
    "\n",
    "Sources: \n",
    "\n",
    "* [SAT](https://data.cityofnewyork.us/Education/SAT-Results/f9bf-2cp4) scores by school - SAT scores for each high school in New York City\n",
    "* [School](https://data.cityofnewyork.us/Education/School-Attendance-and-Enrollment-Statistics-by-Dis/7z8d-msnt) attendance - Attendance information for each school in New York City\n",
    "* [Class size](https://data.cityofnewyork.us/Education/2010-2011-Class-Size-School-level-detail/urz7-pzb3) - Information on class size for each school\n",
    "* [AP test results](https://data.cityofnewyork.us/Education/AP-College-Board-2010-School-Level-Results/itfs-ms3e) - Advanced Placement (AP) exam results for each high school (passing an optional AP exam in a particular subject can earn a student college credit in that subject)\n",
    "* [Graduation outcomes](https://data.cityofnewyork.us/Education/Graduation-Outcomes-Classes-Of-2005-2010-School-Le/vh2h-md7a) - The percentage of students who graduated and other outcome information\n",
    "* [Demographics](https://data.cityofnewyork.us/Education/School-Demographics-and-Accountability-Snapshot-20/ihfw-zy9j) - Demographic information for each school\n",
    "* [School survey](https://data.cityofnewyork.us/Education/NYC-School-Survey-2011/mnz3-dyi8) - Surveys of parents, teachers, and students at each school\n",
    "\n",
    "\n",
    "**Learning Objective: Utilize advanced Python data cleaning methods to combine, clean, validate, and analyze these datasets**\n",
    "\n",
    "### Findings\n",
    "\n",
    "Root cause for correlations\n",
    "\n",
    "* __SAT Critical Reading Avg. Score__, __SAT Math Avg. Score__, __SAT Writing Avg. Score__ are, unsurprisingly, strongly correlated with __sat_score__\n",
    "* __total_enrollment__ has a positive correlation with __sat_score__, which is surprising because a previous assumption might be that smaller class sizes would lead to more student attention and therefore higher scores\n",
    "    * columns similar to __total_enrollment__ correlate\n",
    "    * **Although we see 0.37 correlation between __sat_score__ and __total_enrollment__, the plot shows that there's not a clear gradient ascent. Rather, we see a large cluster with some lines coming off in different directions. The correlation is likely coming from behavior of points in the cluster. We will extract those values for further examination.**\n",
    "    * **High enrollment schools are have larger populations of international student where English is not typically the native language of students. This tells us that the correlation between enrollment and sat scores are likely the result of English not being the primary language of HS with low performance, not total enrollment.**\n",
    "        * When we look at the scatter plot of data of school districts, their percentage of students learning English, and their correlation with those school's mean SAT scores, we can see that there is a loose correlation. As the percentage of students learning English increases, there is a tendency for there to be lower than average SAT performance. One conclusion we might draw is that the SAT test may be easier when you already speak English well, as the test is given in English.\n",
    "* __female_per__ and __female_num__ correlate positively with __sat_score__, while __male_per__ and __male_num__ correlate negatively\n",
    "* Perceived school safety correlates with __sat_score__\n",
    "    * The granularity that we look at school safety and its affect on SAT score impacts what type of information we're able to pull out. At the school level, we see that below a certain level of safety, SAT scores hit a low and stay there, however above a 7 there is a breakout point where SAT scores can increase significantly. The Borough level is too high-level to determine a correlation with Safety and SAT scores, however, we have can see that the boroughs themselves can have mean scores varying 100-200 points. Where the correlation is strongest is at the school district level, where we see perceived school safety correlating with SAT scores.\n",
    "* Student's perception of academic standards correlates with __sat_score__, however, parent and teacher perceptions of academic standards do not\n",
    "* Race correlates with __sat_score__\n",
    "* Percentage of people learning English negatively correlates with __sat_score__\n",
    "\n",
    "## Initial Data Exploration\n",
    "We will need to read our data into a dictionary for accessibility."
   ]
  },
  {
   "cell_type": "code",
   "execution_count": 1,
   "metadata": {},
   "outputs": [],
   "source": [
    "# read in the datasets\n",
    "import re\n",
    "import pandas as pd\n",
    "import numpy as np\n",
    "import matplotlib.pyplot as plt\n",
    "# do not limit the number of rows shown by default \n",
    "pd.set_option('display.max_rows', None)\n",
    "\n",
    "# create a list of our csv file names\n",
    "data_files = [\n",
    "    \"ap_2010.csv\",\n",
    "    \"class_size.csv\",\n",
    "    \"demographics.csv\",\n",
    "    \"graduation.csv\",\n",
    "    \"hs_directory.csv\",\n",
    "    \"sat_results.csv\"\n",
    "]\n",
    "# create an empty dictionary we will use to store our dataframes\n",
    "data = {}\n",
    "\n",
    "# loop over the file names and save the dataframes that match to the dictionary\n",
    "for file in data_files:\n",
    "    # isolate the filename to use as the dictionary key \n",
    "    file_name = re.search(\"([\\w.]+)\\.csv\", file).group(1)\n",
    "    # save the dataframes as the values and the filename as key in dict\n",
    "    data[file_name] = pd.read_csv(file)"
   ]
  },
  {
   "cell_type": "markdown",
   "metadata": {},
   "source": [
    "The most important dataset for our analysis is the one that contains the SAT scores. Let's explore that one first."
   ]
  },
  {
   "cell_type": "code",
   "execution_count": 2,
   "metadata": {
    "scrolled": false
   },
   "outputs": [
    {
     "name": "stdout",
     "output_type": "stream",
     "text": [
      "      DBN                                    SCHOOL NAME  \\\n",
      "0  01M292  HENRY STREET SCHOOL FOR INTERNATIONAL STUDIES   \n",
      "1  01M448            UNIVERSITY NEIGHBORHOOD HIGH SCHOOL   \n",
      "2  01M450                     EAST SIDE COMMUNITY SCHOOL   \n",
      "3  01M458                      FORSYTH SATELLITE ACADEMY   \n",
      "4  01M509                        MARTA VALLE HIGH SCHOOL   \n",
      "\n",
      "  Num of SAT Test Takers SAT Critical Reading Avg. Score SAT Math Avg. Score  \\\n",
      "0                     29                             355                 404   \n",
      "1                     91                             383                 423   \n",
      "2                     70                             377                 402   \n",
      "3                      7                             414                 401   \n",
      "4                     44                             390                 433   \n",
      "\n",
      "  SAT Writing Avg. Score  \n",
      "0                    363  \n",
      "1                    366  \n",
      "2                    370  \n",
      "3                    359  \n",
      "4                    384  \n"
     ]
    }
   ],
   "source": [
    "print(data['sat_results'].head())"
   ]
  },
  {
   "cell_type": "code",
   "execution_count": 3,
   "metadata": {},
   "outputs": [
    {
     "name": "stdout",
     "output_type": "stream",
     "text": [
      "SOURCE:  ap_2010\n",
      "      DBN                             SchoolName  AP Test Takers   \\\n",
      "0  01M448           UNIVERSITY NEIGHBORHOOD H.S.             39.0   \n",
      "1  01M450                 EAST SIDE COMMUNITY HS             19.0   \n",
      "2  01M515                    LOWER EASTSIDE PREP             24.0   \n",
      "3  01M539         NEW EXPLORATIONS SCI,TECH,MATH            255.0   \n",
      "4  02M296  High School of Hospitality Management              NaN   \n",
      "\n",
      "   Total Exams Taken  Number of Exams with scores 3 4 or 5  \n",
      "0               49.0                                  10.0  \n",
      "1               21.0                                   NaN  \n",
      "2               26.0                                  24.0  \n",
      "3              377.0                                 191.0  \n",
      "4                NaN                                   NaN  \n",
      "\n",
      "\n",
      "SOURCE:  class_size\n",
      "   CSD BOROUGH SCHOOL CODE                SCHOOL NAME GRADE  PROGRAM TYPE  \\\n",
      "0    1       M        M015  P.S. 015 Roberto Clemente     0K       GEN ED   \n",
      "1    1       M        M015  P.S. 015 Roberto Clemente     0K          CTT   \n",
      "2    1       M        M015  P.S. 015 Roberto Clemente     01       GEN ED   \n",
      "3    1       M        M015  P.S. 015 Roberto Clemente     01          CTT   \n",
      "4    1       M        M015  P.S. 015 Roberto Clemente     02       GEN ED   \n",
      "\n",
      "  CORE SUBJECT (MS CORE and 9-12 ONLY) CORE COURSE (MS CORE and 9-12 ONLY)  \\\n",
      "0                                    -                                   -   \n",
      "1                                    -                                   -   \n",
      "2                                    -                                   -   \n",
      "3                                    -                                   -   \n",
      "4                                    -                                   -   \n",
      "\n",
      "  SERVICE CATEGORY(K-9* ONLY)  NUMBER OF STUDENTS / SEATS FILLED  \\\n",
      "0                           -                               19.0   \n",
      "1                           -                               21.0   \n",
      "2                           -                               17.0   \n",
      "3                           -                               17.0   \n",
      "4                           -                               15.0   \n",
      "\n",
      "   NUMBER OF SECTIONS  AVERAGE CLASS SIZE  SIZE OF SMALLEST CLASS  \\\n",
      "0                 1.0                19.0                    19.0   \n",
      "1                 1.0                21.0                    21.0   \n",
      "2                 1.0                17.0                    17.0   \n",
      "3                 1.0                17.0                    17.0   \n",
      "4                 1.0                15.0                    15.0   \n",
      "\n",
      "   SIZE OF LARGEST CLASS DATA SOURCE  SCHOOLWIDE PUPIL-TEACHER RATIO  \n",
      "0                   19.0         ATS                             NaN  \n",
      "1                   21.0         ATS                             NaN  \n",
      "2                   17.0         ATS                             NaN  \n",
      "3                   17.0         ATS                             NaN  \n",
      "4                   15.0         ATS                             NaN  \n",
      "\n",
      "\n",
      "SOURCE:  demographics\n",
      "      DBN                       Name  schoolyear fl_percent  frl_percent  \\\n",
      "0  01M015  P.S. 015 ROBERTO CLEMENTE    20052006       89.4          NaN   \n",
      "1  01M015  P.S. 015 ROBERTO CLEMENTE    20062007       89.4          NaN   \n",
      "2  01M015  P.S. 015 ROBERTO CLEMENTE    20072008       89.4          NaN   \n",
      "3  01M015  P.S. 015 ROBERTO CLEMENTE    20082009       89.4          NaN   \n",
      "4  01M015  P.S. 015 ROBERTO CLEMENTE    20092010                    96.5   \n",
      "\n",
      "   total_enrollment prek   k grade1 grade2  ... black_num black_per  \\\n",
      "0               281   15  36     40     33  ...        74      26.3   \n",
      "1               243   15  29     39     38  ...        68      28.0   \n",
      "2               261   18  43     39     36  ...        77      29.5   \n",
      "3               252   17  37     44     32  ...        75      29.8   \n",
      "4               208   16  40     28     32  ...        67      32.2   \n",
      "\n",
      "  hispanic_num hispanic_per white_num white_per male_num male_per female_num  \\\n",
      "0          189         67.3         5       1.8    158.0     56.2      123.0   \n",
      "1          153         63.0         4       1.6    140.0     57.6      103.0   \n",
      "2          157         60.2         7       2.7    143.0     54.8      118.0   \n",
      "3          149         59.1         7       2.8    149.0     59.1      103.0   \n",
      "4          118         56.7         6       2.9    124.0     59.6       84.0   \n",
      "\n",
      "  female_per  \n",
      "0       43.8  \n",
      "1       42.4  \n",
      "2       45.2  \n",
      "3       40.9  \n",
      "4       40.4  \n",
      "\n",
      "[5 rows x 38 columns]\n",
      "\n",
      "\n",
      "SOURCE:  graduation\n",
      "    Demographic     DBN                            School Name    Cohort  \\\n",
      "0  Total Cohort  01M292  HENRY STREET SCHOOL FOR INTERNATIONAL      2003   \n",
      "1  Total Cohort  01M292  HENRY STREET SCHOOL FOR INTERNATIONAL      2004   \n",
      "2  Total Cohort  01M292  HENRY STREET SCHOOL FOR INTERNATIONAL      2005   \n",
      "3  Total Cohort  01M292  HENRY STREET SCHOOL FOR INTERNATIONAL      2006   \n",
      "4  Total Cohort  01M292  HENRY STREET SCHOOL FOR INTERNATIONAL  2006 Aug   \n",
      "\n",
      "   Total Cohort Total Grads - n  Total Grads - % of cohort Total Regents - n  \\\n",
      "0             5               s                        NaN                 s   \n",
      "1            55              37                       67.3                17   \n",
      "2            64              43                       67.2                27   \n",
      "3            78              43                       55.1                36   \n",
      "4            78              44                       56.4                37   \n",
      "\n",
      "   Total Regents - % of cohort  Total Regents - % of grads  ...  \\\n",
      "0                          NaN                         NaN  ...   \n",
      "1                         30.9                        45.9  ...   \n",
      "2                         42.2                        62.8  ...   \n",
      "3                         46.2                        83.7  ...   \n",
      "4                         47.4                        84.1  ...   \n",
      "\n",
      "  Regents w/o Advanced - n  Regents w/o Advanced - % of cohort  \\\n",
      "0                        s                                 NaN   \n",
      "1                       17                                30.9   \n",
      "2                       27                                42.2   \n",
      "3                       36                                46.2   \n",
      "4                       37                                47.4   \n",
      "\n",
      "   Regents w/o Advanced - % of grads Local - n  Local - % of cohort  \\\n",
      "0                                NaN         s                  NaN   \n",
      "1                               45.9        20                 36.4   \n",
      "2                               62.8        16                 25.0   \n",
      "3                               83.7         7                  9.0   \n",
      "4                               84.1         7                  9.0   \n",
      "\n",
      "   Local - % of grads Still Enrolled - n  Still Enrolled - % of cohort  \\\n",
      "0                 NaN                  s                           NaN   \n",
      "1                54.1                 15                          27.3   \n",
      "2                37.2                  9                          14.1   \n",
      "3                16.3                 16                          20.5   \n",
      "4                15.9                 15                          19.2   \n",
      "\n",
      "   Dropped Out - n Dropped Out - % of cohort  \n",
      "0                s                       NaN  \n",
      "1                3                       5.5  \n",
      "2                9                      14.1  \n",
      "3               11                      14.1  \n",
      "4               11                      14.1  \n",
      "\n",
      "[5 rows x 23 columns]\n",
      "\n",
      "\n",
      "SOURCE:  hs_directory\n",
      "      dbn                                        school_name    borough  \\\n",
      "0  27Q260          Frederick Douglass Academy VI High School     Queens   \n",
      "1  21K559        Life Academy High School for Film and Music   Brooklyn   \n",
      "2  16K393     Frederick Douglass Academy IV Secondary School   Brooklyn   \n",
      "3  08X305                               Pablo Neruda Academy      Bronx   \n",
      "4  03M485  Fiorello H. LaGuardia High School of Music & A...  Manhattan   \n",
      "\n",
      "  building_code  phone_number    fax_number  grade_span_min  grade_span_max  \\\n",
      "0          Q465  718-471-2154  718-471-2890             9.0              12   \n",
      "1          K400  718-333-7750  718-333-7775             9.0              12   \n",
      "2          K026  718-574-2820  718-574-2821             9.0              12   \n",
      "3          X450  718-824-1682  718-824-1663             9.0              12   \n",
      "4          M485  212-496-0700  212-724-5748             9.0              12   \n",
      "\n",
      "   expgrade_span_min  expgrade_span_max  ... priority08 priority09 priority10  \\\n",
      "0                NaN                NaN  ...        NaN        NaN        NaN   \n",
      "1                NaN                NaN  ...        NaN        NaN        NaN   \n",
      "2                NaN                NaN  ...        NaN        NaN        NaN   \n",
      "3                NaN                NaN  ...        NaN        NaN        NaN   \n",
      "4                NaN                NaN  ...        NaN        NaN        NaN   \n",
      "\n",
      "                                          Location 1 Community Board  \\\n",
      "0  8 21 Bay 25 Street\\nFar Rockaway, NY 11691\\n(4...            14.0   \n",
      "1  2630 Benson Avenue\\nBrooklyn, NY 11214\\n(40.59...            13.0   \n",
      "2  1014 Lafayette Avenue\\nBrooklyn, NY 11221\\n(40...             3.0   \n",
      "3  1980 Lafayette Avenue\\nBronx, NY 10473\\n(40.82...             9.0   \n",
      "4  100 Amsterdam Avenue\\nNew York, NY 10023\\n(40....             7.0   \n",
      "\n",
      "   Council District Census Tract        BIN           BBL  \\\n",
      "0              31.0     100802.0  4300730.0  4.157360e+09   \n",
      "1              47.0        306.0  3186454.0  3.068830e+09   \n",
      "2              36.0        291.0  3393805.0  3.016160e+09   \n",
      "3              18.0         16.0  2022205.0  2.036040e+09   \n",
      "4               6.0        151.0  1030341.0  1.011560e+09   \n",
      "\n",
      "                                                 NTA  \n",
      "0  Far Rockaway-Bayswater                        ...  \n",
      "1  Gravesend                                     ...  \n",
      "2  Stuyvesant Heights                            ...  \n",
      "3  Soundview-Castle Hill-Clason Point-Harding Par...  \n",
      "4  Lincoln Square                                ...  \n",
      "\n",
      "[5 rows x 64 columns]\n",
      "\n",
      "\n",
      "SOURCE:  sat_results\n",
      "      DBN                                    SCHOOL NAME  \\\n",
      "0  01M292  HENRY STREET SCHOOL FOR INTERNATIONAL STUDIES   \n",
      "1  01M448            UNIVERSITY NEIGHBORHOOD HIGH SCHOOL   \n",
      "2  01M450                     EAST SIDE COMMUNITY SCHOOL   \n",
      "3  01M458                      FORSYTH SATELLITE ACADEMY   \n",
      "4  01M509                        MARTA VALLE HIGH SCHOOL   \n",
      "\n",
      "  Num of SAT Test Takers SAT Critical Reading Avg. Score SAT Math Avg. Score  \\\n",
      "0                     29                             355                 404   \n",
      "1                     91                             383                 423   \n",
      "2                     70                             377                 402   \n",
      "3                      7                             414                 401   \n",
      "4                     44                             390                 433   \n",
      "\n",
      "  SAT Writing Avg. Score  \n",
      "0                    363  \n",
      "1                    366  \n",
      "2                    370  \n",
      "3                    359  \n",
      "4                    384  \n",
      "\n",
      "\n"
     ]
    }
   ],
   "source": [
    "# print the first 5 rows of each dataframe in the dictionary\n",
    "for key in data:\n",
    "    print(\"SOURCE: \",key)\n",
    "    print(data[key].head())\n",
    "    print(\"\\n\")"
   ]
  },
  {
   "cell_type": "markdown",
   "metadata": {},
   "source": [
    "### Observations of Datasets\n",
    "\n",
    "1) DBN appears to be the unique identifier for the high schools  \n",
    "\n",
    "2) The school names indicate that we are only dealing with high school data \n",
    "\n",
    "3) We don't have a cumulative score column for the SAT and we may want to add that \n",
    "\n",
    "4) Five of our six dataframes contain a DBN number column. The class_size dataframe has the piececs of encoding that make up the DBN number, meaning we will be able to create a DBN number using the parts.  \n",
    "\n",
    "5) class_size, demographics, and graduation  dataframes contain multiple occurences of a single DBN number, which will need to be processed into a single line\n",
    "\n",
    "6) The Location 1 column in the hs_directory dataframe has geomap data that we may be able to use for map overlays "
   ]
  },
  {
   "cell_type": "code",
   "execution_count": 4,
   "metadata": {},
   "outputs": [
    {
     "name": "stdout",
     "output_type": "stream",
     "text": [
      "      dbn    bn                      schoolname  d75 studentssurveyed  \\\n",
      "0  01M015  M015       P.S. 015 Roberto Clemente    0               No   \n",
      "1  01M019  M019             P.S. 019 Asher Levy    0               No   \n",
      "2  01M020  M020            P.S. 020 Anna Silver    0               No   \n",
      "3  01M034  M034  P.S. 034 Franklin D. Roosevelt    0              Yes   \n",
      "4  01M063  M063       P.S. 063 William McKinley    0               No   \n",
      "\n",
      "   highschool                  schooltype  rr_s  rr_t  rr_p  ...  s_q14_2  \\\n",
      "0         0.0           Elementary School   NaN    88    60  ...      NaN   \n",
      "1         0.0           Elementary School   NaN   100    60  ...      NaN   \n",
      "2         0.0           Elementary School   NaN    88    73  ...      NaN   \n",
      "3         0.0  Elementary / Middle School  89.0    73    50  ...      NaN   \n",
      "4         0.0           Elementary School   NaN   100    60  ...      NaN   \n",
      "\n",
      "   s_q14_3  s_q14_4  s_q14_5  s_q14_6  s_q14_7  s_q14_8  s_q14_9  s_q14_10  \\\n",
      "0      NaN      NaN      NaN      NaN      NaN      NaN      NaN       NaN   \n",
      "1      NaN      NaN      NaN      NaN      NaN      NaN      NaN       NaN   \n",
      "2      NaN      NaN      NaN      NaN      NaN      NaN      NaN       NaN   \n",
      "3      NaN      NaN      NaN      NaN      NaN      NaN      NaN       NaN   \n",
      "4      NaN      NaN      NaN      NaN      NaN      NaN      NaN       NaN   \n",
      "\n",
      "   s_q14_11  \n",
      "0       NaN  \n",
      "1       NaN  \n",
      "2       NaN  \n",
      "3       NaN  \n",
      "4       NaN  \n",
      "\n",
      "[5 rows x 2773 columns]\n"
     ]
    }
   ],
   "source": [
    "# read in the text file datasets\n",
    "d75_survey = pd.read_csv('survey_d75.txt', encoding = 'Windows-1252', delimiter = '\\t')\n",
    "all_survey = pd.read_csv('survey_all.txt', encoding = 'Windows-1252', delimiter = '\\t')\n",
    "# combine the text dataframes\n",
    "survey = pd.concat([all_survey,d75_survey], axis = 0)\n",
    "\n",
    "print(survey.head())"
   ]
  },
  {
   "cell_type": "markdown",
   "metadata": {},
   "source": [
    "We now have a single dataframe for our survey responses, however, there is a large amount of columns that we do not need. The [source](https://data.cityofnewyork.us/Education/2011-NYC-School-Survey/mnz3-dyi8) of the data contains a data dictionary that we can use to narrow down the columns to only those that will answer our resarch question. "
   ]
  },
  {
   "cell_type": "code",
   "execution_count": 5,
   "metadata": {},
   "outputs": [],
   "source": [
    "# list of columns we would like to keep\n",
    "target_survey_columns = [\"dbn\", \"rr_s\", \"rr_t\", \"rr_p\", \"N_s\", \"N_t\", \"N_p\", \"saf_p_11\", \n",
    "                         \"com_p_11\", \"eng_p_11\", \"aca_p_11\", \"saf_t_11\", \"com_t_11\", \n",
    "                         \"eng_t_11\", \"aca_t_11\", \"saf_s_11\", \"com_s_11\", \"eng_s_11\", \n",
    "                         \"aca_s_11\", \"saf_tot_11\", \"com_tot_11\", \"eng_tot_11\", \"aca_tot_11\"]\n",
    "\n",
    "# filter the dataframe to only keep our targets\n",
    "survey = survey.loc[:,target_survey_columns]\n",
    "\n",
    "# rename the dbn column to fit the format of the other datasets\n",
    "survey = survey.rename(columns = {'dbn':'DBN'})\n",
    "\n",
    "# add the survey dataframe to our dictionary\n",
    "data[\"survey\"] = survey"
   ]
  },
  {
   "cell_type": "markdown",
   "metadata": {},
   "source": [
    "Let's create a DBN column for the class_size dataframe. We can uncover the pattern of the composition by looking at the CSD and School Code columns, which make up the two parts of a DBN. We'll need to make sure that every CSD number contains two digits, and combine the columns together."
   ]
  },
  {
   "cell_type": "code",
   "execution_count": 6,
   "metadata": {},
   "outputs": [
    {
     "name": "stdout",
     "output_type": "stream",
     "text": [
      "01     550\n",
      "02    1985\n",
      "03     782\n",
      "04     613\n",
      "05     570\n",
      "06     769\n",
      "07     828\n",
      "08     960\n",
      "09    1268\n",
      "10    1568\n",
      "11    1175\n",
      "12     976\n",
      "13     779\n",
      "14     720\n",
      "15     834\n",
      "16     355\n",
      "17    1020\n",
      "18     630\n",
      "19     795\n",
      "20     763\n",
      "21     926\n",
      "22     749\n",
      "23     501\n",
      "24     947\n",
      "25     804\n",
      "26     575\n",
      "27    1158\n",
      "28     804\n",
      "29     758\n",
      "30     778\n",
      "31    1212\n",
      "32     459\n",
      "Name: CSD, dtype: int64\n"
     ]
    }
   ],
   "source": [
    "# create a function that takes in a number and reformats it if there aren't two digits\n",
    "def number_format(number):\n",
    "    number = str(number)\n",
    "    if len(number) == 1:\n",
    "        number = '0'+number\n",
    "    return number\n",
    "\n",
    "# apply the function to the CSD column\n",
    "data['class_size']['CSD'] = data['class_size']['CSD'].apply(number_format)\n",
    "\n",
    "# confirm the CSD column contains two characters\n",
    "print(data['class_size']['CSD'].value_counts().sort_index())"
   ]
  },
  {
   "cell_type": "code",
   "execution_count": 7,
   "metadata": {},
   "outputs": [
    {
     "name": "stdout",
     "output_type": "stream",
     "text": [
      "0    01M015\n",
      "1    01M015\n",
      "2    01M015\n",
      "3    01M015\n",
      "4    01M015\n",
      "Name: DBN, dtype: object\n"
     ]
    }
   ],
   "source": [
    "# create the DBN column \n",
    "data['class_size']['DBN'] = data['class_size']['CSD'] + data['class_size']['SCHOOL CODE']\n",
    "\n",
    "# check that our column exists and has the predicted values\n",
    "print(data['class_size']['DBN'].head())"
   ]
  },
  {
   "cell_type": "code",
   "execution_count": 8,
   "metadata": {},
   "outputs": [],
   "source": [
    "# reformat the name of the dbn column in hs_directory\n",
    "data['hs_directory']=data['hs_directory'].rename(columns={'dbn':'DBN'})"
   ]
  },
  {
   "cell_type": "markdown",
   "metadata": {},
   "source": [
    "## Data Cleaning\n",
    "### Adding Key Datapoints\n",
    "Let's now create our cumulative SAT score variable, which will be integral for our analysis."
   ]
  },
  {
   "cell_type": "code",
   "execution_count": 9,
   "metadata": {},
   "outputs": [
    {
     "name": "stdout",
     "output_type": "stream",
     "text": [
      "  SAT Critical Reading Avg. Score SAT Math Avg. Score SAT Writing Avg. Score  \\\n",
      "0                             355                 404                    363   \n",
      "1                             383                 423                    366   \n",
      "2                             377                 402                    370   \n",
      "3                             414                 401                    359   \n",
      "4                             390                 433                    384   \n",
      "\n",
      "   sat_score  \n",
      "0     1122.0  \n",
      "1     1172.0  \n",
      "2     1149.0  \n",
      "3     1174.0  \n",
      "4     1207.0  \n"
     ]
    }
   ],
   "source": [
    "# apply the to_numeric series function to the dataframe slice to change scores to number\n",
    "data['sat_results'].iloc[:,-3:] = data['sat_results'].iloc[:,-3:].apply(pd.to_numeric, errors = 'coerce') \n",
    "\n",
    "# create sat_score column that is the sum of the SAT scores\n",
    "data['sat_results']['sat_score'] = data['sat_results'].iloc[:,-3:].sum(axis = 1)\n",
    "# fill 0 values with np.nan\n",
    "data['sat_results']['sat_score'] = data['sat_results']['sat_score'].replace(0, np.nan)\n",
    "\n",
    "print(data['sat_results'].iloc[:,-4:].head())"
   ]
  },
  {
   "cell_type": "markdown",
   "metadata": {},
   "source": [
    "Next let's extract the location data from the hs_directory dataframe.  "
   ]
  },
  {
   "cell_type": "code",
   "execution_count": 10,
   "metadata": {},
   "outputs": [
    {
     "name": "stdout",
     "output_type": "stream",
     "text": [
      "8 21 Bay 25 Street\n",
      "Far Rockaway, NY 11691\n",
      "(40.601989336, -73.762834323)\n"
     ]
    }
   ],
   "source": [
    "# examine the Location 1 series data\n",
    "\n",
    "print(data['hs_directory']['Location 1'][0])"
   ]
  },
  {
   "cell_type": "markdown",
   "metadata": {},
   "source": [
    "We will focus on extracting the latitude and longitude data."
   ]
  },
  {
   "cell_type": "code",
   "execution_count": 11,
   "metadata": {},
   "outputs": [
    {
     "data": {
      "text/plain": [
       "0    [(40.601989336, -73.762834323)]\n",
       "1    [(40.593593811, -73.984729232)]\n",
       "2    [(40.692133704, -73.931503172)]\n",
       "3     [(40.822303765, -73.85596139)]\n",
       "4    [(40.773670507, -73.985268558)]\n",
       "Name: coordinates, dtype: object"
      ]
     },
     "execution_count": 11,
     "metadata": {},
     "output_type": "execute_result"
    }
   ],
   "source": [
    "# function that will extract lat/long\n",
    "import re\n",
    "def extract_coor(loc_str):\n",
    "    pattern = \"(\\(.+\\))\"\n",
    "    coor = re.findall(pattern, loc_str)\n",
    "    return coor\n",
    "\n",
    "# apply the function to the series and save the result to a new column \n",
    "data['hs_directory']['coordinates'] = data['hs_directory']['Location 1'].apply(extract_coor)\n",
    "\n",
    "data['hs_directory']['coordinates'].head()"
   ]
  },
  {
   "cell_type": "code",
   "execution_count": 12,
   "metadata": {},
   "outputs": [
    {
     "data": {
      "text/html": [
       "<div>\n",
       "<style scoped>\n",
       "    .dataframe tbody tr th:only-of-type {\n",
       "        vertical-align: middle;\n",
       "    }\n",
       "\n",
       "    .dataframe tbody tr th {\n",
       "        vertical-align: top;\n",
       "    }\n",
       "\n",
       "    .dataframe thead th {\n",
       "        text-align: right;\n",
       "    }\n",
       "</style>\n",
       "<table border=\"1\" class=\"dataframe\">\n",
       "  <thead>\n",
       "    <tr style=\"text-align: right;\">\n",
       "      <th></th>\n",
       "      <th>0</th>\n",
       "      <th>1</th>\n",
       "    </tr>\n",
       "  </thead>\n",
       "  <tbody>\n",
       "    <tr>\n",
       "      <th>0</th>\n",
       "      <td>40.601989336</td>\n",
       "      <td>-73.762834323</td>\n",
       "    </tr>\n",
       "    <tr>\n",
       "      <th>1</th>\n",
       "      <td>40.593593811</td>\n",
       "      <td>-73.984729232</td>\n",
       "    </tr>\n",
       "    <tr>\n",
       "      <th>2</th>\n",
       "      <td>40.692133704</td>\n",
       "      <td>-73.931503172</td>\n",
       "    </tr>\n",
       "    <tr>\n",
       "      <th>3</th>\n",
       "      <td>40.822303765</td>\n",
       "      <td>-73.85596139</td>\n",
       "    </tr>\n",
       "    <tr>\n",
       "      <th>4</th>\n",
       "      <td>40.773670507</td>\n",
       "      <td>-73.985268558</td>\n",
       "    </tr>\n",
       "  </tbody>\n",
       "</table>\n",
       "</div>"
      ],
      "text/plain": [
       "              0               1\n",
       "0  40.601989336   -73.762834323\n",
       "1  40.593593811   -73.984729232\n",
       "2  40.692133704   -73.931503172\n",
       "3  40.822303765    -73.85596139\n",
       "4  40.773670507   -73.985268558"
      ]
     },
     "execution_count": 12,
     "metadata": {},
     "output_type": "execute_result"
    }
   ],
   "source": [
    "# turn the coordinates column's objects in string values\n",
    "lat_long = data['hs_directory']['coordinates'].apply(str)\n",
    "# remove the undesirable values\n",
    "lat_long = lat_long.str.replace('\\[\\'\\(','').str.replace('\\)\\'\\]','').str.split(',')\n",
    "# turn the series of list objects into a pandas dataframe\n",
    "lat_long = lat_long.apply(pd.Series)\n",
    "\n",
    "lat_long.head()"
   ]
  },
  {
   "cell_type": "code",
   "execution_count": 13,
   "metadata": {},
   "outputs": [
    {
     "name": "stdout",
     "output_type": "stream",
     "text": [
      "float64\n"
     ]
    }
   ],
   "source": [
    "# assign the lat long to new columns in our hs_directory dataframe\n",
    "data['hs_directory']['latitude'] = lat_long[0]\n",
    "data['hs_directory']['longitude'] = lat_long[1]\n",
    "\n",
    "# convert lat long to number\n",
    "data['hs_directory'].loc[:,['latitude','longitude']] = data['hs_directory'].loc[:,['latitude','longitude']].applymap(float)\n",
    "\n",
    "print(data['hs_directory']['latitude'].dtype)"
   ]
  },
  {
   "cell_type": "markdown",
   "metadata": {},
   "source": [
    "### Condensing Datasets\n",
    "\n",
    "class_size, graduation, and demographics dataframes have multiple rows where DBN appears. Before we can merge our datasets, we will need to make sure that DBN only appears once.\n",
    "\n",
    "#### class_size"
   ]
  },
  {
   "cell_type": "code",
   "execution_count": 14,
   "metadata": {},
   "outputs": [
    {
     "data": {
      "text/html": [
       "<div>\n",
       "<style scoped>\n",
       "    .dataframe tbody tr th:only-of-type {\n",
       "        vertical-align: middle;\n",
       "    }\n",
       "\n",
       "    .dataframe tbody tr th {\n",
       "        vertical-align: top;\n",
       "    }\n",
       "\n",
       "    .dataframe thead th {\n",
       "        text-align: right;\n",
       "    }\n",
       "</style>\n",
       "<table border=\"1\" class=\"dataframe\">\n",
       "  <thead>\n",
       "    <tr style=\"text-align: right;\">\n",
       "      <th></th>\n",
       "      <th>CSD</th>\n",
       "      <th>BOROUGH</th>\n",
       "      <th>SCHOOL CODE</th>\n",
       "      <th>SCHOOL NAME</th>\n",
       "      <th>GRADE</th>\n",
       "      <th>PROGRAM TYPE</th>\n",
       "      <th>CORE SUBJECT (MS CORE and 9-12 ONLY)</th>\n",
       "      <th>CORE COURSE (MS CORE and 9-12 ONLY)</th>\n",
       "      <th>SERVICE CATEGORY(K-9* ONLY)</th>\n",
       "      <th>NUMBER OF STUDENTS / SEATS FILLED</th>\n",
       "      <th>NUMBER OF SECTIONS</th>\n",
       "      <th>AVERAGE CLASS SIZE</th>\n",
       "      <th>SIZE OF SMALLEST CLASS</th>\n",
       "      <th>SIZE OF LARGEST CLASS</th>\n",
       "      <th>DATA SOURCE</th>\n",
       "      <th>SCHOOLWIDE PUPIL-TEACHER RATIO</th>\n",
       "      <th>DBN</th>\n",
       "    </tr>\n",
       "  </thead>\n",
       "  <tbody>\n",
       "    <tr>\n",
       "      <th>0</th>\n",
       "      <td>01</td>\n",
       "      <td>M</td>\n",
       "      <td>M015</td>\n",
       "      <td>P.S. 015 Roberto Clemente</td>\n",
       "      <td>0K</td>\n",
       "      <td>GEN ED</td>\n",
       "      <td>-</td>\n",
       "      <td>-</td>\n",
       "      <td>-</td>\n",
       "      <td>19.0</td>\n",
       "      <td>1.0</td>\n",
       "      <td>19.0</td>\n",
       "      <td>19.0</td>\n",
       "      <td>19.0</td>\n",
       "      <td>ATS</td>\n",
       "      <td>NaN</td>\n",
       "      <td>01M015</td>\n",
       "    </tr>\n",
       "    <tr>\n",
       "      <th>1</th>\n",
       "      <td>01</td>\n",
       "      <td>M</td>\n",
       "      <td>M015</td>\n",
       "      <td>P.S. 015 Roberto Clemente</td>\n",
       "      <td>0K</td>\n",
       "      <td>CTT</td>\n",
       "      <td>-</td>\n",
       "      <td>-</td>\n",
       "      <td>-</td>\n",
       "      <td>21.0</td>\n",
       "      <td>1.0</td>\n",
       "      <td>21.0</td>\n",
       "      <td>21.0</td>\n",
       "      <td>21.0</td>\n",
       "      <td>ATS</td>\n",
       "      <td>NaN</td>\n",
       "      <td>01M015</td>\n",
       "    </tr>\n",
       "    <tr>\n",
       "      <th>2</th>\n",
       "      <td>01</td>\n",
       "      <td>M</td>\n",
       "      <td>M015</td>\n",
       "      <td>P.S. 015 Roberto Clemente</td>\n",
       "      <td>01</td>\n",
       "      <td>GEN ED</td>\n",
       "      <td>-</td>\n",
       "      <td>-</td>\n",
       "      <td>-</td>\n",
       "      <td>17.0</td>\n",
       "      <td>1.0</td>\n",
       "      <td>17.0</td>\n",
       "      <td>17.0</td>\n",
       "      <td>17.0</td>\n",
       "      <td>ATS</td>\n",
       "      <td>NaN</td>\n",
       "      <td>01M015</td>\n",
       "    </tr>\n",
       "    <tr>\n",
       "      <th>3</th>\n",
       "      <td>01</td>\n",
       "      <td>M</td>\n",
       "      <td>M015</td>\n",
       "      <td>P.S. 015 Roberto Clemente</td>\n",
       "      <td>01</td>\n",
       "      <td>CTT</td>\n",
       "      <td>-</td>\n",
       "      <td>-</td>\n",
       "      <td>-</td>\n",
       "      <td>17.0</td>\n",
       "      <td>1.0</td>\n",
       "      <td>17.0</td>\n",
       "      <td>17.0</td>\n",
       "      <td>17.0</td>\n",
       "      <td>ATS</td>\n",
       "      <td>NaN</td>\n",
       "      <td>01M015</td>\n",
       "    </tr>\n",
       "    <tr>\n",
       "      <th>4</th>\n",
       "      <td>01</td>\n",
       "      <td>M</td>\n",
       "      <td>M015</td>\n",
       "      <td>P.S. 015 Roberto Clemente</td>\n",
       "      <td>02</td>\n",
       "      <td>GEN ED</td>\n",
       "      <td>-</td>\n",
       "      <td>-</td>\n",
       "      <td>-</td>\n",
       "      <td>15.0</td>\n",
       "      <td>1.0</td>\n",
       "      <td>15.0</td>\n",
       "      <td>15.0</td>\n",
       "      <td>15.0</td>\n",
       "      <td>ATS</td>\n",
       "      <td>NaN</td>\n",
       "      <td>01M015</td>\n",
       "    </tr>\n",
       "  </tbody>\n",
       "</table>\n",
       "</div>"
      ],
      "text/plain": [
       "  CSD BOROUGH SCHOOL CODE                SCHOOL NAME GRADE  PROGRAM TYPE  \\\n",
       "0  01       M        M015  P.S. 015 Roberto Clemente     0K       GEN ED   \n",
       "1  01       M        M015  P.S. 015 Roberto Clemente     0K          CTT   \n",
       "2  01       M        M015  P.S. 015 Roberto Clemente     01       GEN ED   \n",
       "3  01       M        M015  P.S. 015 Roberto Clemente     01          CTT   \n",
       "4  01       M        M015  P.S. 015 Roberto Clemente     02       GEN ED   \n",
       "\n",
       "  CORE SUBJECT (MS CORE and 9-12 ONLY) CORE COURSE (MS CORE and 9-12 ONLY)  \\\n",
       "0                                    -                                   -   \n",
       "1                                    -                                   -   \n",
       "2                                    -                                   -   \n",
       "3                                    -                                   -   \n",
       "4                                    -                                   -   \n",
       "\n",
       "  SERVICE CATEGORY(K-9* ONLY)  NUMBER OF STUDENTS / SEATS FILLED  \\\n",
       "0                           -                               19.0   \n",
       "1                           -                               21.0   \n",
       "2                           -                               17.0   \n",
       "3                           -                               17.0   \n",
       "4                           -                               15.0   \n",
       "\n",
       "   NUMBER OF SECTIONS  AVERAGE CLASS SIZE  SIZE OF SMALLEST CLASS  \\\n",
       "0                 1.0                19.0                    19.0   \n",
       "1                 1.0                21.0                    21.0   \n",
       "2                 1.0                17.0                    17.0   \n",
       "3                 1.0                17.0                    17.0   \n",
       "4                 1.0                15.0                    15.0   \n",
       "\n",
       "   SIZE OF LARGEST CLASS DATA SOURCE  SCHOOLWIDE PUPIL-TEACHER RATIO     DBN  \n",
       "0                   19.0         ATS                             NaN  01M015  \n",
       "1                   21.0         ATS                             NaN  01M015  \n",
       "2                   17.0         ATS                             NaN  01M015  \n",
       "3                   17.0         ATS                             NaN  01M015  \n",
       "4                   15.0         ATS                             NaN  01M015  "
      ]
     },
     "execution_count": 14,
     "metadata": {},
     "output_type": "execute_result"
    }
   ],
   "source": [
    "data['class_size'].head()"
   ]
  },
  {
   "cell_type": "markdown",
   "metadata": {},
   "source": [
    "We will want to filter out rows that don't fall in the range of a high school class."
   ]
  },
  {
   "cell_type": "code",
   "execution_count": 15,
   "metadata": {},
   "outputs": [
    {
     "data": {
      "text/plain": [
       "09-12      10644\n",
       "MS Core     4762\n",
       "0K-09       1384\n",
       "0K          1237\n",
       "01          1185\n",
       "02          1167\n",
       "03          1143\n",
       "04          1140\n",
       "05          1086\n",
       "06           846\n",
       "07           778\n",
       "08           735\n",
       "09            20\n",
       "Name: GRADE , dtype: int64"
      ]
     },
     "execution_count": 15,
     "metadata": {},
     "output_type": "execute_result"
    }
   ],
   "source": [
    "# check the unique values of Grade\n",
    "data['class_size']['GRADE '].value_counts()"
   ]
  },
  {
   "cell_type": "code",
   "execution_count": 16,
   "metadata": {},
   "outputs": [
    {
     "data": {
      "text/plain": [
       "GEN ED     14545\n",
       "CTT         7460\n",
       "SPEC ED     3653\n",
       "G&T          469\n",
       "Name: PROGRAM TYPE, dtype: int64"
      ]
     },
     "execution_count": 16,
     "metadata": {},
     "output_type": "execute_result"
    }
   ],
   "source": [
    "# check the unique values of PROGRAM TYPE\n",
    "data['class_size']['PROGRAM TYPE'].value_counts()"
   ]
  },
  {
   "cell_type": "markdown",
   "metadata": {},
   "source": [
    "For our analysis we will only target GRADE values with '9-12' and PROGRAM TYPE of 'GEN ED'."
   ]
  },
  {
   "cell_type": "code",
   "execution_count": 17,
   "metadata": {
    "scrolled": true
   },
   "outputs": [
    {
     "data": {
      "text/html": [
       "<div>\n",
       "<style scoped>\n",
       "    .dataframe tbody tr th:only-of-type {\n",
       "        vertical-align: middle;\n",
       "    }\n",
       "\n",
       "    .dataframe tbody tr th {\n",
       "        vertical-align: top;\n",
       "    }\n",
       "\n",
       "    .dataframe thead th {\n",
       "        text-align: right;\n",
       "    }\n",
       "</style>\n",
       "<table border=\"1\" class=\"dataframe\">\n",
       "  <thead>\n",
       "    <tr style=\"text-align: right;\">\n",
       "      <th></th>\n",
       "      <th>CSD</th>\n",
       "      <th>BOROUGH</th>\n",
       "      <th>SCHOOL CODE</th>\n",
       "      <th>SCHOOL NAME</th>\n",
       "      <th>GRADE</th>\n",
       "      <th>PROGRAM TYPE</th>\n",
       "      <th>CORE SUBJECT (MS CORE and 9-12 ONLY)</th>\n",
       "      <th>CORE COURSE (MS CORE and 9-12 ONLY)</th>\n",
       "      <th>SERVICE CATEGORY(K-9* ONLY)</th>\n",
       "      <th>NUMBER OF STUDENTS / SEATS FILLED</th>\n",
       "      <th>NUMBER OF SECTIONS</th>\n",
       "      <th>AVERAGE CLASS SIZE</th>\n",
       "      <th>SIZE OF SMALLEST CLASS</th>\n",
       "      <th>SIZE OF LARGEST CLASS</th>\n",
       "      <th>DATA SOURCE</th>\n",
       "      <th>SCHOOLWIDE PUPIL-TEACHER RATIO</th>\n",
       "      <th>DBN</th>\n",
       "    </tr>\n",
       "  </thead>\n",
       "  <tbody>\n",
       "    <tr>\n",
       "      <th>225</th>\n",
       "      <td>01</td>\n",
       "      <td>M</td>\n",
       "      <td>M292</td>\n",
       "      <td>Henry Street School for International Studies</td>\n",
       "      <td>09-12</td>\n",
       "      <td>GEN ED</td>\n",
       "      <td>ENGLISH</td>\n",
       "      <td>English 9</td>\n",
       "      <td>-</td>\n",
       "      <td>63.0</td>\n",
       "      <td>3.0</td>\n",
       "      <td>21.0</td>\n",
       "      <td>19.0</td>\n",
       "      <td>25.0</td>\n",
       "      <td>STARS</td>\n",
       "      <td>NaN</td>\n",
       "      <td>01M292</td>\n",
       "    </tr>\n",
       "    <tr>\n",
       "      <th>226</th>\n",
       "      <td>01</td>\n",
       "      <td>M</td>\n",
       "      <td>M292</td>\n",
       "      <td>Henry Street School for International Studies</td>\n",
       "      <td>09-12</td>\n",
       "      <td>GEN ED</td>\n",
       "      <td>ENGLISH</td>\n",
       "      <td>English 10</td>\n",
       "      <td>-</td>\n",
       "      <td>79.0</td>\n",
       "      <td>3.0</td>\n",
       "      <td>26.3</td>\n",
       "      <td>24.0</td>\n",
       "      <td>31.0</td>\n",
       "      <td>STARS</td>\n",
       "      <td>NaN</td>\n",
       "      <td>01M292</td>\n",
       "    </tr>\n",
       "    <tr>\n",
       "      <th>227</th>\n",
       "      <td>01</td>\n",
       "      <td>M</td>\n",
       "      <td>M292</td>\n",
       "      <td>Henry Street School for International Studies</td>\n",
       "      <td>09-12</td>\n",
       "      <td>GEN ED</td>\n",
       "      <td>ENGLISH</td>\n",
       "      <td>English 11</td>\n",
       "      <td>-</td>\n",
       "      <td>38.0</td>\n",
       "      <td>2.0</td>\n",
       "      <td>19.0</td>\n",
       "      <td>16.0</td>\n",
       "      <td>22.0</td>\n",
       "      <td>STARS</td>\n",
       "      <td>NaN</td>\n",
       "      <td>01M292</td>\n",
       "    </tr>\n",
       "    <tr>\n",
       "      <th>228</th>\n",
       "      <td>01</td>\n",
       "      <td>M</td>\n",
       "      <td>M292</td>\n",
       "      <td>Henry Street School for International Studies</td>\n",
       "      <td>09-12</td>\n",
       "      <td>GEN ED</td>\n",
       "      <td>ENGLISH</td>\n",
       "      <td>English 12</td>\n",
       "      <td>-</td>\n",
       "      <td>69.0</td>\n",
       "      <td>3.0</td>\n",
       "      <td>23.0</td>\n",
       "      <td>13.0</td>\n",
       "      <td>30.0</td>\n",
       "      <td>STARS</td>\n",
       "      <td>NaN</td>\n",
       "      <td>01M292</td>\n",
       "    </tr>\n",
       "    <tr>\n",
       "      <th>229</th>\n",
       "      <td>01</td>\n",
       "      <td>M</td>\n",
       "      <td>M292</td>\n",
       "      <td>Henry Street School for International Studies</td>\n",
       "      <td>09-12</td>\n",
       "      <td>GEN ED</td>\n",
       "      <td>MATH</td>\n",
       "      <td>Integrated Algebra</td>\n",
       "      <td>-</td>\n",
       "      <td>53.0</td>\n",
       "      <td>3.0</td>\n",
       "      <td>17.7</td>\n",
       "      <td>16.0</td>\n",
       "      <td>21.0</td>\n",
       "      <td>STARS</td>\n",
       "      <td>NaN</td>\n",
       "      <td>01M292</td>\n",
       "    </tr>\n",
       "  </tbody>\n",
       "</table>\n",
       "</div>"
      ],
      "text/plain": [
       "    CSD BOROUGH SCHOOL CODE                                    SCHOOL NAME  \\\n",
       "225  01       M        M292  Henry Street School for International Studies   \n",
       "226  01       M        M292  Henry Street School for International Studies   \n",
       "227  01       M        M292  Henry Street School for International Studies   \n",
       "228  01       M        M292  Henry Street School for International Studies   \n",
       "229  01       M        M292  Henry Street School for International Studies   \n",
       "\n",
       "    GRADE  PROGRAM TYPE CORE SUBJECT (MS CORE and 9-12 ONLY)  \\\n",
       "225  09-12       GEN ED                              ENGLISH   \n",
       "226  09-12       GEN ED                              ENGLISH   \n",
       "227  09-12       GEN ED                              ENGLISH   \n",
       "228  09-12       GEN ED                              ENGLISH   \n",
       "229  09-12       GEN ED                                 MATH   \n",
       "\n",
       "    CORE COURSE (MS CORE and 9-12 ONLY) SERVICE CATEGORY(K-9* ONLY)  \\\n",
       "225                           English 9                           -   \n",
       "226                          English 10                           -   \n",
       "227                          English 11                           -   \n",
       "228                          English 12                           -   \n",
       "229                  Integrated Algebra                           -   \n",
       "\n",
       "     NUMBER OF STUDENTS / SEATS FILLED  NUMBER OF SECTIONS  \\\n",
       "225                               63.0                 3.0   \n",
       "226                               79.0                 3.0   \n",
       "227                               38.0                 2.0   \n",
       "228                               69.0                 3.0   \n",
       "229                               53.0                 3.0   \n",
       "\n",
       "     AVERAGE CLASS SIZE  SIZE OF SMALLEST CLASS  SIZE OF LARGEST CLASS  \\\n",
       "225                21.0                    19.0                   25.0   \n",
       "226                26.3                    24.0                   31.0   \n",
       "227                19.0                    16.0                   22.0   \n",
       "228                23.0                    13.0                   30.0   \n",
       "229                17.7                    16.0                   21.0   \n",
       "\n",
       "    DATA SOURCE  SCHOOLWIDE PUPIL-TEACHER RATIO     DBN  \n",
       "225       STARS                             NaN  01M292  \n",
       "226       STARS                             NaN  01M292  \n",
       "227       STARS                             NaN  01M292  \n",
       "228       STARS                             NaN  01M292  \n",
       "229       STARS                             NaN  01M292  "
      ]
     },
     "execution_count": 17,
     "metadata": {},
     "output_type": "execute_result"
    }
   ],
   "source": [
    "# slice the dataframe to only keep desired values\n",
    "data['class_size'] = data['class_size'][(data['class_size']['GRADE '] == '09-12') & \n",
    "                                        (data['class_size']['PROGRAM TYPE'] == 'GEN ED')]\n",
    "\n",
    "data['class_size'].head()"
   ]
  },
  {
   "cell_type": "code",
   "execution_count": 18,
   "metadata": {},
   "outputs": [
    {
     "data": {
      "text/plain": [
       "ENGLISH           1977\n",
       "SCIENCE           1636\n",
       "SOCIAL STUDIES    1453\n",
       "MATH              1447\n",
       "Name: CORE SUBJECT (MS CORE and 9-12 ONLY), dtype: int64"
      ]
     },
     "execution_count": 18,
     "metadata": {},
     "output_type": "execute_result"
    }
   ],
   "source": [
    "# unique values of core subjects\n",
    "data['class_size']['CORE SUBJECT (MS CORE and 9-12 ONLY)'].value_counts(dropna=False)"
   ]
  },
  {
   "cell_type": "markdown",
   "metadata": {},
   "source": [
    "Rather than computing the class metrics for each type of class, we will opt to take the average of metrics across all classes the school offers."
   ]
  },
  {
   "cell_type": "code",
   "execution_count": 19,
   "metadata": {},
   "outputs": [
    {
     "data": {
      "text/html": [
       "<div>\n",
       "<style scoped>\n",
       "    .dataframe tbody tr th:only-of-type {\n",
       "        vertical-align: middle;\n",
       "    }\n",
       "\n",
       "    .dataframe tbody tr th {\n",
       "        vertical-align: top;\n",
       "    }\n",
       "\n",
       "    .dataframe thead th {\n",
       "        text-align: right;\n",
       "    }\n",
       "</style>\n",
       "<table border=\"1\" class=\"dataframe\">\n",
       "  <thead>\n",
       "    <tr style=\"text-align: right;\">\n",
       "      <th></th>\n",
       "      <th>DBN</th>\n",
       "      <th>NUMBER OF STUDENTS / SEATS FILLED</th>\n",
       "      <th>NUMBER OF SECTIONS</th>\n",
       "      <th>AVERAGE CLASS SIZE</th>\n",
       "      <th>SIZE OF SMALLEST CLASS</th>\n",
       "      <th>SIZE OF LARGEST CLASS</th>\n",
       "      <th>SCHOOLWIDE PUPIL-TEACHER RATIO</th>\n",
       "    </tr>\n",
       "  </thead>\n",
       "  <tbody>\n",
       "    <tr>\n",
       "      <th>0</th>\n",
       "      <td>01M292</td>\n",
       "      <td>88.0000</td>\n",
       "      <td>4.000000</td>\n",
       "      <td>22.564286</td>\n",
       "      <td>18.50</td>\n",
       "      <td>26.571429</td>\n",
       "      <td>NaN</td>\n",
       "    </tr>\n",
       "    <tr>\n",
       "      <th>1</th>\n",
       "      <td>01M332</td>\n",
       "      <td>46.0000</td>\n",
       "      <td>2.000000</td>\n",
       "      <td>22.000000</td>\n",
       "      <td>21.00</td>\n",
       "      <td>23.500000</td>\n",
       "      <td>NaN</td>\n",
       "    </tr>\n",
       "    <tr>\n",
       "      <th>2</th>\n",
       "      <td>01M378</td>\n",
       "      <td>33.0000</td>\n",
       "      <td>1.000000</td>\n",
       "      <td>33.000000</td>\n",
       "      <td>33.00</td>\n",
       "      <td>33.000000</td>\n",
       "      <td>NaN</td>\n",
       "    </tr>\n",
       "    <tr>\n",
       "      <th>3</th>\n",
       "      <td>01M448</td>\n",
       "      <td>105.6875</td>\n",
       "      <td>4.750000</td>\n",
       "      <td>22.231250</td>\n",
       "      <td>18.25</td>\n",
       "      <td>27.062500</td>\n",
       "      <td>NaN</td>\n",
       "    </tr>\n",
       "    <tr>\n",
       "      <th>4</th>\n",
       "      <td>01M450</td>\n",
       "      <td>57.6000</td>\n",
       "      <td>2.733333</td>\n",
       "      <td>21.200000</td>\n",
       "      <td>19.40</td>\n",
       "      <td>22.866667</td>\n",
       "      <td>NaN</td>\n",
       "    </tr>\n",
       "  </tbody>\n",
       "</table>\n",
       "</div>"
      ],
      "text/plain": [
       "      DBN  NUMBER OF STUDENTS / SEATS FILLED  NUMBER OF SECTIONS  \\\n",
       "0  01M292                            88.0000            4.000000   \n",
       "1  01M332                            46.0000            2.000000   \n",
       "2  01M378                            33.0000            1.000000   \n",
       "3  01M448                           105.6875            4.750000   \n",
       "4  01M450                            57.6000            2.733333   \n",
       "\n",
       "   AVERAGE CLASS SIZE  SIZE OF SMALLEST CLASS  SIZE OF LARGEST CLASS  \\\n",
       "0           22.564286                   18.50              26.571429   \n",
       "1           22.000000                   21.00              23.500000   \n",
       "2           33.000000                   33.00              33.000000   \n",
       "3           22.231250                   18.25              27.062500   \n",
       "4           21.200000                   19.40              22.866667   \n",
       "\n",
       "   SCHOOLWIDE PUPIL-TEACHER RATIO  \n",
       "0                             NaN  \n",
       "1                             NaN  \n",
       "2                             NaN  \n",
       "3                             NaN  \n",
       "4                             NaN  "
      ]
     },
     "execution_count": 19,
     "metadata": {},
     "output_type": "execute_result"
    }
   ],
   "source": [
    "# import numpy so we can call mean\n",
    "import numpy as np\n",
    "\n",
    "# create a groupby object\n",
    "class_size_groupby = data['class_size'].groupby('DBN')\n",
    "\n",
    "# take the mean across the aggregate of the groupby object\n",
    "class_size_groupby = class_size_groupby.agg(np.mean)\n",
    "\n",
    "# assing the groupby object to the existing dataframe\n",
    "data['class_size'] = class_size_groupby\n",
    "\n",
    "# reset the index\n",
    "data['class_size'].reset_index(inplace=True)\n",
    "\n",
    "# examine the changes to the dataframe\n",
    "data['class_size'].head()"
   ]
  },
  {
   "cell_type": "markdown",
   "metadata": {},
   "source": [
    "#### demographics"
   ]
  },
  {
   "cell_type": "code",
   "execution_count": 20,
   "metadata": {},
   "outputs": [
    {
     "data": {
      "text/html": [
       "<div>\n",
       "<style scoped>\n",
       "    .dataframe tbody tr th:only-of-type {\n",
       "        vertical-align: middle;\n",
       "    }\n",
       "\n",
       "    .dataframe tbody tr th {\n",
       "        vertical-align: top;\n",
       "    }\n",
       "\n",
       "    .dataframe thead th {\n",
       "        text-align: right;\n",
       "    }\n",
       "</style>\n",
       "<table border=\"1\" class=\"dataframe\">\n",
       "  <thead>\n",
       "    <tr style=\"text-align: right;\">\n",
       "      <th></th>\n",
       "      <th>DBN</th>\n",
       "      <th>Name</th>\n",
       "      <th>schoolyear</th>\n",
       "      <th>fl_percent</th>\n",
       "      <th>frl_percent</th>\n",
       "      <th>total_enrollment</th>\n",
       "      <th>prek</th>\n",
       "      <th>k</th>\n",
       "      <th>grade1</th>\n",
       "      <th>grade2</th>\n",
       "      <th>...</th>\n",
       "      <th>black_num</th>\n",
       "      <th>black_per</th>\n",
       "      <th>hispanic_num</th>\n",
       "      <th>hispanic_per</th>\n",
       "      <th>white_num</th>\n",
       "      <th>white_per</th>\n",
       "      <th>male_num</th>\n",
       "      <th>male_per</th>\n",
       "      <th>female_num</th>\n",
       "      <th>female_per</th>\n",
       "    </tr>\n",
       "  </thead>\n",
       "  <tbody>\n",
       "    <tr>\n",
       "      <th>0</th>\n",
       "      <td>01M015</td>\n",
       "      <td>P.S. 015 ROBERTO CLEMENTE</td>\n",
       "      <td>20052006</td>\n",
       "      <td>89.4</td>\n",
       "      <td>NaN</td>\n",
       "      <td>281</td>\n",
       "      <td>15</td>\n",
       "      <td>36</td>\n",
       "      <td>40</td>\n",
       "      <td>33</td>\n",
       "      <td>...</td>\n",
       "      <td>74</td>\n",
       "      <td>26.3</td>\n",
       "      <td>189</td>\n",
       "      <td>67.3</td>\n",
       "      <td>5</td>\n",
       "      <td>1.8</td>\n",
       "      <td>158.0</td>\n",
       "      <td>56.2</td>\n",
       "      <td>123.0</td>\n",
       "      <td>43.8</td>\n",
       "    </tr>\n",
       "    <tr>\n",
       "      <th>1</th>\n",
       "      <td>01M015</td>\n",
       "      <td>P.S. 015 ROBERTO CLEMENTE</td>\n",
       "      <td>20062007</td>\n",
       "      <td>89.4</td>\n",
       "      <td>NaN</td>\n",
       "      <td>243</td>\n",
       "      <td>15</td>\n",
       "      <td>29</td>\n",
       "      <td>39</td>\n",
       "      <td>38</td>\n",
       "      <td>...</td>\n",
       "      <td>68</td>\n",
       "      <td>28.0</td>\n",
       "      <td>153</td>\n",
       "      <td>63.0</td>\n",
       "      <td>4</td>\n",
       "      <td>1.6</td>\n",
       "      <td>140.0</td>\n",
       "      <td>57.6</td>\n",
       "      <td>103.0</td>\n",
       "      <td>42.4</td>\n",
       "    </tr>\n",
       "    <tr>\n",
       "      <th>2</th>\n",
       "      <td>01M015</td>\n",
       "      <td>P.S. 015 ROBERTO CLEMENTE</td>\n",
       "      <td>20072008</td>\n",
       "      <td>89.4</td>\n",
       "      <td>NaN</td>\n",
       "      <td>261</td>\n",
       "      <td>18</td>\n",
       "      <td>43</td>\n",
       "      <td>39</td>\n",
       "      <td>36</td>\n",
       "      <td>...</td>\n",
       "      <td>77</td>\n",
       "      <td>29.5</td>\n",
       "      <td>157</td>\n",
       "      <td>60.2</td>\n",
       "      <td>7</td>\n",
       "      <td>2.7</td>\n",
       "      <td>143.0</td>\n",
       "      <td>54.8</td>\n",
       "      <td>118.0</td>\n",
       "      <td>45.2</td>\n",
       "    </tr>\n",
       "    <tr>\n",
       "      <th>3</th>\n",
       "      <td>01M015</td>\n",
       "      <td>P.S. 015 ROBERTO CLEMENTE</td>\n",
       "      <td>20082009</td>\n",
       "      <td>89.4</td>\n",
       "      <td>NaN</td>\n",
       "      <td>252</td>\n",
       "      <td>17</td>\n",
       "      <td>37</td>\n",
       "      <td>44</td>\n",
       "      <td>32</td>\n",
       "      <td>...</td>\n",
       "      <td>75</td>\n",
       "      <td>29.8</td>\n",
       "      <td>149</td>\n",
       "      <td>59.1</td>\n",
       "      <td>7</td>\n",
       "      <td>2.8</td>\n",
       "      <td>149.0</td>\n",
       "      <td>59.1</td>\n",
       "      <td>103.0</td>\n",
       "      <td>40.9</td>\n",
       "    </tr>\n",
       "    <tr>\n",
       "      <th>4</th>\n",
       "      <td>01M015</td>\n",
       "      <td>P.S. 015 ROBERTO CLEMENTE</td>\n",
       "      <td>20092010</td>\n",
       "      <td></td>\n",
       "      <td>96.5</td>\n",
       "      <td>208</td>\n",
       "      <td>16</td>\n",
       "      <td>40</td>\n",
       "      <td>28</td>\n",
       "      <td>32</td>\n",
       "      <td>...</td>\n",
       "      <td>67</td>\n",
       "      <td>32.2</td>\n",
       "      <td>118</td>\n",
       "      <td>56.7</td>\n",
       "      <td>6</td>\n",
       "      <td>2.9</td>\n",
       "      <td>124.0</td>\n",
       "      <td>59.6</td>\n",
       "      <td>84.0</td>\n",
       "      <td>40.4</td>\n",
       "    </tr>\n",
       "  </tbody>\n",
       "</table>\n",
       "<p>5 rows × 38 columns</p>\n",
       "</div>"
      ],
      "text/plain": [
       "      DBN                       Name  schoolyear fl_percent  frl_percent  \\\n",
       "0  01M015  P.S. 015 ROBERTO CLEMENTE    20052006       89.4          NaN   \n",
       "1  01M015  P.S. 015 ROBERTO CLEMENTE    20062007       89.4          NaN   \n",
       "2  01M015  P.S. 015 ROBERTO CLEMENTE    20072008       89.4          NaN   \n",
       "3  01M015  P.S. 015 ROBERTO CLEMENTE    20082009       89.4          NaN   \n",
       "4  01M015  P.S. 015 ROBERTO CLEMENTE    20092010                    96.5   \n",
       "\n",
       "   total_enrollment prek   k grade1 grade2  ... black_num black_per  \\\n",
       "0               281   15  36     40     33  ...        74      26.3   \n",
       "1               243   15  29     39     38  ...        68      28.0   \n",
       "2               261   18  43     39     36  ...        77      29.5   \n",
       "3               252   17  37     44     32  ...        75      29.8   \n",
       "4               208   16  40     28     32  ...        67      32.2   \n",
       "\n",
       "  hispanic_num hispanic_per white_num white_per male_num male_per female_num  \\\n",
       "0          189         67.3         5       1.8    158.0     56.2      123.0   \n",
       "1          153         63.0         4       1.6    140.0     57.6      103.0   \n",
       "2          157         60.2         7       2.7    143.0     54.8      118.0   \n",
       "3          149         59.1         7       2.8    149.0     59.1      103.0   \n",
       "4          118         56.7         6       2.9    124.0     59.6       84.0   \n",
       "\n",
       "  female_per  \n",
       "0       43.8  \n",
       "1       42.4  \n",
       "2       45.2  \n",
       "3       40.9  \n",
       "4       40.4  \n",
       "\n",
       "[5 rows x 38 columns]"
      ]
     },
     "execution_count": 20,
     "metadata": {},
     "output_type": "execute_result"
    }
   ],
   "source": [
    "data['demographics'].head()"
   ]
  },
  {
   "cell_type": "markdown",
   "metadata": {},
   "source": [
    "The only column that prevents us from merging this dataset is the schoolyear column. We will target only the 2011-2012 years, which is the most recent demographic pull and align us with the year the SAT data was pulled."
   ]
  },
  {
   "cell_type": "code",
   "execution_count": 21,
   "metadata": {},
   "outputs": [
    {
     "data": {
      "text/html": [
       "<div>\n",
       "<style scoped>\n",
       "    .dataframe tbody tr th:only-of-type {\n",
       "        vertical-align: middle;\n",
       "    }\n",
       "\n",
       "    .dataframe tbody tr th {\n",
       "        vertical-align: top;\n",
       "    }\n",
       "\n",
       "    .dataframe thead th {\n",
       "        text-align: right;\n",
       "    }\n",
       "</style>\n",
       "<table border=\"1\" class=\"dataframe\">\n",
       "  <thead>\n",
       "    <tr style=\"text-align: right;\">\n",
       "      <th></th>\n",
       "      <th>DBN</th>\n",
       "      <th>Name</th>\n",
       "      <th>schoolyear</th>\n",
       "      <th>fl_percent</th>\n",
       "      <th>frl_percent</th>\n",
       "      <th>total_enrollment</th>\n",
       "      <th>prek</th>\n",
       "      <th>k</th>\n",
       "      <th>grade1</th>\n",
       "      <th>grade2</th>\n",
       "      <th>...</th>\n",
       "      <th>black_num</th>\n",
       "      <th>black_per</th>\n",
       "      <th>hispanic_num</th>\n",
       "      <th>hispanic_per</th>\n",
       "      <th>white_num</th>\n",
       "      <th>white_per</th>\n",
       "      <th>male_num</th>\n",
       "      <th>male_per</th>\n",
       "      <th>female_num</th>\n",
       "      <th>female_per</th>\n",
       "    </tr>\n",
       "  </thead>\n",
       "  <tbody>\n",
       "    <tr>\n",
       "      <th>6</th>\n",
       "      <td>01M015</td>\n",
       "      <td>P.S. 015 ROBERTO CLEMENTE</td>\n",
       "      <td>20112012</td>\n",
       "      <td>NaN</td>\n",
       "      <td>89.4</td>\n",
       "      <td>189</td>\n",
       "      <td>13</td>\n",
       "      <td>31</td>\n",
       "      <td>35</td>\n",
       "      <td>28</td>\n",
       "      <td>...</td>\n",
       "      <td>63</td>\n",
       "      <td>33.3</td>\n",
       "      <td>109</td>\n",
       "      <td>57.7</td>\n",
       "      <td>4</td>\n",
       "      <td>2.1</td>\n",
       "      <td>97.0</td>\n",
       "      <td>51.3</td>\n",
       "      <td>92.0</td>\n",
       "      <td>48.7</td>\n",
       "    </tr>\n",
       "    <tr>\n",
       "      <th>13</th>\n",
       "      <td>01M019</td>\n",
       "      <td>P.S. 019 ASHER LEVY</td>\n",
       "      <td>20112012</td>\n",
       "      <td>NaN</td>\n",
       "      <td>61.5</td>\n",
       "      <td>328</td>\n",
       "      <td>32</td>\n",
       "      <td>46</td>\n",
       "      <td>52</td>\n",
       "      <td>54</td>\n",
       "      <td>...</td>\n",
       "      <td>81</td>\n",
       "      <td>24.7</td>\n",
       "      <td>158</td>\n",
       "      <td>48.2</td>\n",
       "      <td>28</td>\n",
       "      <td>8.5</td>\n",
       "      <td>147.0</td>\n",
       "      <td>44.8</td>\n",
       "      <td>181.0</td>\n",
       "      <td>55.2</td>\n",
       "    </tr>\n",
       "    <tr>\n",
       "      <th>20</th>\n",
       "      <td>01M020</td>\n",
       "      <td>PS 020 ANNA SILVER</td>\n",
       "      <td>20112012</td>\n",
       "      <td>NaN</td>\n",
       "      <td>92.5</td>\n",
       "      <td>626</td>\n",
       "      <td>52</td>\n",
       "      <td>102</td>\n",
       "      <td>121</td>\n",
       "      <td>87</td>\n",
       "      <td>...</td>\n",
       "      <td>55</td>\n",
       "      <td>8.8</td>\n",
       "      <td>357</td>\n",
       "      <td>57.0</td>\n",
       "      <td>16</td>\n",
       "      <td>2.6</td>\n",
       "      <td>330.0</td>\n",
       "      <td>52.7</td>\n",
       "      <td>296.0</td>\n",
       "      <td>47.3</td>\n",
       "    </tr>\n",
       "    <tr>\n",
       "      <th>27</th>\n",
       "      <td>01M034</td>\n",
       "      <td>PS 034 FRANKLIN D ROOSEVELT</td>\n",
       "      <td>20112012</td>\n",
       "      <td>NaN</td>\n",
       "      <td>99.7</td>\n",
       "      <td>401</td>\n",
       "      <td>14</td>\n",
       "      <td>34</td>\n",
       "      <td>38</td>\n",
       "      <td>36</td>\n",
       "      <td>...</td>\n",
       "      <td>90</td>\n",
       "      <td>22.4</td>\n",
       "      <td>275</td>\n",
       "      <td>68.6</td>\n",
       "      <td>8</td>\n",
       "      <td>2.0</td>\n",
       "      <td>204.0</td>\n",
       "      <td>50.9</td>\n",
       "      <td>197.0</td>\n",
       "      <td>49.1</td>\n",
       "    </tr>\n",
       "    <tr>\n",
       "      <th>35</th>\n",
       "      <td>01M063</td>\n",
       "      <td>PS 063 WILLIAM MCKINLEY</td>\n",
       "      <td>20112012</td>\n",
       "      <td>NaN</td>\n",
       "      <td>78.9</td>\n",
       "      <td>176</td>\n",
       "      <td>18</td>\n",
       "      <td>20</td>\n",
       "      <td>30</td>\n",
       "      <td>21</td>\n",
       "      <td>...</td>\n",
       "      <td>41</td>\n",
       "      <td>23.3</td>\n",
       "      <td>110</td>\n",
       "      <td>62.5</td>\n",
       "      <td>15</td>\n",
       "      <td>8.5</td>\n",
       "      <td>97.0</td>\n",
       "      <td>55.1</td>\n",
       "      <td>79.0</td>\n",
       "      <td>44.9</td>\n",
       "    </tr>\n",
       "  </tbody>\n",
       "</table>\n",
       "<p>5 rows × 38 columns</p>\n",
       "</div>"
      ],
      "text/plain": [
       "       DBN                                              Name  schoolyear  \\\n",
       "6   01M015  P.S. 015 ROBERTO CLEMENTE                           20112012   \n",
       "13  01M019  P.S. 019 ASHER LEVY                                 20112012   \n",
       "20  01M020  PS 020 ANNA SILVER                                  20112012   \n",
       "27  01M034  PS 034 FRANKLIN D ROOSEVELT                         20112012   \n",
       "35  01M063  PS 063 WILLIAM MCKINLEY                             20112012   \n",
       "\n",
       "   fl_percent  frl_percent  total_enrollment prek    k grade1 grade2  ...  \\\n",
       "6         NaN         89.4               189   13   31     35     28  ...   \n",
       "13        NaN         61.5               328   32   46     52     54  ...   \n",
       "20        NaN         92.5               626   52  102    121     87  ...   \n",
       "27        NaN         99.7               401   14   34     38     36  ...   \n",
       "35        NaN         78.9               176   18   20     30     21  ...   \n",
       "\n",
       "   black_num black_per hispanic_num hispanic_per white_num white_per male_num  \\\n",
       "6         63      33.3          109         57.7         4       2.1     97.0   \n",
       "13        81      24.7          158         48.2        28       8.5    147.0   \n",
       "20        55       8.8          357         57.0        16       2.6    330.0   \n",
       "27        90      22.4          275         68.6         8       2.0    204.0   \n",
       "35        41      23.3          110         62.5        15       8.5     97.0   \n",
       "\n",
       "   male_per female_num female_per  \n",
       "6      51.3       92.0       48.7  \n",
       "13     44.8      181.0       55.2  \n",
       "20     52.7      296.0       47.3  \n",
       "27     50.9      197.0       49.1  \n",
       "35     55.1       79.0       44.9  \n",
       "\n",
       "[5 rows x 38 columns]"
      ]
     },
     "execution_count": 21,
     "metadata": {},
     "output_type": "execute_result"
    }
   ],
   "source": [
    "# filter dataset to only 20112012\n",
    "data['demographics'] = data['demographics'][data['demographics']['schoolyear'] == 20112012]\n",
    "\n",
    "data['demographics'].head()"
   ]
  },
  {
   "cell_type": "markdown",
   "metadata": {},
   "source": [
    "#### graduation"
   ]
  },
  {
   "cell_type": "code",
   "execution_count": 22,
   "metadata": {},
   "outputs": [
    {
     "data": {
      "text/html": [
       "<div>\n",
       "<style scoped>\n",
       "    .dataframe tbody tr th:only-of-type {\n",
       "        vertical-align: middle;\n",
       "    }\n",
       "\n",
       "    .dataframe tbody tr th {\n",
       "        vertical-align: top;\n",
       "    }\n",
       "\n",
       "    .dataframe thead th {\n",
       "        text-align: right;\n",
       "    }\n",
       "</style>\n",
       "<table border=\"1\" class=\"dataframe\">\n",
       "  <thead>\n",
       "    <tr style=\"text-align: right;\">\n",
       "      <th></th>\n",
       "      <th>Demographic</th>\n",
       "      <th>DBN</th>\n",
       "      <th>School Name</th>\n",
       "      <th>Cohort</th>\n",
       "      <th>Total Cohort</th>\n",
       "      <th>Total Grads - n</th>\n",
       "      <th>Total Grads - % of cohort</th>\n",
       "      <th>Total Regents - n</th>\n",
       "      <th>Total Regents - % of cohort</th>\n",
       "      <th>Total Regents - % of grads</th>\n",
       "      <th>...</th>\n",
       "      <th>Regents w/o Advanced - n</th>\n",
       "      <th>Regents w/o Advanced - % of cohort</th>\n",
       "      <th>Regents w/o Advanced - % of grads</th>\n",
       "      <th>Local - n</th>\n",
       "      <th>Local - % of cohort</th>\n",
       "      <th>Local - % of grads</th>\n",
       "      <th>Still Enrolled - n</th>\n",
       "      <th>Still Enrolled - % of cohort</th>\n",
       "      <th>Dropped Out - n</th>\n",
       "      <th>Dropped Out - % of cohort</th>\n",
       "    </tr>\n",
       "  </thead>\n",
       "  <tbody>\n",
       "    <tr>\n",
       "      <th>0</th>\n",
       "      <td>Total Cohort</td>\n",
       "      <td>01M292</td>\n",
       "      <td>HENRY STREET SCHOOL FOR INTERNATIONAL</td>\n",
       "      <td>2003</td>\n",
       "      <td>5</td>\n",
       "      <td>s</td>\n",
       "      <td>NaN</td>\n",
       "      <td>s</td>\n",
       "      <td>NaN</td>\n",
       "      <td>NaN</td>\n",
       "      <td>...</td>\n",
       "      <td>s</td>\n",
       "      <td>NaN</td>\n",
       "      <td>NaN</td>\n",
       "      <td>s</td>\n",
       "      <td>NaN</td>\n",
       "      <td>NaN</td>\n",
       "      <td>s</td>\n",
       "      <td>NaN</td>\n",
       "      <td>s</td>\n",
       "      <td>NaN</td>\n",
       "    </tr>\n",
       "    <tr>\n",
       "      <th>1</th>\n",
       "      <td>Total Cohort</td>\n",
       "      <td>01M292</td>\n",
       "      <td>HENRY STREET SCHOOL FOR INTERNATIONAL</td>\n",
       "      <td>2004</td>\n",
       "      <td>55</td>\n",
       "      <td>37</td>\n",
       "      <td>67.3</td>\n",
       "      <td>17</td>\n",
       "      <td>30.9</td>\n",
       "      <td>45.9</td>\n",
       "      <td>...</td>\n",
       "      <td>17</td>\n",
       "      <td>30.9</td>\n",
       "      <td>45.9</td>\n",
       "      <td>20</td>\n",
       "      <td>36.4</td>\n",
       "      <td>54.1</td>\n",
       "      <td>15</td>\n",
       "      <td>27.3</td>\n",
       "      <td>3</td>\n",
       "      <td>5.5</td>\n",
       "    </tr>\n",
       "    <tr>\n",
       "      <th>2</th>\n",
       "      <td>Total Cohort</td>\n",
       "      <td>01M292</td>\n",
       "      <td>HENRY STREET SCHOOL FOR INTERNATIONAL</td>\n",
       "      <td>2005</td>\n",
       "      <td>64</td>\n",
       "      <td>43</td>\n",
       "      <td>67.2</td>\n",
       "      <td>27</td>\n",
       "      <td>42.2</td>\n",
       "      <td>62.8</td>\n",
       "      <td>...</td>\n",
       "      <td>27</td>\n",
       "      <td>42.2</td>\n",
       "      <td>62.8</td>\n",
       "      <td>16</td>\n",
       "      <td>25.0</td>\n",
       "      <td>37.2</td>\n",
       "      <td>9</td>\n",
       "      <td>14.1</td>\n",
       "      <td>9</td>\n",
       "      <td>14.1</td>\n",
       "    </tr>\n",
       "    <tr>\n",
       "      <th>3</th>\n",
       "      <td>Total Cohort</td>\n",
       "      <td>01M292</td>\n",
       "      <td>HENRY STREET SCHOOL FOR INTERNATIONAL</td>\n",
       "      <td>2006</td>\n",
       "      <td>78</td>\n",
       "      <td>43</td>\n",
       "      <td>55.1</td>\n",
       "      <td>36</td>\n",
       "      <td>46.2</td>\n",
       "      <td>83.7</td>\n",
       "      <td>...</td>\n",
       "      <td>36</td>\n",
       "      <td>46.2</td>\n",
       "      <td>83.7</td>\n",
       "      <td>7</td>\n",
       "      <td>9.0</td>\n",
       "      <td>16.3</td>\n",
       "      <td>16</td>\n",
       "      <td>20.5</td>\n",
       "      <td>11</td>\n",
       "      <td>14.1</td>\n",
       "    </tr>\n",
       "    <tr>\n",
       "      <th>4</th>\n",
       "      <td>Total Cohort</td>\n",
       "      <td>01M292</td>\n",
       "      <td>HENRY STREET SCHOOL FOR INTERNATIONAL</td>\n",
       "      <td>2006 Aug</td>\n",
       "      <td>78</td>\n",
       "      <td>44</td>\n",
       "      <td>56.4</td>\n",
       "      <td>37</td>\n",
       "      <td>47.4</td>\n",
       "      <td>84.1</td>\n",
       "      <td>...</td>\n",
       "      <td>37</td>\n",
       "      <td>47.4</td>\n",
       "      <td>84.1</td>\n",
       "      <td>7</td>\n",
       "      <td>9.0</td>\n",
       "      <td>15.9</td>\n",
       "      <td>15</td>\n",
       "      <td>19.2</td>\n",
       "      <td>11</td>\n",
       "      <td>14.1</td>\n",
       "    </tr>\n",
       "  </tbody>\n",
       "</table>\n",
       "<p>5 rows × 23 columns</p>\n",
       "</div>"
      ],
      "text/plain": [
       "    Demographic     DBN                            School Name    Cohort  \\\n",
       "0  Total Cohort  01M292  HENRY STREET SCHOOL FOR INTERNATIONAL      2003   \n",
       "1  Total Cohort  01M292  HENRY STREET SCHOOL FOR INTERNATIONAL      2004   \n",
       "2  Total Cohort  01M292  HENRY STREET SCHOOL FOR INTERNATIONAL      2005   \n",
       "3  Total Cohort  01M292  HENRY STREET SCHOOL FOR INTERNATIONAL      2006   \n",
       "4  Total Cohort  01M292  HENRY STREET SCHOOL FOR INTERNATIONAL  2006 Aug   \n",
       "\n",
       "   Total Cohort Total Grads - n  Total Grads - % of cohort Total Regents - n  \\\n",
       "0             5               s                        NaN                 s   \n",
       "1            55              37                       67.3                17   \n",
       "2            64              43                       67.2                27   \n",
       "3            78              43                       55.1                36   \n",
       "4            78              44                       56.4                37   \n",
       "\n",
       "   Total Regents - % of cohort  Total Regents - % of grads  ...  \\\n",
       "0                          NaN                         NaN  ...   \n",
       "1                         30.9                        45.9  ...   \n",
       "2                         42.2                        62.8  ...   \n",
       "3                         46.2                        83.7  ...   \n",
       "4                         47.4                        84.1  ...   \n",
       "\n",
       "  Regents w/o Advanced - n  Regents w/o Advanced - % of cohort  \\\n",
       "0                        s                                 NaN   \n",
       "1                       17                                30.9   \n",
       "2                       27                                42.2   \n",
       "3                       36                                46.2   \n",
       "4                       37                                47.4   \n",
       "\n",
       "   Regents w/o Advanced - % of grads Local - n  Local - % of cohort  \\\n",
       "0                                NaN         s                  NaN   \n",
       "1                               45.9        20                 36.4   \n",
       "2                               62.8        16                 25.0   \n",
       "3                               83.7         7                  9.0   \n",
       "4                               84.1         7                  9.0   \n",
       "\n",
       "   Local - % of grads Still Enrolled - n  Still Enrolled - % of cohort  \\\n",
       "0                 NaN                  s                           NaN   \n",
       "1                54.1                 15                          27.3   \n",
       "2                37.2                  9                          14.1   \n",
       "3                16.3                 16                          20.5   \n",
       "4                15.9                 15                          19.2   \n",
       "\n",
       "   Dropped Out - n Dropped Out - % of cohort  \n",
       "0                s                       NaN  \n",
       "1                3                       5.5  \n",
       "2                9                      14.1  \n",
       "3               11                      14.1  \n",
       "4               11                      14.1  \n",
       "\n",
       "[5 rows x 23 columns]"
      ]
     },
     "execution_count": 22,
     "metadata": {},
     "output_type": "execute_result"
    }
   ],
   "source": [
    "data['graduation'].head()"
   ]
  },
  {
   "cell_type": "code",
   "execution_count": 23,
   "metadata": {},
   "outputs": [
    {
     "data": {
      "text/plain": [
       "2006 Aug    4131\n",
       "2006        4130\n",
       "2005        3963\n",
       "2004        3708\n",
       "2003        3432\n",
       "2002        3095\n",
       "2001        2637\n",
       "Name: Cohort, dtype: int64"
      ]
     },
     "execution_count": 23,
     "metadata": {},
     "output_type": "execute_result"
    }
   ],
   "source": [
    "data['graduation']['Cohort'].value_counts()"
   ]
  },
  {
   "cell_type": "code",
   "execution_count": 24,
   "metadata": {},
   "outputs": [
    {
     "data": {
      "text/plain": [
       "Total Cohort                   2493\n",
       "General Education Students     2471\n",
       "English Proficient Students    2471\n",
       "Special Education Students     2471\n",
       "Male                           2412\n",
       "Black                          2403\n",
       "Female                         2397\n",
       "Hispanic                       2385\n",
       "English Language Learners      2036\n",
       "Asian                          1780\n",
       "White                          1777\n",
       "Name: Demographic, dtype: int64"
      ]
     },
     "execution_count": 24,
     "metadata": {},
     "output_type": "execute_result"
    }
   ],
   "source": [
    "data['graduation']['Demographic'].value_counts()"
   ]
  },
  {
   "cell_type": "markdown",
   "metadata": {},
   "source": [
    "The Demographic and Cohort columns are preventing us from merging this dataset. The Cohort represents the year and the Demographic represents certain demographic slices, such as race, sex, and language. We will keep the Total Cohort metric, which represents an aggregation of the other signals."
   ]
  },
  {
   "cell_type": "code",
   "execution_count": 25,
   "metadata": {},
   "outputs": [
    {
     "data": {
      "text/html": [
       "<div>\n",
       "<style scoped>\n",
       "    .dataframe tbody tr th:only-of-type {\n",
       "        vertical-align: middle;\n",
       "    }\n",
       "\n",
       "    .dataframe tbody tr th {\n",
       "        vertical-align: top;\n",
       "    }\n",
       "\n",
       "    .dataframe thead th {\n",
       "        text-align: right;\n",
       "    }\n",
       "</style>\n",
       "<table border=\"1\" class=\"dataframe\">\n",
       "  <thead>\n",
       "    <tr style=\"text-align: right;\">\n",
       "      <th></th>\n",
       "      <th>Demographic</th>\n",
       "      <th>DBN</th>\n",
       "      <th>School Name</th>\n",
       "      <th>Cohort</th>\n",
       "      <th>Total Cohort</th>\n",
       "      <th>Total Grads - n</th>\n",
       "      <th>Total Grads - % of cohort</th>\n",
       "      <th>Total Regents - n</th>\n",
       "      <th>Total Regents - % of cohort</th>\n",
       "      <th>Total Regents - % of grads</th>\n",
       "      <th>...</th>\n",
       "      <th>Regents w/o Advanced - n</th>\n",
       "      <th>Regents w/o Advanced - % of cohort</th>\n",
       "      <th>Regents w/o Advanced - % of grads</th>\n",
       "      <th>Local - n</th>\n",
       "      <th>Local - % of cohort</th>\n",
       "      <th>Local - % of grads</th>\n",
       "      <th>Still Enrolled - n</th>\n",
       "      <th>Still Enrolled - % of cohort</th>\n",
       "      <th>Dropped Out - n</th>\n",
       "      <th>Dropped Out - % of cohort</th>\n",
       "    </tr>\n",
       "  </thead>\n",
       "  <tbody>\n",
       "    <tr>\n",
       "      <th>3</th>\n",
       "      <td>Total Cohort</td>\n",
       "      <td>01M292</td>\n",
       "      <td>HENRY STREET SCHOOL FOR INTERNATIONAL</td>\n",
       "      <td>2006</td>\n",
       "      <td>78</td>\n",
       "      <td>43</td>\n",
       "      <td>55.1</td>\n",
       "      <td>36</td>\n",
       "      <td>46.2</td>\n",
       "      <td>83.7</td>\n",
       "      <td>...</td>\n",
       "      <td>36</td>\n",
       "      <td>46.2</td>\n",
       "      <td>83.7</td>\n",
       "      <td>7</td>\n",
       "      <td>9.0</td>\n",
       "      <td>16.3</td>\n",
       "      <td>16</td>\n",
       "      <td>20.5</td>\n",
       "      <td>11</td>\n",
       "      <td>14.1</td>\n",
       "    </tr>\n",
       "    <tr>\n",
       "      <th>10</th>\n",
       "      <td>Total Cohort</td>\n",
       "      <td>01M448</td>\n",
       "      <td>UNIVERSITY NEIGHBORHOOD HIGH SCHOOL</td>\n",
       "      <td>2006</td>\n",
       "      <td>124</td>\n",
       "      <td>53</td>\n",
       "      <td>42.7</td>\n",
       "      <td>42</td>\n",
       "      <td>33.9</td>\n",
       "      <td>79.2</td>\n",
       "      <td>...</td>\n",
       "      <td>34</td>\n",
       "      <td>27.4</td>\n",
       "      <td>64.2</td>\n",
       "      <td>11</td>\n",
       "      <td>8.9</td>\n",
       "      <td>20.8</td>\n",
       "      <td>46</td>\n",
       "      <td>37.1</td>\n",
       "      <td>20</td>\n",
       "      <td>16.1</td>\n",
       "    </tr>\n",
       "    <tr>\n",
       "      <th>17</th>\n",
       "      <td>Total Cohort</td>\n",
       "      <td>01M450</td>\n",
       "      <td>EAST SIDE COMMUNITY SCHOOL</td>\n",
       "      <td>2006</td>\n",
       "      <td>90</td>\n",
       "      <td>70</td>\n",
       "      <td>77.8</td>\n",
       "      <td>67</td>\n",
       "      <td>74.4</td>\n",
       "      <td>95.7</td>\n",
       "      <td>...</td>\n",
       "      <td>67</td>\n",
       "      <td>74.4</td>\n",
       "      <td>95.7</td>\n",
       "      <td>3</td>\n",
       "      <td>3.3</td>\n",
       "      <td>4.3</td>\n",
       "      <td>15</td>\n",
       "      <td>16.7</td>\n",
       "      <td>5</td>\n",
       "      <td>5.6</td>\n",
       "    </tr>\n",
       "    <tr>\n",
       "      <th>24</th>\n",
       "      <td>Total Cohort</td>\n",
       "      <td>01M509</td>\n",
       "      <td>MARTA VALLE HIGH SCHOOL</td>\n",
       "      <td>2006</td>\n",
       "      <td>84</td>\n",
       "      <td>47</td>\n",
       "      <td>56.0</td>\n",
       "      <td>40</td>\n",
       "      <td>47.6</td>\n",
       "      <td>85.1</td>\n",
       "      <td>...</td>\n",
       "      <td>23</td>\n",
       "      <td>27.4</td>\n",
       "      <td>48.9</td>\n",
       "      <td>7</td>\n",
       "      <td>8.3</td>\n",
       "      <td>14.9</td>\n",
       "      <td>25</td>\n",
       "      <td>29.8</td>\n",
       "      <td>5</td>\n",
       "      <td>6.0</td>\n",
       "    </tr>\n",
       "    <tr>\n",
       "      <th>31</th>\n",
       "      <td>Total Cohort</td>\n",
       "      <td>01M515</td>\n",
       "      <td>LOWER EAST SIDE PREPARATORY HIGH SCHO</td>\n",
       "      <td>2006</td>\n",
       "      <td>193</td>\n",
       "      <td>105</td>\n",
       "      <td>54.4</td>\n",
       "      <td>91</td>\n",
       "      <td>47.2</td>\n",
       "      <td>86.7</td>\n",
       "      <td>...</td>\n",
       "      <td>22</td>\n",
       "      <td>11.4</td>\n",
       "      <td>21.0</td>\n",
       "      <td>14</td>\n",
       "      <td>7.3</td>\n",
       "      <td>13.3</td>\n",
       "      <td>53</td>\n",
       "      <td>27.5</td>\n",
       "      <td>35</td>\n",
       "      <td>18.1</td>\n",
       "    </tr>\n",
       "  </tbody>\n",
       "</table>\n",
       "<p>5 rows × 23 columns</p>\n",
       "</div>"
      ],
      "text/plain": [
       "     Demographic     DBN                            School Name Cohort  \\\n",
       "3   Total Cohort  01M292  HENRY STREET SCHOOL FOR INTERNATIONAL   2006   \n",
       "10  Total Cohort  01M448    UNIVERSITY NEIGHBORHOOD HIGH SCHOOL   2006   \n",
       "17  Total Cohort  01M450             EAST SIDE COMMUNITY SCHOOL   2006   \n",
       "24  Total Cohort  01M509                MARTA VALLE HIGH SCHOOL   2006   \n",
       "31  Total Cohort  01M515  LOWER EAST SIDE PREPARATORY HIGH SCHO   2006   \n",
       "\n",
       "    Total Cohort Total Grads - n  Total Grads - % of cohort Total Regents - n  \\\n",
       "3             78              43                       55.1                36   \n",
       "10           124              53                       42.7                42   \n",
       "17            90              70                       77.8                67   \n",
       "24            84              47                       56.0                40   \n",
       "31           193             105                       54.4                91   \n",
       "\n",
       "    Total Regents - % of cohort  Total Regents - % of grads  ...  \\\n",
       "3                          46.2                        83.7  ...   \n",
       "10                         33.9                        79.2  ...   \n",
       "17                         74.4                        95.7  ...   \n",
       "24                         47.6                        85.1  ...   \n",
       "31                         47.2                        86.7  ...   \n",
       "\n",
       "   Regents w/o Advanced - n  Regents w/o Advanced - % of cohort  \\\n",
       "3                        36                                46.2   \n",
       "10                       34                                27.4   \n",
       "17                       67                                74.4   \n",
       "24                       23                                27.4   \n",
       "31                       22                                11.4   \n",
       "\n",
       "    Regents w/o Advanced - % of grads Local - n  Local - % of cohort  \\\n",
       "3                                83.7         7                  9.0   \n",
       "10                               64.2        11                  8.9   \n",
       "17                               95.7         3                  3.3   \n",
       "24                               48.9         7                  8.3   \n",
       "31                               21.0        14                  7.3   \n",
       "\n",
       "    Local - % of grads Still Enrolled - n  Still Enrolled - % of cohort  \\\n",
       "3                 16.3                 16                          20.5   \n",
       "10                20.8                 46                          37.1   \n",
       "17                 4.3                 15                          16.7   \n",
       "24                14.9                 25                          29.8   \n",
       "31                13.3                 53                          27.5   \n",
       "\n",
       "    Dropped Out - n Dropped Out - % of cohort  \n",
       "3                11                      14.1  \n",
       "10               20                      16.1  \n",
       "17                5                       5.6  \n",
       "24                5                       6.0  \n",
       "31               35                      18.1  \n",
       "\n",
       "[5 rows x 23 columns]"
      ]
     },
     "execution_count": 25,
     "metadata": {},
     "output_type": "execute_result"
    }
   ],
   "source": [
    "# filter the graduation year\n",
    "data['graduation'] = data['graduation'][data['graduation']['Cohort'] == '2006']\n",
    "# filter the demographic column\n",
    "data['graduation'] = data['graduation'][data['graduation']['Demographic'] == 'Total Cohort']\n",
    "\n",
    "data['graduation'].head()"
   ]
  },
  {
   "cell_type": "markdown",
   "metadata": {},
   "source": [
    "#### ap_2010 Data Prep\n",
    "\n",
    "The last thing we can complete before merging our datasets is confirming that the scores in the ap_2010 dataset are numbers."
   ]
  },
  {
   "cell_type": "code",
   "execution_count": 26,
   "metadata": {},
   "outputs": [
    {
     "name": "stdout",
     "output_type": "stream",
     "text": [
      "AP Test Takers                          float64\n",
      "Total Exams Taken                       float64\n",
      "Number of Exams with scores 3 4 or 5    float64\n",
      "dtype: object\n"
     ]
    }
   ],
   "source": [
    "print(data['ap_2010'].iloc[:,-3:].dtypes)"
   ]
  },
  {
   "cell_type": "markdown",
   "metadata": {},
   "source": [
    "## Merging the Datasets\n",
    "\n",
    "Let's start by evaluating the completeness of each datasets completeness of DBN values. This will help us decide how to merge each together."
   ]
  },
  {
   "cell_type": "code",
   "execution_count": 27,
   "metadata": {},
   "outputs": [
    {
     "name": "stdout",
     "output_type": "stream",
     "text": [
      "{'ap_2010': 258, 'class_size': 583, 'demographics': 1509, 'graduation': 405, 'hs_directory': 435, 'sat_results': 478, 'survey': 1702}\n"
     ]
    }
   ],
   "source": [
    "# loop through the datasets in the dictionary and print the count of all DBN columns \n",
    "dbn_totals = {}\n",
    "for dictionary in data:   \n",
    "    dbn_count = data[dictionary]['DBN'].count()\n",
    "    dbn_totals[dictionary] = dbn_count\n",
    "    \n",
    "print(dbn_totals)"
   ]
  },
  {
   "cell_type": "markdown",
   "metadata": {},
   "source": [
    "We'll start with ap_2010 and graduation, both of which contain fewer DBN counts than sat_results. We will complete a left join on sat_results, as these datasets add context, but aren't critical to our analysis."
   ]
  },
  {
   "cell_type": "code",
   "execution_count": 28,
   "metadata": {},
   "outputs": [],
   "source": [
    "# left join ap_2010 to sat_results\n",
    "combined = data['sat_results'].merge(data['ap_2010'], how = 'left', on = 'DBN')\n",
    "\n",
    "# left join graduation to combined dataset\n",
    "combined = combined.merge(data['graduation'], how = 'left', on = 'DBN')"
   ]
  },
  {
   "cell_type": "markdown",
   "metadata": {},
   "source": [
    "On the rest of the datasets we will perform inner joins. These other datasets are more complete and are more valuable to our analysis, so we want to aim for completeness."
   ]
  },
  {
   "cell_type": "code",
   "execution_count": 29,
   "metadata": {},
   "outputs": [
    {
     "data": {
      "text/plain": [
       "(363, 164)"
      ]
     },
     "execution_count": 29,
     "metadata": {},
     "output_type": "execute_result"
    }
   ],
   "source": [
    "# inner join class_size to combined\n",
    "combined = combined.merge(data['class_size'], how = 'inner', on = 'DBN')\n",
    "\n",
    "# inner join demographics to combined\n",
    "combined = combined.merge(data['demographics'], how = 'inner', on = 'DBN')\n",
    "\n",
    "# inner join survey to combined\n",
    "combined = combined.merge(data['survey'], how = 'inner', on = 'DBN')\n",
    "\n",
    "# inner join hs_directory to combined\n",
    "combined = combined.merge(data['hs_directory'], how = 'inner', on = 'DBN')\n",
    "\n",
    "combined.shape"
   ]
  },
  {
   "cell_type": "markdown",
   "metadata": {},
   "source": [
    "We now have fewer total values than the original sat dataset, but since we are looking for high-level correlations, this is acceptable and we will move forward.\n",
    "\n",
    "## Imputation"
   ]
  },
  {
   "cell_type": "code",
   "execution_count": 30,
   "metadata": {},
   "outputs": [
    {
     "data": {
      "text/plain": [
       "(363, 164)"
      ]
     },
     "execution_count": 30,
     "metadata": {},
     "output_type": "execute_result"
    }
   ],
   "source": [
    "# create a object that is composed of each column's mean value\n",
    "means = combined.mean()\n",
    "\n",
    "# fill columns that have NA values and a mean for the column with the mean of that column\n",
    "combined = combined.fillna(means)\n",
    "# fill columns that have NA values and no mean for the column with 0\n",
    "combined = combined.fillna(0)\n",
    "\n",
    "combined.shape"
   ]
  },
  {
   "cell_type": "code",
   "execution_count": 31,
   "metadata": {},
   "outputs": [],
   "source": [
    "# save to csv\n",
    "# combined.to_csv('mydf.csv')"
   ]
  },
  {
   "cell_type": "markdown",
   "metadata": {},
   "source": [
    "## Analysis\n",
    "\n",
    "One lense it may be interesting to look at this is performance at the school disctrict level. We will need to create a column of values from the DBN value that represents each school district. "
   ]
  },
  {
   "cell_type": "code",
   "execution_count": 32,
   "metadata": {},
   "outputs": [
    {
     "data": {
      "text/plain": [
       "0    01\n",
       "1    01\n",
       "2    01\n",
       "3    01\n",
       "4    01\n",
       "Name: school_dist, dtype: object"
      ]
     },
     "execution_count": 32,
     "metadata": {},
     "output_type": "execute_result"
    }
   ],
   "source": [
    "# create a function that captures the first two characters of a string\n",
    "def two_string(string):\n",
    "    first_two = string[:2]\n",
    "    return first_two\n",
    "\n",
    "# create a new column that is the result of the application of the function\n",
    "combined['school_dist'] = combined['DBN'].apply(two_string)\n",
    "\n",
    "combined['school_dist'].head()"
   ]
  },
  {
   "cell_type": "markdown",
   "metadata": {},
   "source": [
    "### Correlation Analysis"
   ]
  },
  {
   "cell_type": "code",
   "execution_count": 33,
   "metadata": {},
   "outputs": [
    {
     "name": "stdout",
     "output_type": "stream",
     "text": [
      "sat_score                               1.000000\n",
      "SAT Writing Avg. Score                  0.987771\n",
      "SAT Critical Reading Avg. Score         0.986820\n",
      "SAT Math Avg. Score                     0.972643\n",
      "Advanced Regents - % of cohort          0.771566\n",
      "Advanced Regents - % of grads           0.739927\n",
      "Total Regents - % of cohort             0.667603\n",
      "white_per                               0.620718\n",
      "Total Grads - % of cohort               0.584234\n",
      "asian_per                               0.570730\n",
      "AP Test Takers                          0.523140\n",
      "Total Exams Taken                       0.514333\n",
      "Total Regents - % of grads              0.494732\n",
      "asian_num                               0.475445\n",
      "Number of Exams with scores 3 4 or 5    0.463245\n",
      "white_num                               0.449559\n",
      "N_s                                     0.423463\n",
      "N_p                                     0.421530\n",
      "total_students                          0.407827\n",
      "NUMBER OF STUDENTS / SEATS FILLED       0.394626\n",
      "female_num                              0.388631\n",
      "AVERAGE CLASS SIZE                      0.381014\n",
      "total_enrollment                        0.367857\n",
      "NUMBER OF SECTIONS                      0.362673\n",
      "aca_s_11                                0.339435\n",
      "saf_s_11                                0.337639\n",
      "male_num                                0.325520\n",
      "Total Cohort                            0.325144\n",
      "saf_tot_11                              0.318753\n",
      "SIZE OF LARGEST CLASS                   0.314434\n",
      "saf_t_11                                0.313810\n",
      "N_t                                     0.291463\n",
      "SIZE OF SMALLEST CLASS                  0.249949\n",
      "rr_s                                    0.232199\n",
      "eng_s_11                                0.213822\n",
      "aca_tot_11                              0.190966\n",
      "com_s_11                                0.187370\n",
      "aca_t_11                                0.132348\n",
      "saf_p_11                                0.122913\n",
      "number_programs                         0.117012\n",
      "female_per                              0.112108\n",
      "eng_tot_11                              0.100102\n",
      "com_t_11                                0.082419\n",
      "com_tot_11                              0.077310\n",
      "BIN                                     0.052232\n",
      "Census Tract                            0.048737\n",
      "rr_p                                    0.047925\n",
      "BBL                                     0.044427\n",
      "eng_t_11                                0.036906\n",
      "aca_p_11                                0.035155\n",
      "sped_num                                0.034933\n",
      "black_num                               0.027979\n",
      "hispanic_num                            0.025744\n",
      "eng_p_11                                0.020254\n",
      "grade_span_min                         -0.021315\n",
      "rr_t                                   -0.023386\n",
      "Community Board                        -0.060919\n",
      "postcode                               -0.063977\n",
      "Council District                       -0.076151\n",
      "male_per                               -0.112062\n",
      "com_p_11                               -0.115073\n",
      "latitude                               -0.121029\n",
      "longitude                              -0.132222\n",
      "Regents w/o Advanced - % of cohort     -0.138188\n",
      "ell_num                                -0.153778\n",
      "black_per                              -0.284139\n",
      "hispanic_per                           -0.396985\n",
      "ell_percent                            -0.398750\n",
      "sped_percent                           -0.448170\n",
      "Regents w/o Advanced - % of grads      -0.456213\n",
      "Dropped Out - % of cohort              -0.458537\n",
      "Local - % of cohort                    -0.467951\n",
      "Still Enrolled - % of cohort           -0.491914\n",
      "Local - % of grads                     -0.494732\n",
      "frl_percent                            -0.722225\n",
      "SCHOOLWIDE PUPIL-TEACHER RATIO               NaN\n",
      "schoolyear                                   NaN\n",
      "fl_percent                                   NaN\n",
      "grade_span_max                               NaN\n",
      "expgrade_span_min                            NaN\n",
      "expgrade_span_max                            NaN\n",
      "priority08                                   NaN\n",
      "priority09                                   NaN\n",
      "priority10                                   NaN\n",
      "Name: sat_score, dtype: float64\n"
     ]
    }
   ],
   "source": [
    "# create an object that is an array of correlations\n",
    "correlations = combined.corr()\n",
    "# keep only correlations with sat_score\n",
    "correlations = correlations['sat_score']\n",
    "# sort values and print \n",
    "print(correlations.sort_values(ascending=False))"
   ]
  },
  {
   "cell_type": "markdown",
   "metadata": {},
   "source": [
    "### Observations of sat_score Correlations\n",
    "\n",
    "* __SAT Critical Reading Avg. Score__, __SAT Math Avg. Score__, __SAT Writing Avg. Score__ are, unsurprisingly, strongly correlated with __sat_score__\n",
    "* __total_enrollment__ has a positive correlation with __sat_score__, which is surprising because a previous assumption might be that smaller class sizes would lead to more student attention and therefore higher scores\n",
    "    * similar columns to __total_enrollment__ correlate similarly\n",
    "* __female_per__ and __female_num__ correlate positively with __sat_score__, while __male_per__ and __male_num__ correlate negatively\n",
    "* Perceived school safety correlates with __sat_score__\n",
    "* Student's perception of academic standards correlates with __sat_score__, however, parent and teacher perceptions of academic standards do not\n",
    "* Race correlates with __sat_score__\n",
    "* Percentage of people learning English negatively correlates with __sat_score__\n",
    "\n",
    "### Scatter Plots\n",
    "\n",
    "#### Enrollment "
   ]
  },
  {
   "cell_type": "code",
   "execution_count": 34,
   "metadata": {},
   "outputs": [
    {
     "data": {
      "image/png": "[encoded data removed]",
      "text/plain": [
       "<Figure size 432x288 with 1 Axes>"
      ]
     },
     "metadata": {
      "needs_background": "light"
     },
     "output_type": "display_data"
    }
   ],
   "source": [
    "combined.plot.scatter(x = \"total_enrollment\", y = \"sat_score\")\n",
    "plt.show()"
   ]
  },
  {
   "cell_type": "markdown",
   "metadata": {},
   "source": [
    "Although we see 0.37 correlation between __sat_score__ and __total_enrollment__, the plot shows that there's not a clear gradient ascent. Rather, we see a large cluster with some lines coming off in different directions. The correlation is likely coming from behavior of points in the cluster. We will extract those values for further examination."
   ]
  },
  {
   "cell_type": "code",
   "execution_count": 35,
   "metadata": {},
   "outputs": [
    {
     "data": {
      "text/plain": [
       "91       INTERNATIONAL COMMUNITY HIGH SCHOOL\n",
       "125                                        0\n",
       "126          BRONX INTERNATIONAL HIGH SCHOOL\n",
       "139    KINGSBRIDGE INTERNATIONAL HIGH SCHOOL\n",
       "141    INTERNATIONAL SCHOOL FOR LIBERAL ARTS\n",
       "176                                        0\n",
       "179            HIGH SCHOOL OF WORLD CULTURES\n",
       "188       BROOKLYN INTERNATIONAL HIGH SCHOOL\n",
       "225    INTERNATIONAL HIGH SCHOOL AT PROSPECT\n",
       "237               IT TAKES A VILLAGE ACADEMY\n",
       "253                MULTICULTURAL HIGH SCHOOL\n",
       "286    PAN AMERICAN INTERNATIONAL HIGH SCHOO\n",
       "Name: School Name, dtype: object"
      ]
     },
     "execution_count": 35,
     "metadata": {},
     "output_type": "execute_result"
    }
   ],
   "source": [
    "# filter the combined dataset \n",
    "low_enrollment = combined[(combined['sat_score'] < 1000) & (combined['total_enrollment'] < 1000)]\n",
    "low_enrollment['School Name']"
   ]
  },
  {
   "cell_type": "markdown",
   "metadata": {},
   "source": [
    "The above schools are primarily schools that cater to the international community where English is not typically the native language of students. This tells us that the correlation between enrollment and sat scores are likely the result of English not being the primary language of HS with low performance, not total enrollment.\n",
    "\n",
    "#### Students Actively Learning English"
   ]
  },
  {
   "cell_type": "code",
   "execution_count": 36,
   "metadata": {},
   "outputs": [
    {
     "data": {
      "image/png": "[encoded data removed]",
      "text/plain": [
       "<Figure size 432x288 with 1 Axes>"
      ]
     },
     "metadata": {
      "needs_background": "light"
     },
     "output_type": "display_data"
    }
   ],
   "source": [
    "# plot ell_percent vs sat_score \n",
    "combined.plot.scatter(x = \"ell_percent\", y = \"sat_score\")\n",
    "plt.show()"
   ]
  },
  {
   "cell_type": "markdown",
   "metadata": {},
   "source": [
    "There's a clearer trend here, however, the data may tell a better story if it's aggregated across school districts. "
   ]
  },
  {
   "cell_type": "code",
   "execution_count": 37,
   "metadata": {},
   "outputs": [
    {
     "name": "stdout",
     "output_type": "stream",
     "text": [
      "sat_score                               1.000000\n",
      "SAT Writing Avg. Score                  0.991277\n",
      "SAT Critical Reading Avg. Score         0.990202\n",
      "SAT Math Avg. Score                     0.982490\n",
      "Advanced Regents - % of cohort          0.888869\n",
      "Total Regents - % of cohort             0.878937\n",
      "Advanced Regents - % of grads           0.873636\n",
      "Total Regents - % of grads              0.811658\n",
      "N_s                                     0.794514\n",
      "white_per                               0.772859\n",
      "Total Grads - % of cohort               0.758658\n",
      "AP Test Takers                          0.757073\n",
      "female_num                              0.756242\n",
      "N_p                                     0.753578\n",
      "asian_per                               0.750561\n",
      "Total Exams Taken                       0.744588\n",
      "NUMBER OF STUDENTS / SEATS FILLED       0.737972\n",
      "total_students                          0.735115\n",
      "NUMBER OF SECTIONS                      0.732814\n",
      "total_enrollment                        0.715473\n",
      "white_num                               0.714196\n",
      "AVERAGE CLASS SIZE                      0.702011\n",
      "N_t                                     0.700503\n",
      "Total Cohort                            0.668567\n",
      "male_num                                0.665145\n",
      "asian_num                               0.639525\n",
      "SIZE OF LARGEST CLASS                   0.639337\n",
      "Number of Exams with scores 3 4 or 5    0.597701\n",
      "number_programs                         0.561636\n",
      "sped_num                                0.504619\n",
      "saf_t_11                                0.501176\n",
      "SIZE OF SMALLEST CLASS                  0.463178\n",
      "saf_s_11                                0.428125\n",
      "com_t_11                                0.422638\n",
      "saf_tot_11                              0.396864\n",
      "hispanic_num                            0.379408\n",
      "aca_t_11                                0.361842\n",
      "rr_s                                    0.339970\n",
      "rr_t                                    0.335308\n",
      "female_per                              0.314496\n",
      "ell_num                                 0.311864\n",
      "eng_t_11                                0.308439\n",
      "eng_s_11                                0.286899\n",
      "black_num                               0.261529\n",
      "BIN                                     0.233296\n",
      "eng_tot_11                              0.230134\n",
      "BBL                                     0.219962\n",
      "com_tot_11                              0.181447\n",
      "aca_s_11                                0.177083\n",
      "Census Tract                            0.176872\n",
      "aca_tot_11                              0.173453\n",
      "com_s_11                                0.164483\n",
      "rr_p                                    0.019783\n",
      "grade_span_min                          0.017646\n",
      "Community Board                        -0.004339\n",
      "saf_p_11                               -0.025521\n",
      "postcode                               -0.033119\n",
      "Council District                       -0.064114\n",
      "longitude                              -0.131703\n",
      "Regents w/o Advanced - % of cohort     -0.162903\n",
      "eng_p_11                               -0.213748\n",
      "latitude                               -0.216384\n",
      "aca_p_11                               -0.273994\n",
      "ell_percent                            -0.303112\n",
      "male_per                               -0.314433\n",
      "hispanic_per                           -0.335108\n",
      "black_per                              -0.413821\n",
      "com_p_11                               -0.422612\n",
      "Dropped Out - % of cohort              -0.504066\n",
      "Regents w/o Advanced - % of grads      -0.546981\n",
      "sped_percent                           -0.603158\n",
      "Still Enrolled - % of cohort           -0.718709\n",
      "Local - % of cohort                    -0.749015\n",
      "Local - % of grads                     -0.811658\n",
      "frl_percent                            -0.830118\n",
      "SCHOOLWIDE PUPIL-TEACHER RATIO               NaN\n",
      "schoolyear                                   NaN\n",
      "fl_percent                                   NaN\n",
      "grade_span_max                               NaN\n",
      "expgrade_span_min                            NaN\n",
      "expgrade_span_max                            NaN\n",
      "priority08                                   NaN\n",
      "priority09                                   NaN\n",
      "priority10                                   NaN\n",
      "Name: sat_score, dtype: float64\n"
     ]
    }
   ],
   "source": [
    "# aggregate the combined dataset by school_dist over the mean\n",
    "districts = combined.groupby('school_dist').agg(np.mean)\n",
    "districts.reset_index(inplace = True)\n",
    "# create an array of correlations\n",
    "dis_corr = districts.corr()\n",
    "# print the district level correlations with SAT\n",
    "print(dis_corr['sat_score'].sort_values(ascending = False))"
   ]
  },
  {
   "cell_type": "code",
   "execution_count": 38,
   "metadata": {},
   "outputs": [
    {
     "data": {
      "image/png": "[encoded data removed]",
      "text/plain": [
       "<Figure size 432x288 with 1 Axes>"
      ]
     },
     "metadata": {
      "needs_background": "light"
     },
     "output_type": "display_data"
    }
   ],
   "source": [
    "districts.plot.scatter(x = \"ell_percent\", y = \"sat_score\")\n",
    "plt.show()"
   ]
  },
  {
   "cell_type": "markdown",
   "metadata": {},
   "source": [
    "When we look at the scatter plot of data of school districts, their percentage of students learning English, and their correlation with those school's mean SAT scores, we can see that there is a loose correlation. As the percentage of students learning English increases, there is a tendency for there to be lower than average SAT performance. One conclusion we might draw is that the SAT test may be easier when you aalready speak English well, as the test is given in English.\n",
    "\n",
    "* __SAT Critical Reading Avg. Score__, __SAT Math Avg. Score__, __SAT Writing Avg. Score__ are, unsurprisingly, strongly correlated with __sat_score__\n",
    "* __total_enrollment__ has a positive correlation with __sat_score__, which is surprising because a previous assumption might be that smaller class sizes would lead to more student attention and therefore higher scores\n",
    "    * similar columns to __total_enrollment__ correlate similarly\n",
    "    * **Although we see 0.37 correlation between __sat_score__ and __total_enrollment__, the plot shows that there's not a clear gradient ascent. Rather, we see a large cluster with some lines coming off in different directions. The correlation is likely coming from behavior of points in the cluster. We will extract those values for further examination.**\n",
    "    * **The above schools are primarily schools that cater to the international community where English is not typically the native language of students. This tells us that the correlation between enrollment and sat scores are likely the result of English not being the primary language of HS with low performance, not total enrollment.**\n",
    "        * When we look at the scatter plot of data of school districts, their percentage of students learning English, and their correlation with those school's mean SAT scores, we can see that there is a loose correlation. As the percentage of students learning English increases, there is a tendency for there to be lower than average SAT performance. One conclusion we might draw is that the SAT test may be easier when you aalready speak English well, as the test is given in English.\n",
    "* __female_per__ and __female_num__ correlate positively with __sat_score__, while __male_per__ and __male_num__ correlate negatively\n",
    "* Perceived school safety correlates with __sat_score__\n",
    "* Student's perception of academic standards correlates with __sat_score__, however, parent and teacher perceptions of academic standards do not\n",
    "* Race correlates with __sat_score__\n",
    "* Percentage of people learning English negatively correlates with __sat_score__\n",
    "\n",
    "#### School Safety"
   ]
  },
  {
   "cell_type": "code",
   "execution_count": 39,
   "metadata": {},
   "outputs": [
    {
     "data": {
      "image/png": "[encoded data removed]",
      "text/plain": [
       "<Figure size 432x288 with 1 Axes>"
      ]
     },
     "metadata": {
      "needs_background": "light"
     },
     "output_type": "display_data"
    }
   ],
   "source": [
    "combined.plot.scatter(x = \"saf_s_11\", y = \"sat_score\", title = 'SAT & Safety and Respect Score - Student')\n",
    "plt.show()"
   ]
  },
  {
   "cell_type": "code",
   "execution_count": 40,
   "metadata": {},
   "outputs": [
    {
     "data": {
      "image/png": "[encoded data removed]",
      "text/plain": [
       "<Figure size 432x288 with 1 Axes>"
      ]
     },
     "metadata": {
      "needs_background": "light"
     },
     "output_type": "display_data"
    }
   ],
   "source": [
    "combined.plot.scatter(x = 'saf_t_11', y = 'sat_score', title = 'SAT & Safety and Respect Score - Teacher')\n",
    "plt.show()"
   ]
  },
  {
   "cell_type": "code",
   "execution_count": 41,
   "metadata": {},
   "outputs": [
    {
     "name": "stdout",
     "output_type": "stream",
     "text": [
      "         borough  overall_safety    sat_score\n",
      "0          Bronx        6.816729  1157.598203\n",
      "1       Brooklyn        6.678302  1181.364461\n",
      "2      Manhattan        7.059574  1278.331410\n",
      "3         Queens        7.043750  1286.753032\n",
      "4  Staten Island        6.870000  1382.500000\n"
     ]
    }
   ],
   "source": [
    "# create a combined safety score of teacher and student scores for a school\n",
    "combined['overall_safety'] = (combined['saf_t_11'] + combined['saf_s_11']) / 2\n",
    "\n",
    "# group by borough and take the mean\n",
    "boroughs = combined.groupby('borough').agg(np.mean)\n",
    "boroughs.reset_index(inplace = True)\n",
    "# print array of overall safety sat and borough\n",
    "borough_safety = boroughs.loc[:,['borough','overall_safety', 'sat_score']]\n",
    "print(borough_safety)"
   ]
  },
  {
   "cell_type": "code",
   "execution_count": 42,
   "metadata": {},
   "outputs": [
    {
     "data": {
      "image/png": "[encoded data removed]",
      "text/plain": [
       "<Figure size 432x288 with 1 Axes>"
      ]
     },
     "metadata": {
      "needs_background": "light"
     },
     "output_type": "display_data"
    }
   ],
   "source": [
    "# scatterplot at the borough level between overall safety and sat_score\n",
    "boroughs.plot.scatter(x = 'overall_safety', y = 'sat_score', title = 'SAT & Student and Teacher Safety by district')\n",
    "plt.show()"
   ]
  },
  {
   "cell_type": "code",
   "execution_count": 43,
   "metadata": {},
   "outputs": [
    {
     "data": {
      "image/png": "[encoded data removed]",
      "text/plain": [
       "<Figure size 432x288 with 1 Axes>"
      ]
     },
     "metadata": {
      "needs_background": "light"
     },
     "output_type": "display_data"
    }
   ],
   "source": [
    "# create a combined safety score at the districts level\n",
    "districts['overall_safety'] = (districts['saf_t_11'] + districts['saf_s_11']) / 2\n",
    "\n",
    "# scatterplot at the district level between overall safety and sat_score\n",
    "districts.plot.scatter(x = 'overall_safety', y = 'sat_score', title = 'SAT & Student and Teacher Safety by district')\n",
    "plt.show()"
   ]
  },
  {
   "cell_type": "markdown",
   "metadata": {},
   "source": [
    "The granularity that we look at school safety and its affect on SAT score impacts what type of information we're able to pull out. At the school level, we see that below a certain level of safety, SAT scores hit a low and stay there, however above a 7 there is a breakout point where SAT scores can increase significantly. The Borough level is too high-level to determine a correlation with Safety and SAT scores, however, we have can see that the boroughs themselves can have mean scores varying 100-200 points. Where the correlation is strongest is at the school district level, where we see perceived school safety correlating with SAT scores.\n",
    "\n",
    "#### Race"
   ]
  },
  {
   "cell_type": "code",
   "execution_count": 44,
   "metadata": {},
   "outputs": [
    {
     "data": {
      "image/png": "[encoded data removed]",
      "text/plain": [
       "<Figure size 1080x576 with 4 Axes>"
      ]
     },
     "metadata": {
      "needs_background": "light"
     },
     "output_type": "display_data"
    }
   ],
   "source": [
    "# create a list that contains each race percentage\n",
    "race_perc = ['white_per', 'asian_per', 'hispanic_per', 'black_per']\n",
    "plt.figure(figsize = (15,8))\n",
    "for i, race in zip(range(1,5), race_perc):\n",
    "    plt.subplot(2,2,i)\n",
    "    plt.scatter(x = combined[race], y = combined['sat_score'])\n",
    "    plt.title('{} and SAT Score'.format(race))\n",
    "plt.show()"
   ]
  },
  {
   "cell_type": "markdown",
   "metadata": {},
   "source": [
    "There is a positive correlation between SAT score and percentage white and asian student, and a negative correlation between percentage black and hispanic students."
   ]
  },
  {
   "cell_type": "code",
   "execution_count": 45,
   "metadata": {},
   "outputs": [
    {
     "data": {
      "text/html": [
       "<div>\n",
       "<style scoped>\n",
       "    .dataframe tbody tr th:only-of-type {\n",
       "        vertical-align: middle;\n",
       "    }\n",
       "\n",
       "    .dataframe tbody tr th {\n",
       "        vertical-align: top;\n",
       "    }\n",
       "\n",
       "    .dataframe thead th {\n",
       "        text-align: right;\n",
       "    }\n",
       "</style>\n",
       "<table border=\"1\" class=\"dataframe\">\n",
       "  <thead>\n",
       "    <tr style=\"text-align: right;\">\n",
       "      <th></th>\n",
       "      <th>School Name</th>\n",
       "      <th>hispanic_per</th>\n",
       "      <th>sat_score</th>\n",
       "      <th>ell_percent</th>\n",
       "    </tr>\n",
       "  </thead>\n",
       "  <tbody>\n",
       "    <tr>\n",
       "      <th>44</th>\n",
       "      <td>MANHATTAN BRIDGES HIGH SCHOOL</td>\n",
       "      <td>99.8</td>\n",
       "      <td>1058.0</td>\n",
       "      <td>72.6</td>\n",
       "    </tr>\n",
       "    <tr>\n",
       "      <th>82</th>\n",
       "      <td>0</td>\n",
       "      <td>96.7</td>\n",
       "      <td>1174.0</td>\n",
       "      <td>19.6</td>\n",
       "    </tr>\n",
       "    <tr>\n",
       "      <th>89</th>\n",
       "      <td>GREGORIO LUPERON HIGH SCHOOL FOR SCIE</td>\n",
       "      <td>99.8</td>\n",
       "      <td>1014.0</td>\n",
       "      <td>89.6</td>\n",
       "    </tr>\n",
       "    <tr>\n",
       "      <th>125</th>\n",
       "      <td>0</td>\n",
       "      <td>99.4</td>\n",
       "      <td>951.0</td>\n",
       "      <td>86.6</td>\n",
       "    </tr>\n",
       "    <tr>\n",
       "      <th>141</th>\n",
       "      <td>INTERNATIONAL SCHOOL FOR LIBERAL ARTS</td>\n",
       "      <td>99.8</td>\n",
       "      <td>934.0</td>\n",
       "      <td>79.9</td>\n",
       "    </tr>\n",
       "    <tr>\n",
       "      <th>176</th>\n",
       "      <td>0</td>\n",
       "      <td>99.8</td>\n",
       "      <td>970.0</td>\n",
       "      <td>92.9</td>\n",
       "    </tr>\n",
       "    <tr>\n",
       "      <th>253</th>\n",
       "      <td>MULTICULTURAL HIGH SCHOOL</td>\n",
       "      <td>99.8</td>\n",
       "      <td>887.0</td>\n",
       "      <td>94.6</td>\n",
       "    </tr>\n",
       "    <tr>\n",
       "      <th>286</th>\n",
       "      <td>PAN AMERICAN INTERNATIONAL HIGH SCHOO</td>\n",
       "      <td>100.0</td>\n",
       "      <td>951.0</td>\n",
       "      <td>91.3</td>\n",
       "    </tr>\n",
       "  </tbody>\n",
       "</table>\n",
       "</div>"
      ],
      "text/plain": [
       "                               School Name  hispanic_per  sat_score  \\\n",
       "44           MANHATTAN BRIDGES HIGH SCHOOL          99.8     1058.0   \n",
       "82                                       0          96.7     1174.0   \n",
       "89   GREGORIO LUPERON HIGH SCHOOL FOR SCIE          99.8     1014.0   \n",
       "125                                      0          99.4      951.0   \n",
       "141  INTERNATIONAL SCHOOL FOR LIBERAL ARTS          99.8      934.0   \n",
       "176                                      0          99.8      970.0   \n",
       "253              MULTICULTURAL HIGH SCHOOL          99.8      887.0   \n",
       "286  PAN AMERICAN INTERNATIONAL HIGH SCHOO         100.0      951.0   \n",
       "\n",
       "     ell_percent  \n",
       "44          72.6  \n",
       "82          19.6  \n",
       "89          89.6  \n",
       "125         86.6  \n",
       "141         79.9  \n",
       "176         92.9  \n",
       "253         94.6  \n",
       "286         91.3  "
      ]
     },
     "execution_count": 45,
     "metadata": {},
     "output_type": "execute_result"
    }
   ],
   "source": [
    "high_his = combined[(combined['hispanic_per'] >95)]\n",
    "high_his.loc[:,('School Name', 'hispanic_per', 'sat_score', 'ell_percent')]"
   ]
  },
  {
   "cell_type": "markdown",
   "metadata": {},
   "source": [
    "Schools with over 95% hispanic students are those which cater to hispanic immigrants and have a high amount of students learning English. A conclusion we might draw is that the correlation with race and SAT may really be a result of not being in the American education system for a long period of time, and not being fluent English speakers. "
   ]
  },
  {
   "cell_type": "code",
   "execution_count": 46,
   "metadata": {},
   "outputs": [
    {
     "data": {
      "text/html": [
       "<div>\n",
       "<style scoped>\n",
       "    .dataframe tbody tr th:only-of-type {\n",
       "        vertical-align: middle;\n",
       "    }\n",
       "\n",
       "    .dataframe tbody tr th {\n",
       "        vertical-align: top;\n",
       "    }\n",
       "\n",
       "    .dataframe thead th {\n",
       "        text-align: right;\n",
       "    }\n",
       "</style>\n",
       "<table border=\"1\" class=\"dataframe\">\n",
       "  <thead>\n",
       "    <tr style=\"text-align: right;\">\n",
       "      <th></th>\n",
       "      <th>School Name</th>\n",
       "      <th>white_per</th>\n",
       "      <th>asian_per</th>\n",
       "      <th>sat_score</th>\n",
       "      <th>ell_percent</th>\n",
       "    </tr>\n",
       "  </thead>\n",
       "  <tbody>\n",
       "    <tr>\n",
       "      <th>37</th>\n",
       "      <td>STUYVESANT HIGH SCHOOL</td>\n",
       "      <td>23.7</td>\n",
       "      <td>72.1</td>\n",
       "      <td>2096.0</td>\n",
       "      <td>0.0</td>\n",
       "    </tr>\n",
       "    <tr>\n",
       "      <th>151</th>\n",
       "      <td>BRONX HIGH SCHOOL OF SCIENCE</td>\n",
       "      <td>25.4</td>\n",
       "      <td>63.5</td>\n",
       "      <td>1969.0</td>\n",
       "      <td>0.1</td>\n",
       "    </tr>\n",
       "    <tr>\n",
       "      <th>187</th>\n",
       "      <td>BROOKLYN TECHNICAL HIGH SCHOOL</td>\n",
       "      <td>21.3</td>\n",
       "      <td>60.3</td>\n",
       "      <td>1833.0</td>\n",
       "      <td>0.1</td>\n",
       "    </tr>\n",
       "    <tr>\n",
       "      <th>327</th>\n",
       "      <td>QUEENS HIGH SCHOOL FOR THE SCIENCES A</td>\n",
       "      <td>6.7</td>\n",
       "      <td>74.4</td>\n",
       "      <td>1868.0</td>\n",
       "      <td>0.2</td>\n",
       "    </tr>\n",
       "    <tr>\n",
       "      <th>356</th>\n",
       "      <td>STATEN ISLAND TECHNICAL HIGH SCHOOL</td>\n",
       "      <td>61.3</td>\n",
       "      <td>31.8</td>\n",
       "      <td>1953.0</td>\n",
       "      <td>0.1</td>\n",
       "    </tr>\n",
       "  </tbody>\n",
       "</table>\n",
       "</div>"
      ],
      "text/plain": [
       "                               School Name  white_per  asian_per  sat_score  \\\n",
       "37                  STUYVESANT HIGH SCHOOL       23.7       72.1     2096.0   \n",
       "151           BRONX HIGH SCHOOL OF SCIENCE       25.4       63.5     1969.0   \n",
       "187         BROOKLYN TECHNICAL HIGH SCHOOL       21.3       60.3     1833.0   \n",
       "327  QUEENS HIGH SCHOOL FOR THE SCIENCES A        6.7       74.4     1868.0   \n",
       "356    STATEN ISLAND TECHNICAL HIGH SCHOOL       61.3       31.8     1953.0   \n",
       "\n",
       "     ell_percent  \n",
       "37           0.0  \n",
       "151          0.1  \n",
       "187          0.1  \n",
       "327          0.2  \n",
       "356          0.1  "
      ]
     },
     "execution_count": 46,
     "metadata": {},
     "output_type": "execute_result"
    }
   ],
   "source": [
    "low_his_high_sat = combined[(combined['hispanic_per'] < 10) & (combined['sat_score'] > 1800)]\n",
    "low_his_high_sat.loc[:,('School Name', 'white_per', 'asian_per','sat_score','ell_percent')]"
   ]
  },
  {
   "cell_type": "markdown",
   "metadata": {},
   "source": [
    "Looking at schools that have SAT scores over 1800 and a low population of Hispanics, we see that the schools are accelerated College Prep and specialty math and sciences schools. Further, these schools have a high population of asian and white students, and nearly everyone in attendance are fluent English speakers.\n",
    "\n",
    "#### Gender"
   ]
  },
  {
   "cell_type": "code",
   "execution_count": 47,
   "metadata": {},
   "outputs": [
    {
     "data": {
      "image/png": "[encoded data removed]",
      "text/plain": [
       "<Figure size 432x288 with 1 Axes>"
      ]
     },
     "metadata": {
      "needs_background": "light"
     },
     "output_type": "display_data"
    }
   ],
   "source": [
    "gender_fields = ['male_per','female_per']\n",
    "correlations[gender_fields].plot(kind='bar', title = 'SAT Score and Gender Percentage')\n",
    "plt.show()"
   ]
  },
  {
   "cell_type": "markdown",
   "metadata": {},
   "source": [
    "The chart above indicates that there could be a correlation between gender and SAT, however, a Pearson's r of at least .3 is considered notable. Neither of these values meet a significant enough correlation to make a judgement on the influence of gender on SAT scores. It may be beneficial, however, to look at schools that cater to a specific gender and look at SAT scores."
   ]
  },
  {
   "cell_type": "code",
   "execution_count": 48,
   "metadata": {},
   "outputs": [
    {
     "data": {
      "text/html": [
       "<div>\n",
       "<style scoped>\n",
       "    .dataframe tbody tr th:only-of-type {\n",
       "        vertical-align: middle;\n",
       "    }\n",
       "\n",
       "    .dataframe tbody tr th {\n",
       "        vertical-align: top;\n",
       "    }\n",
       "\n",
       "    .dataframe thead th {\n",
       "        text-align: right;\n",
       "    }\n",
       "</style>\n",
       "<table border=\"1\" class=\"dataframe\">\n",
       "  <thead>\n",
       "    <tr style=\"text-align: right;\">\n",
       "      <th></th>\n",
       "      <th>School Name</th>\n",
       "      <th>female_per</th>\n",
       "      <th>sat_score</th>\n",
       "      <th>borough</th>\n",
       "    </tr>\n",
       "  </thead>\n",
       "  <tbody>\n",
       "    <tr>\n",
       "      <th>5</th>\n",
       "      <td>BARD HIGH SCHOOL EARLY COLLEGE</td>\n",
       "      <td>68.7</td>\n",
       "      <td>1856.0</td>\n",
       "      <td>Manhattan</td>\n",
       "    </tr>\n",
       "    <tr>\n",
       "      <th>26</th>\n",
       "      <td>ELEANOR ROOSEVELT HIGH SCHOOL</td>\n",
       "      <td>67.5</td>\n",
       "      <td>1758.0</td>\n",
       "      <td>Manhattan</td>\n",
       "    </tr>\n",
       "    <tr>\n",
       "      <th>60</th>\n",
       "      <td>BEACON HIGH SCHOOL</td>\n",
       "      <td>61.0</td>\n",
       "      <td>1744.0</td>\n",
       "      <td>Manhattan</td>\n",
       "    </tr>\n",
       "    <tr>\n",
       "      <th>61</th>\n",
       "      <td>FIORELLO H. LAGUARDIA HIGH SCHOOL OF</td>\n",
       "      <td>73.6</td>\n",
       "      <td>1707.0</td>\n",
       "      <td>Manhattan</td>\n",
       "    </tr>\n",
       "    <tr>\n",
       "      <th>302</th>\n",
       "      <td>TOWNSEND HARRIS HIGH SCHOOL</td>\n",
       "      <td>71.1</td>\n",
       "      <td>1910.0</td>\n",
       "      <td>Queens</td>\n",
       "    </tr>\n",
       "  </tbody>\n",
       "</table>\n",
       "</div>"
      ],
      "text/plain": [
       "                              School Name  female_per  sat_score    borough\n",
       "5          BARD HIGH SCHOOL EARLY COLLEGE        68.7     1856.0  Manhattan\n",
       "26          ELEANOR ROOSEVELT HIGH SCHOOL        67.5     1758.0  Manhattan\n",
       "60                     BEACON HIGH SCHOOL        61.0     1744.0  Manhattan\n",
       "61   FIORELLO H. LAGUARDIA HIGH SCHOOL OF        73.6     1707.0  Manhattan\n",
       "302           TOWNSEND HARRIS HIGH SCHOOL        71.1     1910.0     Queens"
      ]
     },
     "execution_count": 48,
     "metadata": {},
     "output_type": "execute_result"
    }
   ],
   "source": [
    "high_fem = combined[(combined['female_per'] > 60) & (combined['sat_score'] > 1700)]\n",
    "\n",
    "high_fem.loc[:,('School Name', 'female_per', 'sat_score', 'borough')]"
   ]
  },
  {
   "cell_type": "markdown",
   "metadata": {},
   "source": [
    "None of the schools that have a high density of female students and a SAT scores over 1700 cater only to female students. There is a tendency for these schools to be located in Manhattan, though the reason for this is unclear.\n",
    "\n",
    "#### Advanced Placement Exams\n",
    "\n",
    "In the U.S., high school students take Advanced Placement (AP) exams to earn college credit. It makes sense that the number of students at a school who took AP exams would be highly correlated with the school's SAT scores. Let's explore this."
   ]
  },
  {
   "cell_type": "code",
   "execution_count": 49,
   "metadata": {},
   "outputs": [
    {
     "data": {
      "image/png": "[encoded data removed]",
      "text/plain": [
       "<Figure size 432x288 with 1 Axes>"
      ]
     },
     "metadata": {
      "needs_background": "light"
     },
     "output_type": "display_data"
    }
   ],
   "source": [
    "# create a column that shows us the % of students at a school taking the AP exams\n",
    "combined['ap_per'] = combined['AP Test Takers '] / combined['total_enrollment']\n",
    "\n",
    "combined.plot.scatter(x = 'ap_per', y = 'sat_score')\n",
    "plt.show()"
   ]
  },
  {
   "cell_type": "markdown",
   "metadata": {},
   "source": [
    "The scatter plot shows that there is not a strong relationship between the percentage of students who take AP Exams at a school and how the school performs on the SAT exam. \n",
    "\n",
    "## Combined Visualizations"
   ]
  },
  {
   "cell_type": "code",
   "execution_count": 50,
   "metadata": {
    "scrolled": true
   },
   "outputs": [
    {
     "data": {
      "text/html": [
       "<div>\n",
       "<style scoped>\n",
       "    .dataframe tbody tr th:only-of-type {\n",
       "        vertical-align: middle;\n",
       "    }\n",
       "\n",
       "    .dataframe tbody tr th {\n",
       "        vertical-align: top;\n",
       "    }\n",
       "\n",
       "    .dataframe thead th {\n",
       "        text-align: right;\n",
       "    }\n",
       "</style>\n",
       "<table border=\"1\" class=\"dataframe\">\n",
       "  <thead>\n",
       "    <tr style=\"text-align: right;\">\n",
       "      <th></th>\n",
       "      <th>borough</th>\n",
       "      <th>school_dist</th>\n",
       "      <th>overall_safety</th>\n",
       "      <th>sat_score</th>\n",
       "      <th>white_per</th>\n",
       "      <th>asian_per</th>\n",
       "      <th>hispanic_per</th>\n",
       "      <th>black_per</th>\n",
       "    </tr>\n",
       "  </thead>\n",
       "  <tbody>\n",
       "    <tr>\n",
       "      <th>0</th>\n",
       "      <td>Manhattan</td>\n",
       "      <td>01</td>\n",
       "      <td>6.150000</td>\n",
       "      <td>1122.0</td>\n",
       "      <td>1.7</td>\n",
       "      <td>14.0</td>\n",
       "      <td>53.8</td>\n",
       "      <td>29.1</td>\n",
       "    </tr>\n",
       "    <tr>\n",
       "      <th>1</th>\n",
       "      <td>Manhattan</td>\n",
       "      <td>01</td>\n",
       "      <td>6.300000</td>\n",
       "      <td>1172.0</td>\n",
       "      <td>2.3</td>\n",
       "      <td>29.2</td>\n",
       "      <td>45.9</td>\n",
       "      <td>22.6</td>\n",
       "    </tr>\n",
       "    <tr>\n",
       "      <th>2</th>\n",
       "      <td>Manhattan</td>\n",
       "      <td>01</td>\n",
       "      <td>6.955833</td>\n",
       "      <td>1149.0</td>\n",
       "      <td>10.4</td>\n",
       "      <td>9.7</td>\n",
       "      <td>55.4</td>\n",
       "      <td>23.9</td>\n",
       "    </tr>\n",
       "    <tr>\n",
       "      <th>3</th>\n",
       "      <td>Manhattan</td>\n",
       "      <td>01</td>\n",
       "      <td>6.400000</td>\n",
       "      <td>1207.0</td>\n",
       "      <td>1.6</td>\n",
       "      <td>9.3</td>\n",
       "      <td>56.9</td>\n",
       "      <td>31.6</td>\n",
       "    </tr>\n",
       "    <tr>\n",
       "      <th>4</th>\n",
       "      <td>Manhattan</td>\n",
       "      <td>01</td>\n",
       "      <td>7.450000</td>\n",
       "      <td>1621.0</td>\n",
       "      <td>44.9</td>\n",
       "      <td>27.8</td>\n",
       "      <td>14.2</td>\n",
       "      <td>11.7</td>\n",
       "    </tr>\n",
       "  </tbody>\n",
       "</table>\n",
       "</div>"
      ],
      "text/plain": [
       "     borough school_dist  overall_safety  sat_score  white_per  asian_per  \\\n",
       "0  Manhattan          01        6.150000     1122.0        1.7       14.0   \n",
       "1  Manhattan          01        6.300000     1172.0        2.3       29.2   \n",
       "2  Manhattan          01        6.955833     1149.0       10.4        9.7   \n",
       "3  Manhattan          01        6.400000     1207.0        1.6        9.3   \n",
       "4  Manhattan          01        7.450000     1621.0       44.9       27.8   \n",
       "\n",
       "   hispanic_per  black_per  \n",
       "0          53.8       29.1  \n",
       "1          45.9       22.6  \n",
       "2          55.4       23.9  \n",
       "3          56.9       31.6  \n",
       "4          14.2       11.7  "
      ]
     },
     "execution_count": 50,
     "metadata": {},
     "output_type": "execute_result"
    }
   ],
   "source": [
    "# create a dataframe of our target data for simplicity\n",
    "viz_data = combined.loc[:,['borough', 'school_dist','overall_safety','sat_score', 'white_per','asian_per', 'hispanic_per','black_per']]\n",
    "viz_data.head()"
   ]
  },
  {
   "cell_type": "code",
   "execution_count": 51,
   "metadata": {},
   "outputs": [
    {
     "name": "stdout",
     "output_type": "stream",
     "text": [
      "{'Manhattan': '.', 'Bronx': '*', 'Brooklyn': 's', 'Queens': 'P', 'Staten Island': 'v'}\n",
      "['.' '*' 's' 'P' 'v']\n"
     ]
    }
   ],
   "source": [
    "def safety_rating(rating):\n",
    "    if rating < 6:\n",
    "        return 'Unsafe' \n",
    "    elif rating < 7:\n",
    "        return 'Somewhat Unsafe'\n",
    "    elif rating < 8:\n",
    "        return 'Somewhat Safe'\n",
    "    else :\n",
    "        return 'Safe'\n",
    "    \n",
    "viz_data['safety_rating'] = viz_data['overall_safety'].apply(safety_rating)\n",
    "\n",
    "borough_list = list(viz_data['borough'].unique())\n",
    "color_list = ['red', 'yellow', 'blue', 'green', 'white']\n",
    "\n",
    "# create a list that contains each race percentage\n",
    "race_perc = ['white_per', 'asian_per', 'hispanic_per', 'black_per']\n",
    "\n",
    "borough_list = list(viz_data['borough'].unique())\n",
    "shape_list = ['.', '*', 's', 'P', 'v']\n",
    "borough_shape_dict = {}\n",
    "for b, shape in zip(borough_list, shape_list):\n",
    "    borough_shape_dict[b] = shape\n",
    "print(borough_shape_dict)\n",
    "\n",
    "def b_shape(bor):\n",
    "    sh = borough_shape_dict[bor]\n",
    "    return sh\n",
    "\n",
    "viz_data['shape'] = viz_data['borough'].apply(b_shape)\n",
    "print(viz_data['shape'].unique())"
   ]
  },
  {
   "cell_type": "code",
   "execution_count": 52,
   "metadata": {},
   "outputs": [
    {
     "data": {
      "image/png": "[encoded data removed]",
      "text/plain": [
       "<Figure size 720x1440 with 4 Axes>"
      ]
     },
     "metadata": {
      "needs_background": "light"
     },
     "output_type": "display_data"
    }
   ],
   "source": [
    "plt.figure(figsize = (10,20))\n",
    "\n",
    "#ax.scatter(x = viz_data['school_dist'], y = viz_data['sat_score'])\n",
    "for i, race in zip(range(1,5), race_perc):\n",
    "    plt.subplot(4,1,i)\n",
    "    for boro, sh in zip(borough_list,shape_list):\n",
    "        plt.scatter(x = viz_data[viz_data['borough'] == boro][race], \n",
    "                  y = viz_data[viz_data['borough'] == boro]['sat_score'],\n",
    "                   marker = sh, s = 100, color = 'red')\n",
    "    plt.title('{} and SAT Score'.format(race))\n",
    "#    ax.set_xticks([0,.50,1.00])\n",
    "plt.show()"
   ]
  },
  {
   "cell_type": "code",
   "execution_count": 53,
   "metadata": {
    "scrolled": false
   },
   "outputs": [
    {
     "data": {
      "image/png": "[encoded data removed]",
      "text/plain": [
       "<Figure size 1080x576 with 4 Axes>"
      ]
     },
     "metadata": {
      "needs_background": "light"
     },
     "output_type": "display_data"
    }
   ],
   "source": [
    "plt.figure(figsize = (15,8))\n",
    "for i, race in zip(range(1,5), race_perc):\n",
    "    plt.subplot(2,2,i)\n",
    "    for boro in borough_list:\n",
    "        plt.scatter(x = viz_data[viz_data['borough'] == boro][race], y = viz_data[viz_data['borough'] == boro]['sat_score'], label = boro)\n",
    "    plt.title('{} and SAT Score'.format(race))\n",
    "plt.show()"
   ]
  },
  {
   "cell_type": "markdown",
   "metadata": {},
   "source": [
    "# Conclusion"
   ]
  },
  {
   "cell_type": "markdown",
   "metadata": {},
   "source": [
    "* __SAT Critical Reading Avg. Score__, __SAT Math Avg. Score__, __SAT Writing Avg. Score__ are, unsurprisingly, strongly correlated with __sat_score__\n",
    "* __total_enrollment__ has a positive correlation with __sat_score__, which is surprising because a previous assumption might be that smaller class sizes would lead to more student attention and therefore higher scores\n",
    "    * columns similar to __total_enrollment__ correlate\n",
    "    * **Although we see 0.37 correlation between __sat_score__ and __total_enrollment__, the plot shows that there's not a clear gradient ascent. Rather, we see a large cluster with some lines coming off in different directions. The correlation is likely coming from behavior of points in the cluster. We will extract those values for further examination.**\n",
    "    * **High enrollment schools are have larger populations of international student where English is not typically the native language of students. This tells us that the correlation between enrollment and sat scores are likely the result of English not being the primary language of HS with low performance, not total enrollment.**\n",
    "        * When we look at the scatter plot of data of school districts, their percentage of students learning English, and their correlation with those school's mean SAT scores, we can see that there is a loose correlation. As the percentage of students learning English increases, there is a tendency for there to be lower than average SAT performance. One conclusion we might draw is that the SAT test may be easier when you already speak English well, as the test is given in English.\n",
    "* __female_per__ and __female_num__ correlate positively with __sat_score__, while __male_per__ and __male_num__ correlate negatively\n",
    "* Perceived school safety correlates with __sat_score__\n",
    "    * The granularity that we look at school safety and its affect on SAT score impacts what type of information we're able to pull out. At the school level, we see that below a certain level of safety, SAT scores hit a low and stay there, however above a 7 there is a breakout point where SAT scores can increase significantly. The Borough level is too high-level to determine a correlation with Safety and SAT scores, however, we have can see that the boroughs themselves can have mean scores varying 100-200 points. Where the correlation is strongest is at the school district level, where we see perceived school safety correlating with SAT scores.\n",
    "* Student's perception of academic standards correlates with __sat_score__, however, parent and teacher perceptions of academic standards do not\n",
    "* Race correlates with __sat_score__\n",
    "* Percentage of people learning English negatively correlates with __sat_score__"
   ]
  }
 ],
 "metadata": {
  "kernelspec": {
   "display_name": "Python 3",
   "language": "python",
   "name": "python3"
  },
  "language_info": {
   "codemirror_mode": {
    "name": "ipython",
    "version": 3
   },
   "file_extension": ".py",
   "mimetype": "text/x-python",
   "name": "python",
   "nbconvert_exporter": "python",
   "pygments_lexer": "ipython3",
   "version": "3.8.5"
  },
  "toc": {
   "base_numbering": 1,
   "nav_menu": {},
   "number_sections": false,
   "sideBar": true,
   "skip_h1_title": false,
   "title_cell": "Table of Contents",
   "title_sidebar": "Contents",
   "toc_cell": true,
   "toc_position": {
    "height": "calc(100% - 180px)",
    "left": "10px",
    "top": "150px",
    "width": "349.091px"
   },
   "toc_section_display": true,
   "toc_window_display": true
  }
 },
 "nbformat": 4,
 "nbformat_minor": 5
}
