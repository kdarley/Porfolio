{
 "cells": [
  {
   "cell_type": "markdown",
   "metadata": {},
   "source": [
    "# Free Mobile App Usage\n",
    "\n",
    "In this project our goal is to identify profitable mobile application profiles that we can use to inform our development team's future efforts. Our company only builds apps that are free to download and install, and our main source of revenue is accrued from advertiser payments via in-app ads. This means that the number of active users of our apps determines our revenue — the more users who see and engage with the ads, the better. There may be other considerations, such as the likelihood for new apps to successfully penetrate a market category, that we can use to balance our recommendations. \n",
    "\n",
    "We will use two data sources for our analysis. One containing Apple App Store Data, and the other Google Play Store Data. These can be downloaded at the below links.\n",
    "* [Apple App Store Dataset](https://www.kaggle.com/ramamet4/app-store-apple-data-set-10k-apps)\n",
    "* [Google Play Store Dataset](https://www.kaggle.com/lava18/google-play-store-apps)\n",
    "\n",
    "### Summary of Results\n",
    "\n",
    "The middle to mid-high end of the road in average installs and total frequency of apps in the category/genre is most attractive. We see a few categories/genres that meet this criteria across marketplaces:\n",
    "* Video Players & Editors\n",
    "* Photography\n",
    "* Entertainment\n",
    "* Books and Reference\n",
    "\n",
    "## Data Exploration"
   ]
  },
  {
   "cell_type": "code",
   "execution_count": 1,
   "metadata": {},
   "outputs": [],
   "source": [
    "# read in datasets\n",
    "from csv import reader\n",
    "\n",
    "handle_apple = open('AppleStore.csv')\n",
    "read_apple = reader(handle_apple)\n",
    "apple_app_data = list(read_apple)\n",
    "apple_headers = apple_app_data[0]\n",
    "\n",
    "handle_google = open('googleplaystore.csv')\n",
    "read_google = reader(handle_google)\n",
    "google_app_data = list(read_google)\n",
    "google_headers = google_app_data[0]"
   ]
  },
  {
   "cell_type": "markdown",
   "metadata": {},
   "source": [
    "To make requerying our data simpler, let's create a function that allows us to select our dataset, query rows, and optionally print the number of rows/columns in the data set."
   ]
  },
  {
   "cell_type": "code",
   "execution_count": 2,
   "metadata": {},
   "outputs": [],
   "source": [
    "# function that prints each row of a list of lists and tells us the number of rows and columns\n",
    "def explore_data(dataset, start, end, rows_and_columns=False):\n",
    "    dataset_slice = dataset[start:end]    \n",
    "    for row in dataset_slice:\n",
    "        print(row)\n",
    "        \n",
    "    print('\\n')#print('\\n') # adds a new (empty) line \n",
    "    \n",
    "    if rows_and_columns:\n",
    "        print('Number of rows:', len(dataset))\n",
    "        print('Number of columns:', len(dataset[0]))"
   ]
  },
  {
   "cell_type": "markdown",
   "metadata": {},
   "source": [
    "___\n",
    "Test pull of the datasets using the custom function."
   ]
  },
  {
   "cell_type": "code",
   "execution_count": 3,
   "metadata": {},
   "outputs": [
    {
     "name": "stdout",
     "output_type": "stream",
     "text": [
      "Column Names\n",
      "Apple:\n",
      "['id', 'track_name', 'size_bytes', 'currency', 'price', 'rating_count_tot', 'rating_count_ver', 'user_rating', 'user_rating_ver', 'ver', 'cont_rating', 'prime_genre', 'sup_devices.num', 'ipadSc_urls.num', 'lang.num', 'vpp_lic']\n",
      "\n",
      "\n",
      "Google:\n",
      "['App', 'Category', 'Rating', 'Reviews', 'Size', 'Installs', 'Type', 'Price', 'Content Rating', 'Genres', 'Last Updated', 'Current Ver', 'Android Ver']\n",
      "\n",
      "\n",
      "Data\n",
      "Apple Store\n",
      "['284882215', 'Facebook', '389879808', 'USD', '0.0', '2974676', '212', '3.5', '3.5', '95.0', '4+', 'Social Networking', '37', '1', '29', '1']\n",
      "['389801252', 'Instagram', '113954816', 'USD', '0.0', '2161558', '1289', '4.5', '4.0', '10.23', '12+', 'Photo & Video', '37', '0', '29', '1']\n",
      "['529479190', 'Clash of Clans', '116476928', 'USD', '0.0', '2130805', '579', '4.5', '4.5', '9.24.12', '9+', 'Games', '38', '5', '18', '1']\n",
      "['420009108', 'Temple Run', '65921024', 'USD', '0.0', '1724546', '3842', '4.5', '4.0', '1.6.2', '9+', 'Games', '40', '5', '1', '1']\n",
      "\n",
      "\n",
      "Number of rows: 7198\n",
      "Number of columns: 16\n",
      "\n",
      "\n",
      "Google Play\n",
      "['Photo Editor & Candy Camera & Grid & ScrapBook', 'ART_AND_DESIGN', '4.1', '159', '19M', '10,000+', 'Free', '0', 'Everyone', 'Art & Design', 'January 7, 2018', '1.0.0', '4.0.3 and up']\n",
      "['Coloring book moana', 'ART_AND_DESIGN', '3.9', '967', '14M', '500,000+', 'Free', '0', 'Everyone', 'Art & Design;Pretend Play', 'January 15, 2018', '2.0.0', '4.0.3 and up']\n",
      "['U Launcher Lite – FREE Live Cool Themes, Hide Apps', 'ART_AND_DESIGN', '4.7', '87510', '8.7M', '5,000,000+', 'Free', '0', 'Everyone', 'Art & Design', 'August 1, 2018', '1.2.4', '4.0.3 and up']\n",
      "['Sketch - Draw & Paint', 'ART_AND_DESIGN', '4.5', '215644', '25M', '50,000,000+', 'Free', '0', 'Teen', 'Art & Design', 'June 8, 2018', 'Varies with device', '4.2 and up']\n",
      "\n",
      "\n",
      "Number of rows: 10842\n",
      "Number of columns: 13\n",
      "\n",
      "\n"
     ]
    }
   ],
   "source": [
    "# print the column names and a sample of the data from our two datasets\n",
    "print('Column Names')\n",
    "\n",
    "print('Apple:')\n",
    "explore_data(apple_app_data, 0, 1, False)\n",
    "print('Google:')\n",
    "explore_data(google_app_data, 0, 1, False)\n",
    "\n",
    "print('Data')\n",
    "print('Apple Store')\n",
    "explore_data(apple_app_data, 1, 5, True)\n",
    "print('\\n')\n",
    "\n",
    "print('Google Play')\n",
    "explore_data(google_app_data,1 ,5, True)\n",
    "print('\\n')"
   ]
  },
  {
   "cell_type": "markdown",
   "metadata": {},
   "source": [
    "The Apple App store dataset consists of 16 columns and 7198 rows of data. There is a mixture of numeric and descriptive columns.\n",
    "\n",
    "The Google Play store dataset consists of 13 columns and 10842 rows of data. There is a mixture of numeric and descriptive columns. \n",
    "\n",
    "There is an overlap in the columns of data that will allow us to compare the rows across the datasets. Those that will likely be the most important for this analysis are those that tell us the name of the app, (sub)categories, price, number of users and rating/reviews."
   ]
  },
  {
   "cell_type": "markdown",
   "metadata": {},
   "source": [
    "## Data Clean-up\n",
    "We will want to ensure that the datasets are cleaned before we conduct an analysis. \n",
    "\n",
    "### Handling Missing Data - Google Play\n",
    "\n",
    "Let's first evaluate and clean the Google Play dataset. We found online discussion on the Google dataset about [missing data](https://www.kaggle.com/lava18/google-play-store-apps/discussion/66015). Let's recreate this and decide on a course of action."
   ]
  },
  {
   "cell_type": "code",
   "execution_count": 4,
   "metadata": {},
   "outputs": [
    {
     "name": "stdout",
     "output_type": "stream",
     "text": [
      "['Life Made WI-Fi Touchscreen Photo Frame', '1.9', '19', '3.0M', '1,000+', 'Free', '0', 'Everyone', '', 'February 11, 2018', '1.0.19', '4.0 and up']\n",
      "\n",
      "\n"
     ]
    }
   ],
   "source": [
    "explore_data(google_app_data,10473, 10474, False) #Missing data at entry 10473"
   ]
  },
  {
   "cell_type": "markdown",
   "metadata": {},
   "source": [
    "There is a column with a blank entry. Let's opt to delete the entire row with missing data."
   ]
  },
  {
   "cell_type": "code",
   "execution_count": 5,
   "metadata": {},
   "outputs": [
    {
     "name": "stdout",
     "output_type": "stream",
     "text": [
      "['Xposed Wi-Fi-Pwd', 'PERSONALIZATION', '3.5', '1042', '404k', '100,000+', 'Free', '0', 'Everyone', 'Personalization', 'August 5, 2014', '3.0.0', '4.0.3 and up']\n",
      "['osmino Wi-Fi: free WiFi', 'TOOLS', '4.2', '134203', '4.1M', '10,000,000+', 'Free', '0', 'Everyone', 'Tools', 'August 7, 2018', '6.06.14', '4.4 and up']\n",
      "['Sat-Fi Voice', 'COMMUNICATION', '3.4', '37', '14M', '1,000+', 'Free', '0', 'Everyone', 'Communication', 'November 21, 2014', '2.2.1.5', '2.2 and up']\n",
      "\n",
      "\n"
     ]
    }
   ],
   "source": [
    "# delete row\n",
    "del google_app_data[10473]\n",
    "\n",
    "# verify the app row was removed\n",
    "explore_data(google_app_data,10472,10475,False)"
   ]
  },
  {
   "cell_type": "markdown",
   "metadata": {},
   "source": [
    "### Handling Duplicate Rows - Google Play\n",
    "There may be rows that are a duplicate of eachother. Let's first identify which rows those are and then decide how to handle them."
   ]
  },
  {
   "cell_type": "code",
   "execution_count": 6,
   "metadata": {},
   "outputs": [
    {
     "name": "stdout",
     "output_type": "stream",
     "text": [
      "Total Duplicate Apps:  1181\n",
      "\n",
      "\n",
      "Sample Duplicate Apps:  ['Quick PDF Scanner + OCR FREE', 'Box', 'Google My Business', 'ZOOM Cloud Meetings', 'join.me - Simple Meetings', 'Box', 'Zenefits', 'Google Ads', 'Google My Business', 'Slack', 'FreshBooks Classic', 'Insightly CRM', 'QuickBooks Accounting: Invoicing & Expenses', 'HipChat - Chat Built for Teams', 'Xero Accounting Software']\n"
     ]
    }
   ],
   "source": [
    "# loop through the names of the apps and add them to a list if they are a duplicate\n",
    "\n",
    "unique_apps = []\n",
    "duplicate_apps = []\n",
    "\n",
    "for app in google_app_data:\n",
    "    name = app[0]\n",
    "    if name in unique_apps:\n",
    "        duplicate_apps.append(name)\n",
    "    else :\n",
    "        unique_apps.append(name)\n",
    "        \n",
    "print('Total Duplicate Apps: ', len(duplicate_apps))\n",
    "print('\\n')\n",
    "print('Sample Duplicate Apps: ', duplicate_apps[:15])\n",
    "        "
   ]
  },
  {
   "cell_type": "markdown",
   "metadata": {},
   "source": [
    "There are 1181 duplicate apps in the Google Dataset. Let's test a hypothesis that there is a variance in the number of reviews, which is a column that is likely to have change over time."
   ]
  },
  {
   "cell_type": "code",
   "execution_count": 7,
   "metadata": {},
   "outputs": [
    {
     "name": "stdout",
     "output_type": "stream",
     "text": [
      "['Instagram', 'SOCIAL', '4.5', '66577313', 'Varies with device', '1,000,000,000+', 'Free', '0', 'Teen', 'Social', 'July 31, 2018', 'Varies with device', 'Varies with device']\n",
      "['Instagram', 'SOCIAL', '4.5', '66577446', 'Varies with device', '1,000,000,000+', 'Free', '0', 'Teen', 'Social', 'July 31, 2018', 'Varies with device', 'Varies with device']\n",
      "['Instagram', 'SOCIAL', '4.5', '66577313', 'Varies with device', '1,000,000,000+', 'Free', '0', 'Teen', 'Social', 'July 31, 2018', 'Varies with device', 'Varies with device']\n",
      "['Instagram', 'SOCIAL', '4.5', '66509917', 'Varies with device', '1,000,000,000+', 'Free', '0', 'Teen', 'Social', 'July 31, 2018', 'Varies with device', 'Varies with device']\n"
     ]
    }
   ],
   "source": [
    "for app in google_app_data:\n",
    "    name = app[0]\n",
    "    if name == 'Instagram':\n",
    "        print(app)"
   ]
  },
  {
   "cell_type": "markdown",
   "metadata": {},
   "source": [
    "Our test showed that duplicate apps have a variance in their total reviews (column 4), which we can assume means that each record is a snapshot in time. Using this information, we will keep apps that have the greatest number of reviews, indicating their recency, and remove all other duplicates.\n",
    "\n",
    "To clean our data of duplicates, we will create a dictionary where each key is a unique app name and the corresponding dictionary value is the highest number of reviews of that app. We expect to see 9659 value key pairs in the dictionary, which we found by subtracting the number of duplicates from the total number of apps."
   ]
  },
  {
   "cell_type": "code",
   "execution_count": 8,
   "metadata": {},
   "outputs": [
    {
     "name": "stdout",
     "output_type": "stream",
     "text": [
      "9659\n"
     ]
    }
   ],
   "source": [
    "reviews_max = {}\n",
    "\n",
    "for row in google_app_data[1:]:\n",
    "    name = row[0]\n",
    "    n_reviews = float(row[3])\n",
    "    if name in reviews_max and reviews_max[name] < n_reviews:\n",
    "        reviews_max[name] = n_reviews\n",
    "    elif name not in reviews_max:\n",
    "        reviews_max[name] = n_reviews\n",
    "\n",
    "print(len(reviews_max))"
   ]
  },
  {
   "cell_type": "markdown",
   "metadata": {},
   "source": [
    "We now have a dictionary of all unique apps names and their corresponding number of reviews for the duplicate value containing the most reviews. We can use this dictionary to clean our dataset of duplicates.\n",
    "\n",
    "We do this by creating two empty lists, looping through the dataset and checking if each value matches the key-value from the previous step's dictionary (which found and isolated the maximum value for each key in the dataset.) One list saves the row that has a match with the dictionary value and the other saves the name of each app that already has a recorded value in the 'clean' list, telling our program to ignore that entry."
   ]
  },
  {
   "cell_type": "code",
   "execution_count": 9,
   "metadata": {},
   "outputs": [],
   "source": [
    "googleplay_clean = []\n",
    "already_added = []\n",
    "\n",
    "for row in google_app_data[1:]:\n",
    "    name = row[0]\n",
    "    n_reviews = float(row[3])\n",
    "    #key_value = reviews_max[name]\n",
    "    if name not in already_added and float(reviews_max[name]) == float(n_reviews):\n",
    "        already_added.append(name)\n",
    "        googleplay_clean.append(row)"
   ]
  },
  {
   "cell_type": "markdown",
   "metadata": {},
   "source": [
    "Let's check that our dataset has been changed. Explore the new dataset __googleplay_clean__, which is a version of the original dataset with incomplete and duplicate entries removed. From steps we completed earlier, we expect to see a count of 9659 rows in the list. "
   ]
  },
  {
   "cell_type": "code",
   "execution_count": 10,
   "metadata": {},
   "outputs": [
    {
     "name": "stdout",
     "output_type": "stream",
     "text": [
      "['Photo Editor & Candy Camera & Grid & ScrapBook', 'ART_AND_DESIGN', '4.1', '159', '19M', '10,000+', 'Free', '0', 'Everyone', 'Art & Design', 'January 7, 2018', '1.0.0', '4.0.3 and up']\n",
      "['U Launcher Lite – FREE Live Cool Themes, Hide Apps', 'ART_AND_DESIGN', '4.7', '87510', '8.7M', '5,000,000+', 'Free', '0', 'Everyone', 'Art & Design', 'August 1, 2018', '1.2.4', '4.0.3 and up']\n",
      "['Sketch - Draw & Paint', 'ART_AND_DESIGN', '4.5', '215644', '25M', '50,000,000+', 'Free', '0', 'Teen', 'Art & Design', 'June 8, 2018', 'Varies with device', '4.2 and up']\n",
      "\n",
      "\n",
      "Number of rows: 9659\n",
      "Number of columns: 13\n"
     ]
    }
   ],
   "source": [
    "explore_data(googleplay_clean, 0, 3, True)"
   ]
  },
  {
   "cell_type": "markdown",
   "metadata": {},
   "source": [
    "We see that the number of rows is reflective of our expectation."
   ]
  },
  {
   "cell_type": "markdown",
   "metadata": {},
   "source": [
    "### Handling Duplicate Rows - Apple App Store\n",
    "Let's check if the Apple App Store dataset contains duplicate rows."
   ]
  },
  {
   "cell_type": "code",
   "execution_count": 11,
   "metadata": {},
   "outputs": [
    {
     "name": "stdout",
     "output_type": "stream",
     "text": [
      "7197\n",
      "0\n"
     ]
    }
   ],
   "source": [
    "unique_apps = []\n",
    "duplicate_apps = []\n",
    "\n",
    "#print(apple_app_data[0])\n",
    "for row in apple_app_data[1:]:\n",
    "    app_id = row[0]\n",
    "    if app_id not in unique_apps:\n",
    "        unique_apps.append(app_id)\n",
    "    else :\n",
    "        duplicate_apps.append(app_id)\n",
    "        \n",
    "print(len(unique_apps))\n",
    "print(len(duplicate_apps))\n"
   ]
  },
  {
   "cell_type": "markdown",
   "metadata": {},
   "source": [
    "These results tell us that there are no duplicate apps in the apple dataset."
   ]
  },
  {
   "cell_type": "markdown",
   "metadata": {},
   "source": [
    "### Non-English Apps\n",
    "Both the Apple app store and the Google Play store have applications created for Enlish speaking and Non-Enlish speaking audiences. Our business, however, only develops applications for an English speaking audience. It will make sense to remove these where reasonably possible. Let's explore apps that are not made for English speaking audiences and make decisions on how to remove them."
   ]
  },
  {
   "cell_type": "code",
   "execution_count": 12,
   "metadata": {},
   "outputs": [
    {
     "name": "stdout",
     "output_type": "stream",
     "text": [
      "爱奇艺PPS -《欢乐颂2》电视剧热播\n",
      "【脱出ゲーム】絶対に最後までプレイしないで 〜謎解き＆ブロックパズル〜\n",
      "\n",
      "\n",
      "中国語 AQリスニング\n",
      "لعبة تقدر تربح DZ\n"
     ]
    }
   ],
   "source": [
    "# print app names from Google and Apple\n",
    "print(apple_app_data[814][1])\n",
    "print(apple_app_data[6732][1])\n",
    "print('\\n')\n",
    "print(googleplay_clean[4412][0])\n",
    "print(googleplay_clean[7940][0])"
   ]
  },
  {
   "cell_type": "markdown",
   "metadata": {},
   "source": [
    "Using the `ord()` function we can identify which apps contain characters typically not found in use with the English language. English characters fall in the range (0-127)."
   ]
  },
  {
   "cell_type": "code",
   "execution_count": 13,
   "metadata": {},
   "outputs": [
    {
     "name": "stdout",
     "output_type": "stream",
     "text": [
      "97\n",
      "29233\n"
     ]
    }
   ],
   "source": [
    "# show examples of unicode characters in and out of ord range\n",
    "print(ord('a'))\n",
    "print(ord('爱'))"
   ]
  },
  {
   "cell_type": "markdown",
   "metadata": {},
   "source": [
    "We can parse out the names of our app names and evaluate each character. By passing each character into a function, we can tell whether or not the fall into the English unicode character range (0-127). We can use discretion to say that if there are more than three non-English unicode characters that app is not likely for the English market. "
   ]
  },
  {
   "cell_type": "code",
   "execution_count": 14,
   "metadata": {},
   "outputs": [
    {
     "name": "stdout",
     "output_type": "stream",
     "text": [
      "True\n",
      "False\n",
      "True\n",
      "True\n"
     ]
    }
   ],
   "source": [
    "# Function that takes in a string and returns `False` if there's three or more non-English characters\n",
    "def english(string) :\n",
    "    count = 0\n",
    "    for letter in string :\n",
    "        if ord(letter) > 127 :\n",
    "            count = count + 1\n",
    "        #print(letter, count)\n",
    "        if count > 3 :\n",
    "            return False\n",
    "    return True\n",
    "\n",
    "# examples of the function working\n",
    "print(english('Instagram'))\n",
    "print(english('爱奇艺PPS -《欢乐颂2》电视剧热播'))\n",
    "print(english('Docs To Go™ Free Office Suite'))\n",
    "print(english('Instachat 😜'))"
   ]
  },
  {
   "cell_type": "markdown",
   "metadata": {},
   "source": [
    "We can now loop through both of our entire datasets and, using the function above, systematically remove every app that is not for the English market."
   ]
  },
  {
   "cell_type": "code",
   "execution_count": 15,
   "metadata": {},
   "outputs": [
    {
     "name": "stdout",
     "output_type": "stream",
     "text": [
      "Count English Google Play Length:  9614\n",
      "Count Non-English Google Play Length:  45\n",
      "Count English Apple Length:  6183\n",
      "Count Non-English Apple Length:  1014\n"
     ]
    }
   ],
   "source": [
    "# loop through the Google Play dataset and categorize apps into english and non-english lists\n",
    "googleplay_eng = []\n",
    "googleplay_non_eng = []\n",
    "\n",
    "for app in googleplay_clean:\n",
    "    name = app[0]\n",
    "    if english(name) is True :\n",
    "        googleplay_eng.append(app)\n",
    "    else :\n",
    "        googleplay_non_eng.append(app)\n",
    "\n",
    "print('Count English Google Play Length: ', len(googleplay_eng))\n",
    "print('Count Non-English Google Play Length: ', len(googleplay_non_eng))\n",
    "\n",
    "# loop through the Apple dataset and categorize apps into english and non-english lists\n",
    "apple_eng = []\n",
    "apple_non_eng = []\n",
    "\n",
    "apple_app_data = apple_app_data[1:]\n",
    "\n",
    "for app in apple_app_data:\n",
    "    name = app[1]\n",
    "    if english(name) is True :\n",
    "        apple_eng.append(app)\n",
    "    else :\n",
    "        apple_non_eng.append(app)\n",
    "        \n",
    "print('Count English Apple Length: ', len(apple_eng))\n",
    "print('Count Non-English Apple Length: ', len(apple_non_eng))"
   ]
  },
  {
   "cell_type": "markdown",
   "metadata": {},
   "source": [
    "Before moving on, let's do a quick gut-check that the apps in non-English list are non-English."
   ]
  },
  {
   "cell_type": "code",
   "execution_count": 16,
   "metadata": {
    "scrolled": true
   },
   "outputs": [
    {
     "name": "stdout",
     "output_type": "stream",
     "text": [
      "Google Play\n",
      "[['Flame - درب عقلك يوميا', 'EDUCATION', '4.6', '56065', '37M', '1,000,000+', 'Free', '0', 'Everyone', 'Education', 'July 26, 2018', '3.3', '4.1 and up'], ['သိင်္ Astrology - Min Thein Kha BayDin', 'LIFESTYLE', '4.7', '2225', '15M', '100,000+', 'Free', '0', 'Everyone', 'Lifestyle', 'July 26, 2018', '4.2.1', '4.0.3 and up'], ['РИА Новости', 'NEWS_AND_MAGAZINES', '4.5', '44274', '8.0M', '1,000,000+', 'Free', '0', 'Everyone', 'News & Magazines', 'August 6, 2018', '4.0.6', '4.4 and up'], ['صور حرف H', 'ART_AND_DESIGN', '4.4', '13', '4.5M', '1,000+', 'Free', '0', 'Everyone', 'Art & Design', 'March 27, 2018', '2.0', '4.0.3 and up'], ['L.POINT - 엘포인트 [ 포인트, 멤버십, 적립, 사용, 모바일 카드, 쿠폰, 롯데]', 'LIFESTYLE', '4.0', '45224', '49M', '5,000,000+', 'Free', '0', 'Everyone', 'Lifestyle', 'August 1, 2018', '6.5.1', '4.1 and up']]\n",
      "\n",
      "\n",
      "Apple\n",
      "[['445375097', '爱奇艺PPS -《欢乐颂2》电视剧热播', '224617472', 'USD', '0.0', '14844', '0', '4.0', '0.0', '6.3.3', '17+', 'Entertainment', '38', '5', '3', '1'], ['405667771', '聚力视频HD-人民的名义,跨界歌王全网热播', '90725376', 'USD', '0.0', '7446', '8', '4.0', '4.5', '5.0.8', '12+', 'Entertainment', '24', '4', '1', '1'], ['336141475', '优酷视频', '204959744', 'USD', '0.0', '4885', '0', '3.5', '0.0', '6.7.0', '12+', 'Entertainment', '38', '0', '2', '1'], ['425349261', '网易新闻 - 精选好内容，算出你的兴趣', '133134336', 'USD', '0.0', '4263', '6', '4.5', '1.0', '23.2', '17+', 'News', '37', '4', '2', '1'], ['387682726', '淘宝 - 随时随地，想淘就淘', '309673984', 'USD', '0.0', '3801', '6', '4.0', '4.0', '6.7.2', '4+', 'Shopping', '37', '1', '1', '1']]\n"
     ]
    }
   ],
   "source": [
    "print('Google Play')\n",
    "print(googleplay_non_eng[0:5])\n",
    "print('\\n')\n",
    "print('Apple')\n",
    "print(apple_non_eng[0:5])"
   ]
  },
  {
   "cell_type": "markdown",
   "metadata": {},
   "source": [
    "### Removing Non-Free Apps\n",
    "Our business develops apps that are free to download and use, but generate ad revenue from in-app ads. The characteristics for paid and free apps can be quite different. Let's now filter both of our datasets to only include free apps."
   ]
  },
  {
   "cell_type": "code",
   "execution_count": 17,
   "metadata": {},
   "outputs": [
    {
     "name": "stdout",
     "output_type": "stream",
     "text": [
      "[['284882215', 'Facebook', '389879808', 'USD', '0.0', '2974676', '212', '3.5', '3.5', '95.0', '4+', 'Social Networking', '37', '1', '29', '1'], ['389801252', 'Instagram', '113954816', 'USD', '0.0', '2161558', '1289', '4.5', '4.0', '10.23', '12+', 'Photo & Video', '37', '0', '29', '1'], ['529479190', 'Clash of Clans', '116476928', 'USD', '0.0', '2130805', '579', '4.5', '4.5', '9.24.12', '9+', 'Games', '38', '5', '18', '1']]\n",
      "3222\n",
      "\n",
      "\n",
      "[['Photo Editor & Candy Camera & Grid & ScrapBook', 'ART_AND_DESIGN', '4.1', '159', '19M', '10,000+', 'Free', '0', 'Everyone', 'Art & Design', 'January 7, 2018', '1.0.0', '4.0.3 and up'], ['U Launcher Lite – FREE Live Cool Themes, Hide Apps', 'ART_AND_DESIGN', '4.7', '87510', '8.7M', '5,000,000+', 'Free', '0', 'Everyone', 'Art & Design', 'August 1, 2018', '1.2.4', '4.0.3 and up'], ['Sketch - Draw & Paint', 'ART_AND_DESIGN', '4.5', '215644', '25M', '50,000,000+', 'Free', '0', 'Teen', 'Art & Design', 'June 8, 2018', 'Varies with device', '4.2 and up']]\n",
      "8863\n"
     ]
    }
   ],
   "source": [
    "# loop through Google Play dataset and filter free and paid apps into separate lists\n",
    "googleplay_free = []\n",
    "googleplay_paid = []\n",
    "\n",
    "for app in googleplay_eng:\n",
    "    cost = app[6]\n",
    "    if cost == 'Free':\n",
    "        googleplay_free.append(app)\n",
    "    else:\n",
    "        googleplay_paid.append(app)\n",
    "\n",
    "# loop through apple dataset and filter free and paid apps into separate lists\n",
    "apple_free = []\n",
    "apple_paid = []\n",
    "\n",
    "for app in apple_eng:\n",
    "    cost = app[4]\n",
    "    if cost == '0.0':\n",
    "        apple_free.append(app)\n",
    "    else:\n",
    "        apple_paid.append(app)\n",
    "\n",
    "# check that both datasets only contain free apps\n",
    "print(apple_free[0:3])\n",
    "print(len(apple_free))\n",
    "print('\\n')\n",
    "print(googleplay_free[0:3])\n",
    "print(len(googleplay_free))"
   ]
  },
  {
   "cell_type": "markdown",
   "metadata": {},
   "source": [
    "## App Category Analysis\n",
    "Our end goal is to develop an app that is successful on both Google Play and Apple App Store marketplaces. Stakeholders most important success metric is revenue, and we know the KPI that most directly impacts revenue are the number of installs our apps have on the marketplace.\n",
    "\n",
    "To minimize risks and overhead, the business's validation strategy for an app idea has three steps:\n",
    "\n",
    "1. Build a minimal Android version of the app, and add it to Google Play.\n",
    "2. If the app has a good response from users, we develop it further.\n",
    "3. If the app is profitable after six months, we build an iOS version of the app and add it to the App Store.\n",
    "\n",
    "Our analysis will follow a similar structure. First validating Google Play app category performance and then finding where within the iOS apple app store there is opportunity.\n",
    "### Identifying Most Relevant Columns\n",
    "Our Google Play dataset consists of 16 columns and our Apple App Store dataset consists of 13 columns of data, not all of which may be useful in this analysis.\n",
    "\n",
    "Let's print out our columns and identify key columns."
   ]
  },
  {
   "cell_type": "code",
   "execution_count": 18,
   "metadata": {},
   "outputs": [
    {
     "name": "stdout",
     "output_type": "stream",
     "text": [
      "Google Play: \n",
      "['App', 'Category', 'Rating', 'Reviews', 'Size', 'Installs', 'Type', 'Price', 'Content Rating', 'Genres', 'Last Updated', 'Current Ver', 'Android Ver']\n",
      "\n",
      "\n",
      "Apple: \n",
      "['id', 'track_name', 'size_bytes', 'currency', 'price', 'rating_count_tot', 'rating_count_ver', 'user_rating', 'user_rating_ver', 'ver', 'cont_rating', 'prime_genre', 'sup_devices.num', 'ipadSc_urls.num', 'lang.num', 'vpp_lic']\n"
     ]
    }
   ],
   "source": [
    "print('Google Play: ')\n",
    "print(google_headers)\n",
    "print('\\n')\n",
    "print('Apple: ')\n",
    "print(apple_headers)"
   ]
  },
  {
   "cell_type": "markdown",
   "metadata": {},
   "source": [
    "The columns that will be useful in further analysis are:\n",
    "* __Google Play__\n",
    " * `Category`\n",
    " * `Genres`\n",
    " * `Installs`\n",
    "\n",
    "* __Apple App Store__\n",
    " * `prime_genre`\n",
    " * `rating_count_tot`\n",
    "\n",
    "The Google Play dataset contains our primary KPI, count of app installs, however our Apple App Store data does not. As a proxy for installs, we can use the `rating_count_tot` which will tell us how many times an app was reviewed. We can fairly assume that app installs and count of reviews is correlated."
   ]
  },
  {
   "cell_type": "markdown",
   "metadata": {},
   "source": [
    "### Count of Apps in Google Play Categories\n",
    "\n",
    "One indicator that a category is lucrative for other app developers and that the category may be accepting of new app entrants, is the number of apps currently in a category.\n",
    "\n",
    "Let's create frequency tables of our Google Play dataset."
   ]
  },
  {
   "cell_type": "code",
   "execution_count": 19,
   "metadata": {},
   "outputs": [],
   "source": [
    "# function that takes in a dataset and creates a normalized frequency table of the given index\n",
    "def freq_table(dataset, index):\n",
    "    frequency_table = {}\n",
    "    total = 0\n",
    "    \n",
    "    # generates a frequency table\n",
    "    for row in dataset:\n",
    "        target = row[index]\n",
    "        if target in frequency_table:\n",
    "            frequency_table[target] += 1\n",
    "            total += 1\n",
    "        else :\n",
    "            frequency_table[target] = 1\n",
    "            total += 1\n",
    "    \n",
    "    # normalizes a frequency table\n",
    "    for value in frequency_table:\n",
    "        key_val = frequency_table[value]\n",
    "        percentage = round(((key_val / total) * 100), 2)\n",
    "        frequency_table[value] = percentage\n",
    "        #one_hundred_percent = one_hundred_percent + percentage\n",
    "    \n",
    "           \n",
    "    return frequency_table#, round(one_hundred_percent)"
   ]
  },
  {
   "cell_type": "markdown",
   "metadata": {},
   "source": [
    "To make our frequency table more readable, it will be easier to transform it into a table. Let's create a function that will do that next."
   ]
  },
  {
   "cell_type": "code",
   "execution_count": 20,
   "metadata": {},
   "outputs": [],
   "source": [
    "def display_table(dataset, index): #dataset is a list of lists and index will be an integer\n",
    "    table = freq_table(dataset, index) # use freq_table function\n",
    "    table_display = [] \n",
    "    \n",
    "    #transforms the frequency tables into a list of tuples\n",
    "    for key in table: \n",
    "        key_val_as_tuple = (table[key], key) # turns key values into a tuple in reverse order \n",
    "        table_display.append(key_val_as_tuple) # appends tuple to list\n",
    "        \n",
    "    #takes our complete list and sorts it in reverse (descending) order\n",
    "    table_sorted = sorted(table_display, reverse = True) \n",
    "    for entry in table_sorted:\n",
    "        print(entry[1], ':', entry[0]) #prints our sorted lists of lists back in key - value form in descending order"
   ]
  },
  {
   "cell_type": "markdown",
   "metadata": {},
   "source": [
    "Let's now use our frequency table on the Genre category in the Google Play dataset."
   ]
  },
  {
   "cell_type": "code",
   "execution_count": 21,
   "metadata": {
    "scrolled": false
   },
   "outputs": [
    {
     "name": "stdout",
     "output_type": "stream",
     "text": [
      "Tools : 8.45\n",
      "Entertainment : 6.07\n",
      "Education : 5.35\n",
      "Business : 4.59\n",
      "Productivity : 3.89\n",
      "Lifestyle : 3.89\n",
      "Finance : 3.7\n",
      "Medical : 3.53\n",
      "Sports : 3.46\n",
      "Personalization : 3.32\n",
      "Communication : 3.24\n",
      "Action : 3.1\n",
      "Health & Fitness : 3.08\n",
      "Photography : 2.94\n",
      "News & Magazines : 2.8\n",
      "Social : 2.66\n",
      "Travel & Local : 2.32\n",
      "Shopping : 2.25\n",
      "Books & Reference : 2.14\n",
      "Simulation : 2.04\n",
      "Dating : 1.86\n",
      "Arcade : 1.85\n",
      "Video Players & Editors : 1.77\n",
      "Casual : 1.76\n",
      "Maps & Navigation : 1.4\n",
      "Food & Drink : 1.24\n",
      "Puzzle : 1.13\n",
      "Racing : 0.99\n",
      "Role Playing : 0.94\n",
      "Libraries & Demo : 0.94\n",
      "Auto & Vehicles : 0.93\n",
      "Strategy : 0.9\n",
      "House & Home : 0.82\n",
      "Weather : 0.8\n",
      "Events : 0.71\n",
      "Adventure : 0.68\n",
      "Comics : 0.61\n",
      "Beauty : 0.6\n",
      "Art & Design : 0.6\n",
      "Parenting : 0.5\n",
      "Card : 0.45\n",
      "Casino : 0.43\n",
      "Trivia : 0.42\n",
      "Educational;Education : 0.39\n",
      "Board : 0.38\n",
      "Educational : 0.37\n",
      "Education;Education : 0.34\n",
      "Word : 0.26\n",
      "Casual;Pretend Play : 0.24\n",
      "Music : 0.2\n",
      "Racing;Action & Adventure : 0.17\n",
      "Puzzle;Brain Games : 0.17\n",
      "Entertainment;Music & Video : 0.17\n",
      "Casual;Brain Games : 0.14\n",
      "Casual;Action & Adventure : 0.14\n",
      "Arcade;Action & Adventure : 0.12\n",
      "Action;Action & Adventure : 0.1\n",
      "Educational;Pretend Play : 0.09\n",
      "Simulation;Action & Adventure : 0.08\n",
      "Parenting;Education : 0.08\n",
      "Entertainment;Brain Games : 0.08\n",
      "Board;Brain Games : 0.08\n",
      "Parenting;Music & Video : 0.07\n",
      "Educational;Brain Games : 0.07\n",
      "Casual;Creativity : 0.07\n",
      "Art & Design;Creativity : 0.07\n",
      "Education;Pretend Play : 0.06\n",
      "Role Playing;Pretend Play : 0.05\n",
      "Education;Creativity : 0.05\n",
      "Role Playing;Action & Adventure : 0.03\n",
      "Puzzle;Action & Adventure : 0.03\n",
      "Entertainment;Creativity : 0.03\n",
      "Entertainment;Action & Adventure : 0.03\n",
      "Educational;Creativity : 0.03\n",
      "Educational;Action & Adventure : 0.03\n",
      "Education;Music & Video : 0.03\n",
      "Education;Brain Games : 0.03\n",
      "Education;Action & Adventure : 0.03\n",
      "Adventure;Action & Adventure : 0.03\n",
      "Video Players & Editors;Music & Video : 0.02\n",
      "Sports;Action & Adventure : 0.02\n",
      "Simulation;Pretend Play : 0.02\n",
      "Puzzle;Creativity : 0.02\n",
      "Music;Music & Video : 0.02\n",
      "Entertainment;Pretend Play : 0.02\n",
      "Casual;Education : 0.02\n",
      "Board;Action & Adventure : 0.02\n",
      "Video Players & Editors;Creativity : 0.01\n",
      "Trivia;Education : 0.01\n",
      "Travel & Local;Action & Adventure : 0.01\n",
      "Tools;Education : 0.01\n",
      "Strategy;Education : 0.01\n",
      "Strategy;Creativity : 0.01\n",
      "Strategy;Action & Adventure : 0.01\n",
      "Simulation;Education : 0.01\n",
      "Role Playing;Brain Games : 0.01\n",
      "Racing;Pretend Play : 0.01\n",
      "Puzzle;Education : 0.01\n",
      "Parenting;Brain Games : 0.01\n",
      "Music & Audio;Music & Video : 0.01\n",
      "Lifestyle;Pretend Play : 0.01\n",
      "Lifestyle;Education : 0.01\n",
      "Health & Fitness;Education : 0.01\n",
      "Health & Fitness;Action & Adventure : 0.01\n",
      "Entertainment;Education : 0.01\n",
      "Communication;Creativity : 0.01\n",
      "Comics;Creativity : 0.01\n",
      "Casual;Music & Video : 0.01\n",
      "Card;Action & Adventure : 0.01\n",
      "Books & Reference;Education : 0.01\n",
      "Art & Design;Pretend Play : 0.01\n",
      "Art & Design;Action & Adventure : 0.01\n",
      "Arcade;Pretend Play : 0.01\n",
      "Adventure;Education : 0.01\n"
     ]
    }
   ],
   "source": [
    "display_table(googleplay_free, 9) #Genre"
   ]
  },
  {
   "cell_type": "code",
   "execution_count": 22,
   "metadata": {},
   "outputs": [
    {
     "name": "stdout",
     "output_type": "stream",
     "text": [
      "FAMILY : 18.9\n",
      "GAME : 9.73\n",
      "TOOLS : 8.46\n",
      "BUSINESS : 4.59\n",
      "LIFESTYLE : 3.9\n",
      "PRODUCTIVITY : 3.89\n",
      "FINANCE : 3.7\n",
      "MEDICAL : 3.53\n",
      "SPORTS : 3.4\n",
      "PERSONALIZATION : 3.32\n",
      "COMMUNICATION : 3.24\n",
      "HEALTH_AND_FITNESS : 3.08\n",
      "PHOTOGRAPHY : 2.94\n",
      "NEWS_AND_MAGAZINES : 2.8\n",
      "SOCIAL : 2.66\n",
      "TRAVEL_AND_LOCAL : 2.34\n",
      "SHOPPING : 2.25\n",
      "BOOKS_AND_REFERENCE : 2.14\n",
      "DATING : 1.86\n",
      "VIDEO_PLAYERS : 1.79\n",
      "MAPS_AND_NAVIGATION : 1.4\n",
      "FOOD_AND_DRINK : 1.24\n",
      "EDUCATION : 1.16\n",
      "ENTERTAINMENT : 0.96\n",
      "LIBRARIES_AND_DEMO : 0.94\n",
      "AUTO_AND_VEHICLES : 0.93\n",
      "HOUSE_AND_HOME : 0.82\n",
      "WEATHER : 0.8\n",
      "EVENTS : 0.71\n",
      "PARENTING : 0.65\n",
      "ART_AND_DESIGN : 0.64\n",
      "COMICS : 0.62\n",
      "BEAUTY : 0.6\n"
     ]
    }
   ],
   "source": [
    "display_table(googleplay_free, 1) #Category"
   ]
  },
  {
   "cell_type": "markdown",
   "metadata": {},
   "source": [
    "By counting the apps within Google Play Categories and Genres we see:\n",
    "1) The most common app genres are 'Tools', 'Entertainment', 'Education', and 'Business'<br>\n",
    "2) The most common app categories are 'Family', 'Game', 'Tools', and 'Business'<br>\n",
    "3) There is a hierarchy in how categories and genres are classified, categories being higher level and genres falling beneath them. This may be useful in future analysis.\n",
    "\n",
    "Whichever genre we choose, it must also have a chance for success in the Apple App store market. Let's compare our findings here with the count of Apple app store apps prime_genre column.\n",
    "\n",
    "### Count of Apps in Apple App Store Genres"
   ]
  },
  {
   "cell_type": "code",
   "execution_count": 23,
   "metadata": {},
   "outputs": [
    {
     "name": "stdout",
     "output_type": "stream",
     "text": [
      "Games : 58.16\n",
      "Entertainment : 7.88\n",
      "Photo & Video : 4.97\n",
      "Education : 3.66\n",
      "Social Networking : 3.29\n",
      "Shopping : 2.61\n",
      "Utilities : 2.51\n",
      "Sports : 2.14\n",
      "Music : 2.05\n",
      "Health & Fitness : 2.02\n",
      "Productivity : 1.74\n",
      "Lifestyle : 1.58\n",
      "News : 1.33\n",
      "Travel : 1.24\n",
      "Finance : 1.12\n",
      "Weather : 0.87\n",
      "Food & Drink : 0.81\n",
      "Reference : 0.56\n",
      "Business : 0.53\n",
      "Book : 0.43\n",
      "Navigation : 0.19\n",
      "Medical : 0.19\n",
      "Catalogs : 0.12\n"
     ]
    }
   ],
   "source": [
    "display_table(apple_free, 11) #prime_genre"
   ]
  },
  {
   "cell_type": "markdown",
   "metadata": {},
   "source": [
    "From this frequency Table we see:\n",
    "1) The most common app genre is 'Games' representing nearly 60% of the total market. <br>\n",
    "2) The top genres, generally, are more geared towards entertainment and lifestyle."
   ]
  },
  {
   "cell_type": "markdown",
   "metadata": {},
   "source": [
    "Usage behavior seems to vary based on the platform. Generally, Android apps provide utility are more popular on the Google Play marketplace, while popular Apple apps provide some sort of entertainment. This is likely a result of the customizability that each operating system allows it developers to exercise. \n",
    "\n",
    "Considering these tables together:  \n",
    "- The gaming category is a prime target, being the second most popular category on Android and by far the most popular on iOS. The Google play Gaming sub-categories Action, Simulation, Arcade, Causal, and puzzle games are popular. \n",
    "- Entertainment, Education, and utilities/tools are popular apps in both marketplaces. "
   ]
  },
  {
   "cell_type": "markdown",
   "metadata": {},
   "source": [
    "### Estimating Active Users with Installs and Total Reviews\n",
    "To have an idea of which genres of apps have the most users, we can take the `Installs` `[5]` column from our Google Play data and the `rating_count_tot` `[5]` (which is our closest proxy) column from the Apple data set and average across our genres.\n",
    "\n",
    "To accomplish this we will sum installs and total reviews for our each genres.\n",
    "\n",
    "For Google Play, we have install data for our apps, however, we don't have the exact number. The apps fall into buckets with fairly large ranges. For example, an app in the 1,000,000+ category could have 3,000,000 installs or 1,000,000 installs. Therefore, we will need to make assumptions and leave each app rating at their categorical face value. So a 1,000,000+ app will be assumed to have exactly 1,000,000 downloads."
   ]
  },
  {
   "cell_type": "code",
   "execution_count": 24,
   "metadata": {},
   "outputs": [
    {
     "name": "stdout",
     "output_type": "stream",
     "text": [
      "1,000,000+ : 15.73\n",
      "100,000+ : 11.55\n",
      "10,000,000+ : 10.55\n",
      "10,000+ : 10.2\n",
      "1,000+ : 8.39\n",
      "100+ : 6.92\n",
      "5,000,000+ : 6.83\n",
      "500,000+ : 5.56\n",
      "50,000+ : 4.77\n",
      "5,000+ : 4.51\n",
      "10+ : 3.54\n",
      "500+ : 3.25\n",
      "50,000,000+ : 2.3\n",
      "100,000,000+ : 2.13\n",
      "50+ : 1.92\n",
      "5+ : 0.79\n",
      "1+ : 0.51\n",
      "500,000,000+ : 0.27\n",
      "1,000,000,000+ : 0.23\n",
      "0+ : 0.05\n"
     ]
    }
   ],
   "source": [
    "# use the display_table function selecting installs\n",
    "display_table(googleplay_free, 5)"
   ]
  },
  {
   "cell_type": "markdown",
   "metadata": {},
   "source": [
    "The percentage number isn't necessarily important, however the bins are in a format that will not be conducive to analysis techniques. Let's turn these from strings to numbers so we can better sort, analyze and interpret our installation bins."
   ]
  },
  {
   "cell_type": "code",
   "execution_count": 25,
   "metadata": {},
   "outputs": [
    {
     "name": "stdout",
     "output_type": "stream",
     "text": [
      "1000000.0 : 15.73\n",
      "100000.0 : 11.55\n",
      "10000000.0 : 10.55\n",
      "10000.0 : 10.2\n",
      "1000.0 : 8.39\n",
      "100.0 : 6.92\n",
      "5000000.0 : 6.83\n",
      "500000.0 : 5.56\n",
      "50000.0 : 4.77\n",
      "5000.0 : 4.51\n",
      "10.0 : 3.54\n",
      "500.0 : 3.25\n",
      "50000000.0 : 2.3\n",
      "100000000.0 : 2.13\n",
      "50.0 : 1.92\n",
      "5.0 : 0.79\n",
      "1.0 : 0.51\n",
      "500000000.0 : 0.27\n",
      "1000000000.0 : 0.23\n",
      "0.0 : 0.05\n"
     ]
    }
   ],
   "source": [
    "for app in googleplay_free:\n",
    "    installs = app[5]\n",
    "    installs = installs.replace('+','')\n",
    "    installs = installs.replace(',','')\n",
    "    installs = float(installs)\n",
    "    app[5] = installs\n",
    "    \n",
    "# use the display_table function selecting installs\n",
    "display_table(googleplay_free, 5)"
   ]
  },
  {
   "cell_type": "markdown",
   "metadata": {},
   "source": [
    "We can now manipulate install values for our app categories. Let's create a few functions that will allow us to sum the installs for each category and look at averages. "
   ]
  },
  {
   "cell_type": "code",
   "execution_count": 26,
   "metadata": {},
   "outputs": [],
   "source": [
    "# function that takes in a dataset and totals all the values in a designated column by each column\n",
    "def sum_table(dataset, index, sum_col_index):\n",
    "    sum_table = {}\n",
    "    \n",
    "    # generataes the sum table\n",
    "    for row in dataset:\n",
    "        target = row[index]\n",
    "        value = float(row[sum_col_index])\n",
    "        if target in sum_table:\n",
    "            sum_table[target] += value\n",
    "        else: \n",
    "            sum_table[target] = value\n",
    "    return sum_table\n",
    "\n",
    "# function that sorts our sum_table function\n",
    "def sorted_sum_table(dataset, index, sum_col_index, average = False):\n",
    "    table = sum_table(dataset, index, sum_col_index)\n",
    "    display_table = []\n",
    "    \n",
    "    if average is True:\n",
    "        # create frequency table\n",
    "        frequency_table = {}\n",
    "        for row in dataset:\n",
    "            target = row[index]\n",
    "            if target in frequency_table:\n",
    "                frequency_table[target] += 1\n",
    "            else :\n",
    "                frequency_table[target] = 1\n",
    "        \n",
    "        # turns the values in the in table into averages\n",
    "        for sum_key in table:\n",
    "            for count_key in frequency_table:\n",
    "                if sum_key == count_key:\n",
    "                    table[sum_key] = table[sum_key] / frequency_table[count_key]\n",
    "        \n",
    "        # transforms the frequency tables into a list of tuples\n",
    "        for key in table:\n",
    "            key_val_as_tuple = (table[key], key)\n",
    "            display_table.append(key_val_as_tuple)\n",
    "            \n",
    "        # sorts our list\n",
    "        table_sorted = sorted(display_table,reverse = True)\n",
    "\n",
    "        # pretty prints our table\n",
    "        for entry in table_sorted:\n",
    "            print(entry[1], ':', entry[0])\n",
    "\n",
    "    else: \n",
    "        # transforms the frequency tables into a list of tuples\n",
    "        for key in table:\n",
    "            key_val_as_tuple = (table[key], key)\n",
    "            display_table.append(key_val_as_tuple)\n",
    "\n",
    "        # sorts our list\n",
    "        table_sorted = sorted(display_table,reverse = True)\n",
    "\n",
    "        # pretty prints our table\n",
    "        for entry in table_sorted:\n",
    "            print(entry[1], ':', entry[0])"
   ]
  },
  {
   "cell_type": "markdown",
   "metadata": {},
   "source": [
    "Let's look at the average installs for the category and genres of the Google Play dataset. "
   ]
  },
  {
   "cell_type": "code",
   "execution_count": 27,
   "metadata": {},
   "outputs": [
    {
     "name": "stdout",
     "output_type": "stream",
     "text": [
      "COMMUNICATION : 38456119.167247385\n",
      "VIDEO_PLAYERS : 24727872.452830188\n",
      "SOCIAL : 23253652.127118643\n",
      "PHOTOGRAPHY : 17840110.40229885\n",
      "PRODUCTIVITY : 16787331.344927534\n",
      "GAME : 15588015.603248259\n",
      "TRAVEL_AND_LOCAL : 13984077.710144928\n",
      "ENTERTAINMENT : 11640705.88235294\n",
      "TOOLS : 10801391.298666667\n",
      "NEWS_AND_MAGAZINES : 9549178.467741935\n",
      "BOOKS_AND_REFERENCE : 8767811.894736841\n",
      "SHOPPING : 7036877.311557789\n",
      "PERSONALIZATION : 5201482.6122448975\n",
      "WEATHER : 5074486.197183099\n",
      "HEALTH_AND_FITNESS : 4188821.9853479853\n",
      "MAPS_AND_NAVIGATION : 4056941.7741935486\n",
      "FAMILY : 3697848.1731343283\n",
      "SPORTS : 3638640.1428571427\n",
      "ART_AND_DESIGN : 1986335.0877192982\n",
      "FOOD_AND_DRINK : 1924897.7363636363\n",
      "EDUCATION : 1833495.145631068\n",
      "BUSINESS : 1712290.1474201474\n",
      "LIFESTYLE : 1437816.2687861272\n",
      "FINANCE : 1387692.475609756\n",
      "HOUSE_AND_HOME : 1331540.5616438356\n",
      "DATING : 854028.8303030303\n",
      "COMICS : 817657.2727272727\n",
      "AUTO_AND_VEHICLES : 647317.8170731707\n",
      "LIBRARIES_AND_DEMO : 638503.734939759\n",
      "PARENTING : 542603.6206896552\n",
      "BEAUTY : 513151.88679245283\n",
      "EVENTS : 253542.22222222222\n",
      "MEDICAL : 120550.61980830671\n"
     ]
    }
   ],
   "source": [
    "# category average installs\n",
    "sorted_sum_table(googleplay_free, 1, 5, average=True) "
   ]
  },
  {
   "cell_type": "code",
   "execution_count": 28,
   "metadata": {},
   "outputs": [
    {
     "name": "stdout",
     "output_type": "stream",
     "text": [
      "Communication : 38456119.167247385\n",
      "Adventure;Action & Adventure : 35333333.333333336\n",
      "Video Players & Editors : 24947335.796178345\n",
      "Social : 23253652.127118643\n",
      "Arcade : 22888365.48780488\n",
      "Casual : 19569221.602564104\n",
      "Puzzle;Action & Adventure : 18366666.666666668\n",
      "Photography : 17840110.40229885\n",
      "Educational;Action & Adventure : 17016666.666666668\n",
      "Productivity : 16787331.344927534\n",
      "Racing : 15910645.681818182\n",
      "Travel & Local : 14051476.145631067\n",
      "Casual;Action & Adventure : 12916666.666666666\n",
      "Action : 12603588.872727273\n",
      "Strategy : 11339901.3125\n",
      "Tools : 10802461.246995995\n",
      "Tools;Education : 10000000.0\n",
      "Role Playing;Brain Games : 10000000.0\n",
      "Lifestyle;Pretend Play : 10000000.0\n",
      "Casual;Music & Video : 10000000.0\n",
      "Card;Action & Adventure : 10000000.0\n",
      "Adventure;Education : 10000000.0\n",
      "News & Magazines : 9549178.467741935\n",
      "Music : 9445583.333333334\n",
      "Educational;Pretend Play : 9375000.0\n",
      "Puzzle;Brain Games : 9280666.666666666\n",
      "Word : 9094458.695652174\n",
      "Racing;Action & Adventure : 8816666.666666666\n",
      "Books & Reference : 8767811.894736841\n",
      "Puzzle : 8302861.91\n",
      "Video Players & Editors;Music & Video : 7500000.0\n",
      "Shopping : 7036877.311557789\n",
      "Role Playing;Action & Adventure : 7000000.0\n",
      "Casual;Pretend Play : 6957142.857142857\n",
      "Entertainment;Music & Video : 6413333.333333333\n",
      "Action;Action & Adventure : 5888888.888888889\n",
      "Entertainment : 5602792.775092937\n",
      "Education;Brain Games : 5333333.333333333\n",
      "Casual;Creativity : 5333333.333333333\n",
      "Role Playing;Pretend Play : 5275000.0\n",
      "Personalization : 5201482.6122448975\n",
      "Weather : 5074486.197183099\n",
      "Sports;Action & Adventure : 5050000.0\n",
      "Music;Music & Video : 5050000.0\n",
      "Video Players & Editors;Creativity : 5000000.0\n",
      "Adventure : 4922785.333333333\n",
      "Simulation;Action & Adventure : 4857142.857142857\n",
      "Education;Education : 4759517.0\n",
      "Board : 4759209.117647059\n",
      "Sports : 4596842.615635179\n",
      "Educational;Brain Games : 4433333.333333333\n",
      "Health & Fitness : 4188821.9853479853\n",
      "Maps & Navigation : 4056941.7741935486\n",
      "Entertainment;Creativity : 4000000.0\n",
      "Role Playing : 3965645.421686747\n",
      "Card : 3815462.5\n",
      "Trivia : 3475712.7027027025\n",
      "Simulation : 3475484.08839779\n",
      "Casino : 3427910.5263157897\n",
      "Entertainment;Brain Games : 3314285.714285714\n",
      "Arcade;Action & Adventure : 3190909.1818181816\n",
      "Entertainment;Pretend Play : 3000000.0\n",
      "Board;Action & Adventure : 3000000.0\n",
      "Education;Creativity : 2875000.0\n",
      "Entertainment;Action & Adventure : 2333333.3333333335\n",
      "Educational;Creativity : 2333333.3333333335\n",
      "Art & Design : 2122850.9433962265\n",
      "Education;Music & Video : 2033333.3333333333\n",
      "Food & Drink : 1924897.7363636363\n",
      "Education;Pretend Play : 1800000.0\n",
      "Educational;Education : 1737143.142857143\n",
      "Business : 1712290.1474201474\n",
      "Casual;Brain Games : 1425916.6666666667\n",
      "Lifestyle : 1412998.3449275363\n",
      "Finance : 1387692.475609756\n",
      "House & Home : 1331540.5616438356\n",
      "Parenting;Music & Video : 1118333.3333333333\n",
      "Strategy;Creativity : 1000000.0\n",
      "Strategy;Action & Adventure : 1000000.0\n",
      "Racing;Pretend Play : 1000000.0\n",
      "Parenting;Brain Games : 1000000.0\n",
      "Health & Fitness;Action & Adventure : 1000000.0\n",
      "Entertainment;Education : 1000000.0\n",
      "Education;Action & Adventure : 1000000.0\n",
      "Casual;Education : 1000000.0\n",
      "Arcade;Pretend Play : 1000000.0\n",
      "Dating : 854028.8303030303\n",
      "Comics : 831873.1481481482\n",
      "Puzzle;Creativity : 750000.0\n",
      "Auto & Vehicles : 647317.8170731707\n",
      "Libraries & Demo : 638503.734939759\n",
      "Education : 550185.4430379746\n",
      "Simulation;Pretend Play : 550000.0\n",
      "Beauty : 513151.88679245283\n",
      "Strategy;Education : 500000.0\n",
      "Music & Audio;Music & Video : 500000.0\n",
      "Communication;Creativity : 500000.0\n",
      "Art & Design;Pretend Play : 500000.0\n",
      "Parenting : 467977.5\n",
      "Parenting;Education : 452857.14285714284\n",
      "Educational : 411184.8484848485\n",
      "Board;Brain Games : 407142.85714285716\n",
      "Art & Design;Creativity : 285000.0\n",
      "Events : 253542.22222222222\n",
      "Medical : 120550.61980830671\n",
      "Travel & Local;Action & Adventure : 100000.0\n",
      "Puzzle;Education : 100000.0\n",
      "Lifestyle;Education : 100000.0\n",
      "Health & Fitness;Education : 100000.0\n",
      "Art & Design;Action & Adventure : 100000.0\n",
      "Comics;Creativity : 50000.0\n",
      "Books & Reference;Education : 1000.0\n",
      "Simulation;Education : 500.0\n",
      "Trivia;Education : 100.0\n"
     ]
    }
   ],
   "source": [
    "# genre average installs Google Play Store\n",
    "sorted_sum_table(googleplay_free, 9, 5, average=True) "
   ]
  },
  {
   "cell_type": "code",
   "execution_count": 29,
   "metadata": {},
   "outputs": [
    {
     "name": "stdout",
     "output_type": "stream",
     "text": [
      "Navigation : 86090.33333333333\n",
      "Reference : 74942.11111111111\n",
      "Social Networking : 71548.34905660378\n",
      "Music : 57326.530303030304\n",
      "Weather : 52279.892857142855\n",
      "Book : 39758.5\n",
      "Food & Drink : 33333.92307692308\n",
      "Finance : 31467.944444444445\n",
      "Photo & Video : 28441.54375\n",
      "Travel : 28243.8\n",
      "Shopping : 26919.690476190477\n",
      "Health & Fitness : 23298.015384615384\n",
      "Sports : 23008.898550724636\n",
      "Games : 22788.6696905016\n",
      "News : 21248.023255813954\n",
      "Productivity : 21028.410714285714\n",
      "Utilities : 18684.456790123455\n",
      "Lifestyle : 16485.764705882353\n",
      "Entertainment : 14029.830708661417\n",
      "Business : 7491.117647058823\n",
      "Education : 7003.983050847458\n",
      "Catalogs : 4004.0\n",
      "Medical : 612.0\n"
     ]
    }
   ],
   "source": [
    "# genre average installs Apple App Store\n",
    "sorted_sum_table(apple_free, 11, 5, average=True) "
   ]
  },
  {
   "cell_type": "markdown",
   "metadata": {},
   "source": [
    "Social, Video Players & Editors, Photography Apps, Entertainment, and Travel/Navigation/Weather applications received high average installs/proxy installs in both the Google Play and Apple App Store."
   ]
  },
  {
   "cell_type": "markdown",
   "metadata": {},
   "source": [
    "## Conclusion\n",
    "Considering the average app ratings and the frequency distributions for apps together, we get a more complete picture. We want to develop an app that is capable of receiving a decent amount of installs, but we don't want there to be too much or too little competition amongst apps. The gaming category is an example of too much competition leading to market saturation. Gaming is one of the most frequently occuring in both marketplaces, however, the average installs they receive is not very high. This indicates that there are many games that likely get very few new players. On the other hand, a category/genre can be dominated by few very large apps making market penetration difficult. Social apps is an example of this. Social apps has a high average amount of users per app, but few apps generally. Competing in this category will similarly be difficult. \n",
    "\n",
    "The middle to mid-high end of the road in average installs and total frequency of apps in the category/genre is most attractive. We see a few categories/genres that meet this criteria across marketplaces:\n",
    "* Video Players & Editors\n",
    "* Photography\n",
    "* Entertainment\n",
    "* Books and Reference\n",
    "\n",
    "We leave these recommendations to the development team to determine which category to move forward with."
   ]
  }
 ],
 "metadata": {
  "kernelspec": {
   "display_name": "Python 3",
   "language": "python",
   "name": "python3"
  },
  "language_info": {
   "codemirror_mode": {
    "name": "ipython",
    "version": 3
   },
   "file_extension": ".py",
   "mimetype": "text/x-python",
   "name": "python",
   "nbconvert_exporter": "python",
   "pygments_lexer": "ipython3",
   "version": "3.8.5"
  }
 },
 "nbformat": 4,
 "nbformat_minor": 4
}
