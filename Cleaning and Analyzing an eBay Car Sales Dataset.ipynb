{
 "cells": [
  {
   "cell_type": "markdown",
   "metadata": {},
   "source": [
    "# Cleaning and Analyzing an eBay Car Sales Dataset"
   ]
  },
  {
   "cell_type": "markdown",
   "metadata": {},
   "source": [
    "In this project we will explore, clean, and analyze a dataset of used cars from eBay Kleinanzeigen, a classifieds section of the German eBay website."
   ]
  },
  {
   "cell_type": "markdown",
   "metadata": {},
   "source": [
    "Our purpose here is to demonstrate an ability to clean data and we will therefore focus less on thorough analysis."
   ]
  },
  {
   "cell_type": "markdown",
   "metadata": {},
   "source": [
    "A copy of the dataset can be found [here](https://data.world/data-society/used-cars-data). However, this analysis will be completed using a 50,000 row sample that includes modifications for an increased data cleaning challenge."
   ]
  },
  {
   "cell_type": "markdown",
   "metadata": {},
   "source": [
    "# Findings \n",
    "\n",
    "The top 5 most frequently sold brands are all German car brands, which, considering the source of the dataset, is as we might expect. \n",
    "\n",
    "\\\\$2,000 to $8,000 USD appears to be the sweet spot for the used car price point range.\n",
    "\n",
    "There are price point categories we can identify fitting low, medium, and high within the \\\\$2,000 - $8,000 range. Low being around \\\\$3,000, medium around \\\\$5,000 and high around \\\\$8,000. Of the top five brands, one falls in low, Opel, one falls in medium, Volkswagen, and three fall in high-end, BMW, Mercedez Benz, and Audi.\n",
    "\n",
    "There doesn't appear to be a notable odometer variance among brands.\n",
    "\n",
    "____\n",
    "There is a range at which people more frequently sell their cars, 70-80k miles on the odometer. \n",
    "\n",
    "____\n",
    "\n",
    "Vehicle types can be classified into three price groups: high(\\~\\\\$10,000), medium(\\~\\\\$5,000) and low(\\~\\\\$3,000). \n",
    "\n",
    "SUV, coupe, and convertible are high price points.  \n",
    "Van, sedan, and crossover are medium price points.  \n",
    "Compact and other are low price points.  \n",
    "\n",
    "\n",
    "There isn't a notable pattern between vehicle type and mean odometer. \n"
   ]
  },
  {
   "cell_type": "markdown",
   "metadata": {},
   "source": [
    "# Initial Data Exploration"
   ]
  },
  {
   "cell_type": "code",
   "execution_count": 1,
   "metadata": {},
   "outputs": [],
   "source": [
    "#import the relevant python libraries and read our file.\n",
    "import numpy as np\n",
    "import pandas as pd\n",
    "\n",
    "autos = pd.read_csv('autos.csv', encoding = 'Latin-1') # File was found not to be in default UTF-8 encoding "
   ]
  },
  {
   "cell_type": "code",
   "execution_count": 2,
   "metadata": {},
   "outputs": [
    {
     "name": "stdout",
     "output_type": "stream",
     "text": [
      "<class 'pandas.core.frame.DataFrame'>\n",
      "RangeIndex: 50000 entries, 0 to 49999\n",
      "Data columns (total 20 columns):\n",
      " #   Column               Non-Null Count  Dtype \n",
      "---  ------               --------------  ----- \n",
      " 0   dateCrawled          50000 non-null  object\n",
      " 1   name                 50000 non-null  object\n",
      " 2   seller               50000 non-null  object\n",
      " 3   offerType            50000 non-null  object\n",
      " 4   price                50000 non-null  object\n",
      " 5   abtest               50000 non-null  object\n",
      " 6   vehicleType          44905 non-null  object\n",
      " 7   yearOfRegistration   50000 non-null  int64 \n",
      " 8   gearbox              47320 non-null  object\n",
      " 9   powerPS              50000 non-null  int64 \n",
      " 10  model                47242 non-null  object\n",
      " 11  odometer             50000 non-null  object\n",
      " 12  monthOfRegistration  50000 non-null  int64 \n",
      " 13  fuelType             45518 non-null  object\n",
      " 14  brand                50000 non-null  object\n",
      " 15  notRepairedDamage    40171 non-null  object\n",
      " 16  dateCreated          50000 non-null  object\n",
      " 17  nrOfPictures         50000 non-null  int64 \n",
      " 18  postalCode           50000 non-null  int64 \n",
      " 19  lastSeen             50000 non-null  object\n",
      "dtypes: int64(5), object(15)\n",
      "memory usage: 7.6+ MB\n"
     ]
    },
    {
     "data": {
      "text/html": [
       "<div>\n",
       "<style scoped>\n",
       "    .dataframe tbody tr th:only-of-type {\n",
       "        vertical-align: middle;\n",
       "    }\n",
       "\n",
       "    .dataframe tbody tr th {\n",
       "        vertical-align: top;\n",
       "    }\n",
       "\n",
       "    .dataframe thead th {\n",
       "        text-align: right;\n",
       "    }\n",
       "</style>\n",
       "<table border=\"1\" class=\"dataframe\">\n",
       "  <thead>\n",
       "    <tr style=\"text-align: right;\">\n",
       "      <th></th>\n",
       "      <th>dateCrawled</th>\n",
       "      <th>name</th>\n",
       "      <th>seller</th>\n",
       "      <th>offerType</th>\n",
       "      <th>price</th>\n",
       "      <th>abtest</th>\n",
       "      <th>vehicleType</th>\n",
       "      <th>yearOfRegistration</th>\n",
       "      <th>gearbox</th>\n",
       "      <th>powerPS</th>\n",
       "      <th>model</th>\n",
       "      <th>odometer</th>\n",
       "      <th>monthOfRegistration</th>\n",
       "      <th>fuelType</th>\n",
       "      <th>brand</th>\n",
       "      <th>notRepairedDamage</th>\n",
       "      <th>dateCreated</th>\n",
       "      <th>nrOfPictures</th>\n",
       "      <th>postalCode</th>\n",
       "      <th>lastSeen</th>\n",
       "    </tr>\n",
       "  </thead>\n",
       "  <tbody>\n",
       "    <tr>\n",
       "      <th>0</th>\n",
       "      <td>2016-03-26 17:47:46</td>\n",
       "      <td>Peugeot_807_160_NAVTECH_ON_BOARD</td>\n",
       "      <td>privat</td>\n",
       "      <td>Angebot</td>\n",
       "      <td>$5,000</td>\n",
       "      <td>control</td>\n",
       "      <td>bus</td>\n",
       "      <td>2004</td>\n",
       "      <td>manuell</td>\n",
       "      <td>158</td>\n",
       "      <td>andere</td>\n",
       "      <td>150,000km</td>\n",
       "      <td>3</td>\n",
       "      <td>lpg</td>\n",
       "      <td>peugeot</td>\n",
       "      <td>nein</td>\n",
       "      <td>2016-03-26 00:00:00</td>\n",
       "      <td>0</td>\n",
       "      <td>79588</td>\n",
       "      <td>2016-04-06 06:45:54</td>\n",
       "    </tr>\n",
       "    <tr>\n",
       "      <th>1</th>\n",
       "      <td>2016-04-04 13:38:56</td>\n",
       "      <td>BMW_740i_4_4_Liter_HAMANN_UMBAU_Mega_Optik</td>\n",
       "      <td>privat</td>\n",
       "      <td>Angebot</td>\n",
       "      <td>$8,500</td>\n",
       "      <td>control</td>\n",
       "      <td>limousine</td>\n",
       "      <td>1997</td>\n",
       "      <td>automatik</td>\n",
       "      <td>286</td>\n",
       "      <td>7er</td>\n",
       "      <td>150,000km</td>\n",
       "      <td>6</td>\n",
       "      <td>benzin</td>\n",
       "      <td>bmw</td>\n",
       "      <td>nein</td>\n",
       "      <td>2016-04-04 00:00:00</td>\n",
       "      <td>0</td>\n",
       "      <td>71034</td>\n",
       "      <td>2016-04-06 14:45:08</td>\n",
       "    </tr>\n",
       "    <tr>\n",
       "      <th>2</th>\n",
       "      <td>2016-03-26 18:57:24</td>\n",
       "      <td>Volkswagen_Golf_1.6_United</td>\n",
       "      <td>privat</td>\n",
       "      <td>Angebot</td>\n",
       "      <td>$8,990</td>\n",
       "      <td>test</td>\n",
       "      <td>limousine</td>\n",
       "      <td>2009</td>\n",
       "      <td>manuell</td>\n",
       "      <td>102</td>\n",
       "      <td>golf</td>\n",
       "      <td>70,000km</td>\n",
       "      <td>7</td>\n",
       "      <td>benzin</td>\n",
       "      <td>volkswagen</td>\n",
       "      <td>nein</td>\n",
       "      <td>2016-03-26 00:00:00</td>\n",
       "      <td>0</td>\n",
       "      <td>35394</td>\n",
       "      <td>2016-04-06 20:15:37</td>\n",
       "    </tr>\n",
       "    <tr>\n",
       "      <th>3</th>\n",
       "      <td>2016-03-12 16:58:10</td>\n",
       "      <td>Smart_smart_fortwo_coupe_softouch/F1/Klima/Pan...</td>\n",
       "      <td>privat</td>\n",
       "      <td>Angebot</td>\n",
       "      <td>$4,350</td>\n",
       "      <td>control</td>\n",
       "      <td>kleinwagen</td>\n",
       "      <td>2007</td>\n",
       "      <td>automatik</td>\n",
       "      <td>71</td>\n",
       "      <td>fortwo</td>\n",
       "      <td>70,000km</td>\n",
       "      <td>6</td>\n",
       "      <td>benzin</td>\n",
       "      <td>smart</td>\n",
       "      <td>nein</td>\n",
       "      <td>2016-03-12 00:00:00</td>\n",
       "      <td>0</td>\n",
       "      <td>33729</td>\n",
       "      <td>2016-03-15 03:16:28</td>\n",
       "    </tr>\n",
       "    <tr>\n",
       "      <th>4</th>\n",
       "      <td>2016-04-01 14:38:50</td>\n",
       "      <td>Ford_Focus_1_6_Benzin_TÜV_neu_ist_sehr_gepfleg...</td>\n",
       "      <td>privat</td>\n",
       "      <td>Angebot</td>\n",
       "      <td>$1,350</td>\n",
       "      <td>test</td>\n",
       "      <td>kombi</td>\n",
       "      <td>2003</td>\n",
       "      <td>manuell</td>\n",
       "      <td>0</td>\n",
       "      <td>focus</td>\n",
       "      <td>150,000km</td>\n",
       "      <td>7</td>\n",
       "      <td>benzin</td>\n",
       "      <td>ford</td>\n",
       "      <td>nein</td>\n",
       "      <td>2016-04-01 00:00:00</td>\n",
       "      <td>0</td>\n",
       "      <td>39218</td>\n",
       "      <td>2016-04-01 14:38:50</td>\n",
       "    </tr>\n",
       "  </tbody>\n",
       "</table>\n",
       "</div>"
      ],
      "text/plain": [
       "           dateCrawled                                               name  \\\n",
       "0  2016-03-26 17:47:46                   Peugeot_807_160_NAVTECH_ON_BOARD   \n",
       "1  2016-04-04 13:38:56         BMW_740i_4_4_Liter_HAMANN_UMBAU_Mega_Optik   \n",
       "2  2016-03-26 18:57:24                         Volkswagen_Golf_1.6_United   \n",
       "3  2016-03-12 16:58:10  Smart_smart_fortwo_coupe_softouch/F1/Klima/Pan...   \n",
       "4  2016-04-01 14:38:50  Ford_Focus_1_6_Benzin_TÜV_neu_ist_sehr_gepfleg...   \n",
       "\n",
       "   seller offerType   price   abtest vehicleType  yearOfRegistration  \\\n",
       "0  privat   Angebot  $5,000  control         bus                2004   \n",
       "1  privat   Angebot  $8,500  control   limousine                1997   \n",
       "2  privat   Angebot  $8,990     test   limousine                2009   \n",
       "3  privat   Angebot  $4,350  control  kleinwagen                2007   \n",
       "4  privat   Angebot  $1,350     test       kombi                2003   \n",
       "\n",
       "     gearbox  powerPS   model   odometer  monthOfRegistration fuelType  \\\n",
       "0    manuell      158  andere  150,000km                    3      lpg   \n",
       "1  automatik      286     7er  150,000km                    6   benzin   \n",
       "2    manuell      102    golf   70,000km                    7   benzin   \n",
       "3  automatik       71  fortwo   70,000km                    6   benzin   \n",
       "4    manuell        0   focus  150,000km                    7   benzin   \n",
       "\n",
       "        brand notRepairedDamage          dateCreated  nrOfPictures  \\\n",
       "0     peugeot              nein  2016-03-26 00:00:00             0   \n",
       "1         bmw              nein  2016-04-04 00:00:00             0   \n",
       "2  volkswagen              nein  2016-03-26 00:00:00             0   \n",
       "3       smart              nein  2016-03-12 00:00:00             0   \n",
       "4        ford              nein  2016-04-01 00:00:00             0   \n",
       "\n",
       "   postalCode             lastSeen  \n",
       "0       79588  2016-04-06 06:45:54  \n",
       "1       71034  2016-04-06 14:45:08  \n",
       "2       35394  2016-04-06 20:15:37  \n",
       "3       33729  2016-03-15 03:16:28  \n",
       "4       39218  2016-04-01 14:38:50  "
      ]
     },
     "execution_count": 2,
     "metadata": {},
     "output_type": "execute_result"
    }
   ],
   "source": [
    "# quick exploration of the data\n",
    "autos.info()\n",
    "autos.head()"
   ]
  },
  {
   "cell_type": "markdown",
   "metadata": {},
   "source": [
    "# Observations of Data and Actions to Take\n",
    "\n",
    "The summary data tells us that there are a few areas where the data can be improved upon. Below are initial observations.\n",
    "\n",
    "- The columns ought to be renamed to follow snakecase convention and could be more descriptive.\n",
    "\n",
    "- Certain columns are in _object_ type and should be changed to either _int_ or _float_ type in preparation for analysis. Relevant columns include: __price__ and __odometer__.\n",
    "\n",
    "- There are columns with _null_ values and these need to be analyzed in order to make descisions on how to handle them. i.e. do we leave these values alone, find and include the missing information, or completely remove the values/rows/columns. Target columns include: __vehicleType__, __gearbox__, __model__, __fuelType__, and __notRepairedDamage__.\n",
    "\n",
    "- The __name__ column has information encoded within it that may be worth pulling out into their own columns, such as the model and additional features of the vehicles. Exploration is needed to understand encoded contents.\n",
    "\n",
    "- There are severeal columns that are in German and should be translated for our English speaking audience. Relevant columns include: __seller__, __offerType__, __vehicleType__, __gearbox__, __fuelType__, and __notRepairedDamage__. Similarly, decisions will be made where relevant to best translate for an American audience, such as changing from km to mile.\n",
    "\n",
    "- Several columns represent date values but are not in datetime format. Columns: __dateCrawled__, __lastSeen__, __dateCreated__, __monthOfRegistration__, and __yearOfRegistration__\n"
   ]
  },
  {
   "cell_type": "markdown",
   "metadata": {},
   "source": [
    "### Renaming Columns\n",
    "\n",
    "As a first step, we will rename our column names to follow snakecase and be more accurate in their descriptions. There are several ways we can do this, below are two options. \n",
    "\n",
    "__Option 1__\n",
    "~~~python\n",
    "# assign to series object\n",
    "autos_columns = autos.columns\n",
    "\n",
    "# list of new column names\n",
    "new_column_names = ['date_crawled', 'name', 'seller', 'offer_type', 'price', 'abtest', 'vehicle_test', 'registration_year', 'gearbox', 'power_ps', 'model', 'odometer', 'registration_month', 'fuel_type', 'brand', 'unrepaired_damage', 'ad_created', 'count_pictures', 'postal_code', 'last_seen']\n",
    "\n",
    "# replacing the old with the new\n",
    "autos.columns = new_column_names\n",
    "~~~\n",
    "__Option 2__\n",
    "~~~python\n",
    "# change column names for better descriptions and into camel case\n",
    "autos.rename({'yearOfRegistration': 'registration_year', 'monthOfRegistration': 'registration_month', 'notRepairedDamage': 'unrepaired_damage', 'dateCreated': 'ad_created', 'dateCrawled': 'date_crawled', 'offerType': 'offer_type', 'vehicleType': 'vehicle_type', 'powerPS': 'power_ps', 'fuelType': 'fuel_type', 'nrOfPictures': 'count_pictures', 'postalCode': 'postal_code', 'lastSeen': 'last_seen'}, axis = 1, inplace = True)\n",
    "~~~"
   ]
  },
  {
   "cell_type": "markdown",
   "metadata": {},
   "source": [
    "While both of these code snippets accomplish the same thing, we will use <u>option 2</u> because it takes better advantage of pandas syntax and may be more readable relative to the clarity of 'before' and 'after'. "
   ]
  },
  {
   "cell_type": "code",
   "execution_count": 3,
   "metadata": {},
   "outputs": [
    {
     "name": "stdout",
     "output_type": "stream",
     "text": [
      "Original Column Names: \n",
      " Index(['dateCrawled', 'name', 'seller', 'offerType', 'price', 'abtest',\n",
      "       'vehicleType', 'yearOfRegistration', 'gearbox', 'powerPS', 'model',\n",
      "       'odometer', 'monthOfRegistration', 'fuelType', 'brand',\n",
      "       'notRepairedDamage', 'dateCreated', 'nrOfPictures', 'postalCode',\n",
      "       'lastSeen'],\n",
      "      dtype='object')\n",
      "\n",
      "\n",
      "Renamed Column Names: \n",
      " Index(['date_crawled', 'name', 'seller', 'offer_type', 'price', 'abtest',\n",
      "       'vehicle_type', 'registration_year', 'gearbox', 'power_ps', 'model',\n",
      "       'odometer', 'registration_month', 'fuel_type', 'brand',\n",
      "       'unrepaired_damage', 'ad_created', 'count_pictures', 'postal_code',\n",
      "       'last_seen'],\n",
      "      dtype='object')\n"
     ]
    }
   ],
   "source": [
    "# the original array of our dataset's column names\n",
    "print('Original Column Names:', '\\n', autos.columns)\n",
    "\n",
    "# change column names for better descriptions and into camel case\n",
    "autos.rename({'yearOfRegistration': 'registration_year', 'monthOfRegistration': 'registration_month', 'notRepairedDamage': 'unrepaired_damage', 'dateCreated': 'ad_created', 'dateCrawled': 'date_crawled', 'offerType': 'offer_type', 'vehicleType': 'vehicle_type', 'powerPS': 'power_ps', 'fuelType': 'fuel_type', 'nrOfPictures': 'count_pictures', 'postalCode': 'postal_code', 'lastSeen': 'last_seen'}, axis = 1, inplace = True)\n",
    "\n",
    "# the modified array of our dataset's column names\n",
    "print('\\n')\n",
    "print('Renamed Column Names:', '\\n', autos.columns)"
   ]
  },
  {
   "cell_type": "code",
   "execution_count": 4,
   "metadata": {},
   "outputs": [
    {
     "data": {
      "text/html": [
       "<div>\n",
       "<style scoped>\n",
       "    .dataframe tbody tr th:only-of-type {\n",
       "        vertical-align: middle;\n",
       "    }\n",
       "\n",
       "    .dataframe tbody tr th {\n",
       "        vertical-align: top;\n",
       "    }\n",
       "\n",
       "    .dataframe thead th {\n",
       "        text-align: right;\n",
       "    }\n",
       "</style>\n",
       "<table border=\"1\" class=\"dataframe\">\n",
       "  <thead>\n",
       "    <tr style=\"text-align: right;\">\n",
       "      <th></th>\n",
       "      <th>date_crawled</th>\n",
       "      <th>name</th>\n",
       "      <th>seller</th>\n",
       "      <th>offer_type</th>\n",
       "      <th>price</th>\n",
       "      <th>abtest</th>\n",
       "      <th>vehicle_type</th>\n",
       "      <th>registration_year</th>\n",
       "      <th>gearbox</th>\n",
       "      <th>power_ps</th>\n",
       "      <th>model</th>\n",
       "      <th>odometer</th>\n",
       "      <th>registration_month</th>\n",
       "      <th>fuel_type</th>\n",
       "      <th>brand</th>\n",
       "      <th>unrepaired_damage</th>\n",
       "      <th>ad_created</th>\n",
       "      <th>count_pictures</th>\n",
       "      <th>postal_code</th>\n",
       "      <th>last_seen</th>\n",
       "    </tr>\n",
       "  </thead>\n",
       "  <tbody>\n",
       "    <tr>\n",
       "      <th>0</th>\n",
       "      <td>2016-03-26 17:47:46</td>\n",
       "      <td>Peugeot_807_160_NAVTECH_ON_BOARD</td>\n",
       "      <td>privat</td>\n",
       "      <td>Angebot</td>\n",
       "      <td>$5,000</td>\n",
       "      <td>control</td>\n",
       "      <td>bus</td>\n",
       "      <td>2004</td>\n",
       "      <td>manuell</td>\n",
       "      <td>158</td>\n",
       "      <td>andere</td>\n",
       "      <td>150,000km</td>\n",
       "      <td>3</td>\n",
       "      <td>lpg</td>\n",
       "      <td>peugeot</td>\n",
       "      <td>nein</td>\n",
       "      <td>2016-03-26 00:00:00</td>\n",
       "      <td>0</td>\n",
       "      <td>79588</td>\n",
       "      <td>2016-04-06 06:45:54</td>\n",
       "    </tr>\n",
       "    <tr>\n",
       "      <th>1</th>\n",
       "      <td>2016-04-04 13:38:56</td>\n",
       "      <td>BMW_740i_4_4_Liter_HAMANN_UMBAU_Mega_Optik</td>\n",
       "      <td>privat</td>\n",
       "      <td>Angebot</td>\n",
       "      <td>$8,500</td>\n",
       "      <td>control</td>\n",
       "      <td>limousine</td>\n",
       "      <td>1997</td>\n",
       "      <td>automatik</td>\n",
       "      <td>286</td>\n",
       "      <td>7er</td>\n",
       "      <td>150,000km</td>\n",
       "      <td>6</td>\n",
       "      <td>benzin</td>\n",
       "      <td>bmw</td>\n",
       "      <td>nein</td>\n",
       "      <td>2016-04-04 00:00:00</td>\n",
       "      <td>0</td>\n",
       "      <td>71034</td>\n",
       "      <td>2016-04-06 14:45:08</td>\n",
       "    </tr>\n",
       "    <tr>\n",
       "      <th>2</th>\n",
       "      <td>2016-03-26 18:57:24</td>\n",
       "      <td>Volkswagen_Golf_1.6_United</td>\n",
       "      <td>privat</td>\n",
       "      <td>Angebot</td>\n",
       "      <td>$8,990</td>\n",
       "      <td>test</td>\n",
       "      <td>limousine</td>\n",
       "      <td>2009</td>\n",
       "      <td>manuell</td>\n",
       "      <td>102</td>\n",
       "      <td>golf</td>\n",
       "      <td>70,000km</td>\n",
       "      <td>7</td>\n",
       "      <td>benzin</td>\n",
       "      <td>volkswagen</td>\n",
       "      <td>nein</td>\n",
       "      <td>2016-03-26 00:00:00</td>\n",
       "      <td>0</td>\n",
       "      <td>35394</td>\n",
       "      <td>2016-04-06 20:15:37</td>\n",
       "    </tr>\n",
       "    <tr>\n",
       "      <th>3</th>\n",
       "      <td>2016-03-12 16:58:10</td>\n",
       "      <td>Smart_smart_fortwo_coupe_softouch/F1/Klima/Pan...</td>\n",
       "      <td>privat</td>\n",
       "      <td>Angebot</td>\n",
       "      <td>$4,350</td>\n",
       "      <td>control</td>\n",
       "      <td>kleinwagen</td>\n",
       "      <td>2007</td>\n",
       "      <td>automatik</td>\n",
       "      <td>71</td>\n",
       "      <td>fortwo</td>\n",
       "      <td>70,000km</td>\n",
       "      <td>6</td>\n",
       "      <td>benzin</td>\n",
       "      <td>smart</td>\n",
       "      <td>nein</td>\n",
       "      <td>2016-03-12 00:00:00</td>\n",
       "      <td>0</td>\n",
       "      <td>33729</td>\n",
       "      <td>2016-03-15 03:16:28</td>\n",
       "    </tr>\n",
       "    <tr>\n",
       "      <th>4</th>\n",
       "      <td>2016-04-01 14:38:50</td>\n",
       "      <td>Ford_Focus_1_6_Benzin_TÜV_neu_ist_sehr_gepfleg...</td>\n",
       "      <td>privat</td>\n",
       "      <td>Angebot</td>\n",
       "      <td>$1,350</td>\n",
       "      <td>test</td>\n",
       "      <td>kombi</td>\n",
       "      <td>2003</td>\n",
       "      <td>manuell</td>\n",
       "      <td>0</td>\n",
       "      <td>focus</td>\n",
       "      <td>150,000km</td>\n",
       "      <td>7</td>\n",
       "      <td>benzin</td>\n",
       "      <td>ford</td>\n",
       "      <td>nein</td>\n",
       "      <td>2016-04-01 00:00:00</td>\n",
       "      <td>0</td>\n",
       "      <td>39218</td>\n",
       "      <td>2016-04-01 14:38:50</td>\n",
       "    </tr>\n",
       "  </tbody>\n",
       "</table>\n",
       "</div>"
      ],
      "text/plain": [
       "          date_crawled                                               name  \\\n",
       "0  2016-03-26 17:47:46                   Peugeot_807_160_NAVTECH_ON_BOARD   \n",
       "1  2016-04-04 13:38:56         BMW_740i_4_4_Liter_HAMANN_UMBAU_Mega_Optik   \n",
       "2  2016-03-26 18:57:24                         Volkswagen_Golf_1.6_United   \n",
       "3  2016-03-12 16:58:10  Smart_smart_fortwo_coupe_softouch/F1/Klima/Pan...   \n",
       "4  2016-04-01 14:38:50  Ford_Focus_1_6_Benzin_TÜV_neu_ist_sehr_gepfleg...   \n",
       "\n",
       "   seller offer_type   price   abtest vehicle_type  registration_year  \\\n",
       "0  privat    Angebot  $5,000  control          bus               2004   \n",
       "1  privat    Angebot  $8,500  control    limousine               1997   \n",
       "2  privat    Angebot  $8,990     test    limousine               2009   \n",
       "3  privat    Angebot  $4,350  control   kleinwagen               2007   \n",
       "4  privat    Angebot  $1,350     test        kombi               2003   \n",
       "\n",
       "     gearbox  power_ps   model   odometer  registration_month fuel_type  \\\n",
       "0    manuell       158  andere  150,000km                   3       lpg   \n",
       "1  automatik       286     7er  150,000km                   6    benzin   \n",
       "2    manuell       102    golf   70,000km                   7    benzin   \n",
       "3  automatik        71  fortwo   70,000km                   6    benzin   \n",
       "4    manuell         0   focus  150,000km                   7    benzin   \n",
       "\n",
       "        brand unrepaired_damage           ad_created  count_pictures  \\\n",
       "0     peugeot              nein  2016-03-26 00:00:00               0   \n",
       "1         bmw              nein  2016-04-04 00:00:00               0   \n",
       "2  volkswagen              nein  2016-03-26 00:00:00               0   \n",
       "3       smart              nein  2016-03-12 00:00:00               0   \n",
       "4        ford              nein  2016-04-01 00:00:00               0   \n",
       "\n",
       "   postal_code            last_seen  \n",
       "0        79588  2016-04-06 06:45:54  \n",
       "1        71034  2016-04-06 14:45:08  \n",
       "2        35394  2016-04-06 20:15:37  \n",
       "3        33729  2016-03-15 03:16:28  \n",
       "4        39218  2016-04-01 14:38:50  "
      ]
     },
     "execution_count": 4,
     "metadata": {},
     "output_type": "execute_result"
    }
   ],
   "source": [
    "# re-examine the first few columns with their new names\n",
    "autos.head()"
   ]
  },
  {
   "cell_type": "markdown",
   "metadata": {},
   "source": [
    "# Data Exploration (...continued)"
   ]
  },
  {
   "cell_type": "code",
   "execution_count": 5,
   "metadata": {},
   "outputs": [
    {
     "data": {
      "text/html": [
       "<div>\n",
       "<style scoped>\n",
       "    .dataframe tbody tr th:only-of-type {\n",
       "        vertical-align: middle;\n",
       "    }\n",
       "\n",
       "    .dataframe tbody tr th {\n",
       "        vertical-align: top;\n",
       "    }\n",
       "\n",
       "    .dataframe thead th {\n",
       "        text-align: right;\n",
       "    }\n",
       "</style>\n",
       "<table border=\"1\" class=\"dataframe\">\n",
       "  <thead>\n",
       "    <tr style=\"text-align: right;\">\n",
       "      <th></th>\n",
       "      <th>date_crawled</th>\n",
       "      <th>name</th>\n",
       "      <th>seller</th>\n",
       "      <th>offer_type</th>\n",
       "      <th>price</th>\n",
       "      <th>abtest</th>\n",
       "      <th>vehicle_type</th>\n",
       "      <th>registration_year</th>\n",
       "      <th>gearbox</th>\n",
       "      <th>power_ps</th>\n",
       "      <th>model</th>\n",
       "      <th>odometer</th>\n",
       "      <th>registration_month</th>\n",
       "      <th>fuel_type</th>\n",
       "      <th>brand</th>\n",
       "      <th>unrepaired_damage</th>\n",
       "      <th>ad_created</th>\n",
       "      <th>count_pictures</th>\n",
       "      <th>postal_code</th>\n",
       "      <th>last_seen</th>\n",
       "    </tr>\n",
       "  </thead>\n",
       "  <tbody>\n",
       "    <tr>\n",
       "      <th>count</th>\n",
       "      <td>50000</td>\n",
       "      <td>50000</td>\n",
       "      <td>50000</td>\n",
       "      <td>50000</td>\n",
       "      <td>50000</td>\n",
       "      <td>50000</td>\n",
       "      <td>44905</td>\n",
       "      <td>50000.000000</td>\n",
       "      <td>47320</td>\n",
       "      <td>50000.000000</td>\n",
       "      <td>47242</td>\n",
       "      <td>50000</td>\n",
       "      <td>50000.000000</td>\n",
       "      <td>45518</td>\n",
       "      <td>50000</td>\n",
       "      <td>40171</td>\n",
       "      <td>50000</td>\n",
       "      <td>50000.0</td>\n",
       "      <td>50000.000000</td>\n",
       "      <td>50000</td>\n",
       "    </tr>\n",
       "    <tr>\n",
       "      <th>unique</th>\n",
       "      <td>48213</td>\n",
       "      <td>38754</td>\n",
       "      <td>2</td>\n",
       "      <td>2</td>\n",
       "      <td>2357</td>\n",
       "      <td>2</td>\n",
       "      <td>8</td>\n",
       "      <td>NaN</td>\n",
       "      <td>2</td>\n",
       "      <td>NaN</td>\n",
       "      <td>245</td>\n",
       "      <td>13</td>\n",
       "      <td>NaN</td>\n",
       "      <td>7</td>\n",
       "      <td>40</td>\n",
       "      <td>2</td>\n",
       "      <td>76</td>\n",
       "      <td>NaN</td>\n",
       "      <td>NaN</td>\n",
       "      <td>39481</td>\n",
       "    </tr>\n",
       "    <tr>\n",
       "      <th>top</th>\n",
       "      <td>2016-04-02 11:37:04</td>\n",
       "      <td>Ford_Fiesta</td>\n",
       "      <td>privat</td>\n",
       "      <td>Angebot</td>\n",
       "      <td>$0</td>\n",
       "      <td>test</td>\n",
       "      <td>limousine</td>\n",
       "      <td>NaN</td>\n",
       "      <td>manuell</td>\n",
       "      <td>NaN</td>\n",
       "      <td>golf</td>\n",
       "      <td>150,000km</td>\n",
       "      <td>NaN</td>\n",
       "      <td>benzin</td>\n",
       "      <td>volkswagen</td>\n",
       "      <td>nein</td>\n",
       "      <td>2016-04-03 00:00:00</td>\n",
       "      <td>NaN</td>\n",
       "      <td>NaN</td>\n",
       "      <td>2016-04-07 06:17:27</td>\n",
       "    </tr>\n",
       "    <tr>\n",
       "      <th>freq</th>\n",
       "      <td>3</td>\n",
       "      <td>78</td>\n",
       "      <td>49999</td>\n",
       "      <td>49999</td>\n",
       "      <td>1421</td>\n",
       "      <td>25756</td>\n",
       "      <td>12859</td>\n",
       "      <td>NaN</td>\n",
       "      <td>36993</td>\n",
       "      <td>NaN</td>\n",
       "      <td>4024</td>\n",
       "      <td>32424</td>\n",
       "      <td>NaN</td>\n",
       "      <td>30107</td>\n",
       "      <td>10687</td>\n",
       "      <td>35232</td>\n",
       "      <td>1946</td>\n",
       "      <td>NaN</td>\n",
       "      <td>NaN</td>\n",
       "      <td>8</td>\n",
       "    </tr>\n",
       "    <tr>\n",
       "      <th>mean</th>\n",
       "      <td>NaN</td>\n",
       "      <td>NaN</td>\n",
       "      <td>NaN</td>\n",
       "      <td>NaN</td>\n",
       "      <td>NaN</td>\n",
       "      <td>NaN</td>\n",
       "      <td>NaN</td>\n",
       "      <td>2005.073280</td>\n",
       "      <td>NaN</td>\n",
       "      <td>116.355920</td>\n",
       "      <td>NaN</td>\n",
       "      <td>NaN</td>\n",
       "      <td>5.723360</td>\n",
       "      <td>NaN</td>\n",
       "      <td>NaN</td>\n",
       "      <td>NaN</td>\n",
       "      <td>NaN</td>\n",
       "      <td>0.0</td>\n",
       "      <td>50813.627300</td>\n",
       "      <td>NaN</td>\n",
       "    </tr>\n",
       "    <tr>\n",
       "      <th>std</th>\n",
       "      <td>NaN</td>\n",
       "      <td>NaN</td>\n",
       "      <td>NaN</td>\n",
       "      <td>NaN</td>\n",
       "      <td>NaN</td>\n",
       "      <td>NaN</td>\n",
       "      <td>NaN</td>\n",
       "      <td>105.712813</td>\n",
       "      <td>NaN</td>\n",
       "      <td>209.216627</td>\n",
       "      <td>NaN</td>\n",
       "      <td>NaN</td>\n",
       "      <td>3.711984</td>\n",
       "      <td>NaN</td>\n",
       "      <td>NaN</td>\n",
       "      <td>NaN</td>\n",
       "      <td>NaN</td>\n",
       "      <td>0.0</td>\n",
       "      <td>25779.747957</td>\n",
       "      <td>NaN</td>\n",
       "    </tr>\n",
       "    <tr>\n",
       "      <th>min</th>\n",
       "      <td>NaN</td>\n",
       "      <td>NaN</td>\n",
       "      <td>NaN</td>\n",
       "      <td>NaN</td>\n",
       "      <td>NaN</td>\n",
       "      <td>NaN</td>\n",
       "      <td>NaN</td>\n",
       "      <td>1000.000000</td>\n",
       "      <td>NaN</td>\n",
       "      <td>0.000000</td>\n",
       "      <td>NaN</td>\n",
       "      <td>NaN</td>\n",
       "      <td>0.000000</td>\n",
       "      <td>NaN</td>\n",
       "      <td>NaN</td>\n",
       "      <td>NaN</td>\n",
       "      <td>NaN</td>\n",
       "      <td>0.0</td>\n",
       "      <td>1067.000000</td>\n",
       "      <td>NaN</td>\n",
       "    </tr>\n",
       "    <tr>\n",
       "      <th>25%</th>\n",
       "      <td>NaN</td>\n",
       "      <td>NaN</td>\n",
       "      <td>NaN</td>\n",
       "      <td>NaN</td>\n",
       "      <td>NaN</td>\n",
       "      <td>NaN</td>\n",
       "      <td>NaN</td>\n",
       "      <td>1999.000000</td>\n",
       "      <td>NaN</td>\n",
       "      <td>70.000000</td>\n",
       "      <td>NaN</td>\n",
       "      <td>NaN</td>\n",
       "      <td>3.000000</td>\n",
       "      <td>NaN</td>\n",
       "      <td>NaN</td>\n",
       "      <td>NaN</td>\n",
       "      <td>NaN</td>\n",
       "      <td>0.0</td>\n",
       "      <td>30451.000000</td>\n",
       "      <td>NaN</td>\n",
       "    </tr>\n",
       "    <tr>\n",
       "      <th>50%</th>\n",
       "      <td>NaN</td>\n",
       "      <td>NaN</td>\n",
       "      <td>NaN</td>\n",
       "      <td>NaN</td>\n",
       "      <td>NaN</td>\n",
       "      <td>NaN</td>\n",
       "      <td>NaN</td>\n",
       "      <td>2003.000000</td>\n",
       "      <td>NaN</td>\n",
       "      <td>105.000000</td>\n",
       "      <td>NaN</td>\n",
       "      <td>NaN</td>\n",
       "      <td>6.000000</td>\n",
       "      <td>NaN</td>\n",
       "      <td>NaN</td>\n",
       "      <td>NaN</td>\n",
       "      <td>NaN</td>\n",
       "      <td>0.0</td>\n",
       "      <td>49577.000000</td>\n",
       "      <td>NaN</td>\n",
       "    </tr>\n",
       "    <tr>\n",
       "      <th>75%</th>\n",
       "      <td>NaN</td>\n",
       "      <td>NaN</td>\n",
       "      <td>NaN</td>\n",
       "      <td>NaN</td>\n",
       "      <td>NaN</td>\n",
       "      <td>NaN</td>\n",
       "      <td>NaN</td>\n",
       "      <td>2008.000000</td>\n",
       "      <td>NaN</td>\n",
       "      <td>150.000000</td>\n",
       "      <td>NaN</td>\n",
       "      <td>NaN</td>\n",
       "      <td>9.000000</td>\n",
       "      <td>NaN</td>\n",
       "      <td>NaN</td>\n",
       "      <td>NaN</td>\n",
       "      <td>NaN</td>\n",
       "      <td>0.0</td>\n",
       "      <td>71540.000000</td>\n",
       "      <td>NaN</td>\n",
       "    </tr>\n",
       "    <tr>\n",
       "      <th>max</th>\n",
       "      <td>NaN</td>\n",
       "      <td>NaN</td>\n",
       "      <td>NaN</td>\n",
       "      <td>NaN</td>\n",
       "      <td>NaN</td>\n",
       "      <td>NaN</td>\n",
       "      <td>NaN</td>\n",
       "      <td>9999.000000</td>\n",
       "      <td>NaN</td>\n",
       "      <td>17700.000000</td>\n",
       "      <td>NaN</td>\n",
       "      <td>NaN</td>\n",
       "      <td>12.000000</td>\n",
       "      <td>NaN</td>\n",
       "      <td>NaN</td>\n",
       "      <td>NaN</td>\n",
       "      <td>NaN</td>\n",
       "      <td>0.0</td>\n",
       "      <td>99998.000000</td>\n",
       "      <td>NaN</td>\n",
       "    </tr>\n",
       "  </tbody>\n",
       "</table>\n",
       "</div>"
      ],
      "text/plain": [
       "               date_crawled         name  seller offer_type  price abtest  \\\n",
       "count                 50000        50000   50000      50000  50000  50000   \n",
       "unique                48213        38754       2          2   2357      2   \n",
       "top     2016-04-02 11:37:04  Ford_Fiesta  privat    Angebot     $0   test   \n",
       "freq                      3           78   49999      49999   1421  25756   \n",
       "mean                    NaN          NaN     NaN        NaN    NaN    NaN   \n",
       "std                     NaN          NaN     NaN        NaN    NaN    NaN   \n",
       "min                     NaN          NaN     NaN        NaN    NaN    NaN   \n",
       "25%                     NaN          NaN     NaN        NaN    NaN    NaN   \n",
       "50%                     NaN          NaN     NaN        NaN    NaN    NaN   \n",
       "75%                     NaN          NaN     NaN        NaN    NaN    NaN   \n",
       "max                     NaN          NaN     NaN        NaN    NaN    NaN   \n",
       "\n",
       "       vehicle_type  registration_year  gearbox      power_ps  model  \\\n",
       "count         44905       50000.000000    47320  50000.000000  47242   \n",
       "unique            8                NaN        2           NaN    245   \n",
       "top       limousine                NaN  manuell           NaN   golf   \n",
       "freq          12859                NaN    36993           NaN   4024   \n",
       "mean            NaN        2005.073280      NaN    116.355920    NaN   \n",
       "std             NaN         105.712813      NaN    209.216627    NaN   \n",
       "min             NaN        1000.000000      NaN      0.000000    NaN   \n",
       "25%             NaN        1999.000000      NaN     70.000000    NaN   \n",
       "50%             NaN        2003.000000      NaN    105.000000    NaN   \n",
       "75%             NaN        2008.000000      NaN    150.000000    NaN   \n",
       "max             NaN        9999.000000      NaN  17700.000000    NaN   \n",
       "\n",
       "         odometer  registration_month fuel_type       brand unrepaired_damage  \\\n",
       "count       50000        50000.000000     45518       50000             40171   \n",
       "unique         13                 NaN         7          40                 2   \n",
       "top     150,000km                 NaN    benzin  volkswagen              nein   \n",
       "freq        32424                 NaN     30107       10687             35232   \n",
       "mean          NaN            5.723360       NaN         NaN               NaN   \n",
       "std           NaN            3.711984       NaN         NaN               NaN   \n",
       "min           NaN            0.000000       NaN         NaN               NaN   \n",
       "25%           NaN            3.000000       NaN         NaN               NaN   \n",
       "50%           NaN            6.000000       NaN         NaN               NaN   \n",
       "75%           NaN            9.000000       NaN         NaN               NaN   \n",
       "max           NaN           12.000000       NaN         NaN               NaN   \n",
       "\n",
       "                 ad_created  count_pictures   postal_code            last_seen  \n",
       "count                 50000         50000.0  50000.000000                50000  \n",
       "unique                   76             NaN           NaN                39481  \n",
       "top     2016-04-03 00:00:00             NaN           NaN  2016-04-07 06:17:27  \n",
       "freq                   1946             NaN           NaN                    8  \n",
       "mean                    NaN             0.0  50813.627300                  NaN  \n",
       "std                     NaN             0.0  25779.747957                  NaN  \n",
       "min                     NaN             0.0   1067.000000                  NaN  \n",
       "25%                     NaN             0.0  30451.000000                  NaN  \n",
       "50%                     NaN             0.0  49577.000000                  NaN  \n",
       "75%                     NaN             0.0  71540.000000                  NaN  \n",
       "max                     NaN             0.0  99998.000000                  NaN  "
      ]
     },
     "execution_count": 5,
     "metadata": {},
     "output_type": "execute_result"
    }
   ],
   "source": [
    "autos.describe(include = 'all') # 'include = all' gives us both categorical and numeric columns"
   ]
  },
  {
   "cell_type": "markdown",
   "metadata": {},
   "source": [
    "# Observations of Data and Actions to Take (Update: 1)\n",
    "\n",
    "The summary data tells us that there are a few areas where the data can be improved upon. Below are initial observations.\n",
    "\n",
    "- ~~The columns ought to be renamed to follow snakecase convention and could be more descriptive.~~\n",
    "\n",
    "- Certain columns are in _object_ type and should be changed to either _int_ or _float_ type in preparation for analysis. Relevant columns include: __price__ and __odometer__.\n",
    "\n",
    "- There are columns with _null_ values and these need to be analyzed in order to make descisions on how to handle them. i.e. do we leave these values alone, find and include the missing information, or completely remove the values/rows/columns. Target columns include: __vehicle_type__, __gearbox__, __model__, __fuel_type__, and __unrepaired_damage__.\n",
    "\n",
    "- The __name__ column has information encoded within it that may be worth pulling out into their own columns, such as the model and additional features of the vehicles. Exploration is needed to understand encoded contents.\n",
    "\n",
    "- There are severeal columns that are in German and should be translated for our English speaking audience. Relevant columns include: __seller__, __offer_type__, __vehicle_type__, __gearbox__, __fuel_type__, and __unrepaired_damage__. Similarly, decisions will be made where relevant to best translate for an American audience, such as changing from km to mile.\n",
    "\n",
    "- Several columns represent date values but are not in datetime format. Columns: __date_crawled__, __last_seen__, __ad_created__, __registration_month__, and __registration_year__\n",
    "\n",
    "___\n",
    "\n",
    "- The __date_crawled__ and __last_seen__ columns may not provide useful information.\n",
    "\n",
    "- The __count_picutures__ column does not appear to contain any useful information as all values are zero.\n",
    "\n",
    "- The __registration_year__ appears to have some dirty data, with a min of 1000 and max of 9999.\n",
    "\n",
    "- The __registration_month__ has a numerical month and has 0 for its minimum and 12 for its maximum. This would leave us with 13 months. We should explore whether there are some miscategorized zero values that should begin with 1. \n",
    "\n",
    "- __power_ps__ is the European equivalent of horsepower. 1 PS or metric horsepower(EU) is equivalent to .989632 HP or mechanical horsepower(US). For reference 1,000 HP is attainable, but very rare (and expensive). The maximum we see in our __power_ps__ column of 17,700 is therefore unreasonable. This column should be invesitgated for any cars over 1,000 HP. The conversion formula we will use is HP = (PS / 1.104).\n",
    "\n",
    "- Check whether __odometer__ values are ranges, and if they are clean the data to make it more clear.\n",
    "\n",
    "- Several columns are only one of two values. Their value towards analysis should be considered. Relevant columns include: __seller__, __offer_type__, __abtest__, __gearbox__, and __unrepaired_damage__"
   ]
  },
  {
   "cell_type": "markdown",
   "metadata": {},
   "source": [
    "### Changing <u>Price</u> and <u>Odometer</u> Column Values to Numbers"
   ]
  },
  {
   "cell_type": "code",
   "execution_count": 6,
   "metadata": {},
   "outputs": [],
   "source": [
    "#change values in price column\n",
    "autos['price'] = (autos['price'] #select price column\n",
    "                          .str.replace('$','') #remove the '$' string value\n",
    "                          .str.replace(',','') #remove the ',' string value\n",
    "                          .astype(float) # change to float\n",
    "                 )"
   ]
  },
  {
   "cell_type": "code",
   "execution_count": 7,
   "metadata": {},
   "outputs": [
    {
     "name": "stdout",
     "output_type": "stream",
     "text": [
      "0    5000.0\n",
      "1    8500.0\n",
      "2    8990.0\n",
      "3    4350.0\n",
      "4    1350.0\n",
      "Name: price, dtype: float64\n",
      "\n",
      "\n",
      "Max Price:  99999999.0\n"
     ]
    }
   ],
   "source": [
    "print(autos.iloc[:5,4]) #print the first five columns of price\n",
    "print('\\n')\n",
    "print('Max Price: ', autos['price'].max()) # check the max price to validate data"
   ]
  },
  {
   "cell_type": "markdown",
   "metadata": {},
   "source": [
    "From the above we see that there may be outliers in the __price__ column, below we explore that further and see that there are both low and high outliers that will need to be cleaned."
   ]
  },
  {
   "cell_type": "code",
   "execution_count": 8,
   "metadata": {},
   "outputs": [
    {
     "name": "stdout",
     "output_type": "stream",
     "text": [
      "0.0    1421\n",
      "1.0     156\n",
      "2.0       3\n",
      "3.0       1\n",
      "5.0       2\n",
      "Name: price, dtype: int64\n"
     ]
    }
   ],
   "source": [
    "# Top 5 lowest prices\n",
    "print(autos['price']\n",
    "              .value_counts() # Create a frequency table of prices\n",
    "              .sort_index(ascending=True) # Sort from lowest price to highest\n",
    "              .head()) # Filter only the top results"
   ]
  },
  {
   "cell_type": "code",
   "execution_count": 9,
   "metadata": {
    "scrolled": true
   },
   "outputs": [
    {
     "name": "stdout",
     "output_type": "stream",
     "text": [
      "99999999.0    1\n",
      "27322222.0    1\n",
      "12345678.0    3\n",
      "11111111.0    2\n",
      "10000000.0    1\n",
      "3890000.0     1\n",
      "1300000.0     1\n",
      "1234566.0     1\n",
      "999999.0      2\n",
      "999990.0      1\n",
      "350000.0      1\n",
      "345000.0      1\n",
      "299000.0      1\n",
      "295000.0      1\n",
      "265000.0      1\n",
      "Name: price, dtype: int64\n"
     ]
    }
   ],
   "source": [
    "# Top 5 highest prices\n",
    "print(autos['price']\n",
    "              .value_counts() # Create a frequency table of prices\n",
    "              .sort_index(ascending = False) # Sort from highest price to highest\n",
    "              .head(15)) # Filter only the top results"
   ]
  },
  {
   "cell_type": "markdown",
   "metadata": {},
   "source": [
    "___\n",
    "Now we evaluate __odometer__."
   ]
  },
  {
   "cell_type": "code",
   "execution_count": 10,
   "metadata": {},
   "outputs": [],
   "source": [
    "autos['odometer'] = (autos['odometer'] # select the odomoter column as a series\n",
    "                     .str.replace('km','') # replace km with an empty string\n",
    "                     .str.replace(',','') # replace the comma with an empty string\n",
    "                     .astype(int)) # change the datatype from string to integer "
   ]
  },
  {
   "cell_type": "code",
   "execution_count": 11,
   "metadata": {},
   "outputs": [
    {
     "name": "stdout",
     "output_type": "stream",
     "text": [
      "0    150000\n",
      "1    150000\n",
      "2     70000\n",
      "3     70000\n",
      "4    150000\n",
      "Name: odometer, dtype: int64\n",
      "\n",
      "\n",
      "Max Odomoter:  150000\n",
      "\n",
      "\n",
      "150000    32424\n",
      "125000     5170\n",
      "100000     2169\n",
      "90000      1757\n",
      "80000      1436\n",
      "70000      1230\n",
      "60000      1164\n",
      "50000      1027\n",
      "5000        967\n",
      "40000       819\n",
      "30000       789\n",
      "20000       784\n",
      "10000       264\n",
      "Name: odometer, dtype: int64\n"
     ]
    }
   ],
   "source": [
    "print(autos.iloc[:5,11]) #print the first fove columns of odometer\n",
    "print('\\n')\n",
    "print('Max Odomoter: ', autos['odometer'].max()) # check the max price to validate data\n",
    "print('\\n')\n",
    "print(autos['odometer'].value_counts()) # Create a frequency table of the odometer values"
   ]
  },
  {
   "cell_type": "markdown",
   "metadata": {},
   "source": [
    "The below changes the name of __odometer__ to __odometer_km__ because the data is no longer self explanatory."
   ]
  },
  {
   "cell_type": "code",
   "execution_count": 12,
   "metadata": {},
   "outputs": [
    {
     "name": "stdout",
     "output_type": "stream",
     "text": [
      "Index(['date_crawled', 'name', 'seller', 'offer_type', 'price', 'abtest',\n",
      "       'vehicle_type', 'registration_year', 'gearbox', 'power_ps', 'model',\n",
      "       'odometer_km', 'registration_month', 'fuel_type', 'brand',\n",
      "       'unrepaired_damage', 'ad_created', 'count_pictures', 'postal_code',\n",
      "       'last_seen'],\n",
      "      dtype='object')\n"
     ]
    }
   ],
   "source": [
    "autos.rename({'odometer': 'odometer_km'}, axis = 1, inplace = 1) # Change the title of column odometer to odometer_km\n",
    "\n",
    "print(autos.columns) # check to confirm change"
   ]
  },
  {
   "cell_type": "markdown",
   "metadata": {},
   "source": [
    "___\n",
    "The values within __price__ and __odometer__ have now been changed to integers and floats, and the __odometer__ column has been renamed to __odometer_km__. \n",
    "\n",
    "During this process we learned there is bad pricing data that will need to be cleaned, and the odometer readings fall within ranges and are not unique entries. We will now take steps to clean these columns. Because there is a benefit to having ranges in numerical format, we will leave the odometer ranges as is for now.\n",
    "___"
   ]
  },
  {
   "cell_type": "code",
   "execution_count": 13,
   "metadata": {},
   "outputs": [
    {
     "name": "stdout",
     "output_type": "stream",
     "text": [
      "price       model        brand          registration_year\n",
      "99999999.0  s_klasse     mercedes_benz  1999                 1\n",
      "27322222.0  c4           citroen        2014                 1\n",
      "12345678.0  vectra       opel           2001                 1\n",
      "            v40          volvo          2018                 1\n",
      "            punto        fiat           2017                 1\n",
      "11111111.0  escort       ford           1973                 1\n",
      "999999.0    transporter  volkswagen     1981                 1\n",
      "            focus        ford           2009                 1\n",
      "999990.0    jetta        volkswagen     1985                 1\n",
      "350000.0    911          porsche        2016                 1\n",
      "299000.0    911          porsche        1977                 1\n",
      "295000.0    911          porsche        2015                 1\n",
      "265000.0    911          porsche        2016                 1\n",
      "259000.0    z_reihe      bmw            2001                 1\n",
      "250000.0    x_reihe      bmw            2015                 1\n",
      "dtype: int64\n"
     ]
    }
   ],
   "source": [
    "expensive_makes_and_models_bool = autos['price'] >= 150000\n",
    "\n",
    "#column_explore = ['brand', 'model']\n",
    "\n",
    "expensive_makes_and_models = autos.loc[expensive_makes_and_models_bool,['price', 'model', 'brand','registration_year']].value_counts().sort_index(ascending=False).head(15)\n",
    "print(expensive_makes_and_models)"
   ]
  },
  {
   "cell_type": "markdown",
   "metadata": {},
   "source": [
    "Looking at the above and completing a little research on cars, we can see that cars above 350,000 start to reach unreasonable prices for the model and brand of the cars for sale. "
   ]
  },
  {
   "cell_type": "code",
   "execution_count": 14,
   "metadata": {},
   "outputs": [],
   "source": [
    "# remove values below 99 and above 900,000\n",
    "autos = autos[autos[\"price\"].between(99,900000)] "
   ]
  },
  {
   "cell_type": "code",
   "execution_count": 15,
   "metadata": {},
   "outputs": [
    {
     "name": "stdout",
     "output_type": "stream",
     "text": [
      "price     model     brand          registration_year\n",
      "350000.0  911       porsche        2016                 1\n",
      "299000.0  911       porsche        1977                 1\n",
      "295000.0  911       porsche        2015                 1\n",
      "265000.0  911       porsche        2016                 1\n",
      "259000.0  z_reihe   bmw            2001                 1\n",
      "250000.0  x_reihe   bmw            2015                 1\n",
      "220000.0  911       porsche        2008                 1\n",
      "198000.0  911       porsche        2015                 1\n",
      "197000.0  911       porsche        1998                 1\n",
      "190000.0  z_reihe   bmw            2000                 1\n",
      "180000.0  andere    mercedes_benz  2012                 1\n",
      "175000.0  andere    audi           2016                 1\n",
      "169999.0  g_klasse  mercedes_benz  2012                 1\n",
      "169000.0  911       porsche        2013                 1\n",
      "163991.0  911       porsche        2014                 1\n",
      "dtype: int64\n"
     ]
    }
   ],
   "source": [
    "expensive_makes_and_models_bool = autos['price'] >= 150000\n",
    "\n",
    "#column_explore = ['brand', 'model']\n",
    "\n",
    "expensive_makes_and_models = autos.loc[expensive_makes_and_models_bool,['price', 'model', 'brand','registration_year']].value_counts().sort_index(ascending=False).head(15)\n",
    "print(expensive_makes_and_models)"
   ]
  },
  {
   "cell_type": "markdown",
   "metadata": {},
   "source": [
    "Above we removed prices above 900,000 and below 99. \n",
    "\n",
    "The rationale behind this being that we are not too interested in outliers. There are plenty of ads for $0, and that can be considered an ad with an 'unreal' offer. Cars can sell for cheap, however, and the lower limit was set to 100, which is where distribution starts to pick up. \n",
    "\n",
    "A similar rationale can be taken for the higher priced cars. Cars can get quite expensive, but there is a point where that becomes unreasonable. After 350,000 things price shoots up fast and the model and brand don't justify the price. 900,000 was used because that was the next highest value after the 350,000 porsche 911, which was a brand new car for the time this data was scraped (2016)."
   ]
  },
  {
   "cell_type": "markdown",
   "metadata": {},
   "source": [
    "# Observations of Data and Actions to Take (Update: 2)\n",
    "\n",
    "The summary data tells us that there are a few areas where the data can be improved upon. Below are initial observations.\n",
    "\n",
    "- ~~The columns ought to be renamed to follow snakecase convention and could be more descriptive.~~\n",
    "\n",
    "- ~~Certain columns are in _object_ type and should be changed to either _int_ or _float_ type in preparation for analysis. Relevant columns include: __price__ and __odometer__.~~\n",
    "\n",
    "- There are columns with _null_ values and these need to be analyzed in order to make descisions on how to handle them. i.e. do we leave these values alone, find and include the missing information, or completely remove the values/rows/columns. Target columns include: __vehicle_type__, __gearbox__, __model__, __fuel_type__, and __unrepaired_damage__.\n",
    "\n",
    "- The __name__ column has information encoded within it that may be worth pulling out into their own columns, such as the model and additional features of the vehicles. Exploration is needed to understand encoded contents.\n",
    "\n",
    "- There are severeal columns that are in German and should be translated for our English speaking audience. Relevant columns include: __seller__, __offer_type__, __vehicle_type__, __gearbox__, __fuel_type__, and __unrepaired_damage__. Similarly, decisions will be made where relevant to best translate for an American audience, such as changing from km to mile.\n",
    "\n",
    "- Several columns represent date values but are not in datetime format. Columns: __date_crawled__, __last_seen__, __ad_created__, __registration_month__, and __registration_year__\n",
    "\n",
    "\n",
    "___\n",
    "\n",
    "- The __date_crawled__ and __last_seen__ columns may not provide useful information.\n",
    "\n",
    "- The __count_picutures__ column does not appear to contain any useful information as all values are zero.\n",
    "\n",
    "- The __registration_year__ appears to have some dirty data, with a min of 1000 and max of 9999.\n",
    "\n",
    "- The __registration_month__ has a numerical month and has 0 for its minimum and 12 for its maximum. This would leave us with 13 months. We should explore whether there are some miscategorized zero values that should begin with 1. \n",
    "\n",
    "- __power_ps__ is the European equivalent of horsepower. 1 PS or metric horsepower(EU) is equivalent to .989632 HP or mechanical horsepower(US). For reference 1,000 HP is attainable, but very rare (and expensive). The maximum we see in our __power_ps__ column of 17,700 is therefore unreasonable. This column should be invesitgated for any cars over 1,000 HP. The conversion formula we will use is HP = (PS / 1.104).\n",
    "\n",
    "- ~~Check whether __odometer__ values are ranges, and if they are clean the data to make it more clear.~~\n",
    "\n",
    "- Several columns are only one of two values. Their value towards analysis should be considered. Relevant columns include: __seller__, __offer_type__, __abtest__, __gearbox__, and __unrepaired_damage__\n",
    "\n",
    "___\n",
    "\n",
    "\n",
    "- ~~Evaluate the extent of bad __pricing__ data and determine the best way to clean the series.~~"
   ]
  },
  {
   "cell_type": "markdown",
   "metadata": {},
   "source": [
    "### Date Range Formatting\n",
    "\n",
    "There are several columns that represent dates and times, but are not in numerical or datetime format. \n",
    "\n",
    "Let's first look at those that are still in object format. __date_crawled__, __last_seen__, and __ad_created__"
   ]
  },
  {
   "cell_type": "code",
   "execution_count": 16,
   "metadata": {},
   "outputs": [
    {
     "name": "stdout",
     "output_type": "stream",
     "text": [
      "          date_crawled            last_seen           ad_created\n",
      "0  2016-03-26 17:47:46  2016-04-06 06:45:54  2016-03-26 00:00:00\n",
      "1  2016-04-04 13:38:56  2016-04-06 14:45:08  2016-04-04 00:00:00\n",
      "2  2016-03-26 18:57:24  2016-04-06 20:15:37  2016-03-26 00:00:00\n",
      "3  2016-03-12 16:58:10  2016-03-15 03:16:28  2016-03-12 00:00:00\n",
      "4  2016-04-01 14:38:50  2016-04-01 14:38:50  2016-04-01 00:00:00\n"
     ]
    }
   ],
   "source": [
    "# print the first five rows of the date_crawled, last_seen, and ad_created columns.\n",
    "print(autos[['date_crawled', 'last_seen', 'ad_created']][:5])"
   ]
  },
  {
   "cell_type": "markdown",
   "metadata": {},
   "source": [
    "We can see that these are uniformly formatted in ((year, month, day) (hour, minute, seconds))"
   ]
  },
  {
   "cell_type": "code",
   "execution_count": 17,
   "metadata": {},
   "outputs": [
    {
     "name": "stdout",
     "output_type": "stream",
     "text": [
      "0    2016-03-26\n",
      "1    2016-04-04\n",
      "2    2016-03-26\n",
      "3    2016-03-12\n",
      "4    2016-04-01\n",
      "5    2016-03-21\n",
      "6    2016-03-20\n",
      "7    2016-03-16\n",
      "8    2016-03-22\n",
      "9    2016-03-16\n",
      "Name: date_crawled, dtype: object\n"
     ]
    }
   ],
   "source": [
    "date_crawled_noclock = autos['date_crawled'].str[:10] # Create a series that saves only the first 10 string values (year-month-day)\n",
    "\n",
    "print(date_crawled_noclock[:10])"
   ]
  },
  {
   "cell_type": "code",
   "execution_count": 18,
   "metadata": {},
   "outputs": [
    {
     "data": {
      "text/plain": [
       "2016-03-05    0.025372\n",
       "2016-03-06    0.014033\n",
       "2016-03-07    0.036047\n",
       "2016-03-08    0.033207\n",
       "2016-03-09    0.033000\n",
       "2016-03-10    0.032274\n",
       "2016-03-11    0.032606\n",
       "2016-03-12    0.036897\n",
       "2016-03-13    0.015671\n",
       "2016-03-14    0.036648\n",
       "2016-03-15    0.034305\n",
       "2016-03-16    0.029455\n",
       "2016-03-17    0.031528\n",
       "2016-03-18    0.012893\n",
       "2016-03-19    0.034762\n",
       "2016-03-20    0.037788\n",
       "2016-03-21    0.037228\n",
       "2016-03-22    0.032917\n",
       "2016-03-23    0.032295\n",
       "2016-03-24    0.029455\n",
       "2016-03-25    0.031507\n",
       "2016-03-26    0.032316\n",
       "2016-03-27    0.031113\n",
       "2016-03-28    0.034948\n",
       "2016-03-29    0.034098\n",
       "2016-03-30    0.033725\n",
       "2016-03-31    0.031860\n",
       "2016-04-01    0.033704\n",
       "2016-04-02    0.035591\n",
       "2016-04-03    0.038596\n",
       "2016-04-04    0.036544\n",
       "2016-04-05    0.013059\n",
       "2016-04-06    0.003171\n",
       "2016-04-07    0.001389\n",
       "Name: date_crawled, dtype: float64"
      ]
     },
     "execution_count": 18,
     "metadata": {},
     "output_type": "execute_result"
    }
   ],
   "source": [
    "date_crawled_noclock.value_counts(normalize=True, dropna=False).sort_index(ascending=True)"
   ]
  },
  {
   "cell_type": "markdown",
   "metadata": {},
   "source": [
    "__date_crawled__ will provide little value to our analysis apart from context. We can see that the website was crawled over a month's time and have fairly even distribution."
   ]
  },
  {
   "cell_type": "code",
   "execution_count": 19,
   "metadata": {},
   "outputs": [
    {
     "name": "stdout",
     "output_type": "stream",
     "text": [
      "0    2016-04-06\n",
      "1    2016-04-06\n",
      "2    2016-04-06\n",
      "3    2016-03-15\n",
      "4    2016-04-01\n",
      "5    2016-04-06\n",
      "6    2016-03-23\n",
      "7    2016-04-07\n",
      "8    2016-03-26\n",
      "9    2016-04-06\n",
      "Name: last_seen, dtype: object\n"
     ]
    }
   ],
   "source": [
    "last_seen_noclock = autos['last_seen'].str[:10] # Create a series that saves only the first 10 string values (year-month-day)\n",
    "\n",
    "print(last_seen_noclock[:10])"
   ]
  },
  {
   "cell_type": "code",
   "execution_count": 20,
   "metadata": {},
   "outputs": [
    {
     "data": {
      "text/plain": [
       "2016-03-05    0.001078\n",
       "2016-03-06    0.004312\n",
       "2016-03-07    0.005431\n",
       "2016-03-08    0.007317\n",
       "2016-03-09    0.009597\n",
       "2016-03-10    0.010634\n",
       "2016-03-11    0.012396\n",
       "2016-03-12    0.023775\n",
       "2016-03-13    0.008872\n",
       "2016-03-14    0.012624\n",
       "2016-03-15    0.015878\n",
       "2016-03-16    0.016438\n",
       "2016-03-17    0.028087\n",
       "2016-03-18    0.007317\n",
       "2016-03-19    0.015795\n",
       "2016-03-20    0.020666\n",
       "2016-03-21    0.020563\n",
       "2016-03-22    0.021350\n",
       "2016-03-23    0.018593\n",
       "2016-03-24    0.019775\n",
       "2016-03-25    0.019132\n",
       "2016-03-26    0.016666\n",
       "2016-03-27    0.015546\n",
       "2016-03-28    0.020853\n",
       "2016-03-29    0.022283\n",
       "2016-03-30    0.024708\n",
       "2016-03-31    0.023817\n",
       "2016-04-01    0.022843\n",
       "2016-04-02    0.024895\n",
       "2016-04-03    0.025123\n",
       "2016-04-04    0.024542\n",
       "2016-04-05    0.125054\n",
       "2016-04-06    0.221939\n",
       "2016-04-07    0.132102\n",
       "Name: last_seen, dtype: float64"
      ]
     },
     "execution_count": 20,
     "metadata": {},
     "output_type": "execute_result"
    }
   ],
   "source": [
    "last_seen_noclock.value_counts(normalize = True, dropna = False).sort_index(ascending = True)"
   ]
  },
  {
   "cell_type": "markdown",
   "metadata": {},
   "source": [
    "__last_seen__ similarly provides context, but little analytical value. More recent dates have a higher distribution, which makes sense because this is a value that is updated with each crawl."
   ]
  },
  {
   "cell_type": "code",
   "execution_count": 21,
   "metadata": {},
   "outputs": [
    {
     "name": "stdout",
     "output_type": "stream",
     "text": [
      "0    2016-03-26\n",
      "1    2016-04-04\n",
      "2    2016-03-26\n",
      "3    2016-03-12\n",
      "4    2016-04-01\n",
      "5    2016-03-21\n",
      "6    2016-03-20\n",
      "7    2016-03-16\n",
      "8    2016-03-22\n",
      "9    2016-03-16\n",
      "Name: ad_created, dtype: object\n"
     ]
    }
   ],
   "source": [
    "ad_created_noclock = autos['ad_created'].str[:10] # Create a series that saves only the first 10 string values (year-month-day)\n",
    "\n",
    "print(ad_created_noclock[:10])"
   ]
  },
  {
   "cell_type": "code",
   "execution_count": 22,
   "metadata": {},
   "outputs": [
    {
     "name": "stdout",
     "output_type": "stream",
     "text": [
      "2015-06-11    0.000021\n",
      "2015-08-10    0.000021\n",
      "2015-09-09    0.000021\n",
      "2015-11-10    0.000021\n",
      "2015-12-05    0.000021\n",
      "Name: ad_created, dtype: float64\n"
     ]
    },
    {
     "data": {
      "text/plain": [
       "2016-03-19    0.033642\n",
       "2016-03-20    0.037850\n",
       "2016-03-21    0.037456\n",
       "2016-03-22    0.032730\n",
       "2016-03-23    0.032129\n",
       "2016-03-24    0.029393\n",
       "2016-03-25    0.031632\n",
       "2016-03-26    0.032378\n",
       "2016-03-27    0.031030\n",
       "2016-03-28    0.035052\n",
       "2016-03-29    0.034057\n",
       "2016-03-30    0.033539\n",
       "2016-03-31    0.031901\n",
       "2016-04-01    0.033684\n",
       "2016-04-02    0.035280\n",
       "2016-04-03    0.038845\n",
       "2016-04-04    0.036897\n",
       "2016-04-05    0.011794\n",
       "2016-04-06    0.003254\n",
       "2016-04-07    0.001244\n",
       "Name: ad_created, dtype: float64"
      ]
     },
     "execution_count": 22,
     "metadata": {},
     "output_type": "execute_result"
    }
   ],
   "source": [
    "print(ad_created_noclock.value_counts(normalize = True, dropna = False).sort_index(ascending = True).head(5))\n",
    "ad_created_noclock.value_counts(normalize = True, dropna = False).sort_index(ascending = True).tail(20)"
   ]
  },
  {
   "cell_type": "markdown",
   "metadata": {},
   "source": [
    "__ad_created__ adds context, but little analytical value. The dates go back to 2015, but there is a higher distribution towards recency. There could be potential for looking into makes/models that don't sell, but there are missing datapoints that would make this viable, such as completed sale history."
   ]
  },
  {
   "cell_type": "markdown",
   "metadata": {},
   "source": [
    "___"
   ]
  },
  {
   "cell_type": "markdown",
   "metadata": {},
   "source": [
    "The two remaining columns that have dates we should evaluate are __registration_year__ and __registration_month__. As noted earlier:\n",
    "\n",
    "- The __registration_year__ appears to have some dirty data, with a min of 1000 and max of 9999.\n",
    "\n",
    "- The __registration_month__ has a numerical month and has 0 for its minimum and 12 for its maximum. This would leave us with 13 months. We should explore whether there are some miscategorized zero values that should begin with 1. \n"
   ]
  },
  {
   "cell_type": "code",
   "execution_count": 23,
   "metadata": {},
   "outputs": [
    {
     "name": "stdout",
     "output_type": "stream",
     "text": [
      "1964    12\n",
      "1963     8\n",
      "1962     4\n",
      "1961     6\n",
      "1960    22\n",
      "1959     6\n",
      "1958     4\n",
      "1957     2\n",
      "1956     4\n",
      "1955     2\n",
      "1954     2\n",
      "1953     1\n",
      "1952     1\n",
      "1951     2\n",
      "1950     1\n",
      "1948     1\n",
      "1943     1\n",
      "1941     2\n",
      "1939     1\n",
      "1938     1\n",
      "1937     4\n",
      "1934     2\n",
      "1931     1\n",
      "1929     1\n",
      "1927     1\n",
      "1910     2\n",
      "1800     2\n",
      "1111     1\n",
      "1001     1\n",
      "1000     1\n",
      "Name: registration_year, dtype: int64\n"
     ]
    }
   ],
   "source": [
    "# Look at the last values' distribution in our registration_year series\n",
    "print(autos['registration_year'].value_counts().sort_index(ascending = False).tail(30))"
   ]
  },
  {
   "cell_type": "markdown",
   "metadata": {},
   "source": [
    "We know the dataset must have a maximum end year of 2016, as the data was pulled in May of 2016. \n",
    "\n",
    "The minimum will require more discretion - cars became popularized in 1908, but the likelihood that these cars are being sold are at least unimportant for the current analysis. Therefore, we will start our count in 1959, right before a popular year with a long sequence of low volume years leading up to it."
   ]
  },
  {
   "cell_type": "code",
   "execution_count": 24,
   "metadata": {},
   "outputs": [],
   "source": [
    "# remove rows with years out of range\n",
    "autos = autos[autos['registration_year'].between(1959,2016)]"
   ]
  },
  {
   "cell_type": "code",
   "execution_count": 25,
   "metadata": {},
   "outputs": [
    {
     "name": "stdout",
     "output_type": "stream",
     "text": [
      "1963     8\n",
      "1962     4\n",
      "1961     6\n",
      "1960    22\n",
      "1959     6\n",
      "Name: registration_year, dtype: int64\n"
     ]
    }
   ],
   "source": [
    "# confirmation our changes were made\n",
    "print(autos['registration_year'].value_counts().sort_index(ascending = False).tail())"
   ]
  },
  {
   "cell_type": "code",
   "execution_count": 26,
   "metadata": {},
   "outputs": [
    {
     "data": {
      "text/plain": [
       "2016    0.025964\n",
       "2015    0.008223\n",
       "2014    0.014288\n",
       "2013    0.017288\n",
       "2012    0.028251\n",
       "2011    0.034920\n",
       "2010    0.034251\n",
       "2009    0.044891\n",
       "2008    0.047697\n",
       "2007    0.049057\n",
       "2006    0.057582\n",
       "2005    0.062848\n",
       "2004    0.058251\n",
       "2003    0.058143\n",
       "2002    0.053460\n",
       "2001    0.056740\n",
       "2000    0.067013\n",
       "1999    0.062136\n",
       "1998    0.050589\n",
       "1997    0.041632\n",
       "1996    0.029287\n",
       "1995    0.025769\n",
       "1994    0.013532\n",
       "1993    0.009065\n",
       "1992    0.007921\n",
       "1991    0.007295\n",
       "1990    0.007165\n",
       "1989    0.003691\n",
       "1988    0.002870\n",
       "1987    0.001554\n",
       "1986    0.001532\n",
       "1985    0.002007\n",
       "1984    0.001101\n",
       "1983    0.001101\n",
       "1982    0.000885\n",
       "1981    0.000583\n",
       "1980    0.001748\n",
       "1979    0.000734\n",
       "1978    0.000906\n",
       "1977    0.000475\n",
       "1976    0.000453\n",
       "1975    0.000388\n",
       "1974    0.000518\n",
       "1973    0.000496\n",
       "1972    0.000712\n",
       "1971    0.000561\n",
       "1970    0.000799\n",
       "1969    0.000410\n",
       "1968    0.000561\n",
       "1967    0.000561\n",
       "1966    0.000475\n",
       "1965    0.000367\n",
       "1964    0.000259\n",
       "1963    0.000173\n",
       "1962    0.000086\n",
       "1961    0.000129\n",
       "1960    0.000475\n",
       "1959    0.000129\n",
       "Name: registration_year, dtype: float64"
      ]
     },
     "execution_count": 26,
     "metadata": {},
     "output_type": "execute_result"
    }
   ],
   "source": [
    "autos['registration_year'].value_counts(normalize=True).sort_index(ascending=False)"
   ]
  },
  {
   "cell_type": "markdown",
   "metadata": {},
   "source": [
    "While there are some interesting years (1980) and (2015), the distribution is as expected. There are more cars on the road, and therefore for sale, in years that are have more recency."
   ]
  },
  {
   "cell_type": "markdown",
   "metadata": {},
   "source": [
    "___"
   ]
  },
  {
   "cell_type": "markdown",
   "metadata": {},
   "source": [
    "Below we see the distribution for __registration_months__ and that there is data that doesn't quite make sense. There are 13 months when we would expect two, indicating there is something wrong with how these values are categorized. Given the fairly even distribution here, we can't assume that those values categorized as '0' should have been in '1' or January. One hypothesis is that '0' months are uncategorized or null. "
   ]
  },
  {
   "cell_type": "code",
   "execution_count": 27,
   "metadata": {},
   "outputs": [
    {
     "data": {
      "text/plain": [
       "0     0.083330\n",
       "1     0.066409\n",
       "2     0.061316\n",
       "3     0.104006\n",
       "4     0.083697\n",
       "5     0.083351\n",
       "6     0.088466\n",
       "7     0.079898\n",
       "8     0.064963\n",
       "9     0.069733\n",
       "10    0.075193\n",
       "11    0.069560\n",
       "12    0.070078\n",
       "Name: registration_month, dtype: float64"
      ]
     },
     "execution_count": 27,
     "metadata": {},
     "output_type": "execute_result"
    }
   ],
   "source": [
    "# create a frequency table of the registration month column - here we converted it to percentages using 'normalize'\n",
    "autos['registration_month'].value_counts(normalize=True, dropna = False).sort_index()"
   ]
  },
  {
   "cell_type": "markdown",
   "metadata": {},
   "source": [
    "To clean the data we will categorize 0 as Nan and all other values equal to their descriptive numerical counterparts. e.g. 1 = January and 12 = December"
   ]
  },
  {
   "cell_type": "code",
   "execution_count": 28,
   "metadata": {},
   "outputs": [],
   "source": [
    "#Create a dictionary with a key value relationship of month number and descriptive month\n",
    "month_dic = {1: 'January', 2: 'February', 3:'March', 4: 'April', \n",
    "             5: 'May', 6: 'June', 7: 'July', 8: 'August', \n",
    "             9: 'September', 10: 'October', 11: 'November', 12: 'December', 0: np.nan}\n",
    "\n",
    "# use the dictionary to map the descriptive months to the numerical key in the registration_month column\n",
    "autos['registration_month'] = autos['registration_month'].map(month_dic)"
   ]
  },
  {
   "cell_type": "code",
   "execution_count": 29,
   "metadata": {},
   "outputs": [
    {
     "data": {
      "text/plain": [
       "April        0.083697\n",
       "August       0.064963\n",
       "December     0.070078\n",
       "February     0.061316\n",
       "January      0.066409\n",
       "July         0.079898\n",
       "June         0.088466\n",
       "March        0.104006\n",
       "May          0.083351\n",
       "November     0.069560\n",
       "October      0.075193\n",
       "September    0.069733\n",
       "NaN          0.083330\n",
       "Name: registration_month, dtype: float64"
      ]
     },
     "execution_count": 29,
     "metadata": {},
     "output_type": "execute_result"
    }
   ],
   "source": [
    "# Check that the values have changed by running the same code as before\n",
    "autos['registration_month'].value_counts(normalize=True, dropna = False).sort_index()"
   ]
  },
  {
   "cell_type": "markdown",
   "metadata": {},
   "source": [
    "The remapping of our value keys was successful, however they are now out of order. We will recreate that order below."
   ]
  },
  {
   "cell_type": "code",
   "execution_count": 30,
   "metadata": {},
   "outputs": [],
   "source": [
    "# Create a list that matches exactly the values we want to sort and in their proper order\n",
    "months = [\"January\", 'February', 'March', 'April', 'May', 'June', 'July', 'August', 'September', 'October', 'November', 'December']\n",
    "# Use pandas categorical to create an ordered relationship for the months list that will be applied to the series\n",
    "autos['registration_month'] = pd.Categorical(autos['registration_month'], categories = months, ordered = True)"
   ]
  },
  {
   "cell_type": "code",
   "execution_count": 31,
   "metadata": {
    "scrolled": true
   },
   "outputs": [
    {
     "data": {
      "text/plain": [
       "January      0.072446\n",
       "February     0.066890\n",
       "March        0.113460\n",
       "April        0.091305\n",
       "May          0.090928\n",
       "June         0.096508\n",
       "July         0.087161\n",
       "August       0.070869\n",
       "September    0.076072\n",
       "October      0.082029\n",
       "November     0.075884\n",
       "December     0.076449\n",
       "Name: registration_month, dtype: float64"
      ]
     },
     "execution_count": 31,
     "metadata": {},
     "output_type": "execute_result"
    }
   ],
   "source": [
    "# Check that values have changed and drop the NaN values\n",
    "autos['registration_month'].value_counts(normalize=True, dropna = True).sort_index()"
   ]
  },
  {
   "cell_type": "markdown",
   "metadata": {},
   "source": [
    "__registration_months__ tells us the month in which a car was first registered, something that happens when a new car is purchased. We can assume that there is a correlation between __registration_months__ and <u>new car</u> purchase behavior. \n",
    "\n",
    "There is an uptick in car registrations in the early-mid months of the year, March to July. This may be a seasonal behavior where people have an increased tendency to buy cars in the Spring and Summer months. Insight will be passed to marketing for further investigation."
   ]
  },
  {
   "cell_type": "markdown",
   "metadata": {},
   "source": [
    "# Observations of Data and Actions to Take (Update: 3)\n",
    "\n",
    "The summary data tells us that there are a few areas where the data can be improved upon. Below are initial observations.\n",
    "\n",
    "- ~~The columns ought to be renamed to follow snakecase convention and could be more descriptive.~~\n",
    "\n",
    "- ~~Certain columns are in _object_ type and should be changed to either _int_ or _float_ type in preparation for analysis. Relevant columns include: __price__ and __odometer__.~~\n",
    "\n",
    "- There are columns with _null_ values and these need to be analyzed in order to make descisions on how to handle them. i.e. do we leave these values alone, find and include the missing information, or completely remove the values/rows/columns. Target columns include: __vehicle_type__, __gearbox__, __model__, __fuel_type__, and __unrepaired_damage__.\n",
    "\n",
    "- The __name__ column has information encoded within it that may be worth pulling out into their own columns, such as the model and additional features of the vehicles. Exploration is needed to understand encoded contents.\n",
    "\n",
    "- There are severeal columns that are in German and should be translated for our English speaking audience. Relevant columns include: __seller__, __offer_type__, __vehicle_type__, __gearbox__, __fuel_type__, and __unrepaired_damage__. Similarly, decisions will be made where relevant to best translate for an American audience, such as changing from km to mile.\n",
    "\n",
    "- ~~Several columns represent date values but are not in datetime format. Columns: __date_crawled__, __last_seen__, __ad_created__, __registration_month__, and __registration_year__~~\n",
    "\n",
    "\n",
    "___\n",
    "\n",
    "- ~~The __date_crawled__ and __last_seen__ columns may not provide useful information.~~\n",
    "\n",
    "- The __count_picutures__ column does not appear to contain any useful information as all values are zero.\n",
    "\n",
    "- ~~The __registration_year__ appears to have some dirty data, with a min of 1000 and max of 9999.~~\n",
    "\n",
    "- ~~The __registration_month__ has a numerical month and has 0 for its minimum and 12 for its maximum. This would leave us with 13 months. We should explore whether there are some miscategorized zero values that should begin with 1. ~~\n",
    "\n",
    "- __power_ps__ is the European equivalent of horsepower. 1 PS or metric horsepower(EU) is equivalent to .989632 HP or mechanical horsepower(US). For reference 1,000 HP is attainable, but very rare (and expensive). The maximum we see in our __power_ps__ column of 17,700 is therefore unreasonable. This column should be invesitgated for any cars over 1,000 HP. The conversion formula we will use is HP = (PS / 1.104).\n",
    "\n",
    "- ~~Check whether __odometer__ values are ranges, and if they are clean the data to make it more clear.~~\n",
    "\n",
    "- Several columns are only one of two values. Their value towards analysis should be considered. Relevant columns include: __seller__, __offer_type__, __abtest__, __gearbox__, and __unrepaired_damage__\n",
    "\n",
    "___\n",
    "\n",
    "\n",
    "- ~~Evaluate the extent of bad __pricing__ data and determine the best way to clean the series.~~\n",
    "\n",
    "- Do certain car __brands__ or __models__ have increased __registrations_month__ than other car brands? (There is a loose link between registration and purchase)"
   ]
  },
  {
   "cell_type": "markdown",
   "metadata": {},
   "source": [
    "### Americanizing the Dataset"
   ]
  },
  {
   "cell_type": "markdown",
   "metadata": {},
   "source": [
    "The data was pulled from a German website and is a sample of the used German car market. However, our audience is assumed to be American, and so data should be changed to make it more understandable.\n",
    "\n",
    "We'll start by cleaning the column of bad data and changing the __power_ps__ column to horsepower."
   ]
  },
  {
   "cell_type": "code",
   "execution_count": 32,
   "metadata": {},
   "outputs": [
    {
     "data": {
      "text/plain": [
       "0    158\n",
       "1    286\n",
       "2    102\n",
       "3     71\n",
       "4      0\n",
       "5    150\n",
       "6     90\n",
       "7     90\n",
       "8      0\n",
       "9     90\n",
       "Name: power_ps, dtype: int64"
      ]
     },
     "execution_count": 32,
     "metadata": {},
     "output_type": "execute_result"
    }
   ],
   "source": [
    "# View dataset in PS\n",
    "autos['power_ps'][:10]"
   ]
  },
  {
   "cell_type": "code",
   "execution_count": 33,
   "metadata": {},
   "outputs": [],
   "source": [
    "# all rows from PS to HP\n",
    "autos['power_ps'] = autos['power_ps'] / 1.104\n",
    "# round answers for readability (assuming we won't be doing scientific analysis)\n",
    "autos['power_ps'] = autos['power_ps'].round(2)"
   ]
  },
  {
   "cell_type": "code",
   "execution_count": 34,
   "metadata": {},
   "outputs": [
    {
     "data": {
      "text/plain": [
       "0    143.12\n",
       "1    259.06\n",
       "2     92.39\n",
       "3     64.31\n",
       "4      0.00\n",
       "5    135.87\n",
       "6     81.52\n",
       "7     81.52\n",
       "8      0.00\n",
       "9     81.52\n",
       "Name: power_ps, dtype: float64"
      ]
     },
     "execution_count": 34,
     "metadata": {},
     "output_type": "execute_result"
    }
   ],
   "source": [
    "# view dataset in HP\n",
    "autos['power_ps'][:10]"
   ]
  },
  {
   "cell_type": "code",
   "execution_count": 35,
   "metadata": {},
   "outputs": [],
   "source": [
    "# rename columns to horse_power\n",
    "autos.rename({'power_ps':'horse_power'}, axis = 1, inplace = True)"
   ]
  },
  {
   "cell_type": "code",
   "execution_count": 36,
   "metadata": {},
   "outputs": [
    {
     "data": {
      "text/html": [
       "<div>\n",
       "<style scoped>\n",
       "    .dataframe tbody tr th:only-of-type {\n",
       "        vertical-align: middle;\n",
       "    }\n",
       "\n",
       "    .dataframe tbody tr th {\n",
       "        vertical-align: top;\n",
       "    }\n",
       "\n",
       "    .dataframe thead th {\n",
       "        text-align: right;\n",
       "    }\n",
       "</style>\n",
       "<table border=\"1\" class=\"dataframe\">\n",
       "  <thead>\n",
       "    <tr style=\"text-align: right;\">\n",
       "      <th></th>\n",
       "      <th>date_crawled</th>\n",
       "      <th>name</th>\n",
       "      <th>seller</th>\n",
       "      <th>offer_type</th>\n",
       "      <th>price</th>\n",
       "      <th>abtest</th>\n",
       "      <th>vehicle_type</th>\n",
       "      <th>registration_year</th>\n",
       "      <th>gearbox</th>\n",
       "      <th>horse_power</th>\n",
       "      <th>model</th>\n",
       "      <th>odometer_km</th>\n",
       "      <th>registration_month</th>\n",
       "      <th>fuel_type</th>\n",
       "      <th>brand</th>\n",
       "      <th>unrepaired_damage</th>\n",
       "      <th>ad_created</th>\n",
       "      <th>count_pictures</th>\n",
       "      <th>postal_code</th>\n",
       "      <th>last_seen</th>\n",
       "    </tr>\n",
       "  </thead>\n",
       "  <tbody>\n",
       "    <tr>\n",
       "      <th>0</th>\n",
       "      <td>2016-03-26 17:47:46</td>\n",
       "      <td>Peugeot_807_160_NAVTECH_ON_BOARD</td>\n",
       "      <td>privat</td>\n",
       "      <td>Angebot</td>\n",
       "      <td>5000.0</td>\n",
       "      <td>control</td>\n",
       "      <td>bus</td>\n",
       "      <td>2004</td>\n",
       "      <td>manuell</td>\n",
       "      <td>143.12</td>\n",
       "      <td>andere</td>\n",
       "      <td>150000</td>\n",
       "      <td>March</td>\n",
       "      <td>lpg</td>\n",
       "      <td>peugeot</td>\n",
       "      <td>nein</td>\n",
       "      <td>2016-03-26 00:00:00</td>\n",
       "      <td>0</td>\n",
       "      <td>79588</td>\n",
       "      <td>2016-04-06 06:45:54</td>\n",
       "    </tr>\n",
       "  </tbody>\n",
       "</table>\n",
       "</div>"
      ],
      "text/plain": [
       "          date_crawled                              name  seller offer_type  \\\n",
       "0  2016-03-26 17:47:46  Peugeot_807_160_NAVTECH_ON_BOARD  privat    Angebot   \n",
       "\n",
       "    price   abtest vehicle_type  registration_year  gearbox  horse_power  \\\n",
       "0  5000.0  control          bus               2004  manuell       143.12   \n",
       "\n",
       "    model  odometer_km registration_month fuel_type    brand  \\\n",
       "0  andere       150000              March       lpg  peugeot   \n",
       "\n",
       "  unrepaired_damage           ad_created  count_pictures  postal_code  \\\n",
       "0              nein  2016-03-26 00:00:00               0        79588   \n",
       "\n",
       "             last_seen  \n",
       "0  2016-04-06 06:45:54  "
      ]
     },
     "execution_count": 36,
     "metadata": {},
     "output_type": "execute_result"
    }
   ],
   "source": [
    "autos[:1]"
   ]
  },
  {
   "cell_type": "markdown",
   "metadata": {},
   "source": [
    "We've now converted the values into HP and renamed them. \n",
    "\n",
    "Now let's examine the unrealistic HP values."
   ]
  },
  {
   "cell_type": "code",
   "execution_count": 37,
   "metadata": {},
   "outputs": [],
   "source": [
    "# boolean that targets HP above 1000\n",
    "high_hp_bool = autos['horse_power'] > 1000"
   ]
  },
  {
   "cell_type": "code",
   "execution_count": 38,
   "metadata": {},
   "outputs": [
    {
     "name": "stdout",
     "output_type": "stream",
     "text": [
      "horse_power  model     brand          price \n",
      "1088.77      scenic    renault        1600.0    1\n",
      "1177.54      kaefer    volkswagen     3950.0    1\n",
      "1238.22      3_reihe   peugeot        3500.0    1\n",
      "1266.30      corolla   toyota         3200.0    1\n",
      "1268.12      a_klasse  mercedes_benz  750.0     1\n",
      "             touran    volkswagen     9900.0    1\n",
      "1272.64      passat    volkswagen     5400.0    1\n",
      "1543.48      e_klasse  mercedes_benz  2200.0    1\n",
      "1587.86      focus     ford           600.0     1\n",
      "1604.17      e_klasse  mercedes_benz  9500.0    1\n",
      "dtype: int64\n"
     ]
    }
   ],
   "source": [
    "# create an dataframe object that \n",
    "high_hp = autos.loc[high_hp_bool,['horse_power','model','brand','price']].value_counts().sort_index().head(10)\n",
    "print(high_hp)"
   ]
  },
  {
   "cell_type": "code",
   "execution_count": 39,
   "metadata": {},
   "outputs": [],
   "source": [
    "# boolean that targets HP below 50\n",
    "low_hp_bool = autos['horse_power'] < 50"
   ]
  },
  {
   "cell_type": "code",
   "execution_count": 40,
   "metadata": {},
   "outputs": [
    {
     "name": "stdout",
     "output_type": "stream",
     "text": [
      "horse_power  model  brand       price \n",
      "0.0          100    audi        150.0     1\n",
      "                                450.0     1\n",
      "                                499.0     1\n",
      "                                1984.0    1\n",
      "             145    alfa_romeo  200.0     1\n",
      "                                500.0     1\n",
      "             147    alfa_romeo  550.0     1\n",
      "                                850.0     1\n",
      "                                1000.0    1\n",
      "                                1200.0    1\n",
      "dtype: int64\n"
     ]
    }
   ],
   "source": [
    "low_hp = autos.loc[low_hp_bool,['horse_power','model','brand','price']].value_counts().sort_index().head(10)\n",
    "print(low_hp)"
   ]
  },
  {
   "cell_type": "markdown",
   "metadata": {},
   "source": [
    "There are values of horse power that are unrealistic for the car make and model they're attached to. Due to time constraints, we will change values above 1,000 HP and below 50 (the lowest HP model of car in production today is 66) to NaN values rather than finding the outliers."
   ]
  },
  {
   "cell_type": "code",
   "execution_count": 41,
   "metadata": {},
   "outputs": [],
   "source": [
    "# combine the bools of the undesirable values we want to remove\n",
    "new_null_hp_bool = low_hp_bool | high_hp_bool"
   ]
  },
  {
   "cell_type": "code",
   "execution_count": 42,
   "metadata": {},
   "outputs": [],
   "source": [
    "# replace the HP of unrealistic values into NaN\n",
    "autos.loc[new_null_hp_bool, 'horse_power'] = np.nan"
   ]
  },
  {
   "cell_type": "code",
   "execution_count": 43,
   "metadata": {},
   "outputs": [
    {
     "data": {
      "text/plain": [
       "50.72       36\n",
       "51.63       22\n",
       "52.54      479\n",
       "53.44       29\n",
       "54.35     2010\n",
       "          ... \n",
       "956.52       1\n",
       "980.07       1\n",
       "987.32       1\n",
       "999.09       1\n",
       "NaN       6661\n",
       "Name: horse_power, Length: 358, dtype: int64"
      ]
     },
     "execution_count": 43,
     "metadata": {},
     "output_type": "execute_result"
    }
   ],
   "source": [
    "# check that work is complete\n",
    "autos['horse_power'].value_counts(dropna = False).sort_index()"
   ]
  },
  {
   "cell_type": "markdown",
   "metadata": {},
   "source": [
    "### Americanizing the Dataset (part 2)"
   ]
  },
  {
   "cell_type": "markdown",
   "metadata": {},
   "source": [
    "Next we will work towards translating key values from German to English. First, let's identify what those are from the columns we identified earlier. \n",
    "\n",
    "Relevant columns: __seller__, __offer_type__, __vehicle_type__, __gearbox__, __fuel_type__, and __unrepaired_damage__"
   ]
  },
  {
   "cell_type": "markdown",
   "metadata": {},
   "source": [
    "___\n",
    "#### Translating seller Column"
   ]
  },
  {
   "cell_type": "code",
   "execution_count": 44,
   "metadata": {},
   "outputs": [
    {
     "name": "stdout",
     "output_type": "stream",
     "text": [
      "['privat' 'gewerblich']\n"
     ]
    }
   ],
   "source": [
    "# print the unique values in the seller column\n",
    "print(autos['seller'].unique())"
   ]
  },
  {
   "cell_type": "markdown",
   "metadata": {},
   "source": [
    "Translating these into English, 'privat' represents a private seller, while 'gewerblich' represents a commercial seller. Let's replace these with 'private' and 'dealership' respectively. "
   ]
  },
  {
   "cell_type": "code",
   "execution_count": 45,
   "metadata": {},
   "outputs": [
    {
     "name": "stdout",
     "output_type": "stream",
     "text": [
      "['private' 'dealership']\n"
     ]
    }
   ],
   "source": [
    "# replace seller column German values with English ones\n",
    "autos.loc[autos['seller'] == 'privat','seller'] = 'private'\n",
    "autos.loc[autos['seller'] == 'gewerblich','seller'] = 'dealership'\n",
    "# check that the values have changed\n",
    "print(autos['seller'].unique())"
   ]
  },
  {
   "cell_type": "markdown",
   "metadata": {},
   "source": [
    "___\n",
    "#### Translating offer_type Column"
   ]
  },
  {
   "cell_type": "code",
   "execution_count": 46,
   "metadata": {},
   "outputs": [
    {
     "name": "stdout",
     "output_type": "stream",
     "text": [
      "['Angebot']\n"
     ]
    }
   ],
   "source": [
    "print(autos['offer_type'].unique())"
   ]
  },
  {
   "cell_type": "markdown",
   "metadata": {},
   "source": [
    "There is only one value that translates to offer. This offers no analytical value and we will remove the column."
   ]
  },
  {
   "cell_type": "code",
   "execution_count": 47,
   "metadata": {},
   "outputs": [
    {
     "name": "stdout",
     "output_type": "stream",
     "text": [
      "Index(['date_crawled', 'name', 'seller', 'price', 'abtest', 'vehicle_type',\n",
      "       'registration_year', 'gearbox', 'horse_power', 'model', 'odometer_km',\n",
      "       'registration_month', 'fuel_type', 'brand', 'unrepaired_damage',\n",
      "       'ad_created', 'count_pictures', 'postal_code', 'last_seen'],\n",
      "      dtype='object')\n"
     ]
    }
   ],
   "source": [
    "# delete the offer_type column\n",
    "del autos['offer_type']\n",
    "#print columns to confirm \n",
    "print(autos.columns)"
   ]
  },
  {
   "cell_type": "markdown",
   "metadata": {},
   "source": [
    "___\n",
    "#### Translating vehicle_type Column"
   ]
  },
  {
   "cell_type": "code",
   "execution_count": 48,
   "metadata": {},
   "outputs": [
    {
     "name": "stdout",
     "output_type": "stream",
     "text": [
      "['bus' 'limousine' 'kleinwagen' 'kombi' nan 'coupe' 'suv' 'cabrio'\n",
      " 'andere']\n"
     ]
    }
   ],
   "source": [
    "print(autos['vehicle_type'].unique())"
   ]
  },
  {
   "cell_type": "markdown",
   "metadata": {},
   "source": [
    "Note: translations were not always apparent. Searching car models falling within the vehicle types and using discretion is how this dictionary was defined.\n",
    "\n",
    "bus: van  \n",
    "limousine: sedan  \n",
    "kleinwagen: compact  \n",
    "kombi: crossover  \n",
    "coupe: coupe  \n",
    "suv: suv  \n",
    "cabrio: convertible  \n",
    "andere: other  "
   ]
  },
  {
   "cell_type": "code",
   "execution_count": 49,
   "metadata": {},
   "outputs": [],
   "source": [
    "# create a dictionary that creates a english value with a german key\n",
    "vt_en = {'bus': 'van', 'limousine': 'sedan', 'kleinwagen': 'compact', 'kombi':'crossover', 'coupe': 'coupe', 'suv':'suv', 'cabrio': 'convertible','andere':'other'}\n",
    "# \n",
    "autos['vehicle_type'] = autos['vehicle_type'].map(vt_en)"
   ]
  },
  {
   "cell_type": "code",
   "execution_count": 50,
   "metadata": {},
   "outputs": [
    {
     "name": "stdout",
     "output_type": "stream",
     "text": [
      "['van' 'sedan' 'compact' 'crossover' nan 'coupe' 'suv' 'convertible'\n",
      " 'other']\n"
     ]
    }
   ],
   "source": [
    "print(autos['vehicle_type'].unique())"
   ]
  },
  {
   "cell_type": "markdown",
   "metadata": {},
   "source": [
    "The values were successfully swapped with English values. We will opt not to classify the other column with the NaN values because there may be analytical value in why these are classified this way."
   ]
  },
  {
   "cell_type": "markdown",
   "metadata": {},
   "source": [
    "___\n",
    "#### Translating gearbox Column"
   ]
  },
  {
   "cell_type": "code",
   "execution_count": 51,
   "metadata": {},
   "outputs": [
    {
     "name": "stdout",
     "output_type": "stream",
     "text": [
      "['manuell' 'automatik' nan]\n"
     ]
    }
   ],
   "source": [
    "print(autos['gearbox'].unique())"
   ]
  },
  {
   "cell_type": "markdown",
   "metadata": {},
   "source": [
    "We will replace 'manuell' with 'manual' and 'automatik' with automatic."
   ]
  },
  {
   "cell_type": "code",
   "execution_count": 52,
   "metadata": {},
   "outputs": [
    {
     "name": "stdout",
     "output_type": "stream",
     "text": [
      "['manual' 'automatic' nan]\n"
     ]
    }
   ],
   "source": [
    "autos.loc[autos['gearbox'] == 'manuell', 'gearbox'] = 'manual'\n",
    "autos.loc[autos['gearbox'] == 'automatik', 'gearbox'] = 'automatic'\n",
    "\n",
    "print(autos['gearbox'].unique())"
   ]
  },
  {
   "cell_type": "markdown",
   "metadata": {},
   "source": [
    "___\n",
    "#### Translating fuel_type Column"
   ]
  },
  {
   "cell_type": "code",
   "execution_count": 53,
   "metadata": {},
   "outputs": [
    {
     "name": "stdout",
     "output_type": "stream",
     "text": [
      "['lpg' 'benzin' 'diesel' nan 'cng' 'hybrid' 'elektro' 'andere']\n"
     ]
    }
   ],
   "source": [
    "print(autos['fuel_type'].unique())"
   ]
  },
  {
   "cell_type": "markdown",
   "metadata": {},
   "source": [
    "Below we will place the translations directly into our working dictionary. "
   ]
  },
  {
   "cell_type": "code",
   "execution_count": 54,
   "metadata": {},
   "outputs": [
    {
     "name": "stdout",
     "output_type": "stream",
     "text": [
      "['propane' 'gasoline' 'diesel' nan 'compressed natural gas' 'hybrid'\n",
      " 'electric' 'other']\n"
     ]
    }
   ],
   "source": [
    "#dictionary with our German fuel types translated\n",
    "ft_en = {'lpg': 'propane', 'benzin': 'gasoline', 'diesel': 'diesel', 'cng': 'compressed natural gas', 'hybrid': 'hybrid', 'elektro':'electric','andere':'other'}\n",
    "\n",
    "# map the english translations over the german ones\n",
    "autos['fuel_type'] = autos['fuel_type'].map(ft_en)\n",
    "\n",
    "# check the work\n",
    "print(autos['fuel_type'].unique())"
   ]
  },
  {
   "cell_type": "markdown",
   "metadata": {},
   "source": [
    "___\n",
    "#### Translating unrepaired_damage Column"
   ]
  },
  {
   "cell_type": "code",
   "execution_count": 55,
   "metadata": {},
   "outputs": [
    {
     "name": "stdout",
     "output_type": "stream",
     "text": [
      "['nein' nan 'ja']\n"
     ]
    }
   ],
   "source": [
    "print(autos['unrepaired_damage'].unique())"
   ]
  },
  {
   "cell_type": "markdown",
   "metadata": {},
   "source": [
    "We will replace 'nein' with no and 'ja' with yes. "
   ]
  },
  {
   "cell_type": "code",
   "execution_count": 56,
   "metadata": {},
   "outputs": [
    {
     "name": "stdout",
     "output_type": "stream",
     "text": [
      "['no' nan 'yes']\n"
     ]
    }
   ],
   "source": [
    "autos.loc[autos['unrepaired_damage'] == 'nein', 'unrepaired_damage'] = 'no'\n",
    "autos.loc[autos['unrepaired_damage'] == 'ja', 'unrepaired_damage'] = 'yes'\n",
    "\n",
    "print(autos['unrepaired_damage'].unique())"
   ]
  },
  {
   "cell_type": "markdown",
   "metadata": {},
   "source": [
    "___"
   ]
  },
  {
   "cell_type": "code",
   "execution_count": 57,
   "metadata": {},
   "outputs": [
    {
     "data": {
      "text/html": [
       "<div>\n",
       "<style scoped>\n",
       "    .dataframe tbody tr th:only-of-type {\n",
       "        vertical-align: middle;\n",
       "    }\n",
       "\n",
       "    .dataframe tbody tr th {\n",
       "        vertical-align: top;\n",
       "    }\n",
       "\n",
       "    .dataframe thead th {\n",
       "        text-align: right;\n",
       "    }\n",
       "</style>\n",
       "<table border=\"1\" class=\"dataframe\">\n",
       "  <thead>\n",
       "    <tr style=\"text-align: right;\">\n",
       "      <th></th>\n",
       "      <th>date_crawled</th>\n",
       "      <th>name</th>\n",
       "      <th>seller</th>\n",
       "      <th>price</th>\n",
       "      <th>abtest</th>\n",
       "      <th>vehicle_type</th>\n",
       "      <th>registration_year</th>\n",
       "      <th>gearbox</th>\n",
       "      <th>horse_power</th>\n",
       "      <th>model</th>\n",
       "      <th>odometer_km</th>\n",
       "      <th>registration_month</th>\n",
       "      <th>fuel_type</th>\n",
       "      <th>brand</th>\n",
       "      <th>unrepaired_damage</th>\n",
       "      <th>ad_created</th>\n",
       "      <th>count_pictures</th>\n",
       "      <th>postal_code</th>\n",
       "      <th>last_seen</th>\n",
       "    </tr>\n",
       "  </thead>\n",
       "  <tbody>\n",
       "    <tr>\n",
       "      <th>0</th>\n",
       "      <td>2016-03-26 17:47:46</td>\n",
       "      <td>Peugeot_807_160_NAVTECH_ON_BOARD</td>\n",
       "      <td>private</td>\n",
       "      <td>5000.0</td>\n",
       "      <td>control</td>\n",
       "      <td>van</td>\n",
       "      <td>2004</td>\n",
       "      <td>manual</td>\n",
       "      <td>143.12</td>\n",
       "      <td>andere</td>\n",
       "      <td>150000</td>\n",
       "      <td>March</td>\n",
       "      <td>propane</td>\n",
       "      <td>peugeot</td>\n",
       "      <td>no</td>\n",
       "      <td>2016-03-26 00:00:00</td>\n",
       "      <td>0</td>\n",
       "      <td>79588</td>\n",
       "      <td>2016-04-06 06:45:54</td>\n",
       "    </tr>\n",
       "    <tr>\n",
       "      <th>1</th>\n",
       "      <td>2016-04-04 13:38:56</td>\n",
       "      <td>BMW_740i_4_4_Liter_HAMANN_UMBAU_Mega_Optik</td>\n",
       "      <td>private</td>\n",
       "      <td>8500.0</td>\n",
       "      <td>control</td>\n",
       "      <td>sedan</td>\n",
       "      <td>1997</td>\n",
       "      <td>automatic</td>\n",
       "      <td>259.06</td>\n",
       "      <td>7er</td>\n",
       "      <td>150000</td>\n",
       "      <td>June</td>\n",
       "      <td>gasoline</td>\n",
       "      <td>bmw</td>\n",
       "      <td>no</td>\n",
       "      <td>2016-04-04 00:00:00</td>\n",
       "      <td>0</td>\n",
       "      <td>71034</td>\n",
       "      <td>2016-04-06 14:45:08</td>\n",
       "    </tr>\n",
       "    <tr>\n",
       "      <th>2</th>\n",
       "      <td>2016-03-26 18:57:24</td>\n",
       "      <td>Volkswagen_Golf_1.6_United</td>\n",
       "      <td>private</td>\n",
       "      <td>8990.0</td>\n",
       "      <td>test</td>\n",
       "      <td>sedan</td>\n",
       "      <td>2009</td>\n",
       "      <td>manual</td>\n",
       "      <td>92.39</td>\n",
       "      <td>golf</td>\n",
       "      <td>70000</td>\n",
       "      <td>July</td>\n",
       "      <td>gasoline</td>\n",
       "      <td>volkswagen</td>\n",
       "      <td>no</td>\n",
       "      <td>2016-03-26 00:00:00</td>\n",
       "      <td>0</td>\n",
       "      <td>35394</td>\n",
       "      <td>2016-04-06 20:15:37</td>\n",
       "    </tr>\n",
       "    <tr>\n",
       "      <th>3</th>\n",
       "      <td>2016-03-12 16:58:10</td>\n",
       "      <td>Smart_smart_fortwo_coupe_softouch/F1/Klima/Pan...</td>\n",
       "      <td>private</td>\n",
       "      <td>4350.0</td>\n",
       "      <td>control</td>\n",
       "      <td>compact</td>\n",
       "      <td>2007</td>\n",
       "      <td>automatic</td>\n",
       "      <td>64.31</td>\n",
       "      <td>fortwo</td>\n",
       "      <td>70000</td>\n",
       "      <td>June</td>\n",
       "      <td>gasoline</td>\n",
       "      <td>smart</td>\n",
       "      <td>no</td>\n",
       "      <td>2016-03-12 00:00:00</td>\n",
       "      <td>0</td>\n",
       "      <td>33729</td>\n",
       "      <td>2016-03-15 03:16:28</td>\n",
       "    </tr>\n",
       "    <tr>\n",
       "      <th>4</th>\n",
       "      <td>2016-04-01 14:38:50</td>\n",
       "      <td>Ford_Focus_1_6_Benzin_TÜV_neu_ist_sehr_gepfleg...</td>\n",
       "      <td>private</td>\n",
       "      <td>1350.0</td>\n",
       "      <td>test</td>\n",
       "      <td>crossover</td>\n",
       "      <td>2003</td>\n",
       "      <td>manual</td>\n",
       "      <td>NaN</td>\n",
       "      <td>focus</td>\n",
       "      <td>150000</td>\n",
       "      <td>July</td>\n",
       "      <td>gasoline</td>\n",
       "      <td>ford</td>\n",
       "      <td>no</td>\n",
       "      <td>2016-04-01 00:00:00</td>\n",
       "      <td>0</td>\n",
       "      <td>39218</td>\n",
       "      <td>2016-04-01 14:38:50</td>\n",
       "    </tr>\n",
       "    <tr>\n",
       "      <th>...</th>\n",
       "      <td>...</td>\n",
       "      <td>...</td>\n",
       "      <td>...</td>\n",
       "      <td>...</td>\n",
       "      <td>...</td>\n",
       "      <td>...</td>\n",
       "      <td>...</td>\n",
       "      <td>...</td>\n",
       "      <td>...</td>\n",
       "      <td>...</td>\n",
       "      <td>...</td>\n",
       "      <td>...</td>\n",
       "      <td>...</td>\n",
       "      <td>...</td>\n",
       "      <td>...</td>\n",
       "      <td>...</td>\n",
       "      <td>...</td>\n",
       "      <td>...</td>\n",
       "      <td>...</td>\n",
       "    </tr>\n",
       "    <tr>\n",
       "      <th>49995</th>\n",
       "      <td>2016-03-27 14:38:19</td>\n",
       "      <td>Audi_Q5_3.0_TDI_qu._S_tr.__Navi__Panorama__Xenon</td>\n",
       "      <td>private</td>\n",
       "      <td>24900.0</td>\n",
       "      <td>control</td>\n",
       "      <td>sedan</td>\n",
       "      <td>2011</td>\n",
       "      <td>automatic</td>\n",
       "      <td>216.49</td>\n",
       "      <td>q5</td>\n",
       "      <td>100000</td>\n",
       "      <td>January</td>\n",
       "      <td>diesel</td>\n",
       "      <td>audi</td>\n",
       "      <td>no</td>\n",
       "      <td>2016-03-27 00:00:00</td>\n",
       "      <td>0</td>\n",
       "      <td>82131</td>\n",
       "      <td>2016-04-01 13:47:40</td>\n",
       "    </tr>\n",
       "    <tr>\n",
       "      <th>49996</th>\n",
       "      <td>2016-03-28 10:50:25</td>\n",
       "      <td>Opel_Astra_F_Cabrio_Bertone_Edition___TÜV_neu+...</td>\n",
       "      <td>private</td>\n",
       "      <td>1980.0</td>\n",
       "      <td>control</td>\n",
       "      <td>convertible</td>\n",
       "      <td>1996</td>\n",
       "      <td>manual</td>\n",
       "      <td>67.93</td>\n",
       "      <td>astra</td>\n",
       "      <td>150000</td>\n",
       "      <td>May</td>\n",
       "      <td>gasoline</td>\n",
       "      <td>opel</td>\n",
       "      <td>no</td>\n",
       "      <td>2016-03-28 00:00:00</td>\n",
       "      <td>0</td>\n",
       "      <td>44807</td>\n",
       "      <td>2016-04-02 14:18:02</td>\n",
       "    </tr>\n",
       "    <tr>\n",
       "      <th>49997</th>\n",
       "      <td>2016-04-02 14:44:48</td>\n",
       "      <td>Fiat_500_C_1.2_Dualogic_Lounge</td>\n",
       "      <td>private</td>\n",
       "      <td>13200.0</td>\n",
       "      <td>test</td>\n",
       "      <td>convertible</td>\n",
       "      <td>2014</td>\n",
       "      <td>automatic</td>\n",
       "      <td>62.50</td>\n",
       "      <td>500</td>\n",
       "      <td>5000</td>\n",
       "      <td>November</td>\n",
       "      <td>gasoline</td>\n",
       "      <td>fiat</td>\n",
       "      <td>no</td>\n",
       "      <td>2016-04-02 00:00:00</td>\n",
       "      <td>0</td>\n",
       "      <td>73430</td>\n",
       "      <td>2016-04-04 11:47:27</td>\n",
       "    </tr>\n",
       "    <tr>\n",
       "      <th>49998</th>\n",
       "      <td>2016-03-08 19:25:42</td>\n",
       "      <td>Audi_A3_2.0_TDI_Sportback_Ambition</td>\n",
       "      <td>private</td>\n",
       "      <td>22900.0</td>\n",
       "      <td>control</td>\n",
       "      <td>crossover</td>\n",
       "      <td>2013</td>\n",
       "      <td>manual</td>\n",
       "      <td>135.87</td>\n",
       "      <td>a3</td>\n",
       "      <td>40000</td>\n",
       "      <td>November</td>\n",
       "      <td>diesel</td>\n",
       "      <td>audi</td>\n",
       "      <td>no</td>\n",
       "      <td>2016-03-08 00:00:00</td>\n",
       "      <td>0</td>\n",
       "      <td>35683</td>\n",
       "      <td>2016-04-05 16:45:07</td>\n",
       "    </tr>\n",
       "    <tr>\n",
       "      <th>49999</th>\n",
       "      <td>2016-03-14 00:42:12</td>\n",
       "      <td>Opel_Vectra_1.6_16V</td>\n",
       "      <td>private</td>\n",
       "      <td>1250.0</td>\n",
       "      <td>control</td>\n",
       "      <td>sedan</td>\n",
       "      <td>1996</td>\n",
       "      <td>manual</td>\n",
       "      <td>91.49</td>\n",
       "      <td>vectra</td>\n",
       "      <td>150000</td>\n",
       "      <td>January</td>\n",
       "      <td>gasoline</td>\n",
       "      <td>opel</td>\n",
       "      <td>no</td>\n",
       "      <td>2016-03-13 00:00:00</td>\n",
       "      <td>0</td>\n",
       "      <td>45897</td>\n",
       "      <td>2016-04-06 21:18:48</td>\n",
       "    </tr>\n",
       "  </tbody>\n",
       "</table>\n",
       "<p>46334 rows × 19 columns</p>\n",
       "</div>"
      ],
      "text/plain": [
       "              date_crawled                                               name  \\\n",
       "0      2016-03-26 17:47:46                   Peugeot_807_160_NAVTECH_ON_BOARD   \n",
       "1      2016-04-04 13:38:56         BMW_740i_4_4_Liter_HAMANN_UMBAU_Mega_Optik   \n",
       "2      2016-03-26 18:57:24                         Volkswagen_Golf_1.6_United   \n",
       "3      2016-03-12 16:58:10  Smart_smart_fortwo_coupe_softouch/F1/Klima/Pan...   \n",
       "4      2016-04-01 14:38:50  Ford_Focus_1_6_Benzin_TÜV_neu_ist_sehr_gepfleg...   \n",
       "...                    ...                                                ...   \n",
       "49995  2016-03-27 14:38:19   Audi_Q5_3.0_TDI_qu._S_tr.__Navi__Panorama__Xenon   \n",
       "49996  2016-03-28 10:50:25  Opel_Astra_F_Cabrio_Bertone_Edition___TÜV_neu+...   \n",
       "49997  2016-04-02 14:44:48                     Fiat_500_C_1.2_Dualogic_Lounge   \n",
       "49998  2016-03-08 19:25:42                 Audi_A3_2.0_TDI_Sportback_Ambition   \n",
       "49999  2016-03-14 00:42:12                                Opel_Vectra_1.6_16V   \n",
       "\n",
       "        seller    price   abtest vehicle_type  registration_year    gearbox  \\\n",
       "0      private   5000.0  control          van               2004     manual   \n",
       "1      private   8500.0  control        sedan               1997  automatic   \n",
       "2      private   8990.0     test        sedan               2009     manual   \n",
       "3      private   4350.0  control      compact               2007  automatic   \n",
       "4      private   1350.0     test    crossover               2003     manual   \n",
       "...        ...      ...      ...          ...                ...        ...   \n",
       "49995  private  24900.0  control        sedan               2011  automatic   \n",
       "49996  private   1980.0  control  convertible               1996     manual   \n",
       "49997  private  13200.0     test  convertible               2014  automatic   \n",
       "49998  private  22900.0  control    crossover               2013     manual   \n",
       "49999  private   1250.0  control        sedan               1996     manual   \n",
       "\n",
       "       horse_power   model  odometer_km registration_month fuel_type  \\\n",
       "0           143.12  andere       150000              March   propane   \n",
       "1           259.06     7er       150000               June  gasoline   \n",
       "2            92.39    golf        70000               July  gasoline   \n",
       "3            64.31  fortwo        70000               June  gasoline   \n",
       "4              NaN   focus       150000               July  gasoline   \n",
       "...            ...     ...          ...                ...       ...   \n",
       "49995       216.49      q5       100000            January    diesel   \n",
       "49996        67.93   astra       150000                May  gasoline   \n",
       "49997        62.50     500         5000           November  gasoline   \n",
       "49998       135.87      a3        40000           November    diesel   \n",
       "49999        91.49  vectra       150000            January  gasoline   \n",
       "\n",
       "            brand unrepaired_damage           ad_created  count_pictures  \\\n",
       "0         peugeot                no  2016-03-26 00:00:00               0   \n",
       "1             bmw                no  2016-04-04 00:00:00               0   \n",
       "2      volkswagen                no  2016-03-26 00:00:00               0   \n",
       "3           smart                no  2016-03-12 00:00:00               0   \n",
       "4            ford                no  2016-04-01 00:00:00               0   \n",
       "...           ...               ...                  ...             ...   \n",
       "49995        audi                no  2016-03-27 00:00:00               0   \n",
       "49996        opel                no  2016-03-28 00:00:00               0   \n",
       "49997        fiat                no  2016-04-02 00:00:00               0   \n",
       "49998        audi                no  2016-03-08 00:00:00               0   \n",
       "49999        opel                no  2016-03-13 00:00:00               0   \n",
       "\n",
       "       postal_code            last_seen  \n",
       "0            79588  2016-04-06 06:45:54  \n",
       "1            71034  2016-04-06 14:45:08  \n",
       "2            35394  2016-04-06 20:15:37  \n",
       "3            33729  2016-03-15 03:16:28  \n",
       "4            39218  2016-04-01 14:38:50  \n",
       "...            ...                  ...  \n",
       "49995        82131  2016-04-01 13:47:40  \n",
       "49996        44807  2016-04-02 14:18:02  \n",
       "49997        73430  2016-04-04 11:47:27  \n",
       "49998        35683  2016-04-05 16:45:07  \n",
       "49999        45897  2016-04-06 21:18:48  \n",
       "\n",
       "[46334 rows x 19 columns]"
      ]
     },
     "execution_count": 57,
     "metadata": {},
     "output_type": "execute_result"
    }
   ],
   "source": [
    "autos"
   ]
  },
  {
   "cell_type": "markdown",
   "metadata": {},
   "source": [
    "The above shows that the changes were successful. However, two columns were missed in the earlier identification, __odometer_km__ and __price__. Those will convert those columns next."
   ]
  },
  {
   "cell_type": "markdown",
   "metadata": {},
   "source": [
    "#### Converting km to mph"
   ]
  },
  {
   "cell_type": "markdown",
   "metadata": {},
   "source": [
    "The __odometer_km__ values are in ranges, and not exact value form. Therefore, to keep this clean formatting there will be an expense of not having exact 1:1 match in our column conversions. To translate kilometer to mph, we divide km by 1.609. This, not giving divisible by 100 values, will require rounding up our mph values to the nearest thousandth."
   ]
  },
  {
   "cell_type": "code",
   "execution_count": 58,
   "metadata": {},
   "outputs": [
    {
     "name": "stdout",
     "output_type": "stream",
     "text": [
      "[  5000  10000  20000  30000  40000  50000  60000  70000  80000  90000\n",
      " 100000 125000 150000]\n"
     ]
    }
   ],
   "source": [
    "# Showing our values in sorted form\n",
    "print(autos['odometer_km'].sort_values().unique())"
   ]
  },
  {
   "cell_type": "code",
   "execution_count": 59,
   "metadata": {},
   "outputs": [
    {
     "name": "stdout",
     "output_type": "stream",
     "text": [
      "[3000, 6000, 12000, 19000, 25000, 31000, 37000, 44000, 50000, 56000, 62000, 78000, 93000]\n"
     ]
    }
   ],
   "source": [
    "#create an empty list for our converted values\n",
    "odom_vals_mph = []\n",
    "\n",
    "# assign the unique valeus to an object\n",
    "odom_vals = autos['odometer_km'].sort_values().unique()\n",
    "\n",
    "# for loop that converts km to mph and adds it to our list\n",
    "for km_val in odom_vals:\n",
    "    mph = km_val / 1.609 # conversion function\n",
    "    mph = int(round(mph, -3)) # round to nearest 1000\n",
    "    odom_vals_mph.append(mph) # add to dataset\n",
    "    \n",
    "print(odom_vals_mph)"
   ]
  },
  {
   "cell_type": "markdown",
   "metadata": {},
   "source": [
    "We have a list of conversion values, now let's create a dictionary that we will use to replace the values in our series."
   ]
  },
  {
   "cell_type": "code",
   "execution_count": 60,
   "metadata": {},
   "outputs": [
    {
     "name": "stdout",
     "output_type": "stream",
     "text": [
      "{5000: 3000, 10000: 6000, 20000: 12000, 30000: 19000, 40000: 25000, 50000: 31000, 60000: 37000, 70000: 44000, 80000: 50000, 90000: 56000, 100000: 62000, 125000: 78000, 150000: 93000}\n"
     ]
    }
   ],
   "source": [
    "# empty dictionary where our final key: values will live\n",
    "km_mph_dic = {} \n",
    "\n",
    "# copy of our mph values, which will be slowly diminished to nothing  \n",
    "cp_mph_vals = odom_vals_mph\n",
    "\n",
    "# loop we will use to accomplish associating the key: value pairs\n",
    "for key in odom_vals:\n",
    "    for value in cp_mph_vals: # nested for loop method\n",
    "        km_mph_dic[key] = value # creation of the key: value relationship in our dictionary\n",
    "        cp_mph_vals.remove(value) # removing the used value to prevent it's use in the next iteration\n",
    "        break # breaking the current loop so that we will continue to the next without continuing to write in new values\n",
    "        \n",
    "        \n",
    "print(km_mph_dic)"
   ]
  },
  {
   "cell_type": "markdown",
   "metadata": {},
   "source": [
    "Next we will use our dictionary to remap our __odomoter_km__ values."
   ]
  },
  {
   "cell_type": "code",
   "execution_count": 61,
   "metadata": {},
   "outputs": [],
   "source": [
    "# map our mph values over the mph values for the odometer_km values in the series\n",
    "autos['odometer_km'] = autos['odometer_km'].map(km_mph_dic)"
   ]
  },
  {
   "cell_type": "code",
   "execution_count": 62,
   "metadata": {},
   "outputs": [
    {
     "name": "stdout",
     "output_type": "stream",
     "text": [
      "[ 3000  6000 12000 19000 25000 31000 37000 44000 50000 56000 62000 78000\n",
      " 93000]\n"
     ]
    }
   ],
   "source": [
    "#check the work\n",
    "print(autos['odometer_km'].sort_values().unique())"
   ]
  },
  {
   "cell_type": "code",
   "execution_count": 63,
   "metadata": {},
   "outputs": [],
   "source": [
    "# rename odometer_km to odometer_miles\n",
    "autos.rename({'odometer_km': 'odometer_miles'}, axis=1,inplace=True)"
   ]
  },
  {
   "cell_type": "code",
   "execution_count": 64,
   "metadata": {},
   "outputs": [
    {
     "data": {
      "text/plain": [
       "Index(['date_crawled', 'name', 'seller', 'price', 'abtest', 'vehicle_type',\n",
       "       'registration_year', 'gearbox', 'horse_power', 'model',\n",
       "       'odometer_miles', 'registration_month', 'fuel_type', 'brand',\n",
       "       'unrepaired_damage', 'ad_created', 'count_pictures', 'postal_code',\n",
       "       'last_seen'],\n",
       "      dtype='object')"
      ]
     },
     "execution_count": 64,
     "metadata": {},
     "output_type": "execute_result"
    }
   ],
   "source": [
    "#check that column was renamed\n",
    "autos.columns"
   ]
  },
  {
   "cell_type": "markdown",
   "metadata": {},
   "source": [
    "We have successfully cleaned our odometer column.\n",
    "___"
   ]
  },
  {
   "cell_type": "markdown",
   "metadata": {},
   "source": [
    "#### Translating Euro to USD"
   ]
  },
  {
   "cell_type": "markdown",
   "metadata": {},
   "source": [
    "This data was pulled in 2016, we will use a Euro to USD exchange rate of 1.11, meaning we will divide our Euro numbers by 1.11 to get the time equivalent for U.S. currency. The exchange rate was taken as the average exchange rate for the year, and can be seen [here](https://www.macrotrends.net/2548/euro-dollar-exchange-rate-historical-chart)."
   ]
  },
  {
   "cell_type": "code",
   "execution_count": 65,
   "metadata": {},
   "outputs": [
    {
     "data": {
      "text/plain": [
       "0    5000.0\n",
       "1    8500.0\n",
       "Name: price, dtype: float64"
      ]
     },
     "execution_count": 65,
     "metadata": {},
     "output_type": "execute_result"
    }
   ],
   "source": [
    "# First two values in the column as a reference point\n",
    "autos['price'][0:2]"
   ]
  },
  {
   "cell_type": "code",
   "execution_count": 66,
   "metadata": {},
   "outputs": [],
   "source": [
    "# apply the exchange rate calculation to the entire column, round to two decimals\n",
    "autos['price'] = round((autos['price'] / 1.11),2)"
   ]
  },
  {
   "cell_type": "code",
   "execution_count": 67,
   "metadata": {},
   "outputs": [
    {
     "data": {
      "text/plain": [
       "0    4504.50\n",
       "1    7657.66\n",
       "Name: price, dtype: float64"
      ]
     },
     "execution_count": 67,
     "metadata": {},
     "output_type": "execute_result"
    }
   ],
   "source": [
    "# check against our reference to verify the change\n",
    "autos['price'][0:2] "
   ]
  },
  {
   "cell_type": "code",
   "execution_count": 68,
   "metadata": {},
   "outputs": [],
   "source": [
    "# rename the column for clarity\n",
    "autos.rename({'price':'price_usd'},axis = 1, inplace=True)"
   ]
  },
  {
   "cell_type": "code",
   "execution_count": 69,
   "metadata": {},
   "outputs": [
    {
     "data": {
      "text/plain": [
       "Index(['date_crawled', 'name', 'seller', 'price_usd', 'abtest', 'vehicle_type',\n",
       "       'registration_year', 'gearbox', 'horse_power', 'model',\n",
       "       'odometer_miles', 'registration_month', 'fuel_type', 'brand',\n",
       "       'unrepaired_damage', 'ad_created', 'count_pictures', 'postal_code',\n",
       "       'last_seen'],\n",
       "      dtype='object')"
      ]
     },
     "execution_count": 69,
     "metadata": {},
     "output_type": "execute_result"
    }
   ],
   "source": [
    "# verify our name columns have changed\n",
    "autos.columns"
   ]
  },
  {
   "cell_type": "markdown",
   "metadata": {},
   "source": [
    "All necessary changes to the __price__ column have been made."
   ]
  },
  {
   "cell_type": "markdown",
   "metadata": {},
   "source": [
    "### Examining the Name Column for Patterns"
   ]
  },
  {
   "cell_type": "code",
   "execution_count": 70,
   "metadata": {},
   "outputs": [
    {
     "data": {
      "text/html": [
       "<div>\n",
       "<style scoped>\n",
       "    .dataframe tbody tr th:only-of-type {\n",
       "        vertical-align: middle;\n",
       "    }\n",
       "\n",
       "    .dataframe tbody tr th {\n",
       "        vertical-align: top;\n",
       "    }\n",
       "\n",
       "    .dataframe thead th {\n",
       "        text-align: right;\n",
       "    }\n",
       "</style>\n",
       "<table border=\"1\" class=\"dataframe\">\n",
       "  <thead>\n",
       "    <tr style=\"text-align: right;\">\n",
       "      <th></th>\n",
       "      <th>name</th>\n",
       "      <th>brand</th>\n",
       "      <th>model</th>\n",
       "      <th>vehicle_type</th>\n",
       "    </tr>\n",
       "  </thead>\n",
       "  <tbody>\n",
       "    <tr>\n",
       "      <th>0</th>\n",
       "      <td>Peugeot_807_160_NAVTECH_ON_BOARD</td>\n",
       "      <td>peugeot</td>\n",
       "      <td>andere</td>\n",
       "      <td>van</td>\n",
       "    </tr>\n",
       "    <tr>\n",
       "      <th>1</th>\n",
       "      <td>BMW_740i_4_4_Liter_HAMANN_UMBAU_Mega_Optik</td>\n",
       "      <td>bmw</td>\n",
       "      <td>7er</td>\n",
       "      <td>sedan</td>\n",
       "    </tr>\n",
       "    <tr>\n",
       "      <th>2</th>\n",
       "      <td>Volkswagen_Golf_1.6_United</td>\n",
       "      <td>volkswagen</td>\n",
       "      <td>golf</td>\n",
       "      <td>sedan</td>\n",
       "    </tr>\n",
       "    <tr>\n",
       "      <th>3</th>\n",
       "      <td>Smart_smart_fortwo_coupe_softouch/F1/Klima/Pan...</td>\n",
       "      <td>smart</td>\n",
       "      <td>fortwo</td>\n",
       "      <td>compact</td>\n",
       "    </tr>\n",
       "    <tr>\n",
       "      <th>4</th>\n",
       "      <td>Ford_Focus_1_6_Benzin_TÜV_neu_ist_sehr_gepfleg...</td>\n",
       "      <td>ford</td>\n",
       "      <td>focus</td>\n",
       "      <td>crossover</td>\n",
       "    </tr>\n",
       "    <tr>\n",
       "      <th>5</th>\n",
       "      <td>Chrysler_Grand_Voyager_2.8_CRD_Aut.Limited_Sto...</td>\n",
       "      <td>chrysler</td>\n",
       "      <td>voyager</td>\n",
       "      <td>van</td>\n",
       "    </tr>\n",
       "    <tr>\n",
       "      <th>6</th>\n",
       "      <td>VW_Golf_III_GT_Special_Electronic_Green_Metall...</td>\n",
       "      <td>volkswagen</td>\n",
       "      <td>golf</td>\n",
       "      <td>sedan</td>\n",
       "    </tr>\n",
       "    <tr>\n",
       "      <th>7</th>\n",
       "      <td>Golf_IV_1.9_TDI_90PS</td>\n",
       "      <td>volkswagen</td>\n",
       "      <td>golf</td>\n",
       "      <td>sedan</td>\n",
       "    </tr>\n",
       "    <tr>\n",
       "      <th>8</th>\n",
       "      <td>Seat_Arosa</td>\n",
       "      <td>seat</td>\n",
       "      <td>arosa</td>\n",
       "      <td>NaN</td>\n",
       "    </tr>\n",
       "    <tr>\n",
       "      <th>9</th>\n",
       "      <td>Renault_Megane_Scenic_1.6e_RT_Klimaanlage</td>\n",
       "      <td>renault</td>\n",
       "      <td>megane</td>\n",
       "      <td>van</td>\n",
       "    </tr>\n",
       "  </tbody>\n",
       "</table>\n",
       "</div>"
      ],
      "text/plain": [
       "                                                name       brand    model  \\\n",
       "0                   Peugeot_807_160_NAVTECH_ON_BOARD     peugeot   andere   \n",
       "1         BMW_740i_4_4_Liter_HAMANN_UMBAU_Mega_Optik         bmw      7er   \n",
       "2                         Volkswagen_Golf_1.6_United  volkswagen     golf   \n",
       "3  Smart_smart_fortwo_coupe_softouch/F1/Klima/Pan...       smart   fortwo   \n",
       "4  Ford_Focus_1_6_Benzin_TÜV_neu_ist_sehr_gepfleg...        ford    focus   \n",
       "5  Chrysler_Grand_Voyager_2.8_CRD_Aut.Limited_Sto...    chrysler  voyager   \n",
       "6  VW_Golf_III_GT_Special_Electronic_Green_Metall...  volkswagen     golf   \n",
       "7                               Golf_IV_1.9_TDI_90PS  volkswagen     golf   \n",
       "8                                         Seat_Arosa        seat    arosa   \n",
       "9          Renault_Megane_Scenic_1.6e_RT_Klimaanlage     renault   megane   \n",
       "\n",
       "  vehicle_type  \n",
       "0          van  \n",
       "1        sedan  \n",
       "2        sedan  \n",
       "3      compact  \n",
       "4    crossover  \n",
       "5          van  \n",
       "6        sedan  \n",
       "7        sedan  \n",
       "8          NaN  \n",
       "9          van  "
      ]
     },
     "execution_count": 70,
     "metadata": {},
     "output_type": "execute_result"
    }
   ],
   "source": [
    "autos[['name','brand','model','vehicle_type']].head(10)"
   ]
  },
  {
   "cell_type": "markdown",
   "metadata": {},
   "source": [
    "There is a clear pattern that indicates a naming convention. The first two to three values followed by an underscore match the brand and model columns. What follows, however, is inconsistent. It appears to be feature descriptors for the car, but follows no immediately apparent pattern. Given that we alread have brand and model columns to work off of, and features are too granular for this analysis, we will not use these in our aggregate analysis."
   ]
  },
  {
   "cell_type": "code",
   "execution_count": null,
   "metadata": {},
   "outputs": [],
   "source": []
  },
  {
   "cell_type": "markdown",
   "metadata": {},
   "source": [
    "# Observations of Data and Actions to Take (Update: 4)\n",
    "\n",
    "The summary data tells us that there are a few areas where the data can be improved upon. Below are initial observations.\n",
    "\n",
    "- ~~The columns ought to be renamed to follow snakecase convention and could be more descriptive.~~\n",
    "\n",
    "- ~~Certain columns are in _object_ type and should be changed to either _int_ or _float_ type in preparation for analysis. Relevant columns include: __price__ and __odometer__.~~\n",
    "\n",
    "- There are columns with _null_ values and these need to be analyzed in order to make descisions on how to handle them. i.e. do we leave these values alone, find and include the missing information, or completely remove the values/rows/columns. Target columns include: __vehicle_type__, __gearbox__, __model__, __fuel_type__, and __unrepaired_damage__.\n",
    "\n",
    "- ~~The __name__ column has information encoded within it that may be worth pulling out into their own columns, such as the model and additional features of the vehicles. Exploration is needed to understand encoded contents.~~\n",
    "\n",
    "- ~~There are severeal columns that are in German and should be translated for our English speaking audience. Relevant columns include: __seller__, __offer_type__, __vehicle_type__, __gearbox__, __fuel_type__, and __unrepaired_damage__. Similarly, decisions will be made where relevant to best translate for an American audience, such as changing from km to mile.~~\n",
    "\n",
    "- ~~Several columns represent date values but are not in datetime format. Columns: __date_crawled__, __last_seen__, __ad_created__, __registration_month__, and __registration_year__~~\n",
    "\n",
    "\n",
    "___\n",
    "\n",
    "- ~~The __date_crawled__ and __last_seen__ columns may not provide useful information.~~\n",
    "\n",
    "- The __count_picutures__ column does not appear to contain any useful information as all values are zero.\n",
    "\n",
    "- ~~The __registration_year__ appears to have some dirty data, with a min of 1000 and max of 9999.~~\n",
    "\n",
    "- ~~The __registration_month__ has a numerical month and has 0 for its minimum and 12 for its maximum. This would leave us with 13 months. We should explore whether there are some miscategorized zero values that should begin with 1. ~~\n",
    "\n",
    "- ~~__power_ps__ is the European equivalent of horsepower. 1 PS or metric horsepower(EU) is equivalent to .989632 HP or mechanical horsepower(US). For reference 1,000 HP is attainable, but very rare (and expensive). The maximum we see in our __power_ps__ column of 17,700 is therefore unreasonable. This column should be invesitgated for any cars over 1,000 HP. The conversion formula we will use is HP = (PS / 1.104).~~\n",
    "\n",
    "- ~~Check whether __odometer__ values are ranges, and if they are clean the data to make it more clear.~~\n",
    "\n",
    "- ~~Several columns are only one of two values. Their value towards analysis should be considered. Relevant columns include: __seller__, __offer_type__, __abtest__, __gearbox__, and __unrepaired_damage__~~\n",
    "\n",
    "___\n",
    "\n",
    "\n",
    "- ~~Evaluate the extent of bad __pricing__ data and determine the best way to clean the series.~~\n",
    "\n",
    "- Do certain car __brands__ or __models__ have increased __registrations_month__ than other car brands? (There is a loose link between registration and purchase)"
   ]
  },
  {
   "cell_type": "markdown",
   "metadata": {},
   "source": [
    "### Dropping Unhelpful Columns"
   ]
  },
  {
   "cell_type": "code",
   "execution_count": 71,
   "metadata": {},
   "outputs": [
    {
     "data": {
      "text/html": [
       "<div>\n",
       "<style scoped>\n",
       "    .dataframe tbody tr th:only-of-type {\n",
       "        vertical-align: middle;\n",
       "    }\n",
       "\n",
       "    .dataframe tbody tr th {\n",
       "        vertical-align: top;\n",
       "    }\n",
       "\n",
       "    .dataframe thead th {\n",
       "        text-align: right;\n",
       "    }\n",
       "</style>\n",
       "<table border=\"1\" class=\"dataframe\">\n",
       "  <thead>\n",
       "    <tr style=\"text-align: right;\">\n",
       "      <th></th>\n",
       "      <th>date_crawled</th>\n",
       "      <th>name</th>\n",
       "      <th>seller</th>\n",
       "      <th>price_usd</th>\n",
       "      <th>abtest</th>\n",
       "      <th>vehicle_type</th>\n",
       "      <th>registration_year</th>\n",
       "      <th>gearbox</th>\n",
       "      <th>horse_power</th>\n",
       "      <th>model</th>\n",
       "      <th>odometer_miles</th>\n",
       "      <th>registration_month</th>\n",
       "      <th>fuel_type</th>\n",
       "      <th>brand</th>\n",
       "      <th>unrepaired_damage</th>\n",
       "      <th>ad_created</th>\n",
       "      <th>count_pictures</th>\n",
       "      <th>postal_code</th>\n",
       "      <th>last_seen</th>\n",
       "    </tr>\n",
       "  </thead>\n",
       "  <tbody>\n",
       "    <tr>\n",
       "      <th>0</th>\n",
       "      <td>2016-03-26 17:47:46</td>\n",
       "      <td>Peugeot_807_160_NAVTECH_ON_BOARD</td>\n",
       "      <td>private</td>\n",
       "      <td>4504.50</td>\n",
       "      <td>control</td>\n",
       "      <td>van</td>\n",
       "      <td>2004</td>\n",
       "      <td>manual</td>\n",
       "      <td>143.12</td>\n",
       "      <td>andere</td>\n",
       "      <td>93000</td>\n",
       "      <td>March</td>\n",
       "      <td>propane</td>\n",
       "      <td>peugeot</td>\n",
       "      <td>no</td>\n",
       "      <td>2016-03-26 00:00:00</td>\n",
       "      <td>0</td>\n",
       "      <td>79588</td>\n",
       "      <td>2016-04-06 06:45:54</td>\n",
       "    </tr>\n",
       "    <tr>\n",
       "      <th>1</th>\n",
       "      <td>2016-04-04 13:38:56</td>\n",
       "      <td>BMW_740i_4_4_Liter_HAMANN_UMBAU_Mega_Optik</td>\n",
       "      <td>private</td>\n",
       "      <td>7657.66</td>\n",
       "      <td>control</td>\n",
       "      <td>sedan</td>\n",
       "      <td>1997</td>\n",
       "      <td>automatic</td>\n",
       "      <td>259.06</td>\n",
       "      <td>7er</td>\n",
       "      <td>93000</td>\n",
       "      <td>June</td>\n",
       "      <td>gasoline</td>\n",
       "      <td>bmw</td>\n",
       "      <td>no</td>\n",
       "      <td>2016-04-04 00:00:00</td>\n",
       "      <td>0</td>\n",
       "      <td>71034</td>\n",
       "      <td>2016-04-06 14:45:08</td>\n",
       "    </tr>\n",
       "    <tr>\n",
       "      <th>2</th>\n",
       "      <td>2016-03-26 18:57:24</td>\n",
       "      <td>Volkswagen_Golf_1.6_United</td>\n",
       "      <td>private</td>\n",
       "      <td>8099.10</td>\n",
       "      <td>test</td>\n",
       "      <td>sedan</td>\n",
       "      <td>2009</td>\n",
       "      <td>manual</td>\n",
       "      <td>92.39</td>\n",
       "      <td>golf</td>\n",
       "      <td>44000</td>\n",
       "      <td>July</td>\n",
       "      <td>gasoline</td>\n",
       "      <td>volkswagen</td>\n",
       "      <td>no</td>\n",
       "      <td>2016-03-26 00:00:00</td>\n",
       "      <td>0</td>\n",
       "      <td>35394</td>\n",
       "      <td>2016-04-06 20:15:37</td>\n",
       "    </tr>\n",
       "    <tr>\n",
       "      <th>3</th>\n",
       "      <td>2016-03-12 16:58:10</td>\n",
       "      <td>Smart_smart_fortwo_coupe_softouch/F1/Klima/Pan...</td>\n",
       "      <td>private</td>\n",
       "      <td>3918.92</td>\n",
       "      <td>control</td>\n",
       "      <td>compact</td>\n",
       "      <td>2007</td>\n",
       "      <td>automatic</td>\n",
       "      <td>64.31</td>\n",
       "      <td>fortwo</td>\n",
       "      <td>44000</td>\n",
       "      <td>June</td>\n",
       "      <td>gasoline</td>\n",
       "      <td>smart</td>\n",
       "      <td>no</td>\n",
       "      <td>2016-03-12 00:00:00</td>\n",
       "      <td>0</td>\n",
       "      <td>33729</td>\n",
       "      <td>2016-03-15 03:16:28</td>\n",
       "    </tr>\n",
       "    <tr>\n",
       "      <th>4</th>\n",
       "      <td>2016-04-01 14:38:50</td>\n",
       "      <td>Ford_Focus_1_6_Benzin_TÜV_neu_ist_sehr_gepfleg...</td>\n",
       "      <td>private</td>\n",
       "      <td>1216.22</td>\n",
       "      <td>test</td>\n",
       "      <td>crossover</td>\n",
       "      <td>2003</td>\n",
       "      <td>manual</td>\n",
       "      <td>NaN</td>\n",
       "      <td>focus</td>\n",
       "      <td>93000</td>\n",
       "      <td>July</td>\n",
       "      <td>gasoline</td>\n",
       "      <td>ford</td>\n",
       "      <td>no</td>\n",
       "      <td>2016-04-01 00:00:00</td>\n",
       "      <td>0</td>\n",
       "      <td>39218</td>\n",
       "      <td>2016-04-01 14:38:50</td>\n",
       "    </tr>\n",
       "    <tr>\n",
       "      <th>...</th>\n",
       "      <td>...</td>\n",
       "      <td>...</td>\n",
       "      <td>...</td>\n",
       "      <td>...</td>\n",
       "      <td>...</td>\n",
       "      <td>...</td>\n",
       "      <td>...</td>\n",
       "      <td>...</td>\n",
       "      <td>...</td>\n",
       "      <td>...</td>\n",
       "      <td>...</td>\n",
       "      <td>...</td>\n",
       "      <td>...</td>\n",
       "      <td>...</td>\n",
       "      <td>...</td>\n",
       "      <td>...</td>\n",
       "      <td>...</td>\n",
       "      <td>...</td>\n",
       "      <td>...</td>\n",
       "    </tr>\n",
       "    <tr>\n",
       "      <th>49995</th>\n",
       "      <td>2016-03-27 14:38:19</td>\n",
       "      <td>Audi_Q5_3.0_TDI_qu._S_tr.__Navi__Panorama__Xenon</td>\n",
       "      <td>private</td>\n",
       "      <td>22432.43</td>\n",
       "      <td>control</td>\n",
       "      <td>sedan</td>\n",
       "      <td>2011</td>\n",
       "      <td>automatic</td>\n",
       "      <td>216.49</td>\n",
       "      <td>q5</td>\n",
       "      <td>62000</td>\n",
       "      <td>January</td>\n",
       "      <td>diesel</td>\n",
       "      <td>audi</td>\n",
       "      <td>no</td>\n",
       "      <td>2016-03-27 00:00:00</td>\n",
       "      <td>0</td>\n",
       "      <td>82131</td>\n",
       "      <td>2016-04-01 13:47:40</td>\n",
       "    </tr>\n",
       "    <tr>\n",
       "      <th>49996</th>\n",
       "      <td>2016-03-28 10:50:25</td>\n",
       "      <td>Opel_Astra_F_Cabrio_Bertone_Edition___TÜV_neu+...</td>\n",
       "      <td>private</td>\n",
       "      <td>1783.78</td>\n",
       "      <td>control</td>\n",
       "      <td>convertible</td>\n",
       "      <td>1996</td>\n",
       "      <td>manual</td>\n",
       "      <td>67.93</td>\n",
       "      <td>astra</td>\n",
       "      <td>93000</td>\n",
       "      <td>May</td>\n",
       "      <td>gasoline</td>\n",
       "      <td>opel</td>\n",
       "      <td>no</td>\n",
       "      <td>2016-03-28 00:00:00</td>\n",
       "      <td>0</td>\n",
       "      <td>44807</td>\n",
       "      <td>2016-04-02 14:18:02</td>\n",
       "    </tr>\n",
       "    <tr>\n",
       "      <th>49997</th>\n",
       "      <td>2016-04-02 14:44:48</td>\n",
       "      <td>Fiat_500_C_1.2_Dualogic_Lounge</td>\n",
       "      <td>private</td>\n",
       "      <td>11891.89</td>\n",
       "      <td>test</td>\n",
       "      <td>convertible</td>\n",
       "      <td>2014</td>\n",
       "      <td>automatic</td>\n",
       "      <td>62.50</td>\n",
       "      <td>500</td>\n",
       "      <td>3000</td>\n",
       "      <td>November</td>\n",
       "      <td>gasoline</td>\n",
       "      <td>fiat</td>\n",
       "      <td>no</td>\n",
       "      <td>2016-04-02 00:00:00</td>\n",
       "      <td>0</td>\n",
       "      <td>73430</td>\n",
       "      <td>2016-04-04 11:47:27</td>\n",
       "    </tr>\n",
       "    <tr>\n",
       "      <th>49998</th>\n",
       "      <td>2016-03-08 19:25:42</td>\n",
       "      <td>Audi_A3_2.0_TDI_Sportback_Ambition</td>\n",
       "      <td>private</td>\n",
       "      <td>20630.63</td>\n",
       "      <td>control</td>\n",
       "      <td>crossover</td>\n",
       "      <td>2013</td>\n",
       "      <td>manual</td>\n",
       "      <td>135.87</td>\n",
       "      <td>a3</td>\n",
       "      <td>25000</td>\n",
       "      <td>November</td>\n",
       "      <td>diesel</td>\n",
       "      <td>audi</td>\n",
       "      <td>no</td>\n",
       "      <td>2016-03-08 00:00:00</td>\n",
       "      <td>0</td>\n",
       "      <td>35683</td>\n",
       "      <td>2016-04-05 16:45:07</td>\n",
       "    </tr>\n",
       "    <tr>\n",
       "      <th>49999</th>\n",
       "      <td>2016-03-14 00:42:12</td>\n",
       "      <td>Opel_Vectra_1.6_16V</td>\n",
       "      <td>private</td>\n",
       "      <td>1126.13</td>\n",
       "      <td>control</td>\n",
       "      <td>sedan</td>\n",
       "      <td>1996</td>\n",
       "      <td>manual</td>\n",
       "      <td>91.49</td>\n",
       "      <td>vectra</td>\n",
       "      <td>93000</td>\n",
       "      <td>January</td>\n",
       "      <td>gasoline</td>\n",
       "      <td>opel</td>\n",
       "      <td>no</td>\n",
       "      <td>2016-03-13 00:00:00</td>\n",
       "      <td>0</td>\n",
       "      <td>45897</td>\n",
       "      <td>2016-04-06 21:18:48</td>\n",
       "    </tr>\n",
       "  </tbody>\n",
       "</table>\n",
       "<p>46334 rows × 19 columns</p>\n",
       "</div>"
      ],
      "text/plain": [
       "              date_crawled                                               name  \\\n",
       "0      2016-03-26 17:47:46                   Peugeot_807_160_NAVTECH_ON_BOARD   \n",
       "1      2016-04-04 13:38:56         BMW_740i_4_4_Liter_HAMANN_UMBAU_Mega_Optik   \n",
       "2      2016-03-26 18:57:24                         Volkswagen_Golf_1.6_United   \n",
       "3      2016-03-12 16:58:10  Smart_smart_fortwo_coupe_softouch/F1/Klima/Pan...   \n",
       "4      2016-04-01 14:38:50  Ford_Focus_1_6_Benzin_TÜV_neu_ist_sehr_gepfleg...   \n",
       "...                    ...                                                ...   \n",
       "49995  2016-03-27 14:38:19   Audi_Q5_3.0_TDI_qu._S_tr.__Navi__Panorama__Xenon   \n",
       "49996  2016-03-28 10:50:25  Opel_Astra_F_Cabrio_Bertone_Edition___TÜV_neu+...   \n",
       "49997  2016-04-02 14:44:48                     Fiat_500_C_1.2_Dualogic_Lounge   \n",
       "49998  2016-03-08 19:25:42                 Audi_A3_2.0_TDI_Sportback_Ambition   \n",
       "49999  2016-03-14 00:42:12                                Opel_Vectra_1.6_16V   \n",
       "\n",
       "        seller  price_usd   abtest vehicle_type  registration_year    gearbox  \\\n",
       "0      private    4504.50  control          van               2004     manual   \n",
       "1      private    7657.66  control        sedan               1997  automatic   \n",
       "2      private    8099.10     test        sedan               2009     manual   \n",
       "3      private    3918.92  control      compact               2007  automatic   \n",
       "4      private    1216.22     test    crossover               2003     manual   \n",
       "...        ...        ...      ...          ...                ...        ...   \n",
       "49995  private   22432.43  control        sedan               2011  automatic   \n",
       "49996  private    1783.78  control  convertible               1996     manual   \n",
       "49997  private   11891.89     test  convertible               2014  automatic   \n",
       "49998  private   20630.63  control    crossover               2013     manual   \n",
       "49999  private    1126.13  control        sedan               1996     manual   \n",
       "\n",
       "       horse_power   model  odometer_miles registration_month fuel_type  \\\n",
       "0           143.12  andere           93000              March   propane   \n",
       "1           259.06     7er           93000               June  gasoline   \n",
       "2            92.39    golf           44000               July  gasoline   \n",
       "3            64.31  fortwo           44000               June  gasoline   \n",
       "4              NaN   focus           93000               July  gasoline   \n",
       "...            ...     ...             ...                ...       ...   \n",
       "49995       216.49      q5           62000            January    diesel   \n",
       "49996        67.93   astra           93000                May  gasoline   \n",
       "49997        62.50     500            3000           November  gasoline   \n",
       "49998       135.87      a3           25000           November    diesel   \n",
       "49999        91.49  vectra           93000            January  gasoline   \n",
       "\n",
       "            brand unrepaired_damage           ad_created  count_pictures  \\\n",
       "0         peugeot                no  2016-03-26 00:00:00               0   \n",
       "1             bmw                no  2016-04-04 00:00:00               0   \n",
       "2      volkswagen                no  2016-03-26 00:00:00               0   \n",
       "3           smart                no  2016-03-12 00:00:00               0   \n",
       "4            ford                no  2016-04-01 00:00:00               0   \n",
       "...           ...               ...                  ...             ...   \n",
       "49995        audi                no  2016-03-27 00:00:00               0   \n",
       "49996        opel                no  2016-03-28 00:00:00               0   \n",
       "49997        fiat                no  2016-04-02 00:00:00               0   \n",
       "49998        audi                no  2016-03-08 00:00:00               0   \n",
       "49999        opel                no  2016-03-13 00:00:00               0   \n",
       "\n",
       "       postal_code            last_seen  \n",
       "0            79588  2016-04-06 06:45:54  \n",
       "1            71034  2016-04-06 14:45:08  \n",
       "2            35394  2016-04-06 20:15:37  \n",
       "3            33729  2016-03-15 03:16:28  \n",
       "4            39218  2016-04-01 14:38:50  \n",
       "...            ...                  ...  \n",
       "49995        82131  2016-04-01 13:47:40  \n",
       "49996        44807  2016-04-02 14:18:02  \n",
       "49997        73430  2016-04-04 11:47:27  \n",
       "49998        35683  2016-04-05 16:45:07  \n",
       "49999        45897  2016-04-06 21:18:48  \n",
       "\n",
       "[46334 rows x 19 columns]"
      ]
     },
     "execution_count": 71,
     "metadata": {},
     "output_type": "execute_result"
    }
   ],
   "source": [
    "autos"
   ]
  },
  {
   "cell_type": "code",
   "execution_count": 72,
   "metadata": {},
   "outputs": [],
   "source": [
    "del autos['date_crawled']\n",
    "del autos['abtest']\n",
    "del autos['ad_created']\n",
    "del autos['count_pictures']\n",
    "del autos['postal_code']\n",
    "del autos['last_seen']"
   ]
  },
  {
   "cell_type": "code",
   "execution_count": 73,
   "metadata": {
    "scrolled": true
   },
   "outputs": [
    {
     "data": {
      "text/html": [
       "<div>\n",
       "<style scoped>\n",
       "    .dataframe tbody tr th:only-of-type {\n",
       "        vertical-align: middle;\n",
       "    }\n",
       "\n",
       "    .dataframe tbody tr th {\n",
       "        vertical-align: top;\n",
       "    }\n",
       "\n",
       "    .dataframe thead th {\n",
       "        text-align: right;\n",
       "    }\n",
       "</style>\n",
       "<table border=\"1\" class=\"dataframe\">\n",
       "  <thead>\n",
       "    <tr style=\"text-align: right;\">\n",
       "      <th></th>\n",
       "      <th>name</th>\n",
       "      <th>seller</th>\n",
       "      <th>price_usd</th>\n",
       "      <th>vehicle_type</th>\n",
       "      <th>registration_year</th>\n",
       "      <th>gearbox</th>\n",
       "      <th>horse_power</th>\n",
       "      <th>model</th>\n",
       "      <th>odometer_miles</th>\n",
       "      <th>registration_month</th>\n",
       "      <th>fuel_type</th>\n",
       "      <th>brand</th>\n",
       "      <th>unrepaired_damage</th>\n",
       "    </tr>\n",
       "  </thead>\n",
       "  <tbody>\n",
       "    <tr>\n",
       "      <th>0</th>\n",
       "      <td>Peugeot_807_160_NAVTECH_ON_BOARD</td>\n",
       "      <td>private</td>\n",
       "      <td>4504.50</td>\n",
       "      <td>van</td>\n",
       "      <td>2004</td>\n",
       "      <td>manual</td>\n",
       "      <td>143.12</td>\n",
       "      <td>andere</td>\n",
       "      <td>93000</td>\n",
       "      <td>March</td>\n",
       "      <td>propane</td>\n",
       "      <td>peugeot</td>\n",
       "      <td>no</td>\n",
       "    </tr>\n",
       "    <tr>\n",
       "      <th>1</th>\n",
       "      <td>BMW_740i_4_4_Liter_HAMANN_UMBAU_Mega_Optik</td>\n",
       "      <td>private</td>\n",
       "      <td>7657.66</td>\n",
       "      <td>sedan</td>\n",
       "      <td>1997</td>\n",
       "      <td>automatic</td>\n",
       "      <td>259.06</td>\n",
       "      <td>7er</td>\n",
       "      <td>93000</td>\n",
       "      <td>June</td>\n",
       "      <td>gasoline</td>\n",
       "      <td>bmw</td>\n",
       "      <td>no</td>\n",
       "    </tr>\n",
       "    <tr>\n",
       "      <th>2</th>\n",
       "      <td>Volkswagen_Golf_1.6_United</td>\n",
       "      <td>private</td>\n",
       "      <td>8099.10</td>\n",
       "      <td>sedan</td>\n",
       "      <td>2009</td>\n",
       "      <td>manual</td>\n",
       "      <td>92.39</td>\n",
       "      <td>golf</td>\n",
       "      <td>44000</td>\n",
       "      <td>July</td>\n",
       "      <td>gasoline</td>\n",
       "      <td>volkswagen</td>\n",
       "      <td>no</td>\n",
       "    </tr>\n",
       "    <tr>\n",
       "      <th>3</th>\n",
       "      <td>Smart_smart_fortwo_coupe_softouch/F1/Klima/Pan...</td>\n",
       "      <td>private</td>\n",
       "      <td>3918.92</td>\n",
       "      <td>compact</td>\n",
       "      <td>2007</td>\n",
       "      <td>automatic</td>\n",
       "      <td>64.31</td>\n",
       "      <td>fortwo</td>\n",
       "      <td>44000</td>\n",
       "      <td>June</td>\n",
       "      <td>gasoline</td>\n",
       "      <td>smart</td>\n",
       "      <td>no</td>\n",
       "    </tr>\n",
       "    <tr>\n",
       "      <th>4</th>\n",
       "      <td>Ford_Focus_1_6_Benzin_TÜV_neu_ist_sehr_gepfleg...</td>\n",
       "      <td>private</td>\n",
       "      <td>1216.22</td>\n",
       "      <td>crossover</td>\n",
       "      <td>2003</td>\n",
       "      <td>manual</td>\n",
       "      <td>NaN</td>\n",
       "      <td>focus</td>\n",
       "      <td>93000</td>\n",
       "      <td>July</td>\n",
       "      <td>gasoline</td>\n",
       "      <td>ford</td>\n",
       "      <td>no</td>\n",
       "    </tr>\n",
       "    <tr>\n",
       "      <th>...</th>\n",
       "      <td>...</td>\n",
       "      <td>...</td>\n",
       "      <td>...</td>\n",
       "      <td>...</td>\n",
       "      <td>...</td>\n",
       "      <td>...</td>\n",
       "      <td>...</td>\n",
       "      <td>...</td>\n",
       "      <td>...</td>\n",
       "      <td>...</td>\n",
       "      <td>...</td>\n",
       "      <td>...</td>\n",
       "      <td>...</td>\n",
       "    </tr>\n",
       "    <tr>\n",
       "      <th>49995</th>\n",
       "      <td>Audi_Q5_3.0_TDI_qu._S_tr.__Navi__Panorama__Xenon</td>\n",
       "      <td>private</td>\n",
       "      <td>22432.43</td>\n",
       "      <td>sedan</td>\n",
       "      <td>2011</td>\n",
       "      <td>automatic</td>\n",
       "      <td>216.49</td>\n",
       "      <td>q5</td>\n",
       "      <td>62000</td>\n",
       "      <td>January</td>\n",
       "      <td>diesel</td>\n",
       "      <td>audi</td>\n",
       "      <td>no</td>\n",
       "    </tr>\n",
       "    <tr>\n",
       "      <th>49996</th>\n",
       "      <td>Opel_Astra_F_Cabrio_Bertone_Edition___TÜV_neu+...</td>\n",
       "      <td>private</td>\n",
       "      <td>1783.78</td>\n",
       "      <td>convertible</td>\n",
       "      <td>1996</td>\n",
       "      <td>manual</td>\n",
       "      <td>67.93</td>\n",
       "      <td>astra</td>\n",
       "      <td>93000</td>\n",
       "      <td>May</td>\n",
       "      <td>gasoline</td>\n",
       "      <td>opel</td>\n",
       "      <td>no</td>\n",
       "    </tr>\n",
       "    <tr>\n",
       "      <th>49997</th>\n",
       "      <td>Fiat_500_C_1.2_Dualogic_Lounge</td>\n",
       "      <td>private</td>\n",
       "      <td>11891.89</td>\n",
       "      <td>convertible</td>\n",
       "      <td>2014</td>\n",
       "      <td>automatic</td>\n",
       "      <td>62.50</td>\n",
       "      <td>500</td>\n",
       "      <td>3000</td>\n",
       "      <td>November</td>\n",
       "      <td>gasoline</td>\n",
       "      <td>fiat</td>\n",
       "      <td>no</td>\n",
       "    </tr>\n",
       "    <tr>\n",
       "      <th>49998</th>\n",
       "      <td>Audi_A3_2.0_TDI_Sportback_Ambition</td>\n",
       "      <td>private</td>\n",
       "      <td>20630.63</td>\n",
       "      <td>crossover</td>\n",
       "      <td>2013</td>\n",
       "      <td>manual</td>\n",
       "      <td>135.87</td>\n",
       "      <td>a3</td>\n",
       "      <td>25000</td>\n",
       "      <td>November</td>\n",
       "      <td>diesel</td>\n",
       "      <td>audi</td>\n",
       "      <td>no</td>\n",
       "    </tr>\n",
       "    <tr>\n",
       "      <th>49999</th>\n",
       "      <td>Opel_Vectra_1.6_16V</td>\n",
       "      <td>private</td>\n",
       "      <td>1126.13</td>\n",
       "      <td>sedan</td>\n",
       "      <td>1996</td>\n",
       "      <td>manual</td>\n",
       "      <td>91.49</td>\n",
       "      <td>vectra</td>\n",
       "      <td>93000</td>\n",
       "      <td>January</td>\n",
       "      <td>gasoline</td>\n",
       "      <td>opel</td>\n",
       "      <td>no</td>\n",
       "    </tr>\n",
       "  </tbody>\n",
       "</table>\n",
       "<p>46334 rows × 13 columns</p>\n",
       "</div>"
      ],
      "text/plain": [
       "                                                    name   seller  price_usd  \\\n",
       "0                       Peugeot_807_160_NAVTECH_ON_BOARD  private    4504.50   \n",
       "1             BMW_740i_4_4_Liter_HAMANN_UMBAU_Mega_Optik  private    7657.66   \n",
       "2                             Volkswagen_Golf_1.6_United  private    8099.10   \n",
       "3      Smart_smart_fortwo_coupe_softouch/F1/Klima/Pan...  private    3918.92   \n",
       "4      Ford_Focus_1_6_Benzin_TÜV_neu_ist_sehr_gepfleg...  private    1216.22   \n",
       "...                                                  ...      ...        ...   \n",
       "49995   Audi_Q5_3.0_TDI_qu._S_tr.__Navi__Panorama__Xenon  private   22432.43   \n",
       "49996  Opel_Astra_F_Cabrio_Bertone_Edition___TÜV_neu+...  private    1783.78   \n",
       "49997                     Fiat_500_C_1.2_Dualogic_Lounge  private   11891.89   \n",
       "49998                 Audi_A3_2.0_TDI_Sportback_Ambition  private   20630.63   \n",
       "49999                                Opel_Vectra_1.6_16V  private    1126.13   \n",
       "\n",
       "      vehicle_type  registration_year    gearbox  horse_power   model  \\\n",
       "0              van               2004     manual       143.12  andere   \n",
       "1            sedan               1997  automatic       259.06     7er   \n",
       "2            sedan               2009     manual        92.39    golf   \n",
       "3          compact               2007  automatic        64.31  fortwo   \n",
       "4        crossover               2003     manual          NaN   focus   \n",
       "...            ...                ...        ...          ...     ...   \n",
       "49995        sedan               2011  automatic       216.49      q5   \n",
       "49996  convertible               1996     manual        67.93   astra   \n",
       "49997  convertible               2014  automatic        62.50     500   \n",
       "49998    crossover               2013     manual       135.87      a3   \n",
       "49999        sedan               1996     manual        91.49  vectra   \n",
       "\n",
       "       odometer_miles registration_month fuel_type       brand  \\\n",
       "0               93000              March   propane     peugeot   \n",
       "1               93000               June  gasoline         bmw   \n",
       "2               44000               July  gasoline  volkswagen   \n",
       "3               44000               June  gasoline       smart   \n",
       "4               93000               July  gasoline        ford   \n",
       "...               ...                ...       ...         ...   \n",
       "49995           62000            January    diesel        audi   \n",
       "49996           93000                May  gasoline        opel   \n",
       "49997            3000           November  gasoline        fiat   \n",
       "49998           25000           November    diesel        audi   \n",
       "49999           93000            January  gasoline        opel   \n",
       "\n",
       "      unrepaired_damage  \n",
       "0                    no  \n",
       "1                    no  \n",
       "2                    no  \n",
       "3                    no  \n",
       "4                    no  \n",
       "...                 ...  \n",
       "49995                no  \n",
       "49996                no  \n",
       "49997                no  \n",
       "49998                no  \n",
       "49999                no  \n",
       "\n",
       "[46334 rows x 13 columns]"
      ]
     },
     "execution_count": 73,
     "metadata": {},
     "output_type": "execute_result"
    }
   ],
   "source": [
    "autos"
   ]
  },
  {
   "cell_type": "markdown",
   "metadata": {},
   "source": [
    "## Analysis"
   ]
  },
  {
   "cell_type": "markdown",
   "metadata": {},
   "source": [
    "Below, the top 20 most frequently posted for resale car brands are assigned to an object. The data is displayed as percentages."
   ]
  },
  {
   "cell_type": "code",
   "execution_count": 74,
   "metadata": {},
   "outputs": [
    {
     "name": "stdout",
     "output_type": "stream",
     "text": [
      "volkswagen        0.211529\n",
      "bmw               0.110243\n",
      "opel              0.107308\n",
      "mercedes_benz     0.096538\n",
      "audi              0.086805\n",
      "ford              0.069776\n",
      "renault           0.047114\n",
      "peugeot           0.029870\n",
      "fiat              0.025705\n",
      "seat              0.018259\n",
      "skoda             0.016403\n",
      "nissan            0.015345\n",
      "mazda             0.015237\n",
      "smart             0.014201\n",
      "citroen           0.014050\n",
      "toyota            0.012798\n",
      "hyundai           0.010036\n",
      "sonstige_autos    0.009259\n",
      "volvo             0.009129\n",
      "mini              0.008806\n",
      "Name: brand, dtype: float64\n"
     ]
    }
   ],
   "source": [
    "top_20_brands = (autos['brand'] # Create the brand series and assign to an object\n",
    "                 .value_counts(normalize = True, dropna = False) # create a frequency table by percentage\n",
    "                 .sort_values(ascending = False) # sort by values, highest to lowest\n",
    "                 .head(20)) # show the top 20\n",
    "\n",
    "print(top_20_brands)"
   ]
  },
  {
   "cell_type": "code",
   "execution_count": 75,
   "metadata": {},
   "outputs": [
    {
     "name": "stdout",
     "output_type": "stream",
     "text": [
      "Index(['volkswagen', 'bmw', 'opel', 'mercedes_benz', 'audi', 'ford', 'renault',\n",
      "       'peugeot', 'fiat', 'seat', 'skoda', 'nissan', 'mazda', 'smart',\n",
      "       'citroen', 'toyota', 'hyundai', 'sonstige_autos', 'volvo', 'mini'],\n",
      "      dtype='object')\n"
     ]
    }
   ],
   "source": [
    "# take series index values and assign them to a list\n",
    "top_20_brands_ls = top_20_brands.index\n",
    "\n",
    "print(top_20_brands_ls)"
   ]
  },
  {
   "cell_type": "code",
   "execution_count": 76,
   "metadata": {},
   "outputs": [],
   "source": [
    "#autos.loc[autos['brand'] == 'volvo', 'price_usd'].mean()"
   ]
  },
  {
   "cell_type": "code",
   "execution_count": 77,
   "metadata": {},
   "outputs": [
    {
     "name": "stdout",
     "output_type": "stream",
     "text": [
      "{'volkswagen': 4892.99, 'bmw': 7547.59, 'opel': 2704.53, 'mercedes_benz': 7757.16, 'audi': 8451.1, 'ford': 3378.31, 'renault': 2247.52, 'peugeot': 2805.28, 'fiat': 2547.46, 'seat': 3994.07, 'skoda': 5780.95, 'nissan': 4285.28, 'mazda': 3720.52, 'smart': 3240.0, 'citroen': 3399.44, 'toyota': 4655.04, 'hyundai': 4864.55, 'sonstige_autos': 11559.73, 'volvo': 4498.39, 'mini': 9585.09}\n"
     ]
    }
   ],
   "source": [
    "# empty dictionary we will use to save a brand mean price values\n",
    "brand_mean_price = {} \n",
    "\n",
    "# loop through the df looking for top 20 brands - calculate the mean price and assign to the dic\n",
    "for brand in top_20_brands_ls:\n",
    "    b_price_mean = round(autos.loc[autos['brand'] == brand, 'price_usd'].mean(),2)\n",
    "    brand_mean_price[brand] = b_price_mean\n",
    "    \n",
    "print(brand_mean_price)"
   ]
  },
  {
   "cell_type": "markdown",
   "metadata": {},
   "source": [
    "The top 5 most frequently sold brands are all German car brands, which, considering the source of the dataset, is as we might expect. \n",
    "\n",
    "\\\\$2,000 to $8,000 USD appears to be the sweet spot for the used car price point range.\n",
    "\n",
    "There are price point categories we can identify fitting low, medium, and high within the \\\\$2,000 - $8,000 range. Low being around \\\\$3,000, medium around \\\\$5,000 and high around \\\\$8,000. Of the top five brands, one falls in low, Opel, one falls in medium, Volkswagen, and three fall in high-end, BMW, Mercedez Benz, and Audi."
   ]
  },
  {
   "cell_type": "markdown",
   "metadata": {},
   "source": [
    "The process will be repeated to calculate the mean mileage for the top 20 brands."
   ]
  },
  {
   "cell_type": "code",
   "execution_count": 78,
   "metadata": {},
   "outputs": [
    {
     "name": "stdout",
     "output_type": "stream",
     "text": [
      "{'volkswagen': 79927.56, 'bmw': 82336.53, 'opel': 80321.8, 'mercedes_benz': 81378.94, 'audi': 80192.19, 'ford': 77221.47, 'renault': 79671.09, 'peugeot': 78921.97, 'fiat': 72684.3, 'seat': 75453.9, 'skoda': 68886.84, 'nissan': 73469.76, 'mazda': 77321.53, 'smart': 61995.44, 'citroen': 74296.47, 'toyota': 72021.92, 'hyundai': 66466.67, 'sonstige_autos': 56738.93, 'volvo': 85962.17, 'mini': 54899.51}\n"
     ]
    }
   ],
   "source": [
    "# empty dictionary we will use to save a brand mean milage values\n",
    "brand_mean_mileage = {}\n",
    "\n",
    "# loop through the df looking for top 20 brands - calculate the mean milage and assign to dic\n",
    "for brand in top_20_brands_ls:\n",
    "    b_mean_odo = round(autos.loc[autos['brand'] == brand, 'odometer_miles'].mean(),2)\n",
    "    brand_mean_mileage[brand] = b_mean_odo\n",
    "    \n",
    "print(brand_mean_mileage)"
   ]
  },
  {
   "cell_type": "code",
   "execution_count": 79,
   "metadata": {},
   "outputs": [],
   "source": [
    "# turn price dictionary into series \n",
    "bmp_series = pd.Series(brand_mean_price)\n",
    "\n",
    "# turn odometer dictionary into series\n",
    "bmo_series = pd.Series(brand_mean_mileage)\n",
    "\n",
    "#print(bmo_series)"
   ]
  },
  {
   "cell_type": "code",
   "execution_count": 80,
   "metadata": {},
   "outputs": [],
   "source": [
    "# turn the mean price series into a dataframe and assign a column name\n",
    "bpo = pd.DataFrame(bmp_series, columns = ['mean_price'])"
   ]
  },
  {
   "cell_type": "code",
   "execution_count": 81,
   "metadata": {},
   "outputs": [],
   "source": [
    "# add the odometer series to the dataframe\n",
    "bpo['mean_odometer_miles'] = bmo_series"
   ]
  },
  {
   "cell_type": "code",
   "execution_count": 82,
   "metadata": {},
   "outputs": [
    {
     "data": {
      "text/html": [
       "<div>\n",
       "<style scoped>\n",
       "    .dataframe tbody tr th:only-of-type {\n",
       "        vertical-align: middle;\n",
       "    }\n",
       "\n",
       "    .dataframe tbody tr th {\n",
       "        vertical-align: top;\n",
       "    }\n",
       "\n",
       "    .dataframe thead th {\n",
       "        text-align: right;\n",
       "    }\n",
       "</style>\n",
       "<table border=\"1\" class=\"dataframe\">\n",
       "  <thead>\n",
       "    <tr style=\"text-align: right;\">\n",
       "      <th></th>\n",
       "      <th>mean_price</th>\n",
       "      <th>mean_odometer_miles</th>\n",
       "    </tr>\n",
       "  </thead>\n",
       "  <tbody>\n",
       "    <tr>\n",
       "      <th>volkswagen</th>\n",
       "      <td>4892.99</td>\n",
       "      <td>79927.56</td>\n",
       "    </tr>\n",
       "    <tr>\n",
       "      <th>bmw</th>\n",
       "      <td>7547.59</td>\n",
       "      <td>82336.53</td>\n",
       "    </tr>\n",
       "    <tr>\n",
       "      <th>opel</th>\n",
       "      <td>2704.53</td>\n",
       "      <td>80321.80</td>\n",
       "    </tr>\n",
       "    <tr>\n",
       "      <th>mercedes_benz</th>\n",
       "      <td>7757.16</td>\n",
       "      <td>81378.94</td>\n",
       "    </tr>\n",
       "    <tr>\n",
       "      <th>audi</th>\n",
       "      <td>8451.10</td>\n",
       "      <td>80192.19</td>\n",
       "    </tr>\n",
       "    <tr>\n",
       "      <th>ford</th>\n",
       "      <td>3378.31</td>\n",
       "      <td>77221.47</td>\n",
       "    </tr>\n",
       "    <tr>\n",
       "      <th>renault</th>\n",
       "      <td>2247.52</td>\n",
       "      <td>79671.09</td>\n",
       "    </tr>\n",
       "    <tr>\n",
       "      <th>peugeot</th>\n",
       "      <td>2805.28</td>\n",
       "      <td>78921.97</td>\n",
       "    </tr>\n",
       "    <tr>\n",
       "      <th>fiat</th>\n",
       "      <td>2547.46</td>\n",
       "      <td>72684.30</td>\n",
       "    </tr>\n",
       "    <tr>\n",
       "      <th>seat</th>\n",
       "      <td>3994.07</td>\n",
       "      <td>75453.90</td>\n",
       "    </tr>\n",
       "    <tr>\n",
       "      <th>skoda</th>\n",
       "      <td>5780.95</td>\n",
       "      <td>68886.84</td>\n",
       "    </tr>\n",
       "    <tr>\n",
       "      <th>nissan</th>\n",
       "      <td>4285.28</td>\n",
       "      <td>73469.76</td>\n",
       "    </tr>\n",
       "    <tr>\n",
       "      <th>mazda</th>\n",
       "      <td>3720.52</td>\n",
       "      <td>77321.53</td>\n",
       "    </tr>\n",
       "    <tr>\n",
       "      <th>smart</th>\n",
       "      <td>3240.00</td>\n",
       "      <td>61995.44</td>\n",
       "    </tr>\n",
       "    <tr>\n",
       "      <th>citroen</th>\n",
       "      <td>3399.44</td>\n",
       "      <td>74296.47</td>\n",
       "    </tr>\n",
       "    <tr>\n",
       "      <th>toyota</th>\n",
       "      <td>4655.04</td>\n",
       "      <td>72021.92</td>\n",
       "    </tr>\n",
       "    <tr>\n",
       "      <th>hyundai</th>\n",
       "      <td>4864.55</td>\n",
       "      <td>66466.67</td>\n",
       "    </tr>\n",
       "    <tr>\n",
       "      <th>sonstige_autos</th>\n",
       "      <td>11559.73</td>\n",
       "      <td>56738.93</td>\n",
       "    </tr>\n",
       "    <tr>\n",
       "      <th>volvo</th>\n",
       "      <td>4498.39</td>\n",
       "      <td>85962.17</td>\n",
       "    </tr>\n",
       "    <tr>\n",
       "      <th>mini</th>\n",
       "      <td>9585.09</td>\n",
       "      <td>54899.51</td>\n",
       "    </tr>\n",
       "  </tbody>\n",
       "</table>\n",
       "</div>"
      ],
      "text/plain": [
       "                mean_price  mean_odometer_miles\n",
       "volkswagen         4892.99             79927.56\n",
       "bmw                7547.59             82336.53\n",
       "opel               2704.53             80321.80\n",
       "mercedes_benz      7757.16             81378.94\n",
       "audi               8451.10             80192.19\n",
       "ford               3378.31             77221.47\n",
       "renault            2247.52             79671.09\n",
       "peugeot            2805.28             78921.97\n",
       "fiat               2547.46             72684.30\n",
       "seat               3994.07             75453.90\n",
       "skoda              5780.95             68886.84\n",
       "nissan             4285.28             73469.76\n",
       "mazda              3720.52             77321.53\n",
       "smart              3240.00             61995.44\n",
       "citroen            3399.44             74296.47\n",
       "toyota             4655.04             72021.92\n",
       "hyundai            4864.55             66466.67\n",
       "sonstige_autos    11559.73             56738.93\n",
       "volvo              4498.39             85962.17\n",
       "mini               9585.09             54899.51"
      ]
     },
     "execution_count": 82,
     "metadata": {},
     "output_type": "execute_result"
    }
   ],
   "source": [
    "bpo"
   ]
  },
  {
   "cell_type": "markdown",
   "metadata": {},
   "source": [
    "There is a range at which people more frequently sell their cars, 70-80k miles on the odometer. \n",
    "\n",
    "There doesn't appear to be a notable odometer variance among brands."
   ]
  },
  {
   "cell_type": "markdown",
   "metadata": {},
   "source": [
    "___"
   ]
  },
  {
   "cell_type": "code",
   "execution_count": 83,
   "metadata": {},
   "outputs": [
    {
     "data": {
      "text/html": [
       "<div>\n",
       "<style scoped>\n",
       "    .dataframe tbody tr th:only-of-type {\n",
       "        vertical-align: middle;\n",
       "    }\n",
       "\n",
       "    .dataframe tbody tr th {\n",
       "        vertical-align: top;\n",
       "    }\n",
       "\n",
       "    .dataframe thead th {\n",
       "        text-align: right;\n",
       "    }\n",
       "</style>\n",
       "<table border=\"1\" class=\"dataframe\">\n",
       "  <thead>\n",
       "    <tr style=\"text-align: right;\">\n",
       "      <th></th>\n",
       "      <th>name</th>\n",
       "      <th>seller</th>\n",
       "      <th>price_usd</th>\n",
       "      <th>vehicle_type</th>\n",
       "      <th>registration_year</th>\n",
       "      <th>gearbox</th>\n",
       "      <th>horse_power</th>\n",
       "      <th>model</th>\n",
       "      <th>odometer_miles</th>\n",
       "      <th>registration_month</th>\n",
       "      <th>fuel_type</th>\n",
       "      <th>brand</th>\n",
       "      <th>unrepaired_damage</th>\n",
       "    </tr>\n",
       "  </thead>\n",
       "  <tbody>\n",
       "    <tr>\n",
       "      <th>0</th>\n",
       "      <td>Peugeot_807_160_NAVTECH_ON_BOARD</td>\n",
       "      <td>private</td>\n",
       "      <td>4504.50</td>\n",
       "      <td>van</td>\n",
       "      <td>2004</td>\n",
       "      <td>manual</td>\n",
       "      <td>143.12</td>\n",
       "      <td>andere</td>\n",
       "      <td>93000</td>\n",
       "      <td>March</td>\n",
       "      <td>propane</td>\n",
       "      <td>peugeot</td>\n",
       "      <td>no</td>\n",
       "    </tr>\n",
       "    <tr>\n",
       "      <th>1</th>\n",
       "      <td>BMW_740i_4_4_Liter_HAMANN_UMBAU_Mega_Optik</td>\n",
       "      <td>private</td>\n",
       "      <td>7657.66</td>\n",
       "      <td>sedan</td>\n",
       "      <td>1997</td>\n",
       "      <td>automatic</td>\n",
       "      <td>259.06</td>\n",
       "      <td>7er</td>\n",
       "      <td>93000</td>\n",
       "      <td>June</td>\n",
       "      <td>gasoline</td>\n",
       "      <td>bmw</td>\n",
       "      <td>no</td>\n",
       "    </tr>\n",
       "    <tr>\n",
       "      <th>2</th>\n",
       "      <td>Volkswagen_Golf_1.6_United</td>\n",
       "      <td>private</td>\n",
       "      <td>8099.10</td>\n",
       "      <td>sedan</td>\n",
       "      <td>2009</td>\n",
       "      <td>manual</td>\n",
       "      <td>92.39</td>\n",
       "      <td>golf</td>\n",
       "      <td>44000</td>\n",
       "      <td>July</td>\n",
       "      <td>gasoline</td>\n",
       "      <td>volkswagen</td>\n",
       "      <td>no</td>\n",
       "    </tr>\n",
       "    <tr>\n",
       "      <th>3</th>\n",
       "      <td>Smart_smart_fortwo_coupe_softouch/F1/Klima/Pan...</td>\n",
       "      <td>private</td>\n",
       "      <td>3918.92</td>\n",
       "      <td>compact</td>\n",
       "      <td>2007</td>\n",
       "      <td>automatic</td>\n",
       "      <td>64.31</td>\n",
       "      <td>fortwo</td>\n",
       "      <td>44000</td>\n",
       "      <td>June</td>\n",
       "      <td>gasoline</td>\n",
       "      <td>smart</td>\n",
       "      <td>no</td>\n",
       "    </tr>\n",
       "    <tr>\n",
       "      <th>4</th>\n",
       "      <td>Ford_Focus_1_6_Benzin_TÜV_neu_ist_sehr_gepfleg...</td>\n",
       "      <td>private</td>\n",
       "      <td>1216.22</td>\n",
       "      <td>crossover</td>\n",
       "      <td>2003</td>\n",
       "      <td>manual</td>\n",
       "      <td>NaN</td>\n",
       "      <td>focus</td>\n",
       "      <td>93000</td>\n",
       "      <td>July</td>\n",
       "      <td>gasoline</td>\n",
       "      <td>ford</td>\n",
       "      <td>no</td>\n",
       "    </tr>\n",
       "    <tr>\n",
       "      <th>...</th>\n",
       "      <td>...</td>\n",
       "      <td>...</td>\n",
       "      <td>...</td>\n",
       "      <td>...</td>\n",
       "      <td>...</td>\n",
       "      <td>...</td>\n",
       "      <td>...</td>\n",
       "      <td>...</td>\n",
       "      <td>...</td>\n",
       "      <td>...</td>\n",
       "      <td>...</td>\n",
       "      <td>...</td>\n",
       "      <td>...</td>\n",
       "    </tr>\n",
       "    <tr>\n",
       "      <th>49995</th>\n",
       "      <td>Audi_Q5_3.0_TDI_qu._S_tr.__Navi__Panorama__Xenon</td>\n",
       "      <td>private</td>\n",
       "      <td>22432.43</td>\n",
       "      <td>sedan</td>\n",
       "      <td>2011</td>\n",
       "      <td>automatic</td>\n",
       "      <td>216.49</td>\n",
       "      <td>q5</td>\n",
       "      <td>62000</td>\n",
       "      <td>January</td>\n",
       "      <td>diesel</td>\n",
       "      <td>audi</td>\n",
       "      <td>no</td>\n",
       "    </tr>\n",
       "    <tr>\n",
       "      <th>49996</th>\n",
       "      <td>Opel_Astra_F_Cabrio_Bertone_Edition___TÜV_neu+...</td>\n",
       "      <td>private</td>\n",
       "      <td>1783.78</td>\n",
       "      <td>convertible</td>\n",
       "      <td>1996</td>\n",
       "      <td>manual</td>\n",
       "      <td>67.93</td>\n",
       "      <td>astra</td>\n",
       "      <td>93000</td>\n",
       "      <td>May</td>\n",
       "      <td>gasoline</td>\n",
       "      <td>opel</td>\n",
       "      <td>no</td>\n",
       "    </tr>\n",
       "    <tr>\n",
       "      <th>49997</th>\n",
       "      <td>Fiat_500_C_1.2_Dualogic_Lounge</td>\n",
       "      <td>private</td>\n",
       "      <td>11891.89</td>\n",
       "      <td>convertible</td>\n",
       "      <td>2014</td>\n",
       "      <td>automatic</td>\n",
       "      <td>62.50</td>\n",
       "      <td>500</td>\n",
       "      <td>3000</td>\n",
       "      <td>November</td>\n",
       "      <td>gasoline</td>\n",
       "      <td>fiat</td>\n",
       "      <td>no</td>\n",
       "    </tr>\n",
       "    <tr>\n",
       "      <th>49998</th>\n",
       "      <td>Audi_A3_2.0_TDI_Sportback_Ambition</td>\n",
       "      <td>private</td>\n",
       "      <td>20630.63</td>\n",
       "      <td>crossover</td>\n",
       "      <td>2013</td>\n",
       "      <td>manual</td>\n",
       "      <td>135.87</td>\n",
       "      <td>a3</td>\n",
       "      <td>25000</td>\n",
       "      <td>November</td>\n",
       "      <td>diesel</td>\n",
       "      <td>audi</td>\n",
       "      <td>no</td>\n",
       "    </tr>\n",
       "    <tr>\n",
       "      <th>49999</th>\n",
       "      <td>Opel_Vectra_1.6_16V</td>\n",
       "      <td>private</td>\n",
       "      <td>1126.13</td>\n",
       "      <td>sedan</td>\n",
       "      <td>1996</td>\n",
       "      <td>manual</td>\n",
       "      <td>91.49</td>\n",
       "      <td>vectra</td>\n",
       "      <td>93000</td>\n",
       "      <td>January</td>\n",
       "      <td>gasoline</td>\n",
       "      <td>opel</td>\n",
       "      <td>no</td>\n",
       "    </tr>\n",
       "  </tbody>\n",
       "</table>\n",
       "<p>46334 rows × 13 columns</p>\n",
       "</div>"
      ],
      "text/plain": [
       "                                                    name   seller  price_usd  \\\n",
       "0                       Peugeot_807_160_NAVTECH_ON_BOARD  private    4504.50   \n",
       "1             BMW_740i_4_4_Liter_HAMANN_UMBAU_Mega_Optik  private    7657.66   \n",
       "2                             Volkswagen_Golf_1.6_United  private    8099.10   \n",
       "3      Smart_smart_fortwo_coupe_softouch/F1/Klima/Pan...  private    3918.92   \n",
       "4      Ford_Focus_1_6_Benzin_TÜV_neu_ist_sehr_gepfleg...  private    1216.22   \n",
       "...                                                  ...      ...        ...   \n",
       "49995   Audi_Q5_3.0_TDI_qu._S_tr.__Navi__Panorama__Xenon  private   22432.43   \n",
       "49996  Opel_Astra_F_Cabrio_Bertone_Edition___TÜV_neu+...  private    1783.78   \n",
       "49997                     Fiat_500_C_1.2_Dualogic_Lounge  private   11891.89   \n",
       "49998                 Audi_A3_2.0_TDI_Sportback_Ambition  private   20630.63   \n",
       "49999                                Opel_Vectra_1.6_16V  private    1126.13   \n",
       "\n",
       "      vehicle_type  registration_year    gearbox  horse_power   model  \\\n",
       "0              van               2004     manual       143.12  andere   \n",
       "1            sedan               1997  automatic       259.06     7er   \n",
       "2            sedan               2009     manual        92.39    golf   \n",
       "3          compact               2007  automatic        64.31  fortwo   \n",
       "4        crossover               2003     manual          NaN   focus   \n",
       "...            ...                ...        ...          ...     ...   \n",
       "49995        sedan               2011  automatic       216.49      q5   \n",
       "49996  convertible               1996     manual        67.93   astra   \n",
       "49997  convertible               2014  automatic        62.50     500   \n",
       "49998    crossover               2013     manual       135.87      a3   \n",
       "49999        sedan               1996     manual        91.49  vectra   \n",
       "\n",
       "       odometer_miles registration_month fuel_type       brand  \\\n",
       "0               93000              March   propane     peugeot   \n",
       "1               93000               June  gasoline         bmw   \n",
       "2               44000               July  gasoline  volkswagen   \n",
       "3               44000               June  gasoline       smart   \n",
       "4               93000               July  gasoline        ford   \n",
       "...               ...                ...       ...         ...   \n",
       "49995           62000            January    diesel        audi   \n",
       "49996           93000                May  gasoline        opel   \n",
       "49997            3000           November  gasoline        fiat   \n",
       "49998           25000           November    diesel        audi   \n",
       "49999           93000            January  gasoline        opel   \n",
       "\n",
       "      unrepaired_damage  \n",
       "0                    no  \n",
       "1                    no  \n",
       "2                    no  \n",
       "3                    no  \n",
       "4                    no  \n",
       "...                 ...  \n",
       "49995                no  \n",
       "49996                no  \n",
       "49997                no  \n",
       "49998                no  \n",
       "49999                no  \n",
       "\n",
       "[46334 rows x 13 columns]"
      ]
     },
     "execution_count": 83,
     "metadata": {},
     "output_type": "execute_result"
    }
   ],
   "source": [
    "autos"
   ]
  },
  {
   "cell_type": "code",
   "execution_count": 84,
   "metadata": {},
   "outputs": [
    {
     "name": "stdout",
     "output_type": "stream",
     "text": [
      "compact        0.239989\n",
      "convertible    0.068506\n",
      "coupe          0.056011\n",
      "crossover      0.203440\n",
      "other          0.008749\n",
      "sedan          0.286726\n",
      "suv            0.044704\n",
      "van            0.091875\n",
      "Name: vehicle_type, dtype: float64\n"
     ]
    }
   ],
   "source": [
    "# sort by most common vehicle types\n",
    "ordered_vt = autos['vehicle_type'].value_counts(normalize = True).sort_index(ascending = True)\n",
    "print(ordered_vt)"
   ]
  },
  {
   "cell_type": "code",
   "execution_count": 85,
   "metadata": {},
   "outputs": [
    {
     "name": "stdout",
     "output_type": "stream",
     "text": [
      "Index(['compact', 'convertible', 'coupe', 'crossover', 'other', 'sedan', 'suv',\n",
      "       'van'],\n",
      "      dtype='object')\n"
     ]
    }
   ],
   "source": [
    "#create a list of vehicle types based off the index\n",
    "vehicle_types_ls = ordered_vt.index\n",
    "print(vehicle_types_ls)"
   ]
  },
  {
   "cell_type": "code",
   "execution_count": 87,
   "metadata": {},
   "outputs": [
    {
     "name": "stdout",
     "output_type": "stream",
     "text": [
      "{'compact': 2492.3, 'convertible': 9659.55, 'coupe': 10583.5, 'crossover': 5239.5, 'other': 3972.52, 'sedan': 5382.33, 'suv': 12069.66, 'van': 6018.76}\n"
     ]
    }
   ],
   "source": [
    "# empty dictionary we will save vehicle types and their mean price \n",
    "vt_mean_price = {}\n",
    "\n",
    "for v_type in vehicle_types_ls:\n",
    "    vt_mean_pr = round(autos.loc[autos['vehicle_type'] == v_type, 'price_usd'].mean(),2)\n",
    "    vt_mean_price[v_type] = vt_mean_pr\n",
    "    \n",
    "print(vt_mean_price)"
   ]
  },
  {
   "cell_type": "code",
   "execution_count": 88,
   "metadata": {},
   "outputs": [
    {
     "name": "stdout",
     "output_type": "stream",
     "text": [
      "compact         2492.30\n",
      "convertible     9659.55\n",
      "coupe          10583.50\n",
      "crossover       5239.50\n",
      "other           3972.52\n",
      "sedan           5382.33\n",
      "suv            12069.66\n",
      "van             6018.76\n",
      "dtype: float64\n"
     ]
    }
   ],
   "source": [
    "# turn vt price into a series\n",
    "vt_mean_price_series = pd.Series(vt_mean_price)\n",
    "\n",
    "print(vt_mean_price_series)"
   ]
  },
  {
   "cell_type": "code",
   "execution_count": 90,
   "metadata": {},
   "outputs": [
    {
     "name": "stdout",
     "output_type": "stream",
     "text": [
      "{'compact': 74153.15, 'convertible': 70046.02, 'coupe': 74675.37, 'crossover': 84378.73, 'other': 77791.12, 'sedan': 79510.04, 'suv': 70603.47, 'van': 80298.36}\n"
     ]
    }
   ],
   "source": [
    "# empty dictionary we will save vehicle types and their mean odometer\n",
    "vt_mean_odo = {}\n",
    "\n",
    "for v_type in vehicle_types_ls:\n",
    "    vt_mean_o = round(autos.loc[autos['vehicle_type'] == v_type, 'odometer_miles'].mean(),2)\n",
    "    vt_mean_odo[v_type] = vt_mean_o\n",
    "    \n",
    "print(vt_mean_odo)"
   ]
  },
  {
   "cell_type": "code",
   "execution_count": 91,
   "metadata": {},
   "outputs": [
    {
     "name": "stdout",
     "output_type": "stream",
     "text": [
      "compact        74153.15\n",
      "convertible    70046.02\n",
      "coupe          74675.37\n",
      "crossover      84378.73\n",
      "other          77791.12\n",
      "sedan          79510.04\n",
      "suv            70603.47\n",
      "van            80298.36\n",
      "dtype: float64\n"
     ]
    }
   ],
   "source": [
    "# create a series from the mean odometer by vehicle type library\n",
    "vt_mean_odo_series = pd.Series(vt_mean_odo)\n",
    "print(vt_mean_odo_series)"
   ]
  },
  {
   "cell_type": "code",
   "execution_count": 92,
   "metadata": {},
   "outputs": [],
   "source": [
    "tpo = pd.DataFrame(vt_mean_price_series, columns = ['mean_price'])"
   ]
  },
  {
   "cell_type": "code",
   "execution_count": 93,
   "metadata": {},
   "outputs": [],
   "source": [
    "tpo['mean_odometer'] = vt_mean_odo_series"
   ]
  },
  {
   "cell_type": "code",
   "execution_count": 94,
   "metadata": {},
   "outputs": [
    {
     "data": {
      "text/html": [
       "<div>\n",
       "<style scoped>\n",
       "    .dataframe tbody tr th:only-of-type {\n",
       "        vertical-align: middle;\n",
       "    }\n",
       "\n",
       "    .dataframe tbody tr th {\n",
       "        vertical-align: top;\n",
       "    }\n",
       "\n",
       "    .dataframe thead th {\n",
       "        text-align: right;\n",
       "    }\n",
       "</style>\n",
       "<table border=\"1\" class=\"dataframe\">\n",
       "  <thead>\n",
       "    <tr style=\"text-align: right;\">\n",
       "      <th></th>\n",
       "      <th>mean_price</th>\n",
       "      <th>mean_odometer</th>\n",
       "    </tr>\n",
       "  </thead>\n",
       "  <tbody>\n",
       "    <tr>\n",
       "      <th>compact</th>\n",
       "      <td>2492.30</td>\n",
       "      <td>74153.15</td>\n",
       "    </tr>\n",
       "    <tr>\n",
       "      <th>convertible</th>\n",
       "      <td>9659.55</td>\n",
       "      <td>70046.02</td>\n",
       "    </tr>\n",
       "    <tr>\n",
       "      <th>coupe</th>\n",
       "      <td>10583.50</td>\n",
       "      <td>74675.37</td>\n",
       "    </tr>\n",
       "    <tr>\n",
       "      <th>crossover</th>\n",
       "      <td>5239.50</td>\n",
       "      <td>84378.73</td>\n",
       "    </tr>\n",
       "    <tr>\n",
       "      <th>other</th>\n",
       "      <td>3972.52</td>\n",
       "      <td>77791.12</td>\n",
       "    </tr>\n",
       "    <tr>\n",
       "      <th>sedan</th>\n",
       "      <td>5382.33</td>\n",
       "      <td>79510.04</td>\n",
       "    </tr>\n",
       "    <tr>\n",
       "      <th>suv</th>\n",
       "      <td>12069.66</td>\n",
       "      <td>70603.47</td>\n",
       "    </tr>\n",
       "    <tr>\n",
       "      <th>van</th>\n",
       "      <td>6018.76</td>\n",
       "      <td>80298.36</td>\n",
       "    </tr>\n",
       "  </tbody>\n",
       "</table>\n",
       "</div>"
      ],
      "text/plain": [
       "             mean_price  mean_odometer\n",
       "compact         2492.30       74153.15\n",
       "convertible     9659.55       70046.02\n",
       "coupe          10583.50       74675.37\n",
       "crossover       5239.50       84378.73\n",
       "other           3972.52       77791.12\n",
       "sedan           5382.33       79510.04\n",
       "suv            12069.66       70603.47\n",
       "van             6018.76       80298.36"
      ]
     },
     "execution_count": 94,
     "metadata": {},
     "output_type": "execute_result"
    }
   ],
   "source": [
    "tpo"
   ]
  },
  {
   "cell_type": "markdown",
   "metadata": {},
   "source": [
    "There isn't a notable pattern between vehicle type and mean odometer. \n",
    "\n",
    "Vehicle types can be classified into three price groups: high(\\~\\\\$10,000), medium(\\~\\\\$5,000) and low(\\~\\\\$3,000). \n",
    "\n",
    "SUV, coupe, and convertible are high price points.  \n",
    "Van, sedan, and crossover are medium price points.  \n",
    "Compact and other are low price points.  "
   ]
  }
 ],
 "metadata": {
  "kernelspec": {
   "display_name": "Python 3",
   "language": "python",
   "name": "python3"
  },
  "language_info": {
   "codemirror_mode": {
    "name": "ipython",
    "version": 3
   },
   "file_extension": ".py",
   "mimetype": "text/x-python",
   "name": "python",
   "nbconvert_exporter": "python",
   "pygments_lexer": "ipython3",
   "version": "3.8.5"
  }
 },
 "nbformat": 4,
 "nbformat_minor": 4
}
